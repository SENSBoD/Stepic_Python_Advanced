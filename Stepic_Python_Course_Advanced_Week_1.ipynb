{
 "cells": [
  {
   "cell_type": "markdown",
   "metadata": {},
   "source": [
    "## Введение"
   ]
  },
  {
   "cell_type": "markdown",
   "metadata": {},
   "source": [
    "### Задача 1"
   ]
  },
  {
   "cell_type": "markdown",
   "metadata": {},
   "source": [
    "Реализуйте программу, которая принимает последовательность чисел и выводит их сумму.\n",
    "\n",
    "Вашей программе на вход подается последовательность строк.\n",
    "Первая строка содержит число **n (1 ≤ n ≤ 100)**.\n",
    "В следующих **n** строках содержится по одному целому числу.\n",
    "\n",
    "Выведите одно число – сумму данных **n** чисел."
   ]
  },
  {
   "cell_type": "code",
   "execution_count": 1,
   "metadata": {
    "scrolled": true
   },
   "outputs": [
    {
     "name": "stdout",
     "output_type": "stream",
     "text": [
      "3\n",
      "2\n",
      "1\n",
      "1\n",
      "4\n"
     ]
    }
   ],
   "source": [
    "n = int(input())\n",
    "c = 1\n",
    "sum = 0\n",
    "while c <= n:\n",
    "    m = int(input())\n",
    "    sum += m\n",
    "    c += 1\n",
    "print(sum)"
   ]
  },
  {
   "cell_type": "code",
   "execution_count": null,
   "metadata": {},
   "outputs": [],
   "source": [
    "n = int(input())\n",
    "s = 0\n",
    "for i in range(n):\n",
    "    s += int(input())\n",
    "print(s)"
   ]
  },
  {
   "cell_type": "code",
   "execution_count": null,
   "metadata": {},
   "outputs": [],
   "source": [
    "print(sum([int(input()) for i in range(int(input()))]))"
   ]
  },
  {
   "cell_type": "markdown",
   "metadata": {},
   "source": [
    "## Модель данных: объекты"
   ]
  },
  {
   "cell_type": "markdown",
   "metadata": {},
   "source": [
    "Идентификатор объекта – это целое число. \n",
    "\n",
    "Идентификаторы всех объектов уникальны"
   ]
  },
  {
   "cell_type": "markdown",
   "metadata": {},
   "source": [
    "Получить идентифіикатор - **id()**"
   ]
  },
  {
   "cell_type": "code",
   "execution_count": 2,
   "metadata": {},
   "outputs": [],
   "source": [
    "x = [1, 2, 3]"
   ]
  },
  {
   "cell_type": "code",
   "execution_count": 6,
   "metadata": {},
   "outputs": [
    {
     "name": "stdout",
     "output_type": "stream",
     "text": [
      "50990984\n",
      "96158408\n"
     ]
    }
   ],
   "source": [
    "print(id(x))\n",
    "print(id([1, 2, 3]))"
   ]
  },
  {
   "cell_type": "markdown",
   "metadata": {},
   "source": [
    "Проверить ссылаются ли две переменные на один обєкт можна оператором **is**"
   ]
  },
  {
   "cell_type": "code",
   "execution_count": 34,
   "metadata": {},
   "outputs": [
    {
     "name": "stdout",
     "output_type": "stream",
     "text": [
      "True\n",
      "False\n"
     ]
    }
   ],
   "source": [
    "x = [1, 2, 3]\n",
    "y = x\n",
    "print(y is x)\n",
    "print(y is [1, 2, 3])"
   ]
  },
  {
   "cell_type": "markdown",
   "metadata": {},
   "source": [
    "Изменяется объект, а не переменная"
   ]
  },
  {
   "cell_type": "code",
   "execution_count": 35,
   "metadata": {},
   "outputs": [
    {
     "name": "stdout",
     "output_type": "stream",
     "text": [
      "True\n",
      "[1, 2, 3, 4]\n",
      "[1, 2, 3, 4]\n"
     ]
    }
   ],
   "source": [
    "x = [1, 2, 3]\n",
    "y = x\n",
    "print(y is x)\n",
    "x.append(4)\n",
    "print(x)\n",
    "print(y)"
   ]
  },
  {
   "cell_type": "markdown",
   "metadata": {},
   "source": [
    "### Задача 1\n",
    "\n",
    "Что будет напечатано после выполнения данного кода?"
   ]
  },
  {
   "cell_type": "code",
   "execution_count": 37,
   "metadata": {},
   "outputs": [
    {
     "name": "stdout",
     "output_type": "stream",
     "text": [
      "[1, 2, 3, 4] 123\n"
     ]
    }
   ],
   "source": [
    "x = [1, 2, 3]\n",
    "y = x\n",
    "y.append(4)\n",
    "\n",
    "s = \"123\"\n",
    "t = s\n",
    "t = t + \"4\"\n",
    "\n",
    "print(str(x) + \" \" + s)"
   ]
  },
  {
   "cell_type": "code",
   "execution_count": 38,
   "metadata": {},
   "outputs": [],
   "source": [
    "################################################################################################################################"
   ]
  },
  {
   "cell_type": "markdown",
   "metadata": {},
   "source": [
    "Тип объекта не может быть изменен после создания объекта (как и идентификатор)"
   ]
  },
  {
   "cell_type": "code",
   "execution_count": 39,
   "metadata": {},
   "outputs": [
    {
     "data": {
      "text/plain": [
       "list"
      ]
     },
     "execution_count": 39,
     "metadata": {},
     "output_type": "execute_result"
    }
   ],
   "source": [
    "x = [1, 2, 3]\n",
    "type(x)"
   ]
  },
  {
   "cell_type": "code",
   "execution_count": 40,
   "metadata": {},
   "outputs": [
    {
     "data": {
      "text/plain": [
       "int"
      ]
     },
     "execution_count": 40,
     "metadata": {},
     "output_type": "execute_result"
    }
   ],
   "source": [
    "type(4)"
   ]
  },
  {
   "cell_type": "code",
   "execution_count": 41,
   "metadata": {},
   "outputs": [
    {
     "data": {
      "text/plain": [
       "type"
      ]
     },
     "execution_count": 41,
     "metadata": {},
     "output_type": "execute_result"
    }
   ],
   "source": [
    "type(type(x))"
   ]
  },
  {
   "cell_type": "markdown",
   "metadata": {},
   "source": [
    "**mutable object** - объект может изменять значение:\n",
    "- list\n",
    "- dict\n",
    "- set\n",
    "\n",
    "**immutable object** - объект не может изменять значение:\n",
    "- int\n",
    "- float\n",
    "- complex\n",
    "- bool\n",
    "- tuple\n",
    "- str\n",
    "- frozenset"
   ]
  },
  {
   "cell_type": "code",
   "execution_count": 42,
   "metadata": {},
   "outputs": [
    {
     "data": {
      "text/plain": [
       "False"
      ]
     },
     "execution_count": 42,
     "metadata": {},
     "output_type": "execute_result"
    }
   ],
   "source": [
    "x = [1, 2, 3]\n",
    "4 in x"
   ]
  },
  {
   "cell_type": "markdown",
   "metadata": {},
   "source": [
    "### Задача 1\n",
    "\n",
    "Реализуйте программу, которая будет вычислять количество различных объектов в списке.\n",
    "Два объекта a и b считаются различными, если a is b равно False.\n",
    "\n",
    "Вашей программе доступна переменная с названием objects, которая ссылается на список, содержащий не более 100 объектов. Выведите количество различных объектов в этом списке."
   ]
  },
  {
   "cell_type": "code",
   "execution_count": 44,
   "metadata": {},
   "outputs": [
    {
     "name": "stdout",
     "output_type": "stream",
     "text": [
      "6\n"
     ]
    }
   ],
   "source": [
    "objects = [1, 2, 3, 1, 5, 2, 7, 9]\n",
    "\n",
    "mn = []\n",
    "for obj in objects:\n",
    "    if obj not in mn:\n",
    "        mn.append(obj)\n",
    "print(len(mn))"
   ]
  },
  {
   "cell_type": "code",
   "execution_count": 45,
   "metadata": {},
   "outputs": [
    {
     "name": "stdout",
     "output_type": "stream",
     "text": [
      "6\n"
     ]
    }
   ],
   "source": [
    "print(len(set(map(id, objects))))"
   ]
  },
  {
   "cell_type": "code",
   "execution_count": 47,
   "metadata": {},
   "outputs": [
    {
     "name": "stdout",
     "output_type": "stream",
     "text": [
      "6\n"
     ]
    }
   ],
   "source": [
    "print(len(set([id(x) for x in objects])))"
   ]
  },
  {
   "cell_type": "markdown",
   "metadata": {},
   "source": [
    "## Функции и стек вызовов"
   ]
  },
  {
   "cell_type": "code",
   "execution_count": 60,
   "metadata": {},
   "outputs": [
    {
     "name": "stdout",
     "output_type": "stream",
     "text": [
      "31\n"
     ]
    }
   ],
   "source": [
    "def func_name(arg_1, arg_2):\n",
    "    return arg_1 + arg_2\n",
    "\n",
    "x = func_name(8, 2)\n",
    "y = func_name(x, 21)\n",
    "print(y)"
   ]
  },
  {
   "cell_type": "code",
   "execution_count": 52,
   "metadata": {},
   "outputs": [
    {
     "data": {
      "text/plain": [
       "function"
      ]
     },
     "execution_count": 52,
     "metadata": {},
     "output_type": "execute_result"
    }
   ],
   "source": [
    "type(func_name)"
   ]
  },
  {
   "cell_type": "code",
   "execution_count": 53,
   "metadata": {},
   "outputs": [
    {
     "data": {
      "text/plain": [
       "97989632"
      ]
     },
     "execution_count": 53,
     "metadata": {},
     "output_type": "execute_result"
    }
   ],
   "source": [
    "id(func_name)"
   ]
  },
  {
   "cell_type": "code",
   "execution_count": 54,
   "metadata": {},
   "outputs": [
    {
     "data": {
      "text/plain": [
       "int"
      ]
     },
     "execution_count": 54,
     "metadata": {},
     "output_type": "execute_result"
    }
   ],
   "source": [
    "type(func_name(1, 3))"
   ]
  },
  {
   "cell_type": "code",
   "execution_count": 56,
   "metadata": {},
   "outputs": [
    {
     "data": {
      "text/plain": [
       "'asdqwe'"
      ]
     },
     "execution_count": 56,
     "metadata": {},
     "output_type": "execute_result"
    }
   ],
   "source": [
    "func_name('asd', 'qwe')"
   ]
  },
  {
   "cell_type": "code",
   "execution_count": 59,
   "metadata": {},
   "outputs": [],
   "source": [
    "# func_name(1, 'qwe') # ERROR"
   ]
  },
  {
   "cell_type": "code",
   "execution_count": 61,
   "metadata": {},
   "outputs": [
    {
     "name": "stdout",
     "output_type": "stream",
     "text": [
      "43\n",
      "6\n"
     ]
    }
   ],
   "source": [
    "def list_sum(lst):\n",
    "    result = 0\n",
    "    for element in lst:\n",
    "        result += element\n",
    "    return result\n",
    "\n",
    "def sum(a, b):\n",
    "    return a + b\n",
    "\n",
    "y = sum(14, 29)\n",
    "z = list_sum([1, 2, 3])\n",
    "print(y)\n",
    "print(z)"
   ]
  },
  {
   "cell_type": "markdown",
   "metadata": {},
   "source": [
    "### Задача 1\n",
    "\n",
    "Что будет выведено на экран в результате исполнения данного кода?"
   ]
  },
  {
   "cell_type": "code",
   "execution_count": 62,
   "metadata": {},
   "outputs": [
    {
     "name": "stdout",
     "output_type": "stream",
     "text": [
      "['arg1', 'arg2', 'foo']\n"
     ]
    }
   ],
   "source": [
    "a = []\n",
    "\n",
    "def foo(arg1, arg2):\n",
    "    a.append(\"foo\")\n",
    "\n",
    "foo(a.append(\"arg1\"), a.append(\"arg2\"))\n",
    "\n",
    "print(a)"
   ]
  },
  {
   "cell_type": "markdown",
   "metadata": {},
   "source": [
    "### Стек вызовов "
   ]
  },
  {
   "cell_type": "code",
   "execution_count": 3,
   "metadata": {},
   "outputs": [
    {
     "name": "stdout",
     "output_type": "stream",
     "text": [
      "Outside of any function\n",
      "Function f\n",
      "Function g\n",
      "Function f\n",
      "Outside of any function\n"
     ]
    }
   ],
   "source": [
    "def g():\n",
    "    print('Function g')\n",
    "    \n",
    "def f():\n",
    "    print('Function f')\n",
    "    g()\n",
    "    print('Function f')\n",
    "    \n",
    "print('Outside of any function')\n",
    "f()\n",
    "print('Outside of any function')"
   ]
  },
  {
   "cell_type": "code",
   "execution_count": 9,
   "metadata": {},
   "outputs": [
    {
     "name": "stdout",
     "output_type": "stream",
     "text": [
      "[1, 2, 3, 4, 5]\n",
      "\n",
      "5\n",
      "[1, 2, 3, 4]\n",
      "\n",
      "4\n",
      "[1, 2, 3]\n"
     ]
    }
   ],
   "source": [
    "x = [1, 2, 3]\n",
    "\n",
    "x.append(4)\n",
    "x.append(5)\n",
    "print(x)\n",
    "\n",
    "top = x.pop()\n",
    "print('\\n{0}'.format(top))\n",
    "print(x)\n",
    "\n",
    "top = x.pop()\n",
    "print('\\n{0}'.format(top))\n",
    "print(x)"
   ]
  },
  {
   "cell_type": "markdown",
   "metadata": {},
   "source": [
    "### Возвращаемое значение"
   ]
  },
  {
   "cell_type": "code",
   "execution_count": 18,
   "metadata": {},
   "outputs": [
    {
     "name": "stdout",
     "output_type": "stream",
     "text": [
      "4\n"
     ]
    },
    {
     "data": {
      "text/plain": [
       "True"
      ]
     },
     "execution_count": 18,
     "metadata": {},
     "output_type": "execute_result"
    }
   ],
   "source": [
    "x = print(4)\n",
    "x is None"
   ]
  },
  {
   "cell_type": "markdown",
   "metadata": {},
   "source": [
    "### Задача 1\n",
    "\n",
    "Напишите реализацию функции **closest_mod_5**, принимающую в качестве единственного аргумента целое число **x** и возвращающую самое маленькое целое число **y**, такое что:\n",
    "\n",
    "- **y** больше или равно **x**\n",
    "- **y** делится нацело на 5"
   ]
  },
  {
   "cell_type": "code",
   "execution_count": 25,
   "metadata": {},
   "outputs": [
    {
     "data": {
      "text/plain": [
       "15"
      ]
     },
     "execution_count": 25,
     "metadata": {},
     "output_type": "execute_result"
    }
   ],
   "source": [
    "def closest_mod_5(x):\n",
    "    if x % 5 == 0:\n",
    "        return(x)\n",
    "    else:\n",
    "        while (x % 5) != 0:\n",
    "            x += 1\n",
    "        return(x)\n",
    "    \n",
    "closest_mod_5(11)"
   ]
  },
  {
   "cell_type": "code",
   "execution_count": null,
   "metadata": {},
   "outputs": [],
   "source": [
    "def closest_mod_5(x):\n",
    "    return x if x % 5 == 0 else closest_mod_5(x + 1)"
   ]
  },
  {
   "cell_type": "code",
   "execution_count": null,
   "metadata": {},
   "outputs": [],
   "source": [
    "################################################################################################################################"
   ]
  },
  {
   "cell_type": "code",
   "execution_count": 46,
   "metadata": {},
   "outputs": [
    {
     "name": "stdout",
     "output_type": "stream",
     "text": [
      "10\n",
      "20\n",
      "10\n",
      "20\n",
      "10\n",
      "20\n",
      "10\n",
      "20\n",
      "10\n",
      "20\n"
     ]
    }
   ],
   "source": [
    "def printab(a, b):\n",
    "    print(a)\n",
    "    print(b)\n",
    "    \n",
    "printab(10, 20)\n",
    "printab(b=20, a=10)\n",
    "\n",
    "lst = [10, 20]\n",
    "printab(*lst)\n",
    "printab(lst[0], lst[1])\n",
    "\n",
    "args = {'a': 10, 'b': 20}\n",
    "printab(**args)\n",
    "# printab(key1=args[key1],\n",
    "#         key2=args[key2])"
   ]
  },
  {
   "cell_type": "markdown",
   "metadata": {},
   "source": [
    "### Аргументы по умолчанию"
   ]
  },
  {
   "cell_type": "code",
   "execution_count": 38,
   "metadata": {},
   "outputs": [
    {
     "name": "stdout",
     "output_type": "stream",
     "text": [
      "10\n",
      "15\n"
     ]
    }
   ],
   "source": [
    "def printab(a, b):\n",
    "    print(a)\n",
    "    print(b)\n",
    "def printab(a, b=15):\n",
    "    print(a)\n",
    "    print(b)\n",
    "def printab(a=10, b=15):\n",
    "    print(a)\n",
    "    print(b)\n",
    "    \n",
    "# ERROR\n",
    "# def printab(a=10, b):\n",
    "#     print(a)\n",
    "#     print(b)\n",
    "    \n",
    "printab(10)"
   ]
  },
  {
   "cell_type": "markdown",
   "metadata": {},
   "source": [
    "### Передача неопределенного количества аргументов"
   ]
  },
  {
   "cell_type": "code",
   "execution_count": 41,
   "metadata": {},
   "outputs": [
    {
     "name": "stdout",
     "output_type": "stream",
     "text": [
      "positional argument a 10\n",
      "positional argument b 20\n",
      "additional argument:\n",
      "30\n",
      "40\n",
      "50\n"
     ]
    }
   ],
   "source": [
    "def printab(a, b, *args):\n",
    "    print('positional argument a', a)\n",
    "    print('positional argument b', b)\n",
    "    print('additional argument:')\n",
    "    for arg in args:\n",
    "        print(arg)\n",
    "        \n",
    "printab(10, 20, 30, 40, 50)"
   ]
  },
  {
   "cell_type": "code",
   "execution_count": 42,
   "metadata": {},
   "outputs": [
    {
     "name": "stdout",
     "output_type": "stream",
     "text": [
      "positional argument a 10\n",
      "positional argument b 20\n",
      "additional argument:\n",
      "c 30\n",
      "d 40\n",
      "jimmi 123\n"
     ]
    }
   ],
   "source": [
    "def printab(a, b, **kwargs):\n",
    "    print('positional argument a', a)\n",
    "    print('positional argument b', b)\n",
    "    print('additional argument:')\n",
    "    for key in kwargs:\n",
    "        print(key, kwargs[key])\n",
    "        \n",
    "printab(10, 20, c=30, d=40, jimmi=123)"
   ]
  },
  {
   "cell_type": "code",
   "execution_count": 50,
   "metadata": {},
   "outputs": [
    {
     "name": "stdout",
     "output_type": "stream",
     "text": [
      "15 10 11 12\n"
     ]
    }
   ],
   "source": [
    "# def function_name([ position_args,\n",
    "#                   [ position_args_with_default,\n",
    "#                   [ *pos_args_name,\n",
    "#                   [ keyword_only_args,\n",
    "#                   [ **kw_args_name]]]]]):\n",
    "    \n",
    "def printab(a, b=10, *args, c=11, d, **kwargs):\n",
    "    print(a, b, c, d)\n",
    "    \n",
    "printab(15, d=12)"
   ]
  },
  {
   "cell_type": "markdown",
   "metadata": {},
   "source": [
    "### Задача 2\n",
    "\n",
    "В результате каких вызовов данная функция вернет число 31?"
   ]
  },
  {
   "cell_type": "code",
   "execution_count": 63,
   "metadata": {},
   "outputs": [
    {
     "data": {
      "text/plain": [
       "31"
      ]
     },
     "execution_count": 63,
     "metadata": {},
     "output_type": "execute_result"
    }
   ],
   "source": [
    "def s(a, *vs, b=10):\n",
    "    res = a + b\n",
    "    for v in vs:\n",
    "        res += v\n",
    "    return res\n",
    "\n",
    "s(5, 5, 5, 5, 1)\n",
    "s(11, 10)\n",
    "s(11, 10, b=10)\n",
    "s(21)\n",
    "s(11, b=20)"
   ]
  },
  {
   "cell_type": "markdown",
   "metadata": {},
   "source": [
    "### Рекурсивные функции"
   ]
  },
  {
   "cell_type": "code",
   "execution_count": 68,
   "metadata": {},
   "outputs": [
    {
     "name": "stdout",
     "output_type": "stream",
     "text": [
      "8\n"
     ]
    }
   ],
   "source": [
    "def fib(x):\n",
    "    if x == 0 or x == 1:\n",
    "        return 1\n",
    "    else:\n",
    "        return fib(x - 1) + fib(x - 2)\n",
    "    \n",
    "y = fib(5)\n",
    "print(y)"
   ]
  },
  {
   "cell_type": "markdown",
   "metadata": {},
   "source": [
    "### Задача 3\n",
    "\n",
    "Сочетанием из n элементов по k называется подмножество этих n элементов размера k.\n",
    "Два сочетания называются различными, если одно из сочетаний содержит элемент, который не содержит другое.\n",
    "Числом сочетаний из n по k называется количество различных сочетаний из n по k. Обозначим это число за C(n, k).\n",
    "\n",
    "Несложно понять, что C(n, 0) = 1, так как из n элементов выбрать 0 можно единственным образом, а именно, ничего не выбрать.\n",
    "\n",
    "Также несложно понять, что если k > n, то C(n, k) = 0, так как невозможно, например, из трех элементов выбрать пять.\n",
    "\n",
    "Для вычисления C(n, k) в других случаях используется следующая рекуррентная формула: \n",
    "C(n, k) = C(n - 1, k) + C(n - 1, k - 1).\n",
    "\n",
    "Реализуйте программу, которая для заданных n и k вычисляет C(n, k).\n",
    "\n",
    "Вашей программе на вход подается строка, содержащая два целых числа n и k (1 ≤ n ≤ 10, 0 ≤ k ≤ 10).\n",
    "Ваша программа должна вывести единственное число: C(n, k).\n",
    "    \n",
    "Считать два числа n и k вы можете, например, следующим образом:\n",
    "\n",
    "n, k = map(int, input().split())"
   ]
  },
  {
   "cell_type": "code",
   "execution_count": 70,
   "metadata": {},
   "outputs": [
    {
     "name": "stdout",
     "output_type": "stream",
     "text": [
      "2 3\n",
      "2\n",
      "3\n"
     ]
    }
   ],
   "source": [
    "n, k = map(int, input().split())\n",
    "print(n)\n",
    "print(k)"
   ]
  },
  {
   "cell_type": "code",
   "execution_count": 72,
   "metadata": {},
   "outputs": [
    {
     "name": "stdout",
     "output_type": "stream",
     "text": [
      "3 2\n",
      "3\n"
     ]
    }
   ],
   "source": [
    "def C(n, k):\n",
    "    if k == 0:\n",
    "        return 1\n",
    "    elif k > n:\n",
    "        return 0\n",
    "    else:\n",
    "        return C(n - 1, k) + C(n - 1, k - 1)\n",
    "\n",
    "n, k = map(int, input().split())\n",
    "print(C(n, k))"
   ]
  },
  {
   "cell_type": "markdown",
   "metadata": {},
   "source": [
    "## Пространства имён и области видимости"
   ]
  },
  {
   "cell_type": "code",
   "execution_count": 74,
   "metadata": {},
   "outputs": [
    {
     "name": "stdout",
     "output_type": "stream",
     "text": [
      "64.4\n",
      "ok\n"
     ]
    }
   ],
   "source": [
    "t_c = 18\n",
    "tmp = 'ok'\n",
    "\n",
    "def fahrenheit(t_c):\n",
    "    tmp = t_c * 9 / 5\n",
    "    return tmp + 32\n",
    "\n",
    "print(fahrenheit(t_c))\n",
    "print(tmp)"
   ]
  },
  {
   "cell_type": "code",
   "execution_count": 75,
   "metadata": {},
   "outputs": [
    {
     "name": "stdout",
     "output_type": "stream",
     "text": [
      "14\n"
     ]
    }
   ],
   "source": [
    "x = 13\n",
    "if x % 2 == 1:\n",
    "    x += 1\n",
    "    \n",
    "print(x)"
   ]
  },
  {
   "cell_type": "code",
   "execution_count": 78,
   "metadata": {},
   "outputs": [
    {
     "name": "stdout",
     "output_type": "stream",
     "text": [
      "16\n",
      "4\n"
     ]
    }
   ],
   "source": [
    "for i in range(5):\n",
    "    x = i * i\n",
    "print(x)\n",
    "print(i)"
   ]
  },
  {
   "cell_type": "code",
   "execution_count": 82,
   "metadata": {},
   "outputs": [],
   "source": [
    "# ERROR\n",
    "# for j in []:\n",
    "#     z = j * j\n",
    "    \n",
    "# print(z)"
   ]
  },
  {
   "cell_type": "code",
   "execution_count": 83,
   "metadata": {},
   "outputs": [
    {
     "name": "stdout",
     "output_type": "stream",
     "text": [
      "True\n",
      "True\n",
      "False\n",
      "False\n"
     ]
    }
   ],
   "source": [
    "ok_status = True\n",
    "vowels = ['a', 'u', 'i', 'e', 'o']\n",
    "\n",
    "def check(word):\n",
    "    global ok_status\n",
    "    for vowel in vowels:\n",
    "        if vowel in word:\n",
    "            return True\n",
    "    ok_status = False\n",
    "    return False\n",
    "\n",
    "print(check('abacaba'))\n",
    "print(ok_status)\n",
    "print(check('www'))\n",
    "print(ok_status)"
   ]
  },
  {
   "cell_type": "code",
   "execution_count": 100,
   "metadata": {},
   "outputs": [
    {
     "name": "stdout",
     "output_type": "stream",
     "text": [
      "True\n",
      "True\n",
      "False\n",
      "False\n"
     ]
    }
   ],
   "source": [
    "def f():\n",
    "    ok_status = True\n",
    "    vowels = ['a', 'u', 'i', 'e', 'o']\n",
    "\n",
    "    def check(word):\n",
    "        nonlocal ok_status\n",
    "#         global ok_status\n",
    "        for vowel in vowels:\n",
    "            if vowel in word:\n",
    "                return True\n",
    "        ok_status = False\n",
    "        return False\n",
    "\n",
    "    print(check('abacaba'))\n",
    "    print(ok_status)\n",
    "    print(check('www'))\n",
    "    print(ok_status)\n",
    "    \n",
    "f()\n",
    "# ERROR\n",
    "# print(ok_status)"
   ]
  },
  {
   "cell_type": "code",
   "execution_count": 106,
   "metadata": {},
   "outputs": [
    {
     "name": "stdout",
     "output_type": "stream",
     "text": [
      "1\n",
      "3\n"
     ]
    }
   ],
   "source": [
    "x, y = 1, 2\n",
    "\n",
    "def foo():\n",
    "    global y\n",
    "    if y == 2:\n",
    "        x = 22\n",
    "        y = 1\n",
    "\n",
    "foo()\n",
    "print(x)\n",
    "if y == 1:\n",
    "    x = 3\n",
    "print(x)"
   ]
  },
  {
   "cell_type": "markdown",
   "metadata": {},
   "source": [
    "### Задача 1\n",
    "\n",
    "Реализуйте программу, которая будет эмулировать работу с пространствами имен. Необходимо реализовать поддержку создания пространств имен и добавление в них переменных.\n",
    "\n",
    "В данной задаче у каждого пространства имен есть уникальный текстовый идентификатор – его имя.\n",
    "\n",
    "Вашей программе на вход подаются следующие запросы:\n",
    "\n",
    "- create <namespace> <parent> –  создать новое пространство имен с именем <namespace> внутри пространства <parent>\n",
    "- add <namespace> <var> – добавить в пространство <namespace> переменную <var>\n",
    "- get <namespace> <var> – получить имя пространства, из которого будет взята переменная <var> при запросе из пространства <namespace>, или None, если такого пространства не существует"
   ]
  },
  {
   "cell_type": "code",
   "execution_count": 110,
   "metadata": {},
   "outputs": [
    {
     "name": "stdout",
     "output_type": "stream",
     "text": [
      "4\n",
      "add global a\n",
      "create foo global\n",
      "create bar foo\n",
      "get bar a\n",
      "global\n"
     ]
    }
   ],
   "source": [
    "n = int(input())\n",
    "scopes = {'global': {'funcs': [], 'vars': []}}\n",
    "\n",
    "def add(scopes, current_namespace, what):\n",
    "    if current_namespace not in scopes:\n",
    "        scopes[current_namespace] = {}\n",
    "        scopes[current_namespace]['vars'] = []\n",
    "        scopes[current_namespace]['vars'].append(what)\n",
    "    else:\n",
    "        if 'vars' not in scopes[current_namespace]:\n",
    "            scopes[current_namespace]['vars'] = []\n",
    "            scopes[current_namespace]['vars'].append(what)\n",
    "        else:\n",
    "            scopes[current_namespace]['vars'].append(what)\n",
    "\n",
    "def create(scopes, current_namespace, parent_namespace):\n",
    "    if current_namespace not in scopes:\n",
    "        scopes[current_namespace] = {}\n",
    "        scopes[current_namespace]['funcs'] = []\n",
    "        scopes[current_namespace]['vars'] = []\n",
    "        scopes[parent_namespace]['funcs'].append(current_namespace)\n",
    "        scopes[current_namespace]['parent'] = parent_namespace\n",
    "    else:\n",
    "        if 'funcs' not in scopes[current_namespace]:\n",
    "            scopes[current_namespace]['funcs'] = []\n",
    "            scopes[current_namespace]['parent'] = parent_namespace\n",
    "            scopes[parent_namespace]['funcs'].append(current_namespace)\n",
    "        else:\n",
    "            scopes[current_namespace]['funcs'].append(current_namespace)\n",
    "            scopes[parent_namespace]['funcs'].append(current_namespace)\n",
    "\n",
    "def search(scopes, namespace, what):\n",
    "    if what in scopes[namespace]['vars']:\n",
    "        return namespace\n",
    "    else:\n",
    "        try:\n",
    "            upper_namespace = scopes[namespace]['parent']\n",
    "        except KeyError:\n",
    "            return None\n",
    "        return search(scopes, upper_namespace, what)\n",
    "\n",
    "for i in range(n):\n",
    "    command = input().split()\n",
    "    if command[0] == 'add':\n",
    "        add(scopes, command[1], command[2])\n",
    "    elif command[0] == 'create':\n",
    "        create(scopes, command[1], command[2])\n",
    "    elif command[0] == 'get':\n",
    "        print(search(scopes, command[1], command[2]))"
   ]
  },
  {
   "cell_type": "markdown",
   "metadata": {},
   "source": [
    "## Введение в классы"
   ]
  },
  {
   "cell_type": "code",
   "execution_count": 8,
   "metadata": {},
   "outputs": [
    {
     "name": "stdout",
     "output_type": "stream",
     "text": [
      "10\n",
      "<function MyClass.func at 0x0000000003C1F620>\n",
      "Hello\n",
      "None\n"
     ]
    }
   ],
   "source": [
    "class MyClass:\n",
    "    a = 10\n",
    "    \n",
    "    def func(self):\n",
    "        print('Hello')\n",
    "        \n",
    "print(MyClass.a)\n",
    "print(MyClass.func)\n",
    "print(MyClass.func('asd'))"
   ]
  },
  {
   "cell_type": "markdown",
   "metadata": {},
   "source": [
    "### Конструктор класса"
   ]
  },
  {
   "cell_type": "code",
   "execution_count": 11,
   "metadata": {},
   "outputs": [
    {
     "name": "stdout",
     "output_type": "stream",
     "text": [
      "<class '__main__.MyClass'>\n",
      "<class 'type'>\n"
     ]
    }
   ],
   "source": [
    "x = MyClass()\n",
    "print(type(x))\n",
    "\n",
    "print(type(MyClass))"
   ]
  },
  {
   "cell_type": "code",
   "execution_count": 12,
   "metadata": {},
   "outputs": [
    {
     "data": {
      "text/plain": [
       "__main__.Counter"
      ]
     },
     "execution_count": 12,
     "metadata": {},
     "output_type": "execute_result"
    }
   ],
   "source": [
    "class Counter:\n",
    "    pass\n",
    "\n",
    "Counter"
   ]
  },
  {
   "cell_type": "code",
   "execution_count": 14,
   "metadata": {},
   "outputs": [],
   "source": [
    "x = Counter() # x is an instance object \n",
    "x.count = 0\n",
    "x.count += 1"
   ]
  },
  {
   "cell_type": "markdown",
   "metadata": {},
   "source": [
    "### Определение поведение конструктора"
   ]
  },
  {
   "cell_type": "code",
   "execution_count": 21,
   "metadata": {},
   "outputs": [
    {
     "name": "stdout",
     "output_type": "stream",
     "text": [
      "0\n",
      "1\n",
      "0\n"
     ]
    }
   ],
   "source": [
    "class Counter:\n",
    "    def __init__(self):\n",
    "        self.count = 0\n",
    "        \n",
    "Counter\n",
    "x = Counter()\n",
    "print(x.count)\n",
    "\n",
    "x.count += 1\n",
    "print(x.count)\n",
    "\n",
    "y = Counter()\n",
    "print(y.count)"
   ]
  },
  {
   "cell_type": "code",
   "execution_count": 30,
   "metadata": {},
   "outputs": [
    {
     "name": "stdout",
     "output_type": "stream",
     "text": [
      "0\n",
      "10\n"
     ]
    }
   ],
   "source": [
    "class Counter:\n",
    "    def __init__(self, start=0):\n",
    "        self.count = start\n",
    "        \n",
    "Counter\n",
    "x = Counter()\n",
    "x1 = Counter(10)\n",
    "\n",
    "print(x.count)\n",
    "print(x1.count)"
   ]
  },
  {
   "cell_type": "code",
   "execution_count": 28,
   "metadata": {},
   "outputs": [
    {
     "name": "stdout",
     "output_type": "stream",
     "text": [
      "10\n",
      "0\n",
      "35\n",
      "10\n",
      "35\n"
     ]
    }
   ],
   "source": [
    "class MyClass:\n",
    "    count = 0\n",
    "\n",
    "a = MyClass()\n",
    "a.count = 10\n",
    "b = MyClass()\n",
    "\n",
    "print(a.count) # 10\n",
    "print(b.count) # 0\n",
    "\n",
    "MyClass.count = 35\n",
    "c = MyClass()\n",
    "print(c.count) # 35\n",
    "\n",
    "print(a.count) # 10\n",
    "print(b.count) # 35"
   ]
  },
  {
   "cell_type": "code",
   "execution_count": 17,
   "metadata": {},
   "outputs": [
    {
     "name": "stdout",
     "output_type": "stream",
     "text": [
      "{'inside_a': 1, 'count': 0}\n",
      "{}\n"
     ]
    }
   ],
   "source": [
    "class Counter:\n",
    "    def __init__(self):\n",
    "        self.inside_a = 1\n",
    "\n",
    "class CounterFrozen:\n",
    "    def __init__(self):\n",
    "        self.inside_b = 11\n",
    "    def __setattr__(self, key, value):\n",
    "        pass\n",
    "\n",
    "x = Counter()\n",
    "x.count = 0\n",
    "print(x.__dict__)      # {'count': 0, 'inside_a': 1}\n",
    "\n",
    "y = CounterFrozen()\n",
    "y.count = 10           # no error msg, but no effect too\n",
    "print(y.__dict__)      # {}"
   ]
  },
  {
   "cell_type": "code",
   "execution_count": 60,
   "metadata": {},
   "outputs": [
    {
     "name": "stdout",
     "output_type": "stream",
     "text": [
      "12\n",
      "5\n"
     ]
    },
    {
     "data": {
      "text/plain": [
       "105"
      ]
     },
     "execution_count": 60,
     "metadata": {},
     "output_type": "execute_result"
    }
   ],
   "source": [
    "class B:\n",
    "    n = 5\n",
    "    def adder(v):\n",
    "        return v + B.n\n",
    "    \n",
    "l = B()\n",
    "l.n = 12\n",
    "print(l.n)\n",
    "print(B.n)\n",
    "\n",
    "# l.adder(102) # ERROR\n",
    "B.adder(100)"
   ]
  },
  {
   "cell_type": "code",
   "execution_count": 58,
   "metadata": {},
   "outputs": [
    {
     "name": "stdout",
     "output_type": "stream",
     "text": [
      "12\n",
      "5\n"
     ]
    },
    {
     "data": {
      "text/plain": [
       "114"
      ]
     },
     "execution_count": 58,
     "metadata": {},
     "output_type": "execute_result"
    }
   ],
   "source": [
    "class B:\n",
    "    n = 5\n",
    "    def adder(self, v):\n",
    "        return v + self.n\n",
    "    \n",
    "l = B()\n",
    "l.n = 12\n",
    "print(l.n)\n",
    "print(B.n)\n",
    "\n",
    "l.adder(102)\n",
    "# B.adder(100) # ERROR"
   ]
  },
  {
   "cell_type": "code",
   "execution_count": 62,
   "metadata": {},
   "outputs": [
    {
     "data": {
      "text/plain": [
       "'Bob'"
      ]
     },
     "execution_count": 62,
     "metadata": {},
     "output_type": "execute_result"
    }
   ],
   "source": [
    "class User:\n",
    "    def setName(self, n):\n",
    "        self.name = n\n",
    "    def getName(self):\n",
    "        try:\n",
    "            return self.name\n",
    "        except:\n",
    "            print(\"No name\")\n",
    "\n",
    "first = User()\n",
    "second = User()\n",
    "first.setName(\"Bob\")\n",
    "first.getName()"
   ]
  },
  {
   "cell_type": "code",
   "execution_count": 63,
   "metadata": {},
   "outputs": [
    {
     "name": "stdout",
     "output_type": "stream",
     "text": [
      "No name\n"
     ]
    }
   ],
   "source": [
    "second.getName()"
   ]
  },
  {
   "cell_type": "code",
   "execution_count": 64,
   "metadata": {},
   "outputs": [
    {
     "name": "stdout",
     "output_type": "stream",
     "text": [
      "1\n",
      "2\n",
      "0\n"
     ]
    }
   ],
   "source": [
    "class Counter():\n",
    "    def __init__(self):\n",
    "        self.count = 0\n",
    "    def inc(self):\n",
    "        self.count += 1\n",
    "    def reset(self):\n",
    "        self.count = 0\n",
    "        \n",
    "Counter\n",
    "x = Counter()\n",
    "x.inc()\n",
    "print(x.count)\n",
    "Counter.inc(x) # Эквивалентен вызову x.inc()\n",
    "print(x.count)\n",
    "x.reset()\n",
    "print(x.count)"
   ]
  },
  {
   "cell_type": "markdown",
   "metadata": {},
   "source": [
    "### Задача 1\n",
    "\n",
    "Какие числа будут выведены в результате выполнения данного кода?"
   ]
  },
  {
   "cell_type": "code",
   "execution_count": 65,
   "metadata": {},
   "outputs": [
    {
     "name": "stdout",
     "output_type": "stream",
     "text": [
      "2\n",
      "4\n",
      "4\n"
     ]
    }
   ],
   "source": [
    "class A:\n",
    "    def __init__(self, val=0):\n",
    "        self.val = val\n",
    "\n",
    "    def add(self, x):\n",
    "        self.val += x\n",
    "\n",
    "    def print_val(self):\n",
    "        print(self.val)\n",
    "\n",
    "\n",
    "a = A()\n",
    "b = A(2)\n",
    "c = A(4)\n",
    "a.add(2)\n",
    "b.add(2)\n",
    "\n",
    "a.print_val()\n",
    "b.print_val()\n",
    "c.print_val()"
   ]
  },
  {
   "cell_type": "markdown",
   "metadata": {},
   "source": [
    "### Задача 2\n",
    "\n",
    "Реализуйте класс MoneyBox, для работы с виртуальной копилкой.\n",
    "\n",
    "Каждая копилка имеет ограниченную вместимость, которая выражается целым числом – количеством монет, которые можно положить в копилку. Класс должен поддерживать информацию о количестве монет в копилке, предоставлять возможность добавлять монеты в копилку и узнавать, можно ли добавить в копилку ещё какое-то количество монет, не превышая ее вместимость.\n",
    "\n",
    "При создании копилки, число монет в ней равно 0.\n",
    "\n",
    "Примечание: Гарантируется, что метод add(self, v) будет вызываться только если can_add(self, v) – True."
   ]
  },
  {
   "cell_type": "code",
   "execution_count": 106,
   "metadata": {},
   "outputs": [],
   "source": [
    "class MoneyBox():\n",
    "    def __init__(self, capacity):\n",
    "        # конструктор с аргументом – вместимость копилки\n",
    "        self.coins = 0\n",
    "        self.capacity = capacity\n",
    "        \n",
    "    def can_add(self, v):\n",
    "        # True, если можно добавить v монет, False иначе\n",
    "        return self.coins + v <= self.capacity\n",
    "\n",
    "    def add(self, v):\n",
    "        # положить v монет в копилку\n",
    "        if self.can_add(v) == True:\n",
    "            self.coins += v"
   ]
  },
  {
   "cell_type": "code",
   "execution_count": 102,
   "metadata": {},
   "outputs": [],
   "source": [
    "money_box_1 = MoneyBox(20)\n",
    "money_box_1.add(10)"
   ]
  },
  {
   "cell_type": "code",
   "execution_count": 103,
   "metadata": {},
   "outputs": [],
   "source": [
    "money_box_1.add(9)"
   ]
  },
  {
   "cell_type": "code",
   "execution_count": 104,
   "metadata": {},
   "outputs": [
    {
     "data": {
      "text/plain": [
       "19"
      ]
     },
     "execution_count": 104,
     "metadata": {},
     "output_type": "execute_result"
    }
   ],
   "source": [
    "money_box_1.coins"
   ]
  },
  {
   "cell_type": "code",
   "execution_count": 105,
   "metadata": {},
   "outputs": [
    {
     "data": {
      "text/plain": [
       "20"
      ]
     },
     "execution_count": 105,
     "metadata": {},
     "output_type": "execute_result"
    }
   ],
   "source": [
    "money_box_1.capacity"
   ]
  },
  {
   "cell_type": "markdown",
   "metadata": {},
   "source": [
    "### Задача 3\n",
    "\n",
    "Вам дается последовательность целых чисел и вам нужно ее обработать и вывести на экран сумму первой пятерки чисел из этой последовательности, затем сумму второй пятерки, и т. д.\n",
    "\n",
    "Но последовательность не дается вам сразу целиком. С течением времени к вам поступают её последовательные части. Например, сначала первые три элемента, потом следующие шесть, потом следующие два и т. д.\n",
    "\n",
    "Реализуйте класс Buffer, который будет накапливать в себе элементы последовательности и выводить сумму пятерок последовательных элементов по мере их накопления.\n",
    "\n",
    "Одним из требований к классу является то, что он не должен хранить в себе больше элементов, чем ему действительно необходимо, т. е. он не должен хранить элементы, которые уже вошли в пятерку, для которой была выведена сумма."
   ]
  },
  {
   "cell_type": "code",
   "execution_count": 161,
   "metadata": {},
   "outputs": [],
   "source": [
    "class Buffer:\n",
    "    def __init__(self):\n",
    "        # конструктор без аргументов\n",
    "        self.arr = []\n",
    "\n",
    "    def add(self, *a):\n",
    "        # добавить следующую часть последовательности\n",
    "        self.arr.extend(a)\n",
    "        while len(self.arr) >= 5:\n",
    "            print(sum(self.arr[:5]))\n",
    "            del self.arr[0:5]\n",
    "\n",
    "    def get_current_part(self):\n",
    "        # вернуть сохраненные в текущий момент элементы последовательности в порядке, в котором они были добавлены\n",
    "#         print(self.arr)\n",
    "        return self.arr"
   ]
  },
  {
   "cell_type": "code",
   "execution_count": 165,
   "metadata": {},
   "outputs": [
    {
     "name": "stdout",
     "output_type": "stream",
     "text": [
      "[1, 2, 3]\n",
      "15\n",
      "[6]\n",
      "40\n",
      "[]\n",
      "5\n",
      "5\n",
      "[1]\n"
     ]
    },
    {
     "data": {
      "text/plain": [
       "[1]"
      ]
     },
     "execution_count": 165,
     "metadata": {},
     "output_type": "execute_result"
    }
   ],
   "source": [
    "buf = Buffer()\n",
    "buf.add(1, 2, 3)\n",
    "buf.get_current_part() # вернуть [1, 2, 3]\n",
    "buf.add(4, 5, 6) # print(15) – вывод суммы первой пятерки элементов\n",
    "buf.get_current_part() # вернуть [6]\n",
    "buf.add(7, 8, 9, 10) # print(40) – вывод суммы второй пятерки элементов\n",
    "buf.get_current_part() # вернуть []\n",
    "buf.add(1, 1, 1, 1, 1, 1, 1, 1, 1, 1, 1) # print(5), print(5) – вывод сумм третьей и четвертой пятерки\n",
    "buf.get_current_part() # вернуть [1]"
   ]
  },
  {
   "cell_type": "code",
   "execution_count": 166,
   "metadata": {},
   "outputs": [],
   "source": [
    "################################################################################################################################"
   ]
  },
  {
   "cell_type": "code",
   "execution_count": 171,
   "metadata": {},
   "outputs": [
    {
     "data": {
      "text/plain": [
       "['American', 'Country', 'Russian', \"Drum'n'base\"]"
      ]
     },
     "execution_count": 171,
     "metadata": {},
     "output_type": "execute_result"
    }
   ],
   "source": [
    "# Плохой пример\n",
    "class Song:\n",
    "    tags = []\n",
    "    \n",
    "    def __init__(self, artist, song):\n",
    "        self.artist = artist\n",
    "        self.song = song\n",
    "        \n",
    "    def add_tags(self, *args):\n",
    "        self.tags.extend(args)\n",
    "        \n",
    "song1 = Song('Artist1', 'Song1')\n",
    "song1.add_tags('American', 'Country')\n",
    "\n",
    "song2 = Song('Artist2', 'Song2')\n",
    "song2.add_tags('Russian', \"Drum'n'base\")\n",
    "\n",
    "song2.tags # Все теги добавились в один объект Song.tags"
   ]
  },
  {
   "cell_type": "code",
   "execution_count": 170,
   "metadata": {},
   "outputs": [
    {
     "data": {
      "text/plain": [
       "True"
      ]
     },
     "execution_count": 170,
     "metadata": {},
     "output_type": "execute_result"
    }
   ],
   "source": [
    "song2.tags is Song.tags "
   ]
  },
  {
   "cell_type": "code",
   "execution_count": 172,
   "metadata": {},
   "outputs": [
    {
     "data": {
      "text/plain": [
       "['Russian', \"Drum'n'base\"]"
      ]
     },
     "execution_count": 172,
     "metadata": {},
     "output_type": "execute_result"
    }
   ],
   "source": [
    "# Хороший пример\n",
    "class Song:\n",
    "    def __init__(self, artist, song):\n",
    "        self.artist = artist\n",
    "        self.song = song\n",
    "        self.tags = []\n",
    "        \n",
    "    def add_tags(self, *args):\n",
    "        self.tags.extend(args)\n",
    "        \n",
    "song1 = Song('Artist1', 'Song1')\n",
    "song1.add_tags('American', 'Country')\n",
    "\n",
    "song2 = Song('Artist2', 'Song2')\n",
    "song2.add_tags('Russian', \"Drum'n'base\")\n",
    "\n",
    "song2.tags"
   ]
  },
  {
   "cell_type": "code",
   "execution_count": 173,
   "metadata": {},
   "outputs": [
    {
     "name": "stdout",
     "output_type": "stream",
     "text": [
      "2\n",
      "3\n",
      "3\n"
     ]
    }
   ],
   "source": [
    "class A:\n",
    "    val = 1\n",
    "\n",
    "    def foo(self):\n",
    "        A.val += 2\n",
    "\n",
    "    def bar(self):\n",
    "        self.val += 1\n",
    "\n",
    "\n",
    "a = A()\n",
    "b = A()\n",
    "\n",
    "a.bar()\n",
    "a.foo()\n",
    "\n",
    "c = A()\n",
    "\n",
    "print(a.val)\n",
    "print(b.val)\n",
    "print(c.val)"
   ]
  },
  {
   "cell_type": "markdown",
   "metadata": {},
   "source": [
    "## Наследование классов"
   ]
  },
  {
   "cell_type": "code",
   "execution_count": 175,
   "metadata": {},
   "outputs": [
    {
     "name": "stdout",
     "output_type": "stream",
     "text": [
      "[]\n",
      "[1, 2, 3, 4, 5]\n",
      "False\n",
      "True\n"
     ]
    }
   ],
   "source": [
    "class MyList(list): # Наследуется от класса list\n",
    "    def even_length(self):\n",
    "        return len(self) % 2 == 0\n",
    "    \n",
    "x = MyList()\n",
    "print(x)\n",
    "x.extend([1, 2, 3, 4, 5])\n",
    "print(x)\n",
    "print(x.even_length())\n",
    "x.append(6)\n",
    "print(x.even_length())"
   ]
  },
  {
   "cell_type": "markdown",
   "metadata": {},
   "source": [
    "### Мно́жественное насле́дование"
   ]
  },
  {
   "cell_type": "code",
   "execution_count": 181,
   "metadata": {},
   "outputs": [],
   "source": [
    "class D: pass\n",
    "class E: pass\n",
    "class B(D, E): pass\n",
    "class C: pass\n",
    "class A(B, C): pass"
   ]
  },
  {
   "cell_type": "code",
   "execution_count": 187,
   "metadata": {},
   "outputs": [
    {
     "name": "stdout",
     "output_type": "stream",
     "text": [
      "True\n",
      "False\n",
      "True\n",
      "True\n",
      "False\n"
     ]
    }
   ],
   "source": [
    "print(issubclass(A, A))\n",
    "print(issubclass(C, D))\n",
    "print(issubclass(A, D))\n",
    "print(issubclass(C, object))\n",
    "print(issubclass(object, C))"
   ]
  },
  {
   "cell_type": "code",
   "execution_count": 191,
   "metadata": {},
   "outputs": [
    {
     "name": "stdout",
     "output_type": "stream",
     "text": [
      "[<class '__main__.A'>, <class '__main__.B'>, <class '__main__.D'>, <class '__main__.E'>, <class '__main__.C'>, <class 'object'>]\n"
     ]
    }
   ],
   "source": [
    "print(A.mro())"
   ]
  },
  {
   "cell_type": "code",
   "execution_count": 188,
   "metadata": {},
   "outputs": [],
   "source": [
    "x = A()"
   ]
  },
  {
   "cell_type": "code",
   "execution_count": 190,
   "metadata": {},
   "outputs": [
    {
     "name": "stdout",
     "output_type": "stream",
     "text": [
      "True\n",
      "True\n",
      "True\n",
      "False\n"
     ]
    }
   ],
   "source": [
    "print(isinstance(x, A))\n",
    "print(isinstance(x, B))\n",
    "print(isinstance(x, object))\n",
    "print(isinstance(x, str))"
   ]
  },
  {
   "cell_type": "code",
   "execution_count": 192,
   "metadata": {},
   "outputs": [
    {
     "name": "stdout",
     "output_type": "stream",
     "text": [
      "[<class '__main__.MyList'>, <class 'list'>, <class 'object'>]\n"
     ]
    }
   ],
   "source": [
    "print(MyList.mro())"
   ]
  },
  {
   "cell_type": "code",
   "execution_count": 3,
   "metadata": {},
   "outputs": [
    {
     "name": "stdout",
     "output_type": "stream",
     "text": [
      "Last value is 17\n",
      "17\n",
      "[1, 2, 4]\n"
     ]
    }
   ],
   "source": [
    "class EvenLengthMixin:\n",
    "    def even_length(self):\n",
    "        return len(self) % 2 == 0\n",
    "    \n",
    "class MyList(list, EvenLengthMixin):\n",
    "    def pop(self):\n",
    "        x = super(MyList, self).pop() # list.pop(self)\n",
    "        print('Last value is', x)\n",
    "        return x\n",
    "    \n",
    "ml = MyList([1, 2, 4, 17])\n",
    "z = ml.pop()\n",
    "print(z)\n",
    "print(ml)"
   ]
  },
  {
   "cell_type": "markdown",
   "metadata": {},
   "source": [
    "### Задача 1\n",
    "\n",
    "Какие числа будут выведены в результате выполнения данного кода?"
   ]
  },
  {
   "cell_type": "code",
   "execution_count": 5,
   "metadata": {},
   "outputs": [
    {
     "name": "stdout",
     "output_type": "stream",
     "text": [
      "10\n",
      "30\n"
     ]
    }
   ],
   "source": [
    "class Base:\n",
    "    def __init__(self):\n",
    "        self.val = 0\n",
    "\n",
    "    def add_one(self):\n",
    "        self.val += 1\n",
    "\n",
    "    def add_many(self, x):\n",
    "        for i in range(x):\n",
    "            self.add_one()\n",
    "\n",
    "class Derived(Base):\n",
    "    def add_one(self):\n",
    "        self.val += 10\n",
    "\n",
    "\n",
    "a = Derived()\n",
    "a.add_one()\n",
    "\n",
    "b = Derived()\n",
    "b.add_many(3)\n",
    "\n",
    "print(a.val)\n",
    "print(b.val)"
   ]
  },
  {
   "cell_type": "markdown",
   "metadata": {},
   "source": [
    "### Задача 2\n",
    "\n",
    "Какие числа будут выведены в результате выполнения данного кода?"
   ]
  },
  {
   "cell_type": "code",
   "execution_count": 6,
   "metadata": {},
   "outputs": [
    {
     "name": "stdout",
     "output_type": "stream",
     "text": [
      "C\n"
     ]
    }
   ],
   "source": [
    "class A:\n",
    "    def foo(self):\n",
    "        print(\"A\")\n",
    "\n",
    "class B(A):\n",
    "    pass\n",
    "\n",
    "class C(A):\n",
    "    def foo(self):\n",
    "        print(\"C\")\n",
    "\n",
    "class D:\n",
    "    def foo(self):\n",
    "        print(\"D\")\n",
    "\n",
    "class E(B, C, D):\n",
    "    pass\n",
    "\n",
    "E().foo()"
   ]
  },
  {
   "cell_type": "markdown",
   "metadata": {},
   "source": [
    "### Задача 3\n",
    "\n",
    "Рассмотрим следующее объявление классов, какие последовательности могут являться корректным порядком разрешения методов для класса E?"
   ]
  },
  {
   "cell_type": "code",
   "execution_count": 20,
   "metadata": {},
   "outputs": [
    {
     "name": "stdout",
     "output_type": "stream",
     "text": [
      "[<class '__main__.E'>, <class '__main__.B'>, <class '__main__.A'>, <class '__main__.D'>, <class '__main__.C'>, <class 'object'>]\n"
     ]
    }
   ],
   "source": [
    "class A:\n",
    "    pass\n",
    "\n",
    "class B(A):\n",
    "    pass\n",
    "\n",
    "class C:\n",
    "    pass\n",
    "\n",
    "class D(C):\n",
    "    pass\n",
    "\n",
    "# class E(B, C, D):\n",
    "#     pass\n",
    "class E(B, D, C):\n",
    "    pass\n",
    "\n",
    "print(E.mro())"
   ]
  },
  {
   "cell_type": "markdown",
   "metadata": {},
   "source": [
    "### Задача 4\n",
    "\n",
    "Вам дано описание наследования классов в следующем формате. \n",
    "<имя класса 1> : <имя класса 2> <имя класса 3> ... <имя класса k>\n",
    "Это означает, что класс 1 отнаследован от класса 2, класса 3, и т. д.\n",
    "\n",
    "Вам необходимо отвечать на запросы, является ли один класс предком другого класса"
   ]
  },
  {
   "cell_type": "code",
   "execution_count": null,
   "metadata": {},
   "outputs": [],
   "source": [
    "classes = {}\n",
    "\n",
    "def add_class(classes, class_name, parents):\n",
    "    if class_name not in classes:\n",
    "        classes[class_name] = []\n",
    "    classes[class_name].extend(parents)\n",
    "    for parent in parents:\n",
    "        if parent not in classes:\n",
    "            classes[parent] = []\n",
    "\n",
    "def found_path(classes, start, end, path=[]):\n",
    "    path = path + [start]\n",
    "    if start == end:\n",
    "        return path\n",
    "    if start not in classes:\n",
    "        return None\n",
    "    for node in classes[start]:\n",
    "        if node not in path:\n",
    "            newpath = found_path(classes, node, end, path)\n",
    "            if newpath: return newpath\n",
    "    return None\n",
    "\n",
    "def answer(classes, parent, child):\n",
    "    if not(parent or child) in classes or not found_path(classes, child, parent):\n",
    "        return 'No'\n",
    "    return 'Yes'\n",
    "\n",
    "n = int(input())\n",
    "for _ in range(n):\n",
    "    class_description = input().split()\n",
    "    class_name = class_description[0]\n",
    "    class_parents = class_description[2:]\n",
    "    add_class(classes, class_name, class_parents)\n",
    "\n",
    "q = int(input())\n",
    "for _ in range(q):\n",
    "    question = input().split()\n",
    "    parent = question[0]\n",
    "    child = question[1]\n",
    "    print(answer(classes, parent, child))"
   ]
  },
  {
   "cell_type": "code",
   "execution_count": null,
   "metadata": {},
   "outputs": [],
   "source": [
    "inheritance = dict()\n",
    "for i in [input().split() for _ in range(int(input()))]:\n",
    "    inheritance[i[0]] = i[2:]\n",
    "for k, v in inheritance.items():\n",
    "    for i in v:\n",
    "        if i in inheritance:\n",
    "            inheritance[k].extend(inheritance[i])\n",
    "for parent, inheritor in [input().split() for _ in range(int(input()))]:\n",
    "    print(['No', 'Yes'][parent == inheritor or parent in inheritance[inheritor]])"
   ]
  },
  {
   "cell_type": "markdown",
   "metadata": {},
   "source": [
    "### Задача 5\n",
    "\n",
    "Реализуйте структуру данных, представляющую собой расширенную структуру стек. Необходимо поддерживать добавление элемента на вершину стека, удаление с вершины стека, и необходимо поддерживать операции сложения, вычитания, умножения и целочисленного деления.\n",
    "\n",
    "Операция сложения на стеке определяется следующим образом. Со стека снимается верхний элемент (top1), затем снимается следующий верхний элемент (top2), и затем как результат операции сложения на вершину стека кладется элемент, равный top1 + top2.\n",
    "\n",
    "Аналогичным образом определяются операции вычитания (top1 - top2), умножения (top1 * top2) и целочисленного деления (top1 // top2).\n",
    "\n",
    "Реализуйте эту структуру данных как класс ExtendedStack, отнаследовав его от стандартного класса list."
   ]
  },
  {
   "cell_type": "code",
   "execution_count": null,
   "metadata": {},
   "outputs": [],
   "source": [
    "class ExtendedStack(list):\n",
    "    def sum(self):\n",
    "        # операция сложения\n",
    "        top1 = self.pop()\n",
    "        top2 = self.pop()\n",
    "        self.append(top1 + top2)\n",
    "        return self\n",
    "\n",
    "    def sub(self):\n",
    "        # операция вычитания\n",
    "        top1 = self.pop()\n",
    "        top2 = self.pop()\n",
    "        self.append(top1 - top2)\n",
    "        return self\n",
    "\n",
    "    def mul(self):\n",
    "        # операция умножения\n",
    "        top1 = self.pop()\n",
    "        top2 = self.pop()\n",
    "        self.append(top1 * top2)\n",
    "        return self\n",
    "\n",
    "    def div(self):\n",
    "        # операция целочисленного деления\n",
    "        top1 = self.pop()\n",
    "        top2 = self.pop()\n",
    "        self.append(top1 // top2)\n",
    "        return self"
   ]
  },
  {
   "cell_type": "markdown",
   "metadata": {},
   "source": [
    "### Задача 6\n",
    "\n",
    "Одно из применений множественного наследование – расширение функциональности класса каким-то заранее определенным способом. Например, если нам понадобится логировать какую-то информацию при обращении к методам класса.\n",
    "\n",
    "Рассмотрим класс Loggable:"
   ]
  },
  {
   "cell_type": "code",
   "execution_count": 2,
   "metadata": {},
   "outputs": [],
   "source": [
    "import time\n",
    "\n",
    "class Loggable:  \n",
    "    def log(self, msg):  \n",
    "        print(str(time.ctime()) + \": \" + str(msg))"
   ]
  },
  {
   "cell_type": "markdown",
   "metadata": {},
   "source": [
    "У него есть ровно один метод log, который позволяет выводить в лог (в данном случае в stdout) какое-то сообщение, добавляя при этом текущее время.\n",
    "Реализуйте класс LoggableList, отнаследовав его от классов list и Loggable таким образом, чтобы при добавлении элемента в список посредством метода append в лог отправлялось сообщение, состоящее из только что добавленного элемента."
   ]
  },
  {
   "cell_type": "code",
   "execution_count": 3,
   "metadata": {},
   "outputs": [],
   "source": [
    "class LoggableList(Loggable, list):\n",
    "    def append(self, arg):\n",
    "        super(LoggableList, self).append(arg)\n",
    "        self.log(arg)"
   ]
  }
 ],
 "metadata": {
  "kernelspec": {
   "display_name": "Python 3",
   "language": "python",
   "name": "python3"
  },
  "language_info": {
   "codemirror_mode": {
    "name": "ipython",
    "version": 3
   },
   "file_extension": ".py",
   "mimetype": "text/x-python",
   "name": "python",
   "nbconvert_exporter": "python",
   "pygments_lexer": "ipython3",
   "version": "3.6.4"
  }
 },
 "nbformat": 4,
 "nbformat_minor": 2
}
