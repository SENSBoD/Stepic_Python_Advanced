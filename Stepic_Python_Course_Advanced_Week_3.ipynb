{
 "cells": [
  {
   "cell_type": "markdown",
   "metadata": {},
   "source": [
    "## Стандартные методы и функции для строк"
   ]
  },
  {
   "cell_type": "code",
   "execution_count": 2,
   "metadata": {},
   "outputs": [
    {
     "name": "stdout",
     "output_type": "stream",
     "text": [
      "True\n",
      "False\n"
     ]
    }
   ],
   "source": [
    "print('abc' in 'abca')\n",
    "print('abca' in 'abc')"
   ]
  },
  {
   "cell_type": "code",
   "execution_count": 13,
   "metadata": {},
   "outputs": [
    {
     "name": "stdout",
     "output_type": "stream",
     "text": [
      "1\n",
      "-1\n",
      "-1\n"
     ]
    }
   ],
   "source": [
    "print('babcd'.find('abc')) # индекс первого вхождения или -1\n",
    "print('babcd'.find('ac'))"
   ]
  },
  {
   "cell_type": "code",
   "execution_count": 9,
   "metadata": {},
   "outputs": [
    {
     "name": "stdout",
     "output_type": "stream",
     "text": [
      "S.find(sub[, start[, end]]) -> int\n",
      "\n",
      "Return the lowest index in S where substring sub is found,\n",
      "such that sub is contained within S[start:end].  Optional\n",
      "arguments start and end are interpreted as in slice notation.\n",
      "\n",
      "Return -1 on failure.\n"
     ]
    }
   ],
   "source": [
    "print(str.find.__doc__)"
   ]
  },
  {
   "cell_type": "code",
   "execution_count": 20,
   "metadata": {},
   "outputs": [
    {
     "name": "stdout",
     "output_type": "stream",
     "text": [
      "2\n",
      "0\n"
     ]
    }
   ],
   "source": [
    "print('ababcd'.find('abc', 2)) # начать поиск с индекса 2\n",
    "print('ababcd'[2:].find('abc')) # индекс первого вхождения"
   ]
  },
  {
   "cell_type": "code",
   "execution_count": 23,
   "metadata": {},
   "outputs": [
    {
     "name": "stdout",
     "output_type": "stream",
     "text": [
      "2\n"
     ]
    }
   ],
   "source": [
    "print('ababcd'.index('abc', 1)) # индекс первого вхождения или ValueError\n",
    "# print('ababcd'.index('abc', 3)) # индекс первого вхождения или ValueError"
   ]
  },
  {
   "cell_type": "code",
   "execution_count": 26,
   "metadata": {},
   "outputs": [
    {
     "name": "stdout",
     "output_type": "stream",
     "text": [
      "True\n"
     ]
    }
   ],
   "source": [
    "s = \"The whale in black fled across the desert, and the gunslinger followed\"\n",
    "print(s.startswith(\"The whale in black\"))"
   ]
  },
  {
   "cell_type": "code",
   "execution_count": 27,
   "metadata": {},
   "outputs": [
    {
     "name": "stdout",
     "output_type": "stream",
     "text": [
      "S.startswith(prefix[, start[, end]]) -> bool\n",
      "\n",
      "Return True if S starts with the specified prefix, False otherwise.\n",
      "With optional start, test S beginning at that position.\n",
      "With optional end, stop comparing S at that position.\n",
      "prefix can also be a tuple of strings to try.\n"
     ]
    }
   ],
   "source": [
    "print(s.startswith.__doc__)"
   ]
  },
  {
   "cell_type": "code",
   "execution_count": 30,
   "metadata": {},
   "outputs": [
    {
     "name": "stdout",
     "output_type": "stream",
     "text": [
      "False\n",
      "True\n"
     ]
    }
   ],
   "source": [
    "print(s.startswith((\"The woman\", \"The dog\", \"The man in black\")))\n",
    "print(s.startswith((\"The woman\", \"The dog\", \"The man in black\", \"The whale\")))"
   ]
  },
  {
   "cell_type": "code",
   "execution_count": 31,
   "metadata": {},
   "outputs": [
    {
     "name": "stdout",
     "output_type": "stream",
     "text": [
      "True\n"
     ]
    }
   ],
   "source": [
    "s = \"image.png\"\n",
    "print(s.endswith(\".png\"))"
   ]
  },
  {
   "cell_type": "code",
   "execution_count": 32,
   "metadata": {},
   "outputs": [
    {
     "name": "stdout",
     "output_type": "stream",
     "text": [
      "2\n"
     ]
    }
   ],
   "source": [
    "s = \"abacaba\"\n",
    "print(s.count(\"aba\"))"
   ]
  },
  {
   "cell_type": "code",
   "execution_count": 33,
   "metadata": {},
   "outputs": [
    {
     "name": "stdout",
     "output_type": "stream",
     "text": [
      "1\n"
     ]
    }
   ],
   "source": [
    "s = \"ababa\"\n",
    "print(s.count(\"aba\")) # только непересекающиеся вхождения"
   ]
  },
  {
   "cell_type": "code",
   "execution_count": 34,
   "metadata": {},
   "outputs": [
    {
     "name": "stdout",
     "output_type": "stream",
     "text": [
      "0\n",
      "4\n"
     ]
    }
   ],
   "source": [
    "s = \"abacaba\"\n",
    "print(s.find(\"aba\"))\n",
    "print(s.rfind(\"aba\")) # справа"
   ]
  },
  {
   "cell_type": "code",
   "execution_count": 35,
   "metadata": {},
   "outputs": [
    {
     "name": "stdout",
     "output_type": "stream",
     "text": [
      "the man in black fled across the desert, and the gunslinger followed\n",
      "THE MAN IN BLACK FLED ACROSS THE DESERT, AND THE GUNSLINGER FOLLOWED\n"
     ]
    }
   ],
   "source": [
    "s = \"The man in black fled across the desert, and the gunslinger followed\"\n",
    "print(s.lower())\n",
    "print(s.upper())"
   ]
  },
  {
   "cell_type": "code",
   "execution_count": 36,
   "metadata": {},
   "outputs": [
    {
     "name": "stdout",
     "output_type": "stream",
     "text": [
      "2\n",
      "3\n"
     ]
    }
   ],
   "source": [
    "print(s.count(\"the\"))\n",
    "print(s.lower().count(\"the\"))"
   ]
  },
  {
   "cell_type": "code",
   "execution_count": 39,
   "metadata": {},
   "outputs": [
    {
     "name": "stdout",
     "output_type": "stream",
     "text": [
      "1,2,3,4\n",
      "1, 2, 3, 4\n",
      "1, 2, 3,4\n"
     ]
    }
   ],
   "source": [
    "s = \"1,2,3,4\"\n",
    "print(s)\n",
    "print(s.replace(\",\", \", \"))\n",
    "print(s.replace(\",\", \", \", 2))\n",
    "# print(s.replace.__doc__)"
   ]
  },
  {
   "cell_type": "code",
   "execution_count": 42,
   "metadata": {},
   "outputs": [
    {
     "name": "stdout",
     "output_type": "stream",
     "text": [
      "['1\\t\\t', '2', '', '3', '', '', '', '', '', '', '4', '', '', '', '', '', '', '']\n",
      "['1', '2', '3', '4']\n"
     ]
    }
   ],
   "source": [
    "s = \"1\\t\\t 2  3       4       \"\n",
    "print(s.split(' '))\n",
    "print(s.split())\n",
    "# print(s.split.__doc__)"
   ]
  },
  {
   "cell_type": "code",
   "execution_count": 44,
   "metadata": {},
   "outputs": [
    {
     "name": "stdout",
     "output_type": "stream",
     "text": [
      "'_*__1, 2, 3, 4'\n",
      "'1, 2, 3, 4__*_'\n",
      "'1, 2, 3, 4'\n"
     ]
    }
   ],
   "source": [
    "s = \"_*__1, 2, 3, 4__*_\"\n",
    "print(repr(s.rstrip(\"*_\"))) # хотим удалить * и _\n",
    "print(repr(s.lstrip(\"*_\")))\n",
    "print(repr(s.strip(\"*_\")))"
   ]
  },
  {
   "cell_type": "code",
   "execution_count": 45,
   "metadata": {},
   "outputs": [
    {
     "name": "stdout",
     "output_type": "stream",
     "text": [
      "'1 2 3 4 5'\n"
     ]
    }
   ],
   "source": [
    "numbers = map(str, [1, 2, 3, 4, 5])\n",
    "print(repr(\" \".join(numbers)))"
   ]
  },
  {
   "cell_type": "code",
   "execution_count": 46,
   "metadata": {},
   "outputs": [
    {
     "name": "stdout",
     "output_type": "stream",
     "text": [
      "London is the capital of Great Britain\n",
      "Vaduz is the capital of Liechtenstein\n"
     ]
    }
   ],
   "source": [
    "capital = 'London is the capital of Great Britain'\n",
    "template = '{} is the capital of {}'\n",
    "print(template.format(\"London\", \"Great Britain\"))\n",
    "print(template.format(\"Vaduz\", \"Liechtenstein\"))\n",
    "# print(template.format.__doc__)"
   ]
  },
  {
   "cell_type": "code",
   "execution_count": 49,
   "metadata": {},
   "outputs": [
    {
     "name": "stdout",
     "output_type": "stream",
     "text": [
      "Great Britain is the capital of London\n"
     ]
    }
   ],
   "source": [
    "print('{1} is the capital of {0}'.format(\"London\", \"Great Britain\"))"
   ]
  },
  {
   "cell_type": "code",
   "execution_count": 50,
   "metadata": {},
   "outputs": [
    {
     "name": "stdout",
     "output_type": "stream",
     "text": [
      "London is the capital of Great Britain\n",
      "Vaduz is the capital of Liechtenstein\n"
     ]
    }
   ],
   "source": [
    "template = '{capital} is the capital of {country}'\n",
    "print(template.format(capital=\"London\", country=\"Great Britain\"))\n",
    "print(template.format(country=\"Liechtenstein\", capital=\"Vaduz\"))"
   ]
  },
  {
   "cell_type": "code",
   "execution_count": 51,
   "metadata": {},
   "outputs": [
    {
     "name": "stdout",
     "output_type": "stream",
     "text": [
      "Response from https://docs.python.org/3.5/ with code 200\n",
      "Response from https://docs.python.org/3.5/random with code 404\n"
     ]
    }
   ],
   "source": [
    "import requests\n",
    "template = \"Response from {0.url} with code {0.status_code}\"\n",
    "\n",
    "res = requests.get(\"https://docs.python.org/3.5/\")\n",
    "print(template.format(res))\n",
    "\n",
    "res = requests.get(\"https://docs.python.org/3.5/random\")\n",
    "print(template.format(res))"
   ]
  },
  {
   "cell_type": "code",
   "execution_count": 52,
   "metadata": {},
   "outputs": [
    {
     "name": "stdout",
     "output_type": "stream",
     "text": [
      "0.635445308131266\n",
      "0.635\n"
     ]
    }
   ],
   "source": [
    "from random import random\n",
    "x = random()\n",
    "print(x)\n",
    "print(\"{:.3}\".format(x))"
   ]
  },
  {
   "cell_type": "markdown",
   "metadata": {},
   "source": [
    "### Задача 1\n",
    "\n",
    "Вашей программе на вход подаются три строки s, a, b, состоящие из строчных латинских букв.\n",
    "За одну операцию вы можете заменить все вхождения строки a в строку s на строку b.\n",
    "\n",
    "Например, s = \"abab\", a = \"ab\", b = \"ba\", тогда после выполнения одной операции строка s перейдет в строку \"baba\", после выполнения двух и операций – в строку \"bbaa\", и дальнейшие операции не будут изменять строку s.\n",
    "\n",
    "Необходимо узнать, после какого минимального количества операций в строке s не останется вхождений строки a. Если операций потребуется более 1000, выведите Impossible.\n",
    "\n",
    "Выведите одно число – минимальное число операций, после применения которых в строке s не останется вхождений строки a, или Impossible, если операций потребуется более 1000."
   ]
  },
  {
   "cell_type": "code",
   "execution_count": 53,
   "metadata": {},
   "outputs": [
    {
     "name": "stdout",
     "output_type": "stream",
     "text": [
      "ababa\n",
      "a\n",
      "b\n",
      "1\n"
     ]
    }
   ],
   "source": [
    "s, a, b = (input() for _ in range(3))\n",
    "\n",
    "def f(s, a, b, counter=0):\n",
    "    if a in b and a in s:\n",
    "        return 'Impossible'\n",
    "    if s == s.replace(a, b): \n",
    "        return counter\n",
    "    else:\n",
    "        counter += 1\n",
    "        s = s.replace(a, b)\n",
    "        return f(s, a, b, counter)\n",
    "\n",
    "print(f(s, a, b))"
   ]
  },
  {
   "cell_type": "code",
   "execution_count": 54,
   "metadata": {},
   "outputs": [
    {
     "name": "stdout",
     "output_type": "stream",
     "text": [
      "ababa\n",
      "a\n",
      "b\n",
      "1\n"
     ]
    }
   ],
   "source": [
    "s = input()\n",
    "a = input()\n",
    "b = input()\n",
    "\n",
    "if a not in s:\n",
    "    print(0)\n",
    "elif a in b:\n",
    "    print(\"Impossible\")\n",
    "else:\n",
    "    ans = 0\n",
    "    while a in s:\n",
    "        s = s.replace(a, b)\n",
    "        ans += 1\n",
    "\n",
    "    print(ans)"
   ]
  },
  {
   "cell_type": "markdown",
   "metadata": {},
   "source": [
    "### Задача 2\n",
    "\n",
    "Вашей программе на вход подаются две строки s и t, состоящие из строчных латинских букв.\n",
    "\n",
    "Выведите одно число – количество вхождений строки t в строку s."
   ]
  },
  {
   "cell_type": "code",
   "execution_count": 1,
   "metadata": {},
   "outputs": [
    {
     "name": "stdout",
     "output_type": "stream",
     "text": [
      "abababa\n",
      "aba\n",
      "3\n"
     ]
    }
   ],
   "source": [
    "s, t = (input() for _ in range(2))\n",
    "counter = 0\n",
    "for i in range(len(s)):\n",
    "    if s.find(t, i, i + len(t)) >= 0:\n",
    "        counter += 1\n",
    "print(counter)"
   ]
  },
  {
   "cell_type": "code",
   "execution_count": null,
   "metadata": {},
   "outputs": [],
   "source": [
    "s = input()\n",
    "t = input()\n",
    "ans = 0\n",
    "for i in range(len(s)):\n",
    "    if s[i:].startswith(t):\n",
    "        ans += 1\n",
    "\n",
    "print(ans)"
   ]
  },
  {
   "cell_type": "markdown",
   "metadata": {},
   "source": [
    "## Регулярные выражения"
   ]
  },
  {
   "cell_type": "code",
   "execution_count": 4,
   "metadata": {},
   "outputs": [
    {
     "name": "stdout",
     "output_type": "stream",
     "text": [
      "hello\n",
      "world\n"
     ]
    }
   ],
   "source": [
    "x = 'hello\\nworld'\n",
    "print(x)"
   ]
  },
  {
   "cell_type": "code",
   "execution_count": 5,
   "metadata": {},
   "outputs": [
    {
     "name": "stdout",
     "output_type": "stream",
     "text": [
      "hello\\nworld\n"
     ]
    }
   ],
   "source": [
    "x = r'hello\\nworld' # raw line\n",
    "print(x)"
   ]
  },
  {
   "cell_type": "code",
   "execution_count": 7,
   "metadata": {},
   "outputs": [],
   "source": [
    "import re"
   ]
  },
  {
   "cell_type": "code",
   "execution_count": 9,
   "metadata": {},
   "outputs": [
    {
     "name": "stdout",
     "output_type": "stream",
     "text": [
      "<function match at 0x0000000002A36C80>\n",
      "<function search at 0x0000000002A7E400>\n",
      "<function findall at 0x0000000002A7E620>\n",
      "<function sub at 0x0000000002A7E488>\n"
     ]
    }
   ],
   "source": [
    "print(re.match)\n",
    "print(re.search)\n",
    "print(re.findall)\n",
    "print(re.sub)"
   ]
  },
  {
   "cell_type": "code",
   "execution_count": 12,
   "metadata": {},
   "outputs": [
    {
     "name": "stdout",
     "output_type": "stream",
     "text": [
      "<_sre.SRE_Match object; span=(0, 3), match='abc'>\n"
     ]
    }
   ],
   "source": [
    "pattern = r\"abc\"\n",
    "string = \"abcd\"\n",
    "match_object = re.match(pattern, string)\n",
    "print(match_object)"
   ]
  },
  {
   "cell_type": "code",
   "execution_count": 13,
   "metadata": {},
   "outputs": [
    {
     "name": "stdout",
     "output_type": "stream",
     "text": [
      "None\n"
     ]
    }
   ],
   "source": [
    "string = \"acd\"\n",
    "match_object = re.match(pattern, string)\n",
    "print(match_object)"
   ]
  },
  {
   "cell_type": "code",
   "execution_count": 15,
   "metadata": {},
   "outputs": [
    {
     "name": "stdout",
     "output_type": "stream",
     "text": [
      "None\n",
      "<_sre.SRE_Match object; span=(1, 4), match='abc'>\n"
     ]
    }
   ],
   "source": [
    "string = \"babc\"\n",
    "match_object = re.match(pattern, string)\n",
    "print(match_object)\n",
    "\n",
    "string = \"babc\"\n",
    "match_object = re.search(pattern, string)\n",
    "print(match_object)"
   ]
  },
  {
   "cell_type": "code",
   "execution_count": 16,
   "metadata": {},
   "outputs": [],
   "source": [
    "# [] -- можно указать множество подходящих символов\n",
    "# . ^ $ * + ? { } [ ] \\ | ( ) -- метасимволы\n",
    "# \\d ~ [0-9] -- цифры\n",
    "# \\D ~ [^0-9] -- не цифры\n",
    "# \\s ~ [ \\t\\n\\r\\f\\v] -- пробельные символы\n",
    "# \\S ~ [^ \\t\\n\\r\\f\\v] -- не пробельные символы\n",
    "# \\w ~ [a-zA-Z0-9_] -- буквы + цифры + _\n",
    "# \\W ~ [^a-zA-Z0-9_]"
   ]
  },
  {
   "cell_type": "code",
   "execution_count": 17,
   "metadata": {},
   "outputs": [
    {
     "name": "stdout",
     "output_type": "stream",
     "text": [
      "<_sre.SRE_Match object; span=(0, 3), match='acc'>\n"
     ]
    }
   ],
   "source": [
    "pattern = r'a[abc]c'\n",
    "string = \"acc\"\n",
    "match_object = re.match(pattern, string)\n",
    "print(match_object)"
   ]
  },
  {
   "cell_type": "code",
   "execution_count": 19,
   "metadata": {},
   "outputs": [
    {
     "name": "stdout",
     "output_type": "stream",
     "text": [
      "['abc', 'aac']\n",
      "abc, a.c, abc, a-c, aBc, azc\n"
     ]
    }
   ],
   "source": [
    "pattern = r'a[abc]c'\n",
    "string = \"abc, a.c, aac, a-c, aBc, azc\"\n",
    "all_inclusions = re.findall(pattern, string)\n",
    "print(all_inclusions)\n",
    "\n",
    "fixed_typos = re.sub(pattern, \"abc\", string) # замена всего, что подходит под abc на abc\n",
    "print(fixed_typos)"
   ]
  },
  {
   "cell_type": "code",
   "execution_count": 1,
   "metadata": {},
   "outputs": [
    {
     "name": "stdout",
     "output_type": "stream",
     "text": [
      "<_sre.SRE_Match object; span=(12, 21), match=' english?'>\n"
     ]
    }
   ],
   "source": [
    "import re\n",
    "\n",
    "pattern = r' english\\?'\n",
    "string = 'Do you speak english?'\n",
    "match = re.search(pattern, string)\n",
    "print(match)"
   ]
  },
  {
   "cell_type": "code",
   "execution_count": 2,
   "metadata": {},
   "outputs": [],
   "source": [
    "# . ^ $ * + ? { } [ ] \\ | ( ) -- метасимволы"
   ]
  },
  {
   "cell_type": "code",
   "execution_count": 3,
   "metadata": {},
   "outputs": [
    {
     "name": "stdout",
     "output_type": "stream",
     "text": [
      "<_sre.SRE_Match object; span=(0, 3), match='acc'>\n"
     ]
    }
   ],
   "source": [
    "pattern = r\"a[a-zA-Z]c\"\n",
    "string = \"acc\"\n",
    "match_object = re.match(pattern, string)\n",
    "print(match_object)"
   ]
  },
  {
   "cell_type": "code",
   "execution_count": 6,
   "metadata": {},
   "outputs": [
    {
     "name": "stdout",
     "output_type": "stream",
     "text": [
      "['abc', 'adc', 'aac', 'aZc', 'aBc', 'azc']\n",
      "abc, abc, abc, abc, abc, abc\n"
     ]
    }
   ],
   "source": [
    "string = \"abc, adc, aac, aZc, aBc, azc\"\n",
    "all_inclusions = re.findall(pattern, string)\n",
    "print(all_inclusions)\n",
    "\n",
    "fixed_typos = re.sub(pattern, \"abc\", string) # замена всего, что подходит под a[a-zA-Z]c на abc\n",
    "print(fixed_typos)"
   ]
  },
  {
   "cell_type": "code",
   "execution_count": 7,
   "metadata": {},
   "outputs": [
    {
     "name": "stdout",
     "output_type": "stream",
     "text": [
      "None\n"
     ]
    }
   ],
   "source": [
    "pattern = r\"a[^a-zA-Z]c\"\n",
    "string = \"acc\"\n",
    "match_object = re.match(pattern, string)\n",
    "print(match_object)"
   ]
  },
  {
   "cell_type": "code",
   "execution_count": 8,
   "metadata": {},
   "outputs": [
    {
     "name": "stdout",
     "output_type": "stream",
     "text": [
      "None\n"
     ]
    }
   ],
   "source": [
    "pattern = r\"a\\Wc\"\n",
    "string = \"acc\"\n",
    "match_object = re.match(pattern, string)\n",
    "print(match_object)"
   ]
  },
  {
   "cell_type": "code",
   "execution_count": 11,
   "metadata": {},
   "outputs": [
    {
     "name": "stdout",
     "output_type": "stream",
     "text": [
      "['a.c', 'abc']\n"
     ]
    }
   ],
   "source": [
    "pattern = r\"a[\\w.]c\"\n",
    "string = \"a.c, abc\"\n",
    "all_inclusions = re.findall(pattern, string)\n",
    "print(all_inclusions)"
   ]
  },
  {
   "cell_type": "code",
   "execution_count": 13,
   "metadata": {},
   "outputs": [
    {
     "name": "stdout",
     "output_type": "stream",
     "text": [
      "['a.c', 'abc', 'azc', 'aJc', 'a-c']\n"
     ]
    }
   ],
   "source": [
    "pattern = r\"a.c\" # любой знак между a и c\n",
    "string = \"a.c, abc, azc, aJc, a-c\"\n",
    "all_inclusions = re.findall(pattern, string)\n",
    "print(all_inclusions)"
   ]
  },
  {
   "cell_type": "code",
   "execution_count": 21,
   "metadata": {},
   "outputs": [
    {
     "name": "stdout",
     "output_type": "stream",
     "text": [
      "['abc', 'abbc', 'abbbbbc', 'ac']\n"
     ]
    }
   ],
   "source": [
    "pattern = r\"ab*c\" # любое количество b между a и c или ничего\n",
    "string = \"a.c, abc, azc, abbc, aa, abbbbbc, ac\"\n",
    "all_inclusions = re.findall(pattern, string)\n",
    "print(all_inclusions)"
   ]
  },
  {
   "cell_type": "code",
   "execution_count": 22,
   "metadata": {},
   "outputs": [
    {
     "name": "stdout",
     "output_type": "stream",
     "text": [
      "['abc', 'abbc', 'abbbbbc']\n"
     ]
    }
   ],
   "source": [
    "pattern = r\"ab+c\" # любое количество b между a и c но не 0\n",
    "string = \"a.c, abc, azc, abbc, aa, abbbbbc, ac\"\n",
    "all_inclusions = re.findall(pattern, string)\n",
    "print(all_inclusions)"
   ]
  },
  {
   "cell_type": "code",
   "execution_count": 24,
   "metadata": {},
   "outputs": [
    {
     "name": "stdout",
     "output_type": "stream",
     "text": [
      "['abc', 'ac']\n"
     ]
    }
   ],
   "source": [
    "pattern = r\"ab?c\" # 0 либо 1 количество b между a и c\n",
    "string = \"a.c, abc, azc, abbc, aa, abbbbbc, ac\"\n",
    "all_inclusions = re.findall(pattern, string)\n",
    "print(all_inclusions)"
   ]
  },
  {
   "cell_type": "code",
   "execution_count": 25,
   "metadata": {},
   "outputs": [
    {
     "name": "stdout",
     "output_type": "stream",
     "text": [
      "['abbc']\n"
     ]
    }
   ],
   "source": [
    "pattern = r\"ab{2}c\" # два b между a и c\n",
    "string = \"a.c, abc, azc, abbc, aa, abbbbbc, ac\"\n",
    "all_inclusions = re.findall(pattern, string)\n",
    "print(all_inclusions)"
   ]
  },
  {
   "cell_type": "code",
   "execution_count": 43,
   "metadata": {},
   "outputs": [
    {
     "name": "stdout",
     "output_type": "stream",
     "text": [
      "<_sre.SRE_Match object; span=(0, 6), match='abaaba'>\n",
      "['abaaba']\n",
      "<_sre.SRE_Match object; span=(0, 3), match='aba'>\n",
      "['aba', 'aba']\n"
     ]
    }
   ],
   "source": [
    "pattern = r\"a[ab]+a\"\n",
    "string = \"abaaba\"\n",
    "print(re.match(pattern, string))\n",
    "print(re.findall(pattern, string))\n",
    "\n",
    "pattern = r\"a[ab]+?a\"\n",
    "string = \"abaaba\"\n",
    "print(re.match(pattern, string))\n",
    "print(re.findall(pattern, string))"
   ]
  },
  {
   "cell_type": "code",
   "execution_count": 51,
   "metadata": {},
   "outputs": [
    {
     "name": "stdout",
     "output_type": "stream",
     "text": [
      "<_sre.SRE_Match object; span=(0, 8), match='testtext'>\n",
      "['text', '']\n"
     ]
    }
   ],
   "source": [
    "pattern = r\"abc|(test|text)*\"\n",
    "string = \"testtext\"\n",
    "match_object = re.match(pattern, string)\n",
    "print(match_object)\n",
    "\n",
    "all_inclusions = re.findall(pattern, string)\n",
    "print(all_inclusions)"
   ]
  },
  {
   "cell_type": "code",
   "execution_count": 63,
   "metadata": {},
   "outputs": [
    {
     "name": "stdout",
     "output_type": "stream",
     "text": [
      "<_sre.SRE_Match object; span=(0, 3), match='abc'>\n",
      "('abc', 'abc', None)\n",
      "<_sre.SRE_Match object; span=(0, 4), match='text'>\n",
      "('text', None, 'text')\n"
     ]
    }
   ],
   "source": [
    "pattern = r\"((abc)|(test|text)*)\"\n",
    "string = \"abc\"\n",
    "match_object = re.match(pattern, string)\n",
    "print(match_object)\n",
    "print(match_object.groups())\n",
    "\n",
    "string = \"text\"\n",
    "match_object = re.match(pattern, string)\n",
    "print(match_object)\n",
    "print(match_object.groups())"
   ]
  },
  {
   "cell_type": "code",
   "execution_count": 60,
   "metadata": {},
   "outputs": [
    {
     "name": "stdout",
     "output_type": "stream",
     "text": [
      "<_sre.SRE_Match object; span=(0, 9), match='Hello abc'>\n",
      "Hello abc\n",
      "Hello abc\n",
      "abc\n"
     ]
    }
   ],
   "source": [
    "pattern = r\"Hello (abc|text)\"\n",
    "string = \"Hello abc\"\n",
    "match_object = re.match(pattern, string)\n",
    "print(match_object)\n",
    "print(match_object.group())\n",
    "print(match_object.group(0))\n",
    "print(match_object.group(1))"
   ]
  },
  {
   "cell_type": "code",
   "execution_count": 80,
   "metadata": {},
   "outputs": [
    {
     "name": "stdout",
     "output_type": "stream",
     "text": [
      "<_sre.SRE_Match object; span=(0, 9), match='test-test'>\n"
     ]
    }
   ],
   "source": [
    "pattern = r\"(\\w+)-\\1\"\n",
    "string = \"test-test\"\n",
    "matches = re.match(pattern, string)\n",
    "print(matches)"
   ]
  },
  {
   "cell_type": "code",
   "execution_count": 70,
   "metadata": {},
   "outputs": [
    {
     "name": "stdout",
     "output_type": "stream",
     "text": [
      "['test', 'chow']\n"
     ]
    }
   ],
   "source": [
    "pattern = r\"(\\w+)-\\1\"\n",
    "string = \"test-test chow-chow\"\n",
    "duplicates = re.findall(pattern, string)\n",
    "print(duplicates)"
   ]
  },
  {
   "cell_type": "code",
   "execution_count": 68,
   "metadata": {},
   "outputs": [
    {
     "name": "stdout",
     "output_type": "stream",
     "text": [
      "[('test-test', 'test'), ('chow-chow', 'chow')]\n"
     ]
    }
   ],
   "source": [
    "pattern = r\"((\\w+)-\\2)\"\n",
    "string = \"test-test chow-chow\"\n",
    "duplicates = re.findall(pattern, string)\n",
    "print(duplicates)"
   ]
  },
  {
   "cell_type": "code",
   "execution_count": 73,
   "metadata": {},
   "outputs": [
    {
     "name": "stdout",
     "output_type": "stream",
     "text": [
      "<_sre.SRE_Match object; span=(0, 4), match='TEXT'>\n"
     ]
    }
   ],
   "source": [
    "x = re.match(r\"text\", \"TEXT\", re.IGNORECASE)\n",
    "print(x)"
   ]
  },
  {
   "cell_type": "code",
   "execution_count": 74,
   "metadata": {},
   "outputs": [
    {
     "name": "stdout",
     "output_type": "stream",
     "text": [
      "MIN_REPEAT 0 MAXREPEAT\n",
      "  SUBPATTERN 1 0 0\n",
      "    LITERAL 116\n",
      "    LITERAL 101\n",
      "LITERAL 120\n",
      "LITERAL 116\n",
      "<_sre.SRE_Match object; span=(0, 4), match='TEXT'>\n"
     ]
    }
   ],
   "source": [
    "x = re.match(r\"(te)*?xt\", \"TEXT\", re.IGNORECASE | re.DEBUG)\n",
    "print(x)"
   ]
  },
  {
   "cell_type": "markdown",
   "metadata": {},
   "source": [
    "### Задача 1\n",
    "\n",
    "Вам дана последовательность строк.\n",
    "Выведите строки, содержащие \"cat\" в качестве подстроки хотя бы два раза."
   ]
  },
  {
   "cell_type": "code",
   "execution_count": 75,
   "metadata": {},
   "outputs": [],
   "source": [
    "import re\n",
    "import sys\n",
    "\n",
    "pattern = r'((cat).*){2,}'\n",
    "for line in sys.stdin:\n",
    "    line = line.rstrip()\n",
    "    if re.search(pattern, line):\n",
    "        print(line)"
   ]
  },
  {
   "cell_type": "code",
   "execution_count": null,
   "metadata": {},
   "outputs": [],
   "source": [
    "import re\n",
    "import sys\n",
    "\n",
    "for line in sys.stdin:\n",
    "    line = line.strip()\n",
    "    if re.search(r\"cat.*cat\", line):\n",
    "        print(line)"
   ]
  },
  {
   "cell_type": "markdown",
   "metadata": {},
   "source": [
    "### Задача 2\n",
    "\n",
    "Вам дана последовательность строк.\n",
    "Выведите строки, содержащие \"cat\" в качестве слова."
   ]
  },
  {
   "cell_type": "code",
   "execution_count": 76,
   "metadata": {},
   "outputs": [],
   "source": [
    "import re\n",
    "import sys\n",
    "pattern = r'\\bcat\\b' # \\b означает границу слова\n",
    "for line in sys.stdin:\n",
    "    line = line.rstrip()\n",
    "    if re.search(pattern, line):\n",
    "        print(line)"
   ]
  },
  {
   "cell_type": "markdown",
   "metadata": {},
   "source": [
    "### Задача 3\n",
    "\n",
    "Вам дана последовательность строк.\n",
    "Выведите строки, содержащие две буквы \"z\", между которыми ровно три символа."
   ]
  },
  {
   "cell_type": "code",
   "execution_count": 78,
   "metadata": {},
   "outputs": [],
   "source": [
    "import re\n",
    "import sys\n",
    "pattern = r'(z.{3}z)'\n",
    "for line in sys.stdin:\n",
    "    line = line.rstrip()\n",
    "    if re.search(pattern, line):\n",
    "        print(line)"
   ]
  },
  {
   "cell_type": "markdown",
   "metadata": {},
   "source": [
    "### Задача 4\n",
    "\n",
    "Вам дана последовательность строк.\n",
    "Выведите строки, содержащие обратный слеш \"\\﻿\"."
   ]
  },
  {
   "cell_type": "code",
   "execution_count": 79,
   "metadata": {},
   "outputs": [],
   "source": [
    "import re\n",
    "import sys\n",
    "pattern = r'.*\\\\.*'\n",
    "for line in sys.stdin:\n",
    "    line = line.rstrip()\n",
    "    if re.search(pattern, line):\n",
    "        print(line)"
   ]
  },
  {
   "cell_type": "markdown",
   "metadata": {},
   "source": [
    "### Задача 5\n",
    "\n",
    "Вам дана последовательность строк.\n",
    "Выведите строки, содержащие слово, состоящее из двух одинаковых частей (тандемный повтор)."
   ]
  },
  {
   "cell_type": "code",
   "execution_count": 81,
   "metadata": {},
   "outputs": [],
   "source": [
    "import re\n",
    "import sys\n",
    "pattern = r'\\b(.+)\\1\\b'\n",
    "for line in sys.stdin:\n",
    "    line = line.rstrip()\n",
    "    if re.search(pattern, line):\n",
    "        print(line)"
   ]
  },
  {
   "cell_type": "markdown",
   "metadata": {},
   "source": [
    "### Задача 6\n",
    "\n",
    "Вам дана последовательность строк.\n",
    "В каждой строке замените все вхождения подстроки \"human\" на подстроку \"computer\"﻿ и выведите полученные строки."
   ]
  },
  {
   "cell_type": "code",
   "execution_count": 82,
   "metadata": {},
   "outputs": [],
   "source": [
    "import re\n",
    "import sys\n",
    "\n",
    "pattern = r'human'\n",
    "\n",
    "for line in sys.stdin:\n",
    "    print(re.sub(pattern, 'computer', line.rstrip()))"
   ]
  },
  {
   "cell_type": "markdown",
   "metadata": {},
   "source": [
    "### Задача 7\n",
    "\n",
    "Вам дана последовательность строк.\n",
    "В каждой строке замените первое вхождение слова, состоящего только из латинских букв \"a\" (регистр не важен), на слово \"argh\"."
   ]
  },
  {
   "cell_type": "code",
   "execution_count": 83,
   "metadata": {},
   "outputs": [],
   "source": [
    "import re\n",
    "import sys\n",
    "\n",
    "pattern = r'\\b[Aa]+\\b'\n",
    "\n",
    "for line in sys.stdin:\n",
    "    print(re.sub(pattern, 'argh', line.rstrip(), 1))"
   ]
  },
  {
   "cell_type": "markdown",
   "metadata": {},
   "source": [
    "### Задача 8\n",
    "\n",
    "Вам дана последовательность строк.\n",
    "В каждой строке поменяйте местами две первых буквы в каждом слове, состоящем хотя бы из двух букв.\n",
    "Буквой считается символ из группы \\w."
   ]
  },
  {
   "cell_type": "code",
   "execution_count": 84,
   "metadata": {},
   "outputs": [],
   "source": [
    "import re\n",
    "import sys\n",
    "\n",
    "pattern = r'\\b(\\w)(\\w)(\\w*)\\b'\n",
    "\n",
    "for line in sys.stdin:\n",
    "    print(re.sub(pattern, r'\\2\\1\\3', line.rstrip()))"
   ]
  },
  {
   "cell_type": "markdown",
   "metadata": {},
   "source": [
    "### Задача 9\n",
    "\n",
    "Вам дана последовательность строк.\n",
    "В каждой строке замените все вхождения нескольких одинаковых букв на одну букву.\n",
    "Буквой считается символ из группы \\w."
   ]
  },
  {
   "cell_type": "code",
   "execution_count": null,
   "metadata": {},
   "outputs": [],
   "source": [
    "import re\n",
    "import sys\n",
    "\n",
    "pattern = r'(\\w)\\1+'\n",
    "\n",
    "for line in sys.stdin:\n",
    "    print(re.sub(pattern, r'\\1', line.rstrip()))"
   ]
  },
  {
   "cell_type": "markdown",
   "metadata": {},
   "source": [
    "### Задача 10\n",
    "\n",
    "Вам дана последовательность строк.\n",
    "Выведите строки, содержащие двоичную запись числа, кратного 3."
   ]
  },
  {
   "cell_type": "code",
   "execution_count": 89,
   "metadata": {},
   "outputs": [],
   "source": [
    "import sys\n",
    "\n",
    "for line in sys.stdin:\n",
    "    try:\n",
    "        int_line = int(line.rstrip(), 2)\n",
    "        if int_line % 3 == 0:\n",
    "            print(line.rstrip())\n",
    "    except ValueError:\n",
    "        #Handle the exception\n",
    "        continue"
   ]
  },
  {
   "cell_type": "code",
   "execution_count": 90,
   "metadata": {},
   "outputs": [],
   "source": [
    "import re\n",
    "import sys\n",
    "\n",
    "pattern = \"^(0|(1(01*0)*1))*$\"\n",
    "pattern = re.compile(pattern)\n",
    "for line in sys.stdin:\n",
    "    line = line.rstrip()\n",
    "    if pattern.match(line):\n",
    "        print(line)"
   ]
  },
  {
   "cell_type": "markdown",
   "metadata": {},
   "source": [
    "## Обзорно об интернете: http-запросы, html-страницы и requests"
   ]
  },
  {
   "cell_type": "code",
   "execution_count": 1,
   "metadata": {},
   "outputs": [
    {
     "name": "stdout",
     "output_type": "stream",
     "text": [
      "200\n",
      "text/html\n"
     ]
    }
   ],
   "source": [
    "import requests\n",
    "\n",
    "res = requests.get(\"https://docs.python.org/3.5/\")\n",
    "print(res.status_code)\n",
    "print(res.headers['Content-Type'])"
   ]
  },
  {
   "cell_type": "code",
   "execution_count": 2,
   "metadata": {
    "scrolled": true
   },
   "outputs": [
    {
     "name": "stdout",
     "output_type": "stream",
     "text": [
      "b'\\n<!DOCTYPE html PUBLIC \"-//W3C//DTD XHTML 1.0 Transitional//EN\"\\n  \"http://www.w3.org/TR/xhtml1/DTD/xhtml1-transitional.dtd\">\\n\\n<html xmlns=\"http://www.w3.org/1999/xhtml\">\\n  <head>\\n    <meta http-equiv=\"X-UA-Compatible\" content=\"IE=Edge\" />\\n    <meta http-equiv=\"Content-Type\" content=\"text/html; charset=utf-8\" /><title>3.5.7 Documentation</title>\\n    <link rel=\"stylesheet\" href=\"_static/pydoctheme.css\" type=\"text/css\" />\\n    <link rel=\"stylesheet\" href=\"_static/pygments.css\" type=\"text/css\" />\\n    \\n    <script type=\"text/javascript\" id=\"documentation_options\" data-url_root=\"./\" src=\"_static/documentation_options.js\"></script>\\n    <script type=\"text/javascript\" src=\"_static/jquery.js\"></script>\\n    <script type=\"text/javascript\" src=\"_static/underscore.js\"></script>\\n    <script type=\"text/javascript\" src=\"_static/doctools.js\"></script>\\n    <script type=\"text/javascript\" src=\"_static/language_data.js\"></script>\\n    \\n    <script type=\"text/javascript\" src=\"_static/sidebar.js\"></script>\\n    \\n    <link rel=\"search\" type=\"application/opensearchdescription+xml\"\\n          title=\"Search within Python 3.5.7 documentation\"\\n          href=\"_static/opensearch.xml\"/>\\n    <link rel=\"author\" title=\"About these documents\" href=\"about.html\" />\\n    <link rel=\"index\" title=\"Index\" href=\"genindex.html\" />\\n    <link rel=\"search\" title=\"Search\" href=\"search.html\" />\\n    <link rel=\"copyright\" title=\"Copyright\" href=\"copyright.html\" />\\n    <link rel=\"shortcut icon\" type=\"image/png\" href=\"_static/py.png\" />\\n    <link rel=\"canonical\" href=\"https://docs.python.org/3/index.html\" />\\n    \\n    <script type=\"text/javascript\" src=\"_static/copybutton.js\"></script>\\n    \\n    \\n    \\n \\n\\n  </head><body>  \\n    <div class=\"related\" role=\"navigation\" aria-label=\"related navigation\">\\n      <h3>Navigation</h3>\\n      <ul>\\n        <li class=\"right\" style=\"margin-right: 10px\">\\n          <a href=\"genindex.html\" title=\"General Index\"\\n             accesskey=\"I\">index</a></li>\\n        <li class=\"right\" >\\n          <a href=\"py-modindex.html\" title=\"Python Module Index\"\\n             >modules</a> |</li>\\n        <li><img src=\"_static/py.png\" alt=\"\"\\n                 style=\"vertical-align: middle; margin-top: -1px\"/></li>\\n        <li><a href=\"https://www.python.org/\">Python</a> &#187;</li>\\n        <li>\\n          <a href=\"#\">3.5.7 Documentation</a> &#187;\\n        </li>\\n\\n    <li class=\"right\">\\n        \\n\\n    <div class=\"inline-search\" style=\"display: none\" role=\"search\">\\n        <form class=\"inline-search\" action=\"search.html\" method=\"get\">\\n          <input placeholder=\"Quick search\" type=\"text\" name=\"q\" />\\n          <input type=\"submit\" value=\"Go\" />\\n          <input type=\"hidden\" name=\"check_keywords\" value=\"yes\" />\\n          <input type=\"hidden\" name=\"area\" value=\"default\" />\\n        </form>\\n    </div>\\n    <script type=\"text/javascript\">$(\\'.inline-search\\').show(0);</script>\\n         |\\n    </li>\\n\\n      </ul>\\n    </div>    \\n\\n    <div class=\"document\">\\n      <div class=\"documentwrapper\">\\n        <div class=\"bodywrapper\">\\n          <div class=\"body\" role=\"main\">\\n            \\n  <h1>Python 3.5.7 documentation</h1>\\n  <p>\\n  Welcome! This is the documentation for Python 3.5.7.\\n  </p>\\n  <p><strong>Parts of the documentation:</strong></p>\\n  <table class=\"contentstable\" align=\"center\"><tr>\\n    <td width=\"50%\">\\n      <p class=\"biglink\"><a class=\"biglink\" href=\"whatsnew/3.5.html\">What\\'s new in Python 3.5?</a><br/>\\n        <span class=\"linkdescr\"> or <a href=\"whatsnew/index.html\">all \"What\\'s new\" documents</a> since 2.0</span></p>\\n      <p class=\"biglink\"><a class=\"biglink\" href=\"tutorial/index.html\">Tutorial</a><br/>\\n         <span class=\"linkdescr\">start here</span></p>\\n      <p class=\"biglink\"><a class=\"biglink\" href=\"library/index.html\">Library Reference</a><br/>\\n         <span class=\"linkdescr\">keep this under your pillow</span></p>\\n      <p class=\"biglink\"><a class=\"biglink\" href=\"reference/index.html\">Language Reference</a><br/>\\n         <span class=\"linkdescr\">describes syntax and language elements</span></p>\\n      <p class=\"biglink\"><a class=\"biglink\" href=\"using/index.html\">Python Setup and Usage</a><br/>\\n         <span class=\"linkdescr\">how to use Python on different platforms</span></p>\\n      <p class=\"biglink\"><a class=\"biglink\" href=\"howto/index.html\">Python HOWTOs</a><br/>\\n         <span class=\"linkdescr\">in-depth documents on specific topics</span></p>\\n    </td><td width=\"50%\">\\n      <p class=\"biglink\"><a class=\"biglink\" href=\"installing/index.html\">Installing Python Modules</a><br/>\\n         <span class=\"linkdescr\">installing from the Python Package Index &amp; other sources</span></p>\\n      <p class=\"biglink\"><a class=\"biglink\" href=\"distributing/index.html\">Distributing Python Modules</a><br/>\\n         <span class=\"linkdescr\">publishing modules for installation by others</span></p>\\n      <p class=\"biglink\"><a class=\"biglink\" href=\"extending/index.html\">Extending and Embedding</a><br/>\\n         <span class=\"linkdescr\">tutorial for C/C++ programmers</span></p>\\n      <p class=\"biglink\"><a class=\"biglink\" href=\"c-api/index.html\">Python/C API</a><br/>\\n         <span class=\"linkdescr\">reference for C/C++ programmers</span></p>\\n      <p class=\"biglink\"><a class=\"biglink\" href=\"faq/index.html\">FAQs</a><br/>\\n         <span class=\"linkdescr\">frequently asked questions (with answers!)</span></p>\\n    </td></tr>\\n  </table>\\n\\n  <p><strong>Indices and tables:</strong></p>\\n  <table class=\"contentstable\" align=\"center\"><tr>\\n    <td width=\"50%\">\\n      <p class=\"biglink\"><a class=\"biglink\" href=\"py-modindex.html\">Global Module Index</a><br/>\\n         <span class=\"linkdescr\">quick access to all modules</span></p>\\n      <p class=\"biglink\"><a class=\"biglink\" href=\"genindex.html\">General Index</a><br/>\\n         <span class=\"linkdescr\">all functions, classes, terms</span></p>\\n      <p class=\"biglink\"><a class=\"biglink\" href=\"glossary.html\">Glossary</a><br/>\\n         <span class=\"linkdescr\">the most important terms explained</span></p>\\n    </td><td width=\"50%\">\\n      <p class=\"biglink\"><a class=\"biglink\" href=\"search.html\">Search page</a><br/>\\n         <span class=\"linkdescr\">search this documentation</span></p>\\n      <p class=\"biglink\"><a class=\"biglink\" href=\"contents.html\">Complete Table of Contents</a><br/>\\n         <span class=\"linkdescr\">lists all sections and subsections</span></p>\\n    </td></tr>\\n  </table>\\n\\n  <p><strong>Meta information:</strong></p>\\n  <table class=\"contentstable\" align=\"center\"><tr>\\n    <td width=\"50%\">\\n      <p class=\"biglink\"><a class=\"biglink\" href=\"bugs.html\">Reporting bugs</a></p>\\n      <p class=\"biglink\"><a class=\"biglink\" href=\"about.html\">About the documentation</a></p>\\n    </td><td width=\"50%\">\\n      <p class=\"biglink\"><a class=\"biglink\" href=\"license.html\">History and License of Python</a></p>\\n      <p class=\"biglink\"><a class=\"biglink\" href=\"copyright.html\">Copyright</a></p>\\n    </td></tr>\\n  </table>\\n\\n          </div>\\n        </div>\\n      </div>\\n      <div class=\"sphinxsidebar\" role=\"navigation\" aria-label=\"main navigation\">\\n        <div class=\"sphinxsidebarwrapper\"><h3>Download</h3>\\n<p><a href=\"download.html\">Download these documents</a></p>\\n<h3>Docs for other versions</h3>\\n<ul>\\n  <li><a href=\"https://docs.python.org/3.8/\">Python 3.8 (in development)</a></li>\\n  <li><a href=\"https://docs.python.org/3.7/\">Python 3.7 (stable)</a></li>\\n  <li><a href=\"https://docs.python.org/3.6/\">Python 3.6 (stable)</a></li>\\n  <li><a href=\"https://docs.python.org/2.7/\">Python 2.7 (stable)</a></li>\\n  <li><a href=\"https://www.python.org/doc/versions/\">Old versions</a></li>\\n</ul>\\n\\n<h3>Other resources</h3>\\n<ul>\\n  \\n  <li><a href=\"https://www.python.org/dev/peps/\">PEP Index</a></li>\\n  <li><a href=\"https://wiki.python.org/moin/BeginnersGuide\">Beginner\\'s Guide</a></li>\\n  <li><a href=\"https://wiki.python.org/moin/PythonBooks\">Book List</a></li>\\n  <li><a href=\"https://www.python.org/doc/av/\">Audio/Visual Talks</a></li>\\n</ul>\\n        </div>\\n      </div>\\n      <div class=\"clearer\"></div>\\n    </div>  \\n    <div class=\"related\" role=\"navigation\" aria-label=\"related navigation\">\\n      <h3>Navigation</h3>\\n      <ul>\\n        <li class=\"right\" style=\"margin-right: 10px\">\\n          <a href=\"genindex.html\" title=\"General Index\"\\n             >index</a></li>\\n        <li class=\"right\" >\\n          <a href=\"py-modindex.html\" title=\"Python Module Index\"\\n             >modules</a> |</li>\\n        <li><img src=\"_static/py.png\" alt=\"\"\\n                 style=\"vertical-align: middle; margin-top: -1px\"/></li>\\n        <li><a href=\"https://www.python.org/\">Python</a> &#187;</li>\\n        <li>\\n          <a href=\"#\">3.5.7 Documentation</a> &#187;\\n        </li>\\n\\n    <li class=\"right\">\\n        \\n\\n    <div class=\"inline-search\" style=\"display: none\" role=\"search\">\\n        <form class=\"inline-search\" action=\"search.html\" method=\"get\">\\n          <input placeholder=\"Quick search\" type=\"text\" name=\"q\" />\\n          <input type=\"submit\" value=\"Go\" />\\n          <input type=\"hidden\" name=\"check_keywords\" value=\"yes\" />\\n          <input type=\"hidden\" name=\"area\" value=\"default\" />\\n        </form>\\n    </div>\\n    <script type=\"text/javascript\">$(\\'.inline-search\\').show(0);</script>\\n         |\\n    </li>\\n\\n      </ul>\\n    </div>  \\n    <div class=\"footer\">\\n    &copy; <a href=\"copyright.html\">Copyright</a> 2001-2019, Python Software Foundation.\\n    <br />\\n    The Python Software Foundation is a non-profit corporation.\\n    <a href=\"https://www.python.org/psf/donations/\">Please donate.</a>\\n    <br />\\n    Last updated on Mar 17, 2019.\\n    <a href=\"bugs.html\">Found a bug</a>?\\n    <br />\\n    Created using <a href=\"http://sphinx.pocoo.org/\">Sphinx</a> 1.8.4.\\n    </div>\\n\\n  </body>\\n</html>'\n"
     ]
    }
   ],
   "source": [
    "print(res.content)"
   ]
  },
  {
   "cell_type": "code",
   "execution_count": 3,
   "metadata": {
    "scrolled": true
   },
   "outputs": [
    {
     "name": "stdout",
     "output_type": "stream",
     "text": [
      "\n",
      "<!DOCTYPE html PUBLIC \"-//W3C//DTD XHTML 1.0 Transitional//EN\"\n",
      "  \"http://www.w3.org/TR/xhtml1/DTD/xhtml1-transitional.dtd\">\n",
      "\n",
      "<html xmlns=\"http://www.w3.org/1999/xhtml\">\n",
      "  <head>\n",
      "    <meta http-equiv=\"X-UA-Compatible\" content=\"IE=Edge\" />\n",
      "    <meta http-equiv=\"Content-Type\" content=\"text/html; charset=utf-8\" /><title>3.5.7 Documentation</title>\n",
      "    <link rel=\"stylesheet\" href=\"_static/pydoctheme.css\" type=\"text/css\" />\n",
      "    <link rel=\"stylesheet\" href=\"_static/pygments.css\" type=\"text/css\" />\n",
      "    \n",
      "    <script type=\"text/javascript\" id=\"documentation_options\" data-url_root=\"./\" src=\"_static/documentation_options.js\"></script>\n",
      "    <script type=\"text/javascript\" src=\"_static/jquery.js\"></script>\n",
      "    <script type=\"text/javascript\" src=\"_static/underscore.js\"></script>\n",
      "    <script type=\"text/javascript\" src=\"_static/doctools.js\"></script>\n",
      "    <script type=\"text/javascript\" src=\"_static/language_data.js\"></script>\n",
      "    \n",
      "    <script type=\"text/javascript\" src=\"_static/sidebar.js\"></script>\n",
      "    \n",
      "    <link rel=\"search\" type=\"application/opensearchdescription+xml\"\n",
      "          title=\"Search within Python 3.5.7 documentation\"\n",
      "          href=\"_static/opensearch.xml\"/>\n",
      "    <link rel=\"author\" title=\"About these documents\" href=\"about.html\" />\n",
      "    <link rel=\"index\" title=\"Index\" href=\"genindex.html\" />\n",
      "    <link rel=\"search\" title=\"Search\" href=\"search.html\" />\n",
      "    <link rel=\"copyright\" title=\"Copyright\" href=\"copyright.html\" />\n",
      "    <link rel=\"shortcut icon\" type=\"image/png\" href=\"_static/py.png\" />\n",
      "    <link rel=\"canonical\" href=\"https://docs.python.org/3/index.html\" />\n",
      "    \n",
      "    <script type=\"text/javascript\" src=\"_static/copybutton.js\"></script>\n",
      "    \n",
      "    \n",
      "    \n",
      " \n",
      "\n",
      "  </head><body>  \n",
      "    <div class=\"related\" role=\"navigation\" aria-label=\"related navigation\">\n",
      "      <h3>Navigation</h3>\n",
      "      <ul>\n",
      "        <li class=\"right\" style=\"margin-right: 10px\">\n",
      "          <a href=\"genindex.html\" title=\"General Index\"\n",
      "             accesskey=\"I\">index</a></li>\n",
      "        <li class=\"right\" >\n",
      "          <a href=\"py-modindex.html\" title=\"Python Module Index\"\n",
      "             >modules</a> |</li>\n",
      "        <li><img src=\"_static/py.png\" alt=\"\"\n",
      "                 style=\"vertical-align: middle; margin-top: -1px\"/></li>\n",
      "        <li><a href=\"https://www.python.org/\">Python</a> &#187;</li>\n",
      "        <li>\n",
      "          <a href=\"#\">3.5.7 Documentation</a> &#187;\n",
      "        </li>\n",
      "\n",
      "    <li class=\"right\">\n",
      "        \n",
      "\n",
      "    <div class=\"inline-search\" style=\"display: none\" role=\"search\">\n",
      "        <form class=\"inline-search\" action=\"search.html\" method=\"get\">\n",
      "          <input placeholder=\"Quick search\" type=\"text\" name=\"q\" />\n",
      "          <input type=\"submit\" value=\"Go\" />\n",
      "          <input type=\"hidden\" name=\"check_keywords\" value=\"yes\" />\n",
      "          <input type=\"hidden\" name=\"area\" value=\"default\" />\n",
      "        </form>\n",
      "    </div>\n",
      "    <script type=\"text/javascript\">$('.inline-search').show(0);</script>\n",
      "         |\n",
      "    </li>\n",
      "\n",
      "      </ul>\n",
      "    </div>    \n",
      "\n",
      "    <div class=\"document\">\n",
      "      <div class=\"documentwrapper\">\n",
      "        <div class=\"bodywrapper\">\n",
      "          <div class=\"body\" role=\"main\">\n",
      "            \n",
      "  <h1>Python 3.5.7 documentation</h1>\n",
      "  <p>\n",
      "  Welcome! This is the documentation for Python 3.5.7.\n",
      "  </p>\n",
      "  <p><strong>Parts of the documentation:</strong></p>\n",
      "  <table class=\"contentstable\" align=\"center\"><tr>\n",
      "    <td width=\"50%\">\n",
      "      <p class=\"biglink\"><a class=\"biglink\" href=\"whatsnew/3.5.html\">What's new in Python 3.5?</a><br/>\n",
      "        <span class=\"linkdescr\"> or <a href=\"whatsnew/index.html\">all \"What's new\" documents</a> since 2.0</span></p>\n",
      "      <p class=\"biglink\"><a class=\"biglink\" href=\"tutorial/index.html\">Tutorial</a><br/>\n",
      "         <span class=\"linkdescr\">start here</span></p>\n",
      "      <p class=\"biglink\"><a class=\"biglink\" href=\"library/index.html\">Library Reference</a><br/>\n",
      "         <span class=\"linkdescr\">keep this under your pillow</span></p>\n",
      "      <p class=\"biglink\"><a class=\"biglink\" href=\"reference/index.html\">Language Reference</a><br/>\n",
      "         <span class=\"linkdescr\">describes syntax and language elements</span></p>\n",
      "      <p class=\"biglink\"><a class=\"biglink\" href=\"using/index.html\">Python Setup and Usage</a><br/>\n",
      "         <span class=\"linkdescr\">how to use Python on different platforms</span></p>\n",
      "      <p class=\"biglink\"><a class=\"biglink\" href=\"howto/index.html\">Python HOWTOs</a><br/>\n",
      "         <span class=\"linkdescr\">in-depth documents on specific topics</span></p>\n",
      "    </td><td width=\"50%\">\n",
      "      <p class=\"biglink\"><a class=\"biglink\" href=\"installing/index.html\">Installing Python Modules</a><br/>\n",
      "         <span class=\"linkdescr\">installing from the Python Package Index &amp; other sources</span></p>\n",
      "      <p class=\"biglink\"><a class=\"biglink\" href=\"distributing/index.html\">Distributing Python Modules</a><br/>\n",
      "         <span class=\"linkdescr\">publishing modules for installation by others</span></p>\n",
      "      <p class=\"biglink\"><a class=\"biglink\" href=\"extending/index.html\">Extending and Embedding</a><br/>\n",
      "         <span class=\"linkdescr\">tutorial for C/C++ programmers</span></p>\n",
      "      <p class=\"biglink\"><a class=\"biglink\" href=\"c-api/index.html\">Python/C API</a><br/>\n",
      "         <span class=\"linkdescr\">reference for C/C++ programmers</span></p>\n",
      "      <p class=\"biglink\"><a class=\"biglink\" href=\"faq/index.html\">FAQs</a><br/>\n",
      "         <span class=\"linkdescr\">frequently asked questions (with answers!)</span></p>\n",
      "    </td></tr>\n",
      "  </table>\n",
      "\n",
      "  <p><strong>Indices and tables:</strong></p>\n",
      "  <table class=\"contentstable\" align=\"center\"><tr>\n",
      "    <td width=\"50%\">\n",
      "      <p class=\"biglink\"><a class=\"biglink\" href=\"py-modindex.html\">Global Module Index</a><br/>\n",
      "         <span class=\"linkdescr\">quick access to all modules</span></p>\n",
      "      <p class=\"biglink\"><a class=\"biglink\" href=\"genindex.html\">General Index</a><br/>\n",
      "         <span class=\"linkdescr\">all functions, classes, terms</span></p>\n",
      "      <p class=\"biglink\"><a class=\"biglink\" href=\"glossary.html\">Glossary</a><br/>\n",
      "         <span class=\"linkdescr\">the most important terms explained</span></p>\n",
      "    </td><td width=\"50%\">\n",
      "      <p class=\"biglink\"><a class=\"biglink\" href=\"search.html\">Search page</a><br/>\n",
      "         <span class=\"linkdescr\">search this documentation</span></p>\n",
      "      <p class=\"biglink\"><a class=\"biglink\" href=\"contents.html\">Complete Table of Contents</a><br/>\n",
      "         <span class=\"linkdescr\">lists all sections and subsections</span></p>\n",
      "    </td></tr>\n",
      "  </table>\n",
      "\n",
      "  <p><strong>Meta information:</strong></p>\n",
      "  <table class=\"contentstable\" align=\"center\"><tr>\n",
      "    <td width=\"50%\">\n",
      "      <p class=\"biglink\"><a class=\"biglink\" href=\"bugs.html\">Reporting bugs</a></p>\n",
      "      <p class=\"biglink\"><a class=\"biglink\" href=\"about.html\">About the documentation</a></p>\n",
      "    </td><td width=\"50%\">\n",
      "      <p class=\"biglink\"><a class=\"biglink\" href=\"license.html\">History and License of Python</a></p>\n",
      "      <p class=\"biglink\"><a class=\"biglink\" href=\"copyright.html\">Copyright</a></p>\n",
      "    </td></tr>\n",
      "  </table>\n",
      "\n",
      "          </div>\n",
      "        </div>\n",
      "      </div>\n",
      "      <div class=\"sphinxsidebar\" role=\"navigation\" aria-label=\"main navigation\">\n",
      "        <div class=\"sphinxsidebarwrapper\"><h3>Download</h3>\n",
      "<p><a href=\"download.html\">Download these documents</a></p>\n",
      "<h3>Docs for other versions</h3>\n",
      "<ul>\n",
      "  <li><a href=\"https://docs.python.org/3.8/\">Python 3.8 (in development)</a></li>\n",
      "  <li><a href=\"https://docs.python.org/3.7/\">Python 3.7 (stable)</a></li>\n",
      "  <li><a href=\"https://docs.python.org/3.6/\">Python 3.6 (stable)</a></li>\n",
      "  <li><a href=\"https://docs.python.org/2.7/\">Python 2.7 (stable)</a></li>\n",
      "  <li><a href=\"https://www.python.org/doc/versions/\">Old versions</a></li>\n",
      "</ul>\n",
      "\n",
      "<h3>Other resources</h3>\n",
      "<ul>\n",
      "  \n",
      "  <li><a href=\"https://www.python.org/dev/peps/\">PEP Index</a></li>\n",
      "  <li><a href=\"https://wiki.python.org/moin/BeginnersGuide\">Beginner's Guide</a></li>\n",
      "  <li><a href=\"https://wiki.python.org/moin/PythonBooks\">Book List</a></li>\n",
      "  <li><a href=\"https://www.python.org/doc/av/\">Audio/Visual Talks</a></li>\n",
      "</ul>\n",
      "        </div>\n",
      "      </div>\n",
      "      <div class=\"clearer\"></div>\n",
      "    </div>  \n",
      "    <div class=\"related\" role=\"navigation\" aria-label=\"related navigation\">\n",
      "      <h3>Navigation</h3>\n",
      "      <ul>\n",
      "        <li class=\"right\" style=\"margin-right: 10px\">\n",
      "          <a href=\"genindex.html\" title=\"General Index\"\n",
      "             >index</a></li>\n",
      "        <li class=\"right\" >\n",
      "          <a href=\"py-modindex.html\" title=\"Python Module Index\"\n",
      "             >modules</a> |</li>\n",
      "        <li><img src=\"_static/py.png\" alt=\"\"\n",
      "                 style=\"vertical-align: middle; margin-top: -1px\"/></li>\n",
      "        <li><a href=\"https://www.python.org/\">Python</a> &#187;</li>\n",
      "        <li>\n",
      "          <a href=\"#\">3.5.7 Documentation</a> &#187;\n",
      "        </li>\n",
      "\n",
      "    <li class=\"right\">\n",
      "        \n",
      "\n",
      "    <div class=\"inline-search\" style=\"display: none\" role=\"search\">\n",
      "        <form class=\"inline-search\" action=\"search.html\" method=\"get\">\n",
      "          <input placeholder=\"Quick search\" type=\"text\" name=\"q\" />\n",
      "          <input type=\"submit\" value=\"Go\" />\n",
      "          <input type=\"hidden\" name=\"check_keywords\" value=\"yes\" />\n",
      "          <input type=\"hidden\" name=\"area\" value=\"default\" />\n",
      "        </form>\n",
      "    </div>\n",
      "    <script type=\"text/javascript\">$('.inline-search').show(0);</script>\n",
      "         |\n",
      "    </li>\n",
      "\n",
      "      </ul>\n",
      "    </div>  \n",
      "    <div class=\"footer\">\n",
      "    &copy; <a href=\"copyright.html\">Copyright</a> 2001-2019, Python Software Foundation.\n",
      "    <br />\n",
      "    The Python Software Foundation is a non-profit corporation.\n",
      "    <a href=\"https://www.python.org/psf/donations/\">Please donate.</a>\n",
      "    <br />\n",
      "    Last updated on Mar 17, 2019.\n",
      "    <a href=\"bugs.html\">Found a bug</a>?\n",
      "    <br />\n",
      "    Created using <a href=\"http://sphinx.pocoo.org/\">Sphinx</a> 1.8.4.\n",
      "    </div>\n",
      "\n",
      "  </body>\n",
      "</html>\n"
     ]
    }
   ],
   "source": [
    "print(res.text)"
   ]
  },
  {
   "cell_type": "code",
   "execution_count": 7,
   "metadata": {},
   "outputs": [],
   "source": [
    "res = requests.get(\"https://docs.python.org/3.5/_static/py.png\")"
   ]
  },
  {
   "cell_type": "code",
   "execution_count": 8,
   "metadata": {
    "scrolled": true
   },
   "outputs": [
    {
     "name": "stdout",
     "output_type": "stream",
     "text": [
      "200\n",
      "image/png\n",
      "b'\\x89PNG\\r\\n\\x1a\\n\\x00\\x00\\x00\\rIHDR\\x00\\x00\\x00\\x10\\x00\\x00\\x00\\x10\\x08\\x06\\x00\\x00\\x00\\x1f\\xf3\\xffa\\x00\\x00\\x00\\x01sRGB\\x00\\xae\\xce\\x1c\\xe9\\x00\\x00\\x00\\x06bKGD\\x00\\xff\\x00\\xff\\x00\\xff\\xa0\\xbd\\xa7\\x93\\x00\\x00\\x00\\tpHYs\\x00\\x00\\x0b\\x13\\x00\\x00\\x0b\\x13\\x01\\x00\\x9a\\x9c\\x18\\x00\\x00\\x00\\x07tIME\\x07\\xd8\\x04\\x1b\\x118!\\x063\\'^\\x00\\x00\\x027IDAT8\\xcbe\\x93OHUA\\x14\\x87\\xbf{\\xdf\\xb3w{\"\\x94\\x10\\xa5\\xd1&hS\\x8b6\\xadZ\\xb4\\x10\\x1emB*xP\\xdb\\xc0MQ\\xae\\xdd\\x04A\\x8b \"\\xda)mZH\\x1b\\x17\\x91 F\\x11EF\\x98\\x96\\xb6\\xb5\\x88\\xcc2\\x15\\xd4\\xfc\\xf3\\xee\\x9dy3g\\xe6\\xb6\\xf0\\xde\\xbc\\xea\\x81\\xc3\\xc0\\xcc\\xf7;\\xe77\\xcc\\x9c\\x80]\\xd1\\xfd\\xe0\\xed3i\\x9as\\xde\\x99v\\xb1M\\xc4\\x18\\xa4\\xa9\\xb4U\\xfa\\xf1\\xc7\\xfe\\xeb}\\x80\\x06\\\\\\xce\\x87\\xbb\\x0bx\\'\\x17G\\xfaj\\xedN,\\xceZ\\xbcX\\xbcwQ\\x1a\\xf8\\x9b\\xc01 *\\xf2{\\n8k9\\x7fg\\x18\\'v;\\xad\\xcd\\x8f;\\x80j\\x91/\\x03t?|\\x7f\\xdb[{\\\\\\xac\\n\\x8cN\\x06\\x8dj\\x94E\\xc7%g\\x0c\\xe1\\xbeJ=M}\\xceW\\x80\\xd2\\x8e\\x02\\x97\\x1f}x\\xed\\xc4v\\xa5^\\xc0{\\x02\\xa0Tn\\x81J\\x15\\x82\\x12N\\xec\\x0e\\x87\\xe9\\\\}\\xc1\\xdbX\\x8bn\\xdc\\xaf\\x9czw/\\xf4\\xdeumY5;mg\\x99\\x87\\xa8\\xcdQ\\xc0\"\\t\\xa1SQ\\x19}\\x03\\xe8,\\xe7\\xa0/\\x88|\\xe1\\xdei\\xea\\xb5\\xd3\\xf1\\x9b\\xa9\\'}\\x03\\xcbS\\xb5\\x1a\\xa2@\\x12B\\xaf\\xda\\x81\\x8e\\xf2\\x0e\\xb1\\xb5\\xe8\\xc6\\xda\\xe8\\xfc\\xf8\\xf0\\xd3\\xf9\\xe9Wk\\x80\\x00)`\\xe6\\xc6j\\'\\x0f\\xb6J/N\\x81K@\\x12\\x80\\xfde1M\\xed\\xc5FN,j}yhb\\xa0wp\\xe3\\xe7\\xad+\\xad\\xd1\\x89K\\xa1S\\xd1\\x7fXb\\xf2\\xee\\x88\\xc2\\x8b\\xd6@\\x10:\\x91\\xd9\\xdc\\xfa\\x9f\\xc9\\x97\\xcf\\xe3_\\xbd=mU\\x7f5\\xf4EqR\\x10\\'\\xe04I\\x92N\\x02&t:\\xee\\x17c\\xb4\\x13\\xcb\\xef\\xa9\\x91\\xb5j\\xe4.l\\x0b\\n\\xa2\\x82\\x18`zF\\xbf\\x006\\x83\\xecgu\\x00G\\x81f\\xbapm\"\\x87\\x97\\x16\\xff\\x0e\\x95\\xbcJ\\xb7\\x9c(p\\n\\x80o\\xb3\\xe6\\xcb\\xd9\\x9e\\xd5q\\xe0G\\x190\\xc0\"\\xb0\\x01\\xa4\\xc5n\\x87\\x0f\\xb8:\"\\xe0,\\x88%8\\xb3\\xd8\\x054\\x00\\x95\\xf1+!\\xe0\\xb3\\x8d\\x15`\\xd5\\xdbDoY-\\xe4\\xe9\\xaf\\xf84\\xd5\\xd9\\x8b,\\x00\\xdf\\xb35\\xd93\\x0b\\x8d\\x8d\\xf5\\xba\\xd5\\xf1gob\\x9d;\\xb1\\xe3\\x9d3c\\x9f\\xd4]\\xc0\\x02I\\xd6\\xd0\\x02i\\xc0\\xde\\x88\\x80C\\xc0\\x11\\xa0\\rh\\xc9\\\\nf]\\x97\\xb2\\x91\\x06\\xe0\\x1f\\x01\\xbf\\xaf\\xff\\xfc\\x8c\\x00\\x9a\\x00\\x00\\x00\\x00IEND\\xaeB`\\x82'\n"
     ]
    }
   ],
   "source": [
    "print(res.status_code)\n",
    "print(res.headers['Content-Type'])\n",
    "print(res.content)"
   ]
  },
  {
   "cell_type": "code",
   "execution_count": 9,
   "metadata": {},
   "outputs": [],
   "source": [
    "with open(\"python.png\", \"wb\") as f:\n",
    "    f.write(res.content)"
   ]
  },
  {
   "cell_type": "code",
   "execution_count": 18,
   "metadata": {},
   "outputs": [
    {
     "name": "stdout",
     "output_type": "stream",
     "text": [
      "200\n",
      "text/html; charset=windows-1251\n",
      "https://www.google.com.ua/search?q=Stepic&aqs=chrome&oq=Stepic&sourceid=chrome&ie=UTF-8\n",
      "<!doctype html><html lang=\"uk\"><head><meta charset=\"UTF-8\"><meta content=\"/images/branding/googleg/1x/googleg_standard_color_128dp.png\" itemprop=\"image\"><title>Stepic - Пошук Google</title><script nonce=\"3I9KckGIPwan1ZlCEFrJFg==\">(function(){var a=window.performance;window.start=(new Date).getTime();a:{var b=window;if(a){var c=a.timing;if(c){var d=c.navigationStart,e=c.responseStart;if(e>d&&e<=window.start){window.start=e;b.wsrt=e-d;break a}}a.now&&(b.wsrt=Math.floor(a.now()))}}window.google=window.google||{};google.aft=function(f){f.setAttribute(\"data-iml\",+new Date)};}).call(this);(function(){var c=[],e=0;window.ping=function(b){-1==b.indexOf(\"&zx\")&&(b+=\"&zx=\"+(new Date).getTime());var a=new Image,d=e++;c[d]=a;a.onerror=a.onload=a.onabort=function(){delete c[d]};a.src=b};}).call(this);</script><style>body{margin:0 auto;max-width:736px;padding:0 8px}a{color:#1967D2;text-decoration:none;tap-highlight-color:rgba(0,0,0,.1)}a:visited{color:#4B11A8}a:hover{text-decoration:underline}img{border:0}html{font-family:Roboto,HelveticaNeue,Arial,sans-serif;font-size:14px;line-height:20px;text-size-adjust:100%;color:#3C4043;word-wrap:break-word;background-color:#fff}.bRsWnc{background-color:#fff;border-top:1px solid #e0e0e0;height:39px;overflow:hidden}.N6RWV{height:51px;overflow-scrolling:touch;overflow-x:auto;overflow-y:hidden}.Uv67qb{box-pack:justify;font-size:12px;line-height:37px;justify-content:space-between;justify-content:space-between}.Uv67qb a,.Uv67qb span{color:#757575;display:block;flex:none;padding:0 16px;text-align:center;text-transform:uppercase;}span.OXXup{border-bottom:2px solid #4285f4;color:#4285f4;font-weight:bold}a.eZt8xd:visited{color:#757575}.FElbsf{border-left:1px solid rgba(0,0,0,.12)}header article{overflow:visible}.Pg70bf{height:39px;display:box;display:flex;display:flex;width:100%}.H0PQec{position:relative;flex:1}.sbc{display:flex;width:100%}.Pg70bf input{margin:2px 4px 2px 8px;}.x{width:26px;color:#757575;font:27px/38px arial, sans-serif;line-height:40px;}#qdClwb{flex:0 0 auto;width:39px;height:39px;border-bottom:0;padding:0;border-top-right-radius:8px;background-color:#3b78e7;border:1px solid #3367d6;background-image:url(data:image/gif;base64,R0lGODdhJAAjAPIHAODr/nCk+MPZ/FmV96zK+/7+/5K5+kqL9iwAAAAAJAAjAEADani63P4wykmbKcQRXDscQAEMXmmeaLQVLCukzyC09AjfeK7v/MAajACLhPMVAgwjsUcEiZa8xgAYrVqv2Kx2iwsIAAABknfBBAKrTE4IcMyot8ur8datqIbQfJdnAfo2WE6BV05wXIiJigkAOw==);}.sc{font-size:;position:absolute;top:39px;left:0;right:0;box-shadow:0px 2px 5px rgba(0,0,0,0.2);z-index:2;background-color:#fff}.sc>div{padding:10px 10px;padding-left:16px;padding-left:14px;border-top:1px solid #DFE1E5}.scs{background-color:#f5f5f5;}.noHIxc{display:block;font-size:16px;padding:0 0 0 8px;flex:1;height:35px;outline:none;border:none;width:100%;-webkit-tap-highlight-color:rgba(0,0,0,0);overflow:hidden;}.sbc input[type=text]{background:none}.sml .cOl4Id{display:none}.l{display:none}.sml header{background:none}.sml .l{display:block;padding:0 8px}.sml .l{letter-spacing:-1px;text-align:center;border-radius:2px 0 0 0;font:22px/36px Futura, Arial, sans-serif;font-smoothing:antialiased}.bz1lBb{background:#fff;border-radius:8px 8px 0 0;box-shadow:0 1px 6px rgba(32, 33, 36, 0.18);margin-top:10px}.KP7LCb{border-radius:0 0 8px 8px;box-shadow:0 2px 3px rgba(32, 33, 36, 0.18);margin-bottom:10px;overflow:hidden}.cOl4Id{letter-spacing:-1px;text-align:center;font:22pt Futura, Arial, sans-serif;padding:10px 0 5px 0;height:37px;font-smoothing:antialiased}.cOl4Id span{display:inline-block}.S591j{height:100%}.V6gwVd{color:#4285F4}.iWkuvd{color:#EA4335}.cDrQ7{color:#fbcc05}.ntlR9{color:#34A853}.tJ3Myc{-webkit-transform:rotate(-20deg);position:relative;left:-1px;display:inline-block}footer{text-align:center;margin-top:18px}footer a,footer a:visited,.smiUbb{color:#5f6368}.ksTU4c{margin:0 13px}#mCljob{margin-top:36px}#mCljob>div{margin:20px}</style></head><body jsmodel=\" \"><header id=\"hdr\"><script nonce=\"3I9KckGIPwan1ZlCEFrJFg==\">(function(){var c=500;(function(){window.screen&&window.screen.width<=c&&window.screen.height<=c&&document.getElementById(\"hdr\").classList.add(\"sml\");}).call(this);})();</script><div class=\"cOl4Id\"><a href=\"/?sa=X&amp;ved=0ahUKEwjvk4mxxbvjAhXNvp4KHT95AdYQOwgC\"><span class=\"V6gwVd\">G</span><span class=\"iWkuvd\">o</span><span class=\"cDrQ7\">o</span><span class=\"V6gwVd\">g</span><span class=\"ntlR9\">l</span><span class=\"iWkuvd tJ3Myc\">e</span></a></div><div class=\"bz1lBb\"><form class=\"Pg70bf\" id=\"sf\"><a class=\"l\" href=\"/?output=search&amp;ie=UTF-8&amp;sa=X&amp;ved=0ahUKEwjvk4mxxbvjAhXNvp4KHT95AdYQPAgE\"><span class=\"V6gwVd\">G</span><span class=\"iWkuvd\">o</span><span class=\"cDrQ7\">o</span><span class=\"V6gwVd\">g</span><span class=\"ntlR9\">l</span><span class=\"iWkuvd tJ3Myc\">e</span></a><input name=\"ie\" value=\"windows-1251\" type=\"hidden\"><div class=\"H0PQec\"><div class=\"sbc esbc\"><input class=\"noHIxc\" value=\"Stepic\" autocapitalize=\"none\" autocomplete=\"off\" name=\"q\" spellcheck=\"false\" type=\"text\"><input name=\"oq\" type=\"hidden\"><input name=\"aqs\" type=\"hidden\"><div class=\"x\">&#215;</div><div class=\"sc\"></div></div></div><button id=\"qdClwb\" type=\"submit\"></button></form></div><noscript><meta content=\"0;url=/search?q=Stepic&amp;ie=UTF-8&amp;gbv=1&amp;sei=KN0uXe_fOs39-gS_8oWwDQ\" http-equiv=\"refresh\"><style>table,div,span,p{display:none}</style><div style=\"display:block\">Натисніть <a href=\"/search?q=Stepic&amp;ie=UTF-8&amp;gbv=1&amp;sei=KN0uXe_fOs39-gS_8oWwDQ\">тут</a>, якщо вас не буде перенаправлено за кілька секунд.</div></noscript></header><div id=\"main\"><div><div class=\"KP7LCb\"> <div class=\"bRsWnc\"> <div class=\"N6RWV\"> <div class=\"Pg70bf Uv67qb\"> <span class=\"OXXup\">Усі</span><a class=\"eZt8xd\" href=\"/search?q=Stepic&amp;ie=UTF-8&amp;source=lnms&amp;tbm=isch&amp;sa=X&amp;ved=0ahUKEwjvk4mxxbvjAhXNvp4KHT95AdYQ_AUICCgB\">Зображення</a><a class=\"eZt8xd\" href=\"/search?q=Stepic&amp;ie=UTF-8&amp;source=lnms&amp;tbm=vid&amp;sa=X&amp;ved=0ahUKEwjvk4mxxbvjAhXNvp4KHT95AdYQ_AUICSgC\">Відео</a><a class=\"eZt8xd\" href=\"/search?q=Stepic&amp;ie=UTF-8&amp;source=lnms&amp;tbm=nws&amp;sa=X&amp;ved=0ahUKEwjvk4mxxbvjAhXNvp4KHT95AdYQ_AUICigD\">Новини</a>   <a href=\"https://maps.google.com.ua/maps?q=Stepic&amp;um=1&amp;ie=UTF-8&amp;sa=X&amp;ved=0ahUKEwjvk4mxxbvjAhXNvp4KHT95AdYQ_AUICygE\">Карти</a>  <a href=\"/search?q=Stepic&amp;ie=UTF-8&amp;source=lnms&amp;tbm=shop&amp;sa=X&amp;ved=0ahUKEwjvk4mxxbvjAhXNvp4KHT95AdYQ_AUIDCgF\">Покупки</a>  <a href=\"/search?q=Stepic&amp;ie=UTF-8&amp;source=lnms&amp;tbm=bks&amp;sa=X&amp;ved=0ahUKEwjvk4mxxbvjAhXNvp4KHT95AdYQ_AUIDSgG\">Книги</a>     <div class=\"FElbsf\"><a href=\"/advanced_search\" style=\"white-space:nowrap\" id=\"st-toggle\" role=\"button\">Інструменти пошуку</a></div> </div> </div> </div> </div><div class=\"Pg70bf wEsjbd ZINbbc xpd O9g5cc uUPGi\" style=\"display:none\" id=\"st-card\"><style>.wEsjbd{background-color:#fff;height:44px;white-space:nowrap}.coPU8c{height:60px;overflow-scrolling:touch;overflow-x:auto;overflow-y:hidden}.Xj2aue{height:44px;overflow:hidden}.RnNGze{margin:11px 16px}.wEsjbd div,.wEsjbd a,.wEsjbd li{outline-width:0;outline:none}</style><div class=\"Xj2aue\"><div class=\"coPU8c\"><div class=\"RnNGze\"><style>.PA9J5{display:inline-block}.RXaOfd{display:inline-block;height:22px;position:relative;padding-top:0;padding-bottom:0;padding-right:16px;padding-left:0;line-height:22px;cursor:pointer;text-transform:uppercase;font-size:12px;color:#757575}.sa1toc{display:none;position:absolute;background:#fff;border:1px solid #d6d6d6;box-shadow:0 2px 4px rgba(0,0,0,0.3);margin:0;white-space:nowrap;z-index:103;line-height:17px;padding-top:5px;padding-bottom:5px;padding-left:0px}.PA9J5:hover .sa1toc{display:block}.mGSy8d a:active,.RXaOfd:active{color:#4285f4}</style><div class=\"PA9J5\"><div class=\"RXaOfd\" role=\"button\" tabindex=\"0\"><style>.TWMOUc{display:inline-block;padding-right:14px;white-space:nowrap}.vQYuGf{font-weight:bold}.OmTIzf{border-color:#909090 transparent;border-style:solid;border-width:4px 4px 0 4px;width:0;height:0;margin-left:-10px;top:50%;margin-top:-2px;position:absolute}.RXaOfd:active .OmTIzf{border-color:#4285f4 transparent}</style><div class=\"TWMOUc\">З будь-якої країни</div><span class=\"OmTIzf\"></span></div><ul class=\"sa1toc ozatM\"><style>.ozatM{font-size:12px;text-transform:uppercase}.ozatM .yNFsl,.ozatM li{list-style-type:none;list-style-position:outside;list-style-image:none}.yNFsl.SkUj4c,.yNFsl a{color:rgba(0,0,0,0.54);text-decoration:none;padding:6px 44px 6px 14px;line-height:17px;display:block}.SkUj4c{background-image:url(//ssl.gstatic.com/ui/v1/menu/checkmark2.png);background-position:right center;background-repeat:no-repeat}.SkUj4c:active{background-color:#f5f5f5}</style><li class=\"yNFsl SkUj4c\">З будь-якої країни</li><li class=\"yNFsl\"><a href=\"/search?q=Stepic&amp;ie=UTF-8&amp;source=lnt&amp;tbs=ctr:countryUA&amp;cr=countryUA&amp;sa=X&amp;ved=0ahUKEwjvk4mxxbvjAhXNvp4KHT95AdYQpwUIDw\">Країна: Україна</a></li></ul></div><div class=\"PA9J5\"><div class=\"RXaOfd\" role=\"button\" tabindex=\"0\"><div class=\"TWMOUc\">Будь-якою мовою</div><span class=\"OmTIzf\"></span></div><ul class=\"sa1toc ozatM\"><li class=\"yNFsl SkUj4c\">Будь-якою мовою</li><li class=\"yNFsl\"><a href=\"/search?q=Stepic&amp;ie=UTF-8&amp;source=lnt&amp;tbs=lr:lang_1uk&amp;lr=lang_uk&amp;sa=X&amp;ved=0ahUKEwjvk4mxxbvjAhXNvp4KHT95AdYQpwUIEQ\">Сторінки українською мовою</a></li></ul></div><div class=\"PA9J5\"><div class=\"RXaOfd\" role=\"button\" tabindex=\"0\"><div class=\"TWMOUc\">Будь-коли</div><span class=\"OmTIzf\"></span></div><ul class=\"sa1toc ozatM\"><li class=\"yNFsl SkUj4c\">Будь-коли</li><li class=\"yNFsl\"><a href=\"/search?q=Stepic&amp;ie=UTF-8&amp;source=lnt&amp;tbs=qdr:h&amp;sa=X&amp;ved=0ahUKEwjvk4mxxbvjAhXNvp4KHT95AdYQpwUIEw\"> За минулу годину</a></li><li class=\"yNFsl\"><a href=\"/search?q=Stepic&amp;ie=UTF-8&amp;source=lnt&amp;tbs=qdr:d&amp;sa=X&amp;ved=0ahUKEwjvk4mxxbvjAhXNvp4KHT95AdYQpwUIFA\"> За минулі 24 години</a></li><li class=\"yNFsl\"><a href=\"/search?q=Stepic&amp;ie=UTF-8&amp;source=lnt&amp;tbs=qdr:w&amp;sa=X&amp;ved=0ahUKEwjvk4mxxbvjAhXNvp4KHT95AdYQpwUIFQ\"> За минулий тиждень</a></li><li class=\"yNFsl\"><a href=\"/search?q=Stepic&amp;ie=UTF-8&amp;source=lnt&amp;tbs=qdr:m&amp;sa=X&amp;ved=0ahUKEwjvk4mxxbvjAhXNvp4KHT95AdYQpwUIFg\"> За минулий місяць</a></li><li class=\"yNFsl\"><a href=\"/search?q=Stepic&amp;ie=UTF-8&amp;source=lnt&amp;tbs=qdr:y&amp;sa=X&amp;ved=0ahUKEwjvk4mxxbvjAhXNvp4KHT95AdYQpwUIFw\"> За минулий рік</a></li></ul></div><div class=\"PA9J5\"><div class=\"RXaOfd\" role=\"button\" tabindex=\"0\"><div class=\"TWMOUc\">Усі результати</div><span class=\"OmTIzf\"></span></div><ul class=\"sa1toc ozatM\"><li class=\"yNFsl SkUj4c\">Усі результати</li><li class=\"yNFsl\"><a href=\"/search?q=Stepic&amp;ie=UTF-8&amp;source=lnt&amp;tbs=li:1&amp;sa=X&amp;ved=0ahUKEwjvk4mxxbvjAhXNvp4KHT95AdYQpwUIGQ\">Дослівно</a></li></ul></div></div></div></div><script nonce=\"3I9KckGIPwan1ZlCEFrJFg==\">(function(){var a=document.getElementById(\"st-toggle\"),b=document.getElementById(\"st-card\");a&&b&&a.addEventListener(\"click\",function(c){b.style.display=b.style.display?\"\":\"none\";c.preventDefault()},!1);}).call(this);</script></div></div><style>.ZINbbc{background-color:#fff;margin-bottom:10px;box-shadow:0 1px 6px rgba(32, 33, 36, 0.28);border-radius:8px}.uUPGi{font-size:14px;line-height:20px;}.O9g5cc>*:first-child{border-top-left-radius:8px;border-top-right-radius:8px}.O9g5cc>*:last-child{border-bottom-left-radius:8px;border-bottom-right-radius:8px}.ZTv9Bb{display:block}.jfp3ef{padding:12px 16px 12px}.BNeawe{white-space:pre-line;word-wrap:break-word}.deIvCb{font-size:16px;line-height:20px;font-weight:400}.deIvCb.HrGdeb{color:rgba(255,255,255,1)}.deIvCb.AP7Wnd{color:#202124}.NJM3tb{height:1px;background-color:#dfe1e5;margin:0 16px}.X7NTVe{display:table;width:100%;padding-right:16px;box-sizing:border-box}.tHmfQe{display:table-cell;padding:12px 0 12px 16px}.UHtrk{width:72px}.HBTM6d{width:30px}.XS7yGd{display:table-cell;text-align:center;vertical-align:middle;padding:12px 0 12px 8px}a.fdYsqf{color:#4B11A8}.am3QBf{display:table;vertical-align:top}.Xb5VRe{color:#1967D2}a:visited .Xb5VRe{color:#4B11A8}.Xb5VRe.tr0dw{color:rgba(255,255,255,1)}a:visited .Xb5VRe.tr0dw{color:rgba(255,255,255,.7)}.tAd8D{font-size:14px;line-height:20px}.tAd8D.HrGdeb{color:rgba(255,255,255,.7)}.tAd8D.AP7Wnd{color:#70757A}.r0bn4c.tr0dw{color:rgba(255,255,255,.7)}.r0bn4c.rQMQod{color:#70757A}.rl7ilb{display:block;clear:both}.lcJF1d{margin-left:16px;float:right;}.vvjwJb{color:#1967D2;font-size:16px;line-height:20px}.vvjwJb a:visited{color:#4B11A8}.vvjwJb.HrGdeb{color:rgba(255,255,255,1)}.vvjwJb.HrGdeb a:visited{color:rgba(255,255,255,.7)}.UPmit{font-size:14px;line-height:20px}.UPmit.HrGdeb{color:rgba(255,255,255,.7)}.UPmit.AP7Wnd{color:rgba(0,102,33,1)}.Ap5OSd{padding-bottom:12px}.s3v9rd{font-size:14px;line-height:20px}.s3v9rd.HrGdeb{color:rgba(255,255,255,1)}.s3v9rd.AP7Wnd{color:#202124}.mSx1Ee{padding-left:48px;margin:0}.v9i61e{padding-bottom:8px}.XLloXe{color:#1967D2;font-size:14px;line-height:20px}.XLloXe a:visited{color:#4B11A8}.XLloXe.HrGdeb{color:rgba(255,255,255,1)}.XLloXe.HrGdeb a:visited{color:rgba(255,255,255,.7)}.tP9Zud{display:inline-block;}.QzarWc{color:#3C4043}.oqSTJd{color:#757575}.Hk2yDb,.Hk2yDb span{background-repeat:repeat-x;background-size:14px,14px;height:14px;width:70px}.Hk2yDb{display:inline-block;font-size:0;position:relative;top:1px}.Hk2yDb span{display:block}.Hk2yDb.KsR1A{background-image:url(data:image/png;base64,iVBORw0KGgoAAAANSUhEUgAAACgAAAAoBAMAAAB+0KVeAAAAD1BMVEVMaXEAAAAAAAAAAAAAAACF6eB8AAAABXRSTlMAID8OM2w9R7oAAACdSURBVHgBvdGBCcIwEEbhq+kAaXEA+5oBYuoAmnb/mQT5gcMDCoB+AIEA9y7EfmrIFl1uFrXVol4sSFBjB3LsQCzNsMQOlNjhq5S26Qrwmjbdp6PjlKMq4SiXwNOAhrOadDeymoyAPP1zfEUGJJvTNdFOLxFzElLPQqNb0/8F+x39iDTYzR56ucws7pBePtnU/aKomrpbM5sM1f7pDdrTIIXMnb07AAAAAElFTkSuQmCC)}.Hk2yDb.KsR1A span{background-image:url(data:image/png;base64,iVBORw0KGgoAAAANSUhEUgAAACgAAAAoBAMAAAB+0KVeAAAAGFBMVEVMaXH0tAD0tAD0tAD0tAD0tAD0tAD0tAB7hoq7AAAACHRSTlMAP6Ib/oXVZJ3/vYgAAADHSURBVHgBnNE1A4JgGARgmtHW0dxtZ+OA0dbRdrX/v+RLmkc/9H3MH2HjEcgVIrA1iMCZEoF7NWwycA6hBKxDmAZ6IawA/aDx0FMLoGjgKIAdA3d0WM89SkfYOZaWl5SOdwSiGe0EMW4/jkIP5vdeU2t2k14sUGugKJ6GKGdfG0aoE/+l509I7y/4azfiL7/l4IDIU4rmHwv0zZUH94AaZ421f4DO1ofVCFmgbGwbQNwzahtrJ4sRoUQvva8JuRo9vcA8RyMAAIXWR1O6HNlyAAAAAElFTkSuQmCC)}.e1wPee{text-decoration:underline}.FCUp0c{font-weight:bold}.Xdlr0d{overflow-x:auto;-webkit-overflow-scrolling:touch;margin:0 -8px;padding:16px 0 16px 24px;padding-top:2px;margin-top:-2px;transform:translate3d(0,0,0)}.idg8be{display:table;border-collapse:separate;border-spacing:8px 0;margin:0 -8px;padding-right:16px}.BVG0Nb{display:table-cell;vertical-align:top;background-color:#fff;border-radius:8px;box-shadow:0 1px 6px rgba(32, 33, 36, 0.28);overflow:hidden}.WddBJd{display:block;margin:0 auto}.mHhylf{display:table-cell;vertical-align:middle}.WZ5GJf{align-items:center;padding:0 20px;min-width:112px}.qN9Ked,.DXk5Me{margin:0 auto}.DXk5Me{margin-bottom:12px}.Qi9Fd{background:#fff;border:0;border-radius:999px;display:block;height:56px;justify-content:center;width:56px;z-index:0}.Qi9Fd{box-shadow:0 1px 6px rgba(32, 33, 36, 0.28),inset 0 0 0 0 rgba(0,0,0,0.10),inset 0 0 0 0 rgba(255,255,255,0.50)}.Qi9Fd:focus{outline:none}.Qi9Fd .hWHuJ{display:block;margin:0 auto}.ji5jpf{text-align:center}.rLshyf,.BmP5tf{padding-top:12px;padding-bottom:12px}.w1C3Le,.BmP5tf,.G5NbBd{padding-left:16px;padding-right:16px;}.G5NbBd{padding-bottom:12px}.nMymef{display:flex}.G5eFlf{flex:1;display:block}.nMymef span{text-align:center}</style><div><!--SW_C_X--></div><div><div class=\"ZINbbc xpd O9g5cc uUPGi\"><div class=\"jfp3ef\"><span><div class=\"BNeawe deIvCb AP7Wnd\">Можливо, ви шукали</div></span></div><div class=\"NJM3tb\"></div><div class=\"X7NTVe\"><a class=\"tHmfQe\" href=\"/search?ie=UTF-8&amp;q=Stepik&amp;stick=H4sIAAAAAAAAAONgVuLVT9c3NEyqKjQ2SMmtAgBAigrREQAAAA&amp;sa=X&amp;ved=2ahUKEwjvk4mxxbvjAhXNvp4KHT95AdYQ6RMwAXoECAkQAw\"><div class=\"am3QBf\"><div><span><div class=\"BNeawe deIvCb AP7Wnd\"><span class=\"rQMQod Xb5VRe\">Stepik</span></div></span><span><div class=\"BNeawe tAd8D AP7Wnd\">Stepik — російська освітня платформа і конструктор безкоштовних відкритих онлайн-курсів та уроків.\n",
      "Дозволяє будь-якому зареєстрованому користувачеві створити інтерактивні уроки і онлайн-курси, використовуючи відео, тексти і різні задачі з автоматичною перевіркою та миттєвим зворотнім зв'язком.</div></span></div></div></a><div class=\"UHtrk XS7yGd\"><a href=\"/search?ie=UTF-8&amp;q=Stepik&amp;stick=H4sIAAAAAAAAAONgVuLVT9c3NEyqKjQ2SMmtAgBAigrREQAAAA&amp;sa=X&amp;ved=2ahUKEwjvk4mxxbvjAhXNvp4KHT95AdYQ6RMwAXoECAkQBA\"><img class=\"ZTv9Bb\" alt=\"\" src=\"data:image/gif;base64,R0lGODlhAQABAIAAAP///////yH5BAEKAAEALAAAAAABAAEAAAICTAEAOw==\" style=\"max-width:72px;max-height:72px\" id=\"dimg_5\" data-deferred=\"1\"></a></div></div><div class=\"NJM3tb\"></div><div class=\"X7NTVe\"><a class=\"tHmfQe\" href=\"/search?ie=UTF-8&amp;q=%D1%81%D1%82%D0%B5%D0%BF%D1%96%D0%BA&amp;stick=H4sIAAAAAAAAAONgVuLWz9U3MDQqMCk2qAIAdKVv1w8AAAA&amp;sa=X&amp;ved=2ahUKEwjvk4mxxbvjAhXNvp4KHT95AdYQ6RMwAnoECAkQBg\"><div class=\"am3QBf\"><div><span><div class=\"BNeawe deIvCb AP7Wnd\"><span class=\"rQMQod Xb5VRe\">Степік: Музикант</span></div></span><span><div class=\"BNeawe tAd8D AP7Wnd\">Пісні: <span class=\"r0bn4c rQMQod\">Windup Mechanism</span> і <span class=\"r0bn4c rQMQod\">See You in the Next EP</span>\n",
      "Альбоми: <span class=\"r0bn4c rQMQod\">Torsion Spring</span></div></span></div></div></a></div></div></div><div><div class=\"ZINbbc xpd O9g5cc uUPGi\"><div class=\"jfp3ef\"><a href=\"/url?q=https://welcome.stepik.org/ru&amp;sa=U&amp;ved=2ahUKEwjvk4mxxbvjAhXNvp4KHT95AdYQFjADegQIBxAB&amp;usg=AOvVaw1zvLKkQGH-vNsnHE2BrnUR\"><div class=\"BNeawe vvjwJb AP7Wnd\">Stepik</div><div class=\"BNeawe UPmit AP7Wnd\">https://welcome.stepik.org › ...</div></a></div><div class=\"NJM3tb\"></div><div class=\"jfp3ef\"><div><div class=\"BNeawe s3v9rd AP7Wnd\"><div><div><div class=\"Ap5OSd\"><div class=\"BNeawe s3v9rd AP7Wnd\">Учитесь бесплатно, получайте сертификаты, общайтесь с миллионами русскоговорящих студентов и лидируйте в глобальном рейтинге Stepik.</div></div><div class=\"v9i61e\"><div class=\"BNeawe s3v9rd AP7Wnd\"><span class=\"BNeawe\"><a href=\"/url?q=https://stepik.org/catalog%3Flanguage%3Dru&amp;sa=U&amp;ved=2ahUKEwjvk4mxxbvjAhXNvp4KHT95AdYQjBAwBHoECAcQAw&amp;usg=AOvVaw1WPp4srZIJ6rM2ep-tXTVm\"><span class=\"XLloXe AP7Wnd\">Catalog</span></a></span></div></div><div><div class=\"BNeawe s3v9rd AP7Wnd\"><span class=\"BNeawe\"><a href=\"/url?q=https://welcome.stepik.org/ru/pricing&amp;sa=U&amp;ved=2ahUKEwjvk4mxxbvjAhXNvp4KHT95AdYQjBAwBXoECAcQBQ&amp;usg=AOvVaw0SSWDC8PZhWIoAo-7lOWHc\"><span class=\"XLloXe AP7Wnd\">Приватные курсы</span></a></span></div></div></div></div></div></div></div></div></div><div><div class=\"ZINbbc xpd O9g5cc uUPGi\"><div class=\"jfp3ef\"><a href=\"/url?q=https://stepik.org/catalog&amp;sa=U&amp;ved=2ahUKEwjvk4mxxbvjAhXNvp4KHT95AdYQFjAGegQIBhAB&amp;usg=AOvVaw0d2YtyAuj_8OiRN-a9WvBV\"><div class=\"BNeawe vvjwJb AP7Wnd\">Stepik</div><div class=\"BNeawe UPmit AP7Wnd\">https://stepik.org › catalog</div></a></div><div class=\"NJM3tb\"></div><div class=\"jfp3ef\"><div><div class=\"BNeawe s3v9rd AP7Wnd\"><div><div><div class=\"BNeawe s3v9rd AP7Wnd\">Promoting efficient learning by developing innovative educational technologies. Create an interactive lesson and employ automated grading software for free.</div></div></div></div></div></div></div></div><div><div class=\"ZINbbc xpd O9g5cc uUPGi\"><div class=\"jfp3ef\"><a href=\"/url?q=https://stepik.org/course/518/&amp;sa=U&amp;ved=2ahUKEwjvk4mxxbvjAhXNvp4KHT95AdYQFjAHegQIAxAB&amp;usg=AOvVaw0g5gHOD5zLghXYCVSXwIkG\"><div class=\"BNeawe vvjwJb AP7Wnd\">Stepic Contest – Stepik</div><div class=\"BNeawe UPmit AP7Wnd\">https://stepik.org › course</div></a></div><div class=\"NJM3tb\"></div><div class=\"jfp3ef\"><div><div class=\"BNeawe s3v9rd AP7Wnd\"><div><div><div class=\"BNeawe s3v9rd AP7Wnd\"><span class=\"r0bn4c rQMQod\">5 бер. 2018 р.</span><span class=\"r0bn4c rQMQod\"> · </span>Курс представляет собой набор задач из разных курсов и уроков на Stepic. org. Есть возможность проверить свои знания в разных ...</div></div></div></div></div></div></div></div><div><div class=\"ZINbbc xpd O9g5cc uUPGi\"><div class=\"jfp3ef\"><a href=\"/url?q=https://stepik.org/course/67/&amp;sa=U&amp;ved=2ahUKEwjvk4mxxbvjAhXNvp4KHT95AdYQFjAIegQIARAB&amp;usg=AOvVaw00xhPYyJOo3cA53yj_VuCa\"><div class=\"BNeawe vvjwJb AP7Wnd\">Программирование на Python – Stepik</div><div class=\"BNeawe UPmit AP7Wnd\">https://stepik.org › course</div></a></div><div class=\"NJM3tb\"></div><div class=\"jfp3ef\"><div><div class=\"BNeawe s3v9rd AP7Wnd\"><div><div class=\"v9i61e\"><div class=\"BNeawe s3v9rd AP7Wnd\"><span class=\"r0bn4c rQMQod\">Оцінка</span> <span class=\"r0bn4c rQMQod tP9Zud\"> <span aria-hidden=\"true\" class=\"oqSTJd\">4,8</span> <div class=\"Hk2yDb KsR1A\" aria-label=\"Рейтинг 5.0 із 5\" role=\"img\"><span style=\"width:70px\"></span></div> <span>(2 432)</span> </span></div></div><div><div class=\"BNeawe s3v9rd AP7Wnd\">Курс посвящен базовым понятиям и элементам языка программирования Python (операторы, числовые и строковые переменные, списки, условия и ...</div></div></div></div></div></div></div></div><div><div class=\"ZINbbc xpd O9g5cc uUPGi\"><div class=\"jfp3ef\"><a href=\"/url?q=https://uk.wikipedia.org/wiki/Stepik&amp;sa=U&amp;ved=2ahUKEwjvk4mxxbvjAhXNvp4KHT95AdYQFjAJegQIAhAB&amp;usg=AOvVaw3JIIDsGNl554EYKEM0T-3l\"><div class=\"BNeawe vvjwJb AP7Wnd\">Stepik — Вікіпедія</div><div class=\"BNeawe UPmit AP7Wnd\">https://uk.wikipedia.org › wiki › Stepik</div></a></div><div class=\"NJM3tb\"></div><div class=\"jfp3ef\"><div><div class=\"BNeawe s3v9rd AP7Wnd\"><div><div><div class=\"BNeawe s3v9rd AP7Wnd\">Stepik (Степік, до серпня 2016 року — Stepic) — російська освітня платформа і конструктор безкоштовних відкритих онлайн-курсів та уроків. Дозволяє ...\n",
      "<span class=\"BNeawe\"><a href=\"/url?q=https://uk.wikipedia.org/wiki/Stepik%23%25D0%2586%25D1%2581%25D1%2582%25D0%25BE%25D1%2580%25D1%2596%25D1%258F&amp;sa=U&amp;ved=2ahUKEwjvk4mxxbvjAhXNvp4KHT95AdYQ0gIwCXoECAIQAg&amp;usg=AOvVaw2rcYKZ6lt80OJLHtsPdvef\"><span class=\"XLloXe AP7Wnd\">Історія</span></a></span> · <span class=\"BNeawe\"><a href=\"/url?q=https://uk.wikipedia.org/wiki/Stepik%23%25D0%259A%25D1%2583%25D1%2580%25D1%2581%25D0%25B8_%25D1%2596_%25D1%2583%25D1%2580%25D0%25BE%25D0%25BA%25D0%25B8&amp;sa=U&amp;ved=2ahUKEwjvk4mxxbvjAhXNvp4KHT95AdYQ0gIwCXoECAIQAw&amp;usg=AOvVaw294YJe8ATqy7dc4vbU89DS\"><span class=\"XLloXe AP7Wnd\">Курси і уроки</span></a></span></div></div></div></div></div></div></div></div><div><div class=\"ZINbbc xpd O9g5cc uUPGi\"><div class=\"jfp3ef\"><a href=\"/url?q=https://ru.wikipedia.org/wiki/Stepik&amp;sa=U&amp;ved=2ahUKEwjvk4mxxbvjAhXNvp4KHT95AdYQFjAKegQIABAB&amp;usg=AOvVaw0eqmlNFwmNNv0mrva2zAVg\"><div class=\"BNeawe vvjwJb AP7Wnd\">Stepik — Википедия</div><div class=\"BNeawe UPmit AP7Wnd\">https://ru.wikipedia.org › wiki › Stepik</div></a></div><div class=\"NJM3tb\"></div><div class=\"jfp3ef\"><div><div class=\"BNeawe s3v9rd AP7Wnd\"><div><div><div class=\"BNeawe s3v9rd AP7Wnd\">Stepik (Стэпик, до августа 2016 года — Stepic) — российская образовательная платформа и конструктор бесплатных открытых онлайн- курсов и уроков.</div></div></div></div></div></div></div></div><div><div class=\"ZINbbc xpd O9g5cc uUPGi\"><div class=\"jfp3ef\"><div class=\"BNeawe deIvCb AP7Wnd\"><span class=\"BNeawe\"><a href=\"https://www.google.com.ua/search?ie=UTF-8&amp;ei=KN0uXe_fOs39-gS_8oWwDQ&amp;q=Stepic&amp;tbm=isch&amp;sa=X&amp;ved=2ahUKEwjvk4mxxbvjAhXNvp4KHT95AdYQsAR6BAgIEAE\"><span class=\"deIvCb AP7Wnd\"><span class=\"FCUp0c rQMQod\">Зображення</span></span></a></span></div><div class=\"BNeawe tAd8D AP7Wnd\"><span class=\"BNeawe\"><a href=\"https://www.google.com.ua/search?ie=UTF-8&amp;ei=KN0uXe_fOs39-gS_8oWwDQ&amp;q=Stepic&amp;tbm=isch&amp;sa=X&amp;ved=2ahUKEwjvk4mxxbvjAhXNvp4KHT95AdYQ7Al6BAgIEAI\"><span class=\"tAd8D AP7Wnd\"><span class=\"rQMQod Xb5VRe\">Переглянути все</span></span></a></span></div></div><div><div><div class=\"Xdlr0d\"><div class=\"idg8be\"><a class=\"BVG0Nb\" href=\"/url?q=http://www.google.com.ua/imgres%3Fimgurl%3Dhttps://upload.wikimedia.org/wikipedia/commons/4/42/Stepik_logotype.png%26imgrefurl%3Dhttps://ru.wikipedia.org/wiki/Stepik%26h%3D498%26w%3D497%26tbnid%3Djf_QuYj-wHcUzM:%26q%3DStepic%26tbnh%3D90%26tbnw%3D89%26usg%3DAI4_-kSXd-p3QsIlv2xc4WiFFyYK5I3IWw%26vet%3D1%26docid%3DK5mPdE8H9BMe-M&amp;sa=U&amp;ved=2ahUKEwjvk4mxxbvjAhXNvp4KHT95AdYQwW4wC3oECAgQBA&amp;usg=AOvVaw0a_5QnUZYmkj8tpYAaJK3W\"><div><img class=\"WddBJd\" style=\"max-width:none;height:128px;max-height:128px\" alt=\"upload.wikimedia.org/wikipedia/commons/4/42/Stepik...\" src=\"data:image/gif;base64,R0lGODlhAQABAIAAAP///////yH5BAEKAAEALAAAAAABAAEAAAICTAEAOw==\" id=\"dimg_1\" data-deferred=\"1\"></div></a><a class=\"BVG0Nb\" href=\"/url?q=http://www.google.com.ua/imgres%3Fimgurl%3Dhttps://www.stepicceecharity.org/sites/www.stepicceecharity.org/files/styles/content_270/public/herbert_stepic_0.jpg%3Fitok%253DTwMhaJT8%26imgrefurl%3Dhttps://www.stepicceecharity.org/en%26h%3D407%26w%3D270%26tbnid%3DrUcc_yF9wsxTCM:%26q%3DStepic%26tbnh%3D90%26tbnw%3D60%26usg%3DAI4_-kTRrsDhFKU6yBr8Z3es__7IOLJJaw%26vet%3D1%26docid%3DUs9b3mC1w1mr_M&amp;sa=U&amp;ved=2ahUKEwjvk4mxxbvjAhXNvp4KHT95AdYQwW4wDHoECAgQBg&amp;usg=AOvVaw11hchpeJpzFL4rR6gFjo8J\"><div><img class=\"WddBJd\" style=\"max-width:none;height:128px;max-height:128px\" alt=\"www.stepicceecharity.org/sites/www.stepicceecharit...\" src=\"data:image/gif;base64,R0lGODlhAQABAIAAAP///////yH5BAEKAAEALAAAAAABAAEAAAICTAEAOw==\" id=\"dimg_3\" data-deferred=\"1\"></div></a><a class=\"BVG0Nb\" href=\"/url?q=http://www.google.com.ua/imgres%3Fimgurl%3Dhttps://sb.stepic.org/stepik_logotype_green.png%26imgrefurl%3Dhttps://sb.stepic.org/%26h%3D400%26w%3D1000%26tbnid%3D1bLEQujg17IvoM:%26q%3DStepic%26tbnh%3D90%26tbnw%3D225%26usg%3DAI4_-kR9926kgC9rSBaNz64mWjlnqxB--g%26vet%3D1%26docid%3D-nmLBf2jsUM8nM&amp;sa=U&amp;ved=2ahUKEwjvk4mxxbvjAhXNvp4KHT95AdYQwW4wDXoECAgQCA&amp;usg=AOvVaw0lv8dTyuBFLHZ0gJU4lG5X\"><div><img class=\"WddBJd\" style=\"max-width:none;height:128px;max-height:128px\" alt=\"sb.stepic.org/stepik_logotype_green.png\" src=\"data:image/gif;base64,R0lGODlhAQABAIAAAP///////yH5BAEKAAEALAAAAAABAAEAAAICTAEAOw==\" id=\"dimg_7\" data-deferred=\"1\"></div></a><a class=\"BVG0Nb\" href=\"/url?q=http://www.google.com.ua/imgres%3Fimgurl%3Dhttps://lookaside.fbsbx.com/lookaside/crawler/media/%3Fmedia_id%253D764052787109893%26imgrefurl%3Dhttps://www.facebook.com/engstepbystep/%26h%3D588%26w%3D588%26tbnid%3DFMBEP46HnW1CFM:%26q%3DStepic%26tbnh%3D90%26tbnw%3D90%26usg%3DAI4_-kSWRFBSckcPdqKFNJz7IBrHczktyA%26vet%3D1%26docid%3D7MP016mrmhkqpM&amp;sa=U&amp;ved=2ahUKEwjvk4mxxbvjAhXNvp4KHT95AdYQwW4wDnoECAgQCg&amp;usg=AOvVaw1L316Ru7lnc2kEatLdRROY\"><div><img class=\"WddBJd\" style=\"max-width:none;height:128px;max-height:128px\" alt=\"lookaside.fbsbx.com/lookaside/crawler/media/?media...\" src=\"data:image/gif;base64,R0lGODlhAQABAIAAAP///////yH5BAEKAAEALAAAAAABAAEAAAICTAEAOw==\" id=\"dimg_9\" data-deferred=\"1\"></div></a><a class=\"BVG0Nb\" href=\"/url?q=http://www.google.com.ua/imgres%3Fimgurl%3Dhttps://www.stepicceecharity.org/sites/www.stepicceecharity.org/files/styles/article_teaser/public/spendenuebergabe.jpg%3Fitok%253DPXzvBEpr%26imgrefurl%3Dhttps://www.stepicceecharity.org/en%26h%3D270%26w%3D386%26tbnid%3D6HmzAqwgUNKmiM:%26q%3DStepic%26tbnh%3D90%26tbnw%3D128%26usg%3DAI4_-kTg9uxnlBXSjMROlOV_vDjM9jJSiw%26vet%3D1%26docid%3DUs9b3mC1w1mr_M&amp;sa=U&amp;ved=2ahUKEwjvk4mxxbvjAhXNvp4KHT95AdYQwW4wD3oECAgQDA&amp;usg=AOvVaw1KzZNeZc_LmncYfm8U_15l\"><div><img class=\"WddBJd\" style=\"max-width:none;height:128px;max-height:128px\" alt=\"www.stepicceecharity.org/sites/www.stepicceecharit...\" src=\"data:image/gif;base64,R0lGODlhAQABAIAAAP///////yH5BAEKAAEALAAAAAABAAEAAAICTAEAOw==\" id=\"dimg_11\" data-deferred=\"1\"></div></a><a class=\"BVG0Nb\" href=\"/url?q=http://www.google.com.ua/imgres%3Fimgurl%3Dhttps://static.tildacdn.com/tild6533-3332-4264-b434-363637356530/stepik-share-ru.png%26imgrefurl%3Dhttps://welcome.stepik.org/ru%26h%3D627%26w%3D1200%26tbnid%3DaL2wAY_8lkHAAM:%26q%3DStepic%26tbnh%3D90%26tbnw%3D172%26usg%3DAI4_-kRf_fl9hQXb0xQgjp5da02Tmg5BPw%26vet%3D1%26docid%3DqvZrkrm2x-u-OM&amp;sa=U&amp;ved=2ahUKEwjvk4mxxbvjAhXNvp4KHT95AdYQwW4wEHoECAgQDg&amp;usg=AOvVaw3-2CeuxNGiuEMd_fEvxWeF\"><div><img class=\"WddBJd\" style=\"max-width:none;height:128px;max-height:128px\" alt=\"static.tildacdn.com/tild6533-3332-4264-b434-363637...\" src=\"data:image/gif;base64,R0lGODlhAQABAIAAAP///////yH5BAEKAAEALAAAAAABAAEAAAICTAEAOw==\" id=\"dimg_13\" data-deferred=\"1\"></div></a><div class=\"mHhylf\"><div class=\"WZ5GJf\"><a class=\"qN9Ked\" href=\"https://www.google.com.ua/search?ie=UTF-8&amp;ei=KN0uXe_fOs39-gS_8oWwDQ&amp;q=Stepic&amp;tbm=isch&amp;sa=X&amp;ved=2ahUKEwjvk4mxxbvjAhXNvp4KHT95AdYQ7Al6BAgIEA8\"><button class=\"DXk5Me Qi9Fd\"><img class=\"hWHuJ\" alt=\"Arrow\" src=\"data:image/gif;base64,R0lGODlhAQABAIAAAP///////yH5BAEKAAEALAAAAAABAAEAAAICTAEAOw==\" style=\"max-width:24px;max-height:24px\" id=\"dimg_15\" data-deferred=\"1\"></button><div class=\"BNeawe ji5jpf tAd8D AP7Wnd\">Переглянути все</div></a></div></div></div></div></div></div></div></div><div><div class=\"ZINbbc xpd O9g5cc uUPGi\"><div class=\"jfp3ef\"><a href=\"/url?q=https://step.mk.ua/&amp;sa=U&amp;ved=2ahUKEwjvk4mxxbvjAhXNvp4KHT95AdYQFjARegQIBRAB&amp;usg=AOvVaw3EM2OKYcR_hOUg-WqN4omg\"><div class=\"BNeawe vvjwJb AP7Wnd\">Step.mk.ua</div><div class=\"BNeawe UPmit AP7Wnd\">https://step.mk.ua</div></a></div><div class=\"NJM3tb\"></div><div class=\"jfp3ef\"><div><div class=\"BNeawe s3v9rd AP7Wnd\"><div><div><div class=\"BNeawe s3v9rd AP7Wnd\">Модная брендовая женская, мужская, детская одежда и обувь по доступным ценам от ведущих украинских производителей.</div></div></div></div></div></div></div></div><div><div class=\"ZINbbc xpd O9g5cc uUPGi\"><div class=\"jfp3ef\"><a href=\"/url?q=https://lviv.itstep.org/&amp;sa=U&amp;ved=2ahUKEwjvk4mxxbvjAhXNvp4KHT95AdYQFjASegQIBBAB&amp;usg=AOvVaw263YrDQ0oPmtRdJ56-ChIc\"><div class=\"BNeawe vvjwJb AP7Wnd\">Комп'ютерна Академія IT STEP | Львів</div><div class=\"BNeawe UPmit AP7Wnd\">https://lviv.itstep.org</div></a></div><div class=\"NJM3tb\"></div><div class=\"jfp3ef\"><div><div class=\"BNeawe s3v9rd AP7Wnd\"><div><div><div class=\"BNeawe s3v9rd AP7Wnd\">Ласкаво просимо до філії Комп'ютерної Академії IT STEP у місті Львів. Навчаємо з 1999-го року. Якісна IT-освіта для дорослих та дітей.</div></div></div></div></div></div></div></div><footer> <div>  <div class=\"ZINbbc xpd O9g5cc uUPGi BmP5tf\"><div class=\"nMymef MUxGbd lyLwlc\"><a class=\"nBDE1b G5eFlf\" href=\"/search?q=Stepic&amp;ie=UTF-8&amp;ei=KN0uXe_fOs39-gS_8oWwDQ&amp;start=10&amp;sa=N\" aria-label=\"Наступна сторінка\">Уперед &gt;</a></div></div> </div>   <div id=\"mCljob\"><div><a href=\"/url?q=https://accounts.google.com/ServiceLogin%3Fcontinue%3Dhttps://www.google.com.ua/search%253Fq%253DStepic%2526aqs%253Dchrome%2526oq%253DStepic%2526sourceid%253Dchrome%2526ie%253DUTF-8%26hl%3Duk&amp;sa=U&amp;ved=0ahUKEwjvk4mxxbvjAhXNvp4KHT95AdYQxs8CCE0&amp;usg=AOvVaw1zeK2zZvkvm_myv3NS8CtX\">Увійти</a></div><div><a class=\"ksTU4c\" href=\"https://www.google.com.ua/preferences?hl=uk&amp;fg=1&amp;sa=X&amp;ved=0ahUKEwjvk4mxxbvjAhXNvp4KHT95AdYQ5fUCCE4\">Налаштування</a><a class=\"ksTU4c\" href=\"//www.google.com.ua/intl/uk_ua/policies/privacy/?fg=1\">Конфіденційність</a><a class=\"ksTU4c\" href=\"//www.google.com.ua/intl/uk_ua/policies/terms/?fg=1\">Умови</a></div></div>  </footer><script nonce=\"3I9KckGIPwan1ZlCEFrJFg==\">(function(){var hl='uk';(function(){var b=this||self,d=/^[\\w+/_-]+[=]{0,2}$/,e=null;var f=document.querySelector(\".l\"),g=document.querySelector(\"#sf\"),k=g.querySelector(\".sbc\"),l=g.querySelector(\"[type=text]\"),m=g.querySelector(\"[type=submit]\"),n=g.querySelector(\".sc\"),p=g.querySelector(\".x\"),q=l.value,r=[],t=-1,u=q,w,x,y;q||(p&&(p.style.display=\"none\"),z(!1));function z(a){if(k.classList.contains(\"esbc\")){var c=k.classList.contains(\"chsbc\"),h=k.classList.contains(\"rtlsbc\");a&&(n.style.display=\"block\",c?(g.style.borderRadius=\"20px 20px 0 0\",n.style.borderBottom=\"1px solid #DFE1E5\",m.style.borderRadius=h?\"20px 0 0 0\":\"0 20px 0 0\"):k.style.borderRadius=h?\"0 8px 0 0\":\"8px 0 0 0\");a||(n.style.display=\"none\",c?(g.style.borderRadius=\"20px\",n.style.borderBottom=\"none\",m.style.borderRadius=h?\"20px 0 0 20px\":\"0 20px 20px 0\"):k.style.borderRadius=h?\"0 8px 8px 0\":\"8px 0 0 8px\")}}function A(){g.querySelector(\"[name=oq]\").value=u;g.querySelector(\"[name=aqs]\").value=\"heirloom-srp.\"+(0<=t?t:\"\")+\".\"+(0<r.length?\"0l\"+r.length:\"\")}\n",
      "function C(){w=null;if(x){var a=\"/complete/search?client=heirloom-srp&hl=\"+hl+\"&json=t&callback=hS&q=\"+encodeURIComponent(x);\"undefined\"!==typeof ds&&ds&&(a+=\"&ds=\"+ds);var c=document.createElement(\"script\");c.src=a;if(null===e)a:{a=b.document;if((a=a.querySelector&&a.querySelector(\"script[nonce]\"))&&(a=a.nonce||a.getAttribute(\"nonce\"))&&d.test(a)){e=a;break a}e=\"\"}(a=e)&&c.setAttribute(\"nonce\",a);document.body.appendChild(c);x=null;w=setTimeout(C,500)}}\n",
      "function D(){for(;n.firstChild;)n.removeChild(n.firstChild);r=[];t=-1;z(!1)}function E(){var a=n.querySelector(\".scs\");a&&(a.className=\"\");0<=t?(a=n.childNodes[t],a.className=\"scs\",q=a.textContent):q=u;l.value=q}l.addEventListener(\"focus\",function(){f&&(f.style.display=\"none\")},!1);l.addEventListener(\"blur\",function(){D();f&&(f.style.display=\"\")},!1);l.addEventListener(\"keyup\",function(a){q=l.value;y=!1;13==a.which?A():27==a.which?(D(),f&&(f.style.display=\"\"),q=u,l.value=q):40==a.which?(t++,t>=r.length&&(t=-1),E()):38==a.which?(t--,-1>t&&(t=r.length-1),E()):(a=q)?(p&&(p.style.display=\"\"),x=a,w||C(),u=a):(p&&(p.style.display=\"none\"),z(!1),D(),u=\"\",y=!0)},!1);m.addEventListener(\"click\",A,!1);p.addEventListener(\"click\",function(){l.value=\"\";p.style.display=\"none\";z(!1)},!1);k.addEventListener(\"click\",function(){l.focus()},!1);window.hS=function(a){if(!y){D();0==a[1].length&&z(!1);for(var c=0;c<a[1].length;c++){var h=a[1][c][0],v=document.createElement(\"div\");v.innerHTML=h;v.addEventListener(\"mousedown\",function(B){B.preventDefault();return!1},!1);h=h.replace(/<\\/?b>/g,\"\");v.addEventListener(\"click\",function(B){return function(){t=B;A();E();D();g.submit()}}(c),!1);n.appendChild(v);z(!0);r.push(h)}}};}).call(this);})();(function(){function b(a){for(a=a.target||a.srcElement;a&&\"A\"!=a.nodeName;)a=a.parentElement;a&&(a.href||\"\").match(/\\/search.*[?&]tbm=isch/)&&(a.href+=\"&biw=\"+document.documentElement.clientWidth,a.href+=\"&bih=\"+document.documentElement.clientHeight)}document.addEventListener(\"click\",b,!1);document.addEventListener(\"touchStart\",b,!1);}).call(this);</script></div><!-- cctlcm 5 cctlcm --><textarea class=\"csi\" name=\"csi\" style=\"display:none\"></textarea><script nonce=\"3I9KckGIPwan1ZlCEFrJFg==\">(function(){var e='KN0uXe_fOs39-gS_8oWwDQ';var sn='web';(function(){var q=function(a){var c=window,d=document;if(!a||\"none\"==a.style.display)return 0;if(d.defaultView&&d.defaultView.getComputedStyle){var b=d.defaultView.getComputedStyle(a);if(b&&(\"hidden\"==b.visibility||\"0px\"==b.height&&\"0px\"==b.width))return 0}if(!a.getBoundingClientRect)return 1;var f=a.getBoundingClientRect();a=f.left+c.pageXOffset;b=f.top+c.pageYOffset;var k=f.width;f=f.height;return 0>=f&&0>=k?0:0>b+f?2:b>=(c.innerHeight||d.documentElement.clientHeight)?3:0>a+k||a>=(c.innerWidth||d.documentElement.clientWidth)?4:1};var r=e,v=sn;function w(a,c,d){a=\"/gen_204?atyp=csi&s=\"+(v||\"web\")+\"&t=\"+a+(\"&lite=1&ei=\"+r+\"&conn=\"+(window.navigator&&window.navigator.connection?window.navigator.connection.type:-1)+c);c=\"&rt=\";for(var b in d)a+=c+b+\".\"+d[b],c=\",\";return a}function x(a){a={prt:a};window.wsrt&&(a.wsrt=window.wsrt);return a}function y(a){window.ping?window.ping(a):(new Image).src=a}\n",
      "(function(){for(var a=+new Date-window.start,c=x(a),d=0,b=0,f=0,k=document.getElementsByTagName(\"img\"),m=\"&imn=\"+k.length+\"&biw=\"+window.innerWidth+\"&bih=\"+window.innerHeight,A=function(h,z){h.onload=function(){b=+new Date-window.start;z&&++n==f&&(d=b,t());h.onload=null}},t=function(){m+=\"&ima=\"+f;c.aft=d;y(w(\"aft\",m,c))},n=0,B=0,g=void 0;g=k[B++];){var l=1==q(g);l&&++f;var u=g.complete&&!g.getAttribute(\"data-deferred\"),p=u&&Number(g.getAttribute(\"data-iml\"))||0;u&&p?(l&&++n,p&&(g=p-window.start,l&&(d=Math.max(d,g)),b=Math.max(b,g))):A(g,l)}d||(d=a);b||(b=d);n==f&&t();window.addEventListener(\"load\",function(){window.setTimeout(function(){c.ol=+new Date-window.start;c.iml=b;var h=window.performance&&window.performance.timing;h&&(c.rqst=h.responseEnd-h.requestStart,c.rspt=h.responseEnd-h.responseStart);y(w(\"all\",m,c))},0)},!1)})();}).call(this);})();</script><script nonce=\"3I9KckGIPwan1ZlCEFrJFg==\">function _setImagesSrc(e,c){function f(a){a.onerror=function(){a.style.display=\"none\"};a.src=c}for(var g=0,b=void 0;b=e[g++];){var d=document.getElementById(b);d?f(d):(window.google=window.google||{},google.iir=google.iir||{},google.iir[b]=c)}};(function(){var s='data:image/jpeg;base64,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\\x3d\\x3d';var i=['dimg_5'];_setImagesSrc(i,s);})();(function(){var s='data:image/png;base64,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\\x3d\\x3d';var i=['dimg_1'];_setImagesSrc(i,s);})();(function(){var s='data:image/jpeg;base64,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\\x3d\\x3d';var i=['dimg_3'];_setImagesSrc(i,s);})();(function(){var s='data:image/png;base64,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';var i=['dimg_7'];_setImagesSrc(i,s);})();(function(){var s='data:image/jpeg;base64,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';var i=['dimg_9'];_setImagesSrc(i,s);})();(function(){var s='data:image/jpeg;base64,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\\x3d\\x3d';var i=['dimg_11'];_setImagesSrc(i,s);})();(function(){var s='data:image/png;base64,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\\x3d\\x3d';var i=['dimg_13'];_setImagesSrc(i,s);})();(function(){var s='data:image/png;base64,iVBORw0KGgoAAAANSUhEUgAAABgAAAAYAgMAAACdGdVrAAAADFBMVEVMaXFChfRChfRChfT0tCPZAAAAA3RSTlMAgFJEkGxNAAAAL0lEQVR4AWPADxgdwBT3BTDF9AUiuhdC6WNK/v///y+UggrClSA07EWVglmEFwAA5eYSExeCwigAAAAASUVORK5CYII\\x3d';var i=['dimg_15'];_setImagesSrc(i,s);})();(function(){var e='KN0uXe_fOs39-gS_8oWwDQ';(function(){var a=e,b=window.performance&&window.performance.navigation;b&&2==b.type&&window.ping(\"/gen_204?ct=backbutton&ei=\"+a);}).call(this);})();(function(){(function(){google.csct={};google.csct.ps='AOvVaw0duPiH2fMIQ5n-WDBBVm3F\\x26ust\\x3d1563438760997650';})();})();(function(){(function(){google.csct.rd=true;})();})();google.drty&&google.drty();</script></body></html>\n"
     ]
    }
   ],
   "source": [
    "# res = requests.get(\"https://yandex.ru/search/\",\n",
    "#                    params={\n",
    "#                        \"text\": \"Stepic\",\n",
    "#                        \"test\": \"test1\",\n",
    "#                        \"name\": \"Name With Spaces\",\n",
    "#                        \"list\": [\"test1\", \"test2\"]\n",
    "#                    })\n",
    "\n",
    "res = requests.get(\"https://www.google.com.ua/search\",\n",
    "                   params={\n",
    "                       \"q\": \"Stepic\",\n",
    "                       \"aqs\": \"chrome\",\n",
    "                       \"oq\": \"Stepic\",\n",
    "                       \"sourceid\": \"chrome\",\n",
    "                       \"ie\": \"UTF-8\"\n",
    "                   })\n",
    "print(res.status_code)\n",
    "print(res.headers['Content-Type'])\n",
    "print(res.url)\n",
    "print(res.text)"
   ]
  },
  {
   "cell_type": "markdown",
   "metadata": {},
   "source": [
    "### Задача 1\n",
    "\n",
    "Рассмотрим два HTML-документа A и B.\n",
    "Из A можно перейти в B за один переход, если в A есть ссылка на B, т. е. внутри A есть тег <a href=\"B\"></a>, возможно с дополнительными параметрами внутри тега.\n",
    "Из A можно перейти в B за два перехода если существует такой документ C, что из A в C можно перейти за один переход и из C в B можно перейти за один переход.\n",
    "\n",
    "Вашей программе на вход подаются две строки, содержащие url двух документов A и B.\n",
    "Выведите Yes, если из A в B можно перейти за два перехода, иначе выведите No.\n",
    "\n",
    "Обратите внимание на то, что не все ссылки внутри HTML документа могут вести на существующие HTML документы."
   ]
  },
  {
   "cell_type": "code",
   "execution_count": 19,
   "metadata": {},
   "outputs": [
    {
     "name": "stdout",
     "output_type": "stream",
     "text": [
      "https://stepic.org/media/attachments/lesson/24472/sample0.html\n",
      "https://stepic.org/media/attachments/lesson/24472/sample2.html\n",
      "Yes\n"
     ]
    }
   ],
   "source": [
    "import re\n",
    "import urllib.request\n",
    "\n",
    "a = input()\n",
    "b = input()\n",
    "\n",
    "def get_links(url):\n",
    "    try:\n",
    "        fp = urllib.request.urlopen(url)\n",
    "        mybytes = fp.read()\n",
    "        mystr = mybytes.decode(\"utf8\")\n",
    "        fp.close()\n",
    "        links = re.findall(r'<a.*href=\"([^\"]*)\"', mystr)\n",
    "    except:\n",
    "        return []\n",
    "    else:\n",
    "        return links\n",
    "\n",
    "def two_steps():\n",
    "    links1 = get_links(a)\n",
    "\n",
    "    for link in links1:\n",
    "        links2 = get_links(link)\n",
    "        if b in links2:\n",
    "            return True\n",
    "    return False\n",
    "\n",
    "if two_steps():\n",
    "    print(\"Yes\")\n",
    "else:\n",
    "    print(\"No\")"
   ]
  },
  {
   "cell_type": "code",
   "execution_count": null,
   "metadata": {},
   "outputs": [],
   "source": [
    "import re\n",
    "import requests\n",
    "\n",
    "start_url = input()\n",
    "end_url = input()\n",
    "\n",
    "found = False\n",
    "\n",
    "link_pattern = re.compile(r'<a[^>]*?href=\"(.*?)\"[^>]*?>')\n",
    "\n",
    "resp = requests.get(start_url).text\n",
    "for url in link_pattern.findall(resp):\n",
    "    cur_resp = requests.get(url).text\n",
    "    if end_url in link_pattern.findall(cur_resp):\n",
    "        found = True\n",
    "        break\n",
    "\n",
    "print(\"Yes\" if found else \"No\")"
   ]
  },
  {
   "cell_type": "markdown",
   "metadata": {},
   "source": [
    "### Задача 2\n",
    "\n",
    "Вашей программе на вход подается ссылка на HTML файл.\n",
    "Вам необходимо скачать этот файл, затем найти в нем все ссылки вида <a ... href=\"...\" ... ></a> и вывести список сайтов, на которые есть ссылка.\n",
    "\n",
    "Сайтом в данной задаче будем называть имя домена вместе с именами поддоменов. То есть, это последовательность символов, которая следует сразу после символов протокола, если он есть, до символов порта или пути, если они есть, за исключением случаев с относительными ссылками вида\n",
    "<a href=\"../some_path/index.html\"></a>.\n",
    "\n",
    "Сайты следует выводить в алфавитном порядке."
   ]
  },
  {
   "cell_type": "code",
   "execution_count": 21,
   "metadata": {},
   "outputs": [
    {
     "name": "stdout",
     "output_type": "stream",
     "text": [
      "<a href=\"http://stepic.org/courses\"> <a href='https://stepic.org'> <a href='http://neerc.ifmo.ru:1345'> <a href=\"ftp://mail.ru/distib\" > <a href=\"ya.ru\"> <a href=\"www.ya.ru\"> <a href=\"../skip_relative_links\">\n"
     ]
    }
   ],
   "source": [
    "import re\n",
    "import urllib.request\n",
    "from urllib.parse import urlparse\n",
    "\n",
    "url = input()\n",
    "\n",
    "\n",
    "def get_links():\n",
    "    try:\n",
    "        fp = urllib.request.urlopen(url)\n",
    "        mybytes = fp.read()\n",
    "        mystr = mybytes.decode(\"utf8\")\n",
    "        fp.close()\n",
    "        links = re.findall(r'<a.+href=[\\'\"]([^./][^\\'\"]*)[\\'\"]', mystr)\n",
    "    except:\n",
    "        return []\n",
    "    else:\n",
    "        return links\n",
    "\n",
    "\n",
    "def parse_link(link):\n",
    "    parsed_uri = urlparse(link)\n",
    "    res = parsed_uri.netloc\n",
    "    try:\n",
    "        return res[:res.index(':')]\n",
    "    except:\n",
    "        return res\n",
    "    else:\n",
    "        return res[:res.index(':')]\n",
    "\n",
    "\n",
    "links = get_links()\n",
    "\n",
    "unsorted = list(map(parse_link, links))\n",
    "\n",
    "for link in sorted(list(set(unsorted))):\n",
    "    print(link)"
   ]
  },
  {
   "cell_type": "code",
   "execution_count": null,
   "metadata": {},
   "outputs": [],
   "source": [
    "import re\n",
    "import requests\n",
    "\n",
    "resp = requests.get(input()).text\n",
    "sites = set()\n",
    "for site in re.findall(r'<a.*?href=\".*?:\\/\\/((?:\\w|-)+(?:\\.(?:\\w|-)+)+)', resp):\n",
    "    sites.add(site)\n",
    "\n",
    "for site in sorted(sites):\n",
    "    print(site)"
   ]
  },
  {
   "cell_type": "markdown",
   "metadata": {},
   "source": [
    "## Распространённые форматы текстовых файлов: CSV, JSON"
   ]
  },
  {
   "cell_type": "code",
   "execution_count": 2,
   "metadata": {},
   "outputs": [],
   "source": [
    "import csv"
   ]
  },
  {
   "cell_type": "code",
   "execution_count": 6,
   "metadata": {},
   "outputs": [
    {
     "name": "stdout",
     "output_type": "stream",
     "text": [
      "['first name', 'last name', 'module1', 'module2', 'module3', 'description']\n",
      "['student', 'best', '100', '100', '100', 'Excellent score']\n",
      "['student', 'good', '90', '90,2', '100', 'Good score\\nbut could do better']\n",
      "['Greg', 'Dean', '70', '80', '90', 'Good job, Greg']\n",
      "['Wirt', 'Wood', '80', '80.2', '80', 'Nicely done']\n",
      "['Greg', 'Dean', '70', '80', '90', 'Good job\\tGreg']\n",
      "['Wirt', 'Wood', '80', '80.2', '80', 'Nicely done']\n"
     ]
    }
   ],
   "source": [
    "with open(\"module3\\example.tsv\") as f:\n",
    "    reader = csv.reader(f, delimiter=\"\\t\")\n",
    "    for row in reader:\n",
    "        print(row)"
   ]
  },
  {
   "cell_type": "code",
   "execution_count": 7,
   "metadata": {},
   "outputs": [],
   "source": [
    "students = [\n",
    "    [\"Greg\", \"Dean\", 70, 80, 90, \"Good job, Greg\"],\n",
    "    [\"Wirt\", \"Wood\", 80, 80.2, 80, \"Nicely done\"]\n",
    "]"
   ]
  },
  {
   "cell_type": "code",
   "execution_count": 8,
   "metadata": {},
   "outputs": [],
   "source": [
    "with open(\"example.csv\", \"a\") as f:\n",
    "    writer = csv.writer(f, quoting=csv.QUOTE_NONNUMERIC) # поместить в кавычки все не числовое значение\n",
    "    writer.writerows(students)"
   ]
  },
  {
   "cell_type": "code",
   "execution_count": 9,
   "metadata": {},
   "outputs": [
    {
     "name": "stdout",
     "output_type": "stream",
     "text": [
      "['first name', 'last name', 'module1', 'module2', 'module3', 'description']\n",
      "['student', 'best', '100', '100', '100', 'Excellent score']\n",
      "['student', 'good', '90', '90,2', '100', 'Good score\\nbut could do better']\n",
      "['Greg', 'Dean', '70', '80', '90', 'Good job, Greg']\n",
      "['Wirt', 'Wood', '80', '80.2', '80', 'Nicely done']\n",
      "['Greg', 'Dean', '70', '80', '90', 'Good job\\tGreg']\n",
      "['Wirt', 'Wood', '80', '80.2', '80', 'Nicely done']\n"
     ]
    }
   ],
   "source": [
    "with open(\"module3\\example.tsv\") as f:\n",
    "    reader = csv.reader(f, delimiter=\"\\t\")\n",
    "    for row in reader:\n",
    "        print(row)"
   ]
  },
  {
   "cell_type": "markdown",
   "metadata": {},
   "source": [
    "### Задача 1\n",
    "\n",
    "Вам дана частичная выборка из датасета зафиксированных преступлений, совершенных в городе Чикаго с 2001 года по настоящее время.\n",
    "\n",
    "Одним из атрибутов преступления является его тип – Primary Type.\n",
    "\n",
    "Вам необходимо узнать тип преступления, которое было зафиксировано максимальное число раз в 2015 году."
   ]
  },
  {
   "cell_type": "code",
   "execution_count": 3,
   "metadata": {},
   "outputs": [
    {
     "data": {
      "text/html": [
       "<div>\n",
       "<style scoped>\n",
       "    .dataframe tbody tr th:only-of-type {\n",
       "        vertical-align: middle;\n",
       "    }\n",
       "\n",
       "    .dataframe tbody tr th {\n",
       "        vertical-align: top;\n",
       "    }\n",
       "\n",
       "    .dataframe thead th {\n",
       "        text-align: right;\n",
       "    }\n",
       "</style>\n",
       "<table border=\"1\" class=\"dataframe\">\n",
       "  <thead>\n",
       "    <tr style=\"text-align: right;\">\n",
       "      <th></th>\n",
       "      <th>ID</th>\n",
       "      <th>Case Number</th>\n",
       "      <th>Date</th>\n",
       "      <th>Block</th>\n",
       "      <th>IUCR</th>\n",
       "      <th>Primary Type</th>\n",
       "      <th>Description</th>\n",
       "      <th>Location Description</th>\n",
       "      <th>Arrest</th>\n",
       "      <th>Domestic</th>\n",
       "      <th>Beat</th>\n",
       "      <th>District</th>\n",
       "      <th>Ward</th>\n",
       "      <th>Community Area</th>\n",
       "      <th>FBI Code</th>\n",
       "    </tr>\n",
       "  </thead>\n",
       "  <tbody>\n",
       "    <tr>\n",
       "      <th>0</th>\n",
       "      <td>2383135</td>\n",
       "      <td>HH684629</td>\n",
       "      <td>10/01/2002 12:47:08 PM</td>\n",
       "      <td>032XX W ROOSEVELT RD</td>\n",
       "      <td>0860</td>\n",
       "      <td>THEFT</td>\n",
       "      <td>RETAIL THEFT</td>\n",
       "      <td>GROCERY FOOD STORE</td>\n",
       "      <td>True</td>\n",
       "      <td>False</td>\n",
       "      <td>1134</td>\n",
       "      <td>11.0</td>\n",
       "      <td>24.0</td>\n",
       "      <td>29.0</td>\n",
       "      <td>06</td>\n",
       "    </tr>\n",
       "    <tr>\n",
       "      <th>1</th>\n",
       "      <td>2383437</td>\n",
       "      <td>HH693227</td>\n",
       "      <td>09/04/2002 09:30:00 PM</td>\n",
       "      <td>048XX W ARMITAGE AVE</td>\n",
       "      <td>0486</td>\n",
       "      <td>BATTERY</td>\n",
       "      <td>DOMESTIC BATTERY SIMPLE</td>\n",
       "      <td>TAVERN/LIQUOR STORE</td>\n",
       "      <td>False</td>\n",
       "      <td>True</td>\n",
       "      <td>2522</td>\n",
       "      <td>25.0</td>\n",
       "      <td>31.0</td>\n",
       "      <td>19.0</td>\n",
       "      <td>08B</td>\n",
       "    </tr>\n",
       "    <tr>\n",
       "      <th>2</th>\n",
       "      <td>2383482</td>\n",
       "      <td>HH692935</td>\n",
       "      <td>10/04/2002 10:09:09 PM</td>\n",
       "      <td>116XX S MICHIGAN AVE</td>\n",
       "      <td>1330</td>\n",
       "      <td>CRIMINAL TRESPASS</td>\n",
       "      <td>TO LAND</td>\n",
       "      <td>GAS STATION</td>\n",
       "      <td>True</td>\n",
       "      <td>False</td>\n",
       "      <td>532</td>\n",
       "      <td>5.0</td>\n",
       "      <td>9.0</td>\n",
       "      <td>53.0</td>\n",
       "      <td>26</td>\n",
       "    </tr>\n",
       "    <tr>\n",
       "      <th>3</th>\n",
       "      <td>2383568</td>\n",
       "      <td>HH690681</td>\n",
       "      <td>10/03/2002 05:00:00 AM</td>\n",
       "      <td>017XX W TOUHY AVE</td>\n",
       "      <td>0610</td>\n",
       "      <td>BURGLARY</td>\n",
       "      <td>FORCIBLE ENTRY</td>\n",
       "      <td>APARTMENT</td>\n",
       "      <td>False</td>\n",
       "      <td>False</td>\n",
       "      <td>2423</td>\n",
       "      <td>24.0</td>\n",
       "      <td>49.0</td>\n",
       "      <td>1.0</td>\n",
       "      <td>05</td>\n",
       "    </tr>\n",
       "    <tr>\n",
       "      <th>4</th>\n",
       "      <td>2457967</td>\n",
       "      <td>HH706178</td>\n",
       "      <td>10/11/2002 12:28:49 AM</td>\n",
       "      <td>023XX E 79TH ST</td>\n",
       "      <td>0486</td>\n",
       "      <td>BATTERY</td>\n",
       "      <td>DOMESTIC BATTERY SIMPLE</td>\n",
       "      <td>STREET</td>\n",
       "      <td>False</td>\n",
       "      <td>False</td>\n",
       "      <td>414</td>\n",
       "      <td>4.0</td>\n",
       "      <td>7.0</td>\n",
       "      <td>43.0</td>\n",
       "      <td>08B</td>\n",
       "    </tr>\n",
       "  </tbody>\n",
       "</table>\n",
       "</div>"
      ],
      "text/plain": [
       "        ID Case Number                    Date                 Block  IUCR  \\\n",
       "0  2383135    HH684629  10/01/2002 12:47:08 PM  032XX W ROOSEVELT RD  0860   \n",
       "1  2383437    HH693227  09/04/2002 09:30:00 PM  048XX W ARMITAGE AVE  0486   \n",
       "2  2383482    HH692935  10/04/2002 10:09:09 PM  116XX S MICHIGAN AVE  1330   \n",
       "3  2383568    HH690681  10/03/2002 05:00:00 AM     017XX W TOUHY AVE  0610   \n",
       "4  2457967    HH706178  10/11/2002 12:28:49 AM       023XX E 79TH ST  0486   \n",
       "\n",
       "        Primary Type              Description Location Description  Arrest  \\\n",
       "0              THEFT             RETAIL THEFT   GROCERY FOOD STORE    True   \n",
       "1            BATTERY  DOMESTIC BATTERY SIMPLE  TAVERN/LIQUOR STORE   False   \n",
       "2  CRIMINAL TRESPASS                  TO LAND          GAS STATION    True   \n",
       "3           BURGLARY           FORCIBLE ENTRY            APARTMENT   False   \n",
       "4            BATTERY  DOMESTIC BATTERY SIMPLE               STREET   False   \n",
       "\n",
       "   Domestic  Beat  District  Ward  Community Area FBI Code  \n",
       "0     False  1134      11.0  24.0            29.0       06  \n",
       "1      True  2522      25.0  31.0            19.0      08B  \n",
       "2     False   532       5.0   9.0            53.0       26  \n",
       "3     False  2423      24.0  49.0             1.0       05  \n",
       "4     False   414       4.0   7.0            43.0      08B  "
      ]
     },
     "execution_count": 3,
     "metadata": {},
     "output_type": "execute_result"
    }
   ],
   "source": [
    "import pandas as pd\n",
    "\n",
    "crimes_df = pd.read_csv('Crimes.csv')\n",
    "crimes_df.head()"
   ]
  },
  {
   "cell_type": "code",
   "execution_count": 36,
   "metadata": {},
   "outputs": [],
   "source": [
    "# crimes_df.info()"
   ]
  },
  {
   "cell_type": "code",
   "execution_count": 4,
   "metadata": {},
   "outputs": [],
   "source": [
    "import datetime as dt"
   ]
  },
  {
   "cell_type": "code",
   "execution_count": 5,
   "metadata": {},
   "outputs": [],
   "source": [
    "crimes_df['Date'] = pd.to_datetime(crimes_df['Date'])"
   ]
  },
  {
   "cell_type": "code",
   "execution_count": 6,
   "metadata": {},
   "outputs": [
    {
     "name": "stdout",
     "output_type": "stream",
     "text": [
      "<class 'pandas.core.frame.DataFrame'>\n",
      "RangeIndex: 60249 entries, 0 to 60248\n",
      "Data columns (total 15 columns):\n",
      "ID                      60249 non-null int64\n",
      "Case Number             60249 non-null object\n",
      "Date                    60249 non-null datetime64[ns]\n",
      "Block                   60249 non-null object\n",
      "IUCR                    60249 non-null object\n",
      "Primary Type            60249 non-null object\n",
      "Description             60249 non-null object\n",
      "Location Description    60241 non-null object\n",
      "Arrest                  60249 non-null bool\n",
      "Domestic                60249 non-null bool\n",
      "Beat                    60249 non-null int64\n",
      "District                60248 non-null float64\n",
      "Ward                    54260 non-null float64\n",
      "Community Area          54245 non-null float64\n",
      "FBI Code                60249 non-null object\n",
      "dtypes: bool(2), datetime64[ns](1), float64(3), int64(2), object(7)\n",
      "memory usage: 6.1+ MB\n"
     ]
    }
   ],
   "source": [
    "crimes_df.info()"
   ]
  },
  {
   "cell_type": "code",
   "execution_count": 7,
   "metadata": {},
   "outputs": [
    {
     "data": {
      "text/plain": [
       "0   2002-10-01 12:47:08\n",
       "1   2002-09-04 21:30:00\n",
       "2   2002-10-04 22:09:09\n",
       "3   2002-10-03 05:00:00\n",
       "4   2002-10-11 00:28:49\n",
       "Name: Date, dtype: datetime64[ns]"
      ]
     },
     "execution_count": 7,
     "metadata": {},
     "output_type": "execute_result"
    }
   ],
   "source": [
    "crimes_df['Date'].head()"
   ]
  },
  {
   "cell_type": "code",
   "execution_count": 8,
   "metadata": {},
   "outputs": [
    {
     "data": {
      "text/plain": [
       "0    2002\n",
       "1    2002\n",
       "2    2002\n",
       "3    2002\n",
       "4    2002\n",
       "Name: Date Year, dtype: int64"
      ]
     },
     "execution_count": 8,
     "metadata": {},
     "output_type": "execute_result"
    }
   ],
   "source": [
    "# crimes_df['Date'].dt.year.head()\n",
    "crimes_df['Date Year'] = crimes_df['Date'].dt.year\n",
    "crimes_df['Date Year'].head()"
   ]
  },
  {
   "cell_type": "code",
   "execution_count": 9,
   "metadata": {},
   "outputs": [
    {
     "data": {
      "text/plain": [
       "THEFT                               596\n",
       "BATTERY                             473\n",
       "CRIMINAL DAMAGE                     297\n",
       "NARCOTICS                           254\n",
       "OTHER OFFENSE                       179\n",
       "ASSAULT                             175\n",
       "DECEPTIVE PRACTICE                  140\n",
       "BURGLARY                            132\n",
       "MOTOR VEHICLE THEFT                 123\n",
       "ROBBERY                              88\n",
       "CRIMINAL TRESPASS                    64\n",
       "PUBLIC PEACE VIOLATION               28\n",
       "WEAPONS VIOLATION                    28\n",
       "OFFENSE INVOLVING CHILDREN           18\n",
       "CRIM SEXUAL ASSAULT                  17\n",
       "PROSTITUTION                         14\n",
       "INTERFERENCE WITH PUBLIC OFFICER     13\n",
       "SEX OFFENSE                           9\n",
       "HOMICIDE                              5\n",
       "LIQUOR LAW VIOLATION                  4\n",
       "ARSON                                 3\n",
       "STALKING                              2\n",
       "KIDNAPPING                            2\n",
       "GAMBLING                              2\n",
       "INTIMIDATION                          2\n",
       "Name: Primary Type, dtype: int64"
      ]
     },
     "execution_count": 9,
     "metadata": {},
     "output_type": "execute_result"
    }
   ],
   "source": [
    "crimes_df[crimes_df['Date Year'] == 2015]['Primary Type'].value_counts()"
   ]
  },
  {
   "cell_type": "code",
   "execution_count": 14,
   "metadata": {},
   "outputs": [
    {
     "data": {
      "text/plain": [
       "'THEFT'"
      ]
     },
     "execution_count": 14,
     "metadata": {},
     "output_type": "execute_result"
    }
   ],
   "source": [
    "crimes_df[crimes_df['Date Year'] == 2015]['Primary Type'].value_counts().index[0]"
   ]
  },
  {
   "cell_type": "code",
   "execution_count": 53,
   "metadata": {},
   "outputs": [],
   "source": [
    "import json\n",
    "\n",
    "student1 = {\n",
    "    'first_name': 'Greg',\n",
    "    'last_name': 'Dean',\n",
    "    'scores': [70, 80, 90],\n",
    "    'description': \"Good job, Greg\",\n",
    "    'certificate': True\n",
    "}\n",
    "\n",
    "student2 = {\n",
    "    'first_name': 'Wirt',\n",
    "    'last_name': 'Wood',\n",
    "    'scores': [80, 80.2, 80],\n",
    "    'description': \"Nicely Done\",\n",
    "    'certificate': True\n",
    "}"
   ]
  },
  {
   "cell_type": "code",
   "execution_count": 55,
   "metadata": {
    "scrolled": true
   },
   "outputs": [
    {
     "name": "stdout",
     "output_type": "stream",
     "text": [
      "[\n",
      "    {\n",
      "        \"certificate\": true,\n",
      "        \"description\": \"Good job, Greg\",\n",
      "        \"first_name\": \"Greg\",\n",
      "        \"last_name\": \"Dean\",\n",
      "        \"scores\": [\n",
      "            70,\n",
      "            80,\n",
      "            90\n",
      "        ]\n",
      "    },\n",
      "    {\n",
      "        \"certificate\": true,\n",
      "        \"description\": \"Nicely Done\",\n",
      "        \"first_name\": \"Wirt\",\n",
      "        \"last_name\": \"Wood\",\n",
      "        \"scores\": [\n",
      "            80,\n",
      "            80.2,\n",
      "            80\n",
      "        ]\n",
      "    }\n",
      "]\n"
     ]
    }
   ],
   "source": [
    "data = [student1, student2]\n",
    "print(json.dumps(data, indent=4, sort_keys=True))"
   ]
  },
  {
   "cell_type": "code",
   "execution_count": 56,
   "metadata": {},
   "outputs": [],
   "source": [
    "with open(\"module3\\students.json\", \"w\") as f:\n",
    "    json.dump(data, f, indent=4, sort_keys=True)"
   ]
  },
  {
   "cell_type": "code",
   "execution_count": 57,
   "metadata": {},
   "outputs": [
    {
     "name": "stdout",
     "output_type": "stream",
     "text": [
      "240\n"
     ]
    }
   ],
   "source": [
    "data = [student1, student2]\n",
    "data_json = json.dumps(data, indent=4, sort_keys=True)\n",
    "data_again = json.loads(data_json)\n",
    "print(sum(data_again[0][\"scores\"]))"
   ]
  },
  {
   "cell_type": "code",
   "execution_count": 59,
   "metadata": {},
   "outputs": [
    {
     "name": "stdout",
     "output_type": "stream",
     "text": [
      "240.2\n"
     ]
    }
   ],
   "source": [
    "with open(\"module3\\students.json\", \"r\") as f:\n",
    "    data_again = json.load(f)\n",
    "    print(sum(data_again[1][\"scores\"]))"
   ]
  },
  {
   "cell_type": "markdown",
   "metadata": {},
   "source": [
    "### Задача 2\n",
    "\n",
    "Вам дано описание наследования классов в формате JSON. \n",
    "Описание представляет из себя массив JSON-объектов, которые соответствуют классам. У каждого JSON-объекта есть поле name, которое содержит имя класса, и поле parents, которое содержит список имен прямых предков.\n",
    "\n",
    "Пример:\n",
    "    \n",
    "[{\"name\": \"A\", \"parents\": []}, {\"name\": \"B\", \"parents\": [\"A\", \"C\"]}, {\"name\": \"C\", \"parents\": [\"A\"]}]\n",
    "\n",
    "Гарантируется, что никакой класс не наследуется от себя явно или косвенно, и что никакой класс не наследуется явно от одного класса более одного раза.\n",
    "\n",
    "Для каждого класса вычислите предком скольких классов он является и выведите эту информацию в следующем формате.\n",
    "\n",
    "<имя класса> : <количество потомков>\n",
    "\n",
    "Выводить классы следует в лексикографическом порядке."
   ]
  },
  {
   "cell_type": "code",
   "execution_count": null,
   "metadata": {},
   "outputs": [],
   "source": [
    "import json\n",
    "\n",
    "initial = json.loads(input())\n",
    "\n",
    "with_children = {element['name']: [] for element in initial}\n",
    "\n",
    "for eli in initial:\n",
    "    for elc in with_children:\n",
    "        if elc in eli['parents']:\n",
    "            with_children[elc].append(eli['name'])\n",
    "\n",
    "for element in with_children:\n",
    "    with_children[element] = set(with_children[element])\n",
    "\n",
    "def dfs(graph, start, visited=None):\n",
    "    if visited is None:\n",
    "        visited = set()\n",
    "    visited.add(start)\n",
    "    for next in graph[start] - visited:\n",
    "        dfs(graph, next, visited)\n",
    "    return visited\n",
    "\n",
    "for element in sorted(with_children.keys()):\n",
    "    print(element, ':', len(dfs(with_children, element)))"
   ]
  },
  {
   "cell_type": "markdown",
   "metadata": {},
   "source": [
    "## API"
   ]
  },
  {
   "cell_type": "code",
   "execution_count": 61,
   "metadata": {},
   "outputs": [],
   "source": [
    "import requests"
   ]
  },
  {
   "cell_type": "code",
   "execution_count": 64,
   "metadata": {},
   "outputs": [],
   "source": [
    "api_url = \"http://api.openweathermap.org/data/2.5/weather\""
   ]
  },
  {
   "cell_type": "code",
   "execution_count": 74,
   "metadata": {},
   "outputs": [
    {
     "name": "stdout",
     "output_type": "stream",
     "text": [
      "City? Ivano-Frankivsk\n",
      "200\n",
      "application/json; charset=utf-8\n",
      "{'coord': {'lon': 24.71, 'lat': 48.92}, 'weather': [{'id': 803, 'main': 'Clouds', 'description': 'broken clouds', 'icon': '04d'}], 'base': 'stations', 'main': {'temp': 21, 'pressure': 1010, 'humidity': 49, 'temp_min': 21, 'temp_max': 21}, 'visibility': 10000, 'wind': {'speed': 6, 'deg': 340}, 'clouds': {'all': 75}, 'dt': 1563374233, 'sys': {'type': 1, 'id': 8906, 'message': 0.0059, 'country': 'UA', 'sunrise': 1563330897, 'sunset': 1563387550}, 'timezone': 10800, 'id': 707471, 'name': 'Ivano-Frankivsk', 'cod': 200}\n"
     ]
    }
   ],
   "source": [
    "city = input(\"City? \")\n",
    "\n",
    "params = {\n",
    "    'q': city,\n",
    "#     'q': 'Ivano-Frankivsk',\n",
    "    'appid': 'ec08fca7aa21005291689336b382c70f',\n",
    "    'units': 'metric'\n",
    "}\n",
    "\n",
    "res = requests.get(api_url, params=params)\n",
    "print(res.status_code)\n",
    "print(res.headers[\"Content-Type\"])\n",
    "print(res.json())  # returns json.loads(res.text) :)"
   ]
  },
  {
   "cell_type": "code",
   "execution_count": 76,
   "metadata": {},
   "outputs": [
    {
     "name": "stdout",
     "output_type": "stream",
     "text": [
      "Current temperature in Ivano-Frankivsk is 21\n"
     ]
    }
   ],
   "source": [
    "data = res.json()\n",
    "# print(data[\"main\"][\"temp\"])\n",
    "template = 'Current temperature in {} is {}'\n",
    "print(template.format(city, data[\"main\"][\"temp\"]))"
   ]
  },
  {
   "cell_type": "markdown",
   "metadata": {},
   "source": [
    "### Задача 1\n",
    "\n",
    "В этой задаче вам необходимо воспользоваться API сайта numbersapi.com\n",
    "\n",
    "Вам дается набор чисел. Для каждого из чисел необходимо узнать, существует ли интересный математический факт об этом числе.\n",
    "\n",
    "Для каждого числа выведите Interesting, если для числа существует интересный факт, и Boring иначе.\n",
    "Выводите информацию об интересности чисел в таком же порядке, в каком следуют числа во входном файле."
   ]
  },
  {
   "cell_type": "code",
   "execution_count": 2,
   "metadata": {},
   "outputs": [
    {
     "name": "stdout",
     "output_type": "stream",
     "text": [
      "Boring\n",
      "Interesting\n",
      "Boring\n",
      "Interesting\n",
      "Interesting\n",
      "Interesting\n",
      "Boring\n",
      "Interesting\n",
      "Boring\n",
      "Interesting\n",
      "Interesting\n",
      "Interesting\n",
      "Interesting\n",
      "Boring\n",
      "Boring\n"
     ]
    }
   ],
   "source": [
    "import requests\n",
    "import json\n",
    "\n",
    "with open('dataset_24476_3.txt') as file:\n",
    "    for number in file:\n",
    "        number = number.strip()\n",
    "        params = {'default': 'Boring number is boring', 'json': True}\n",
    "        url = 'http://numbersapi.com/{}/math'.format(number)\n",
    "        res = requests.get(url, params=params).text\n",
    "        data = json.loads(res)\n",
    "        if 'Boring' in data['text']:\n",
    "            print('Boring')\n",
    "        else:\n",
    "            print('Interesting')"
   ]
  },
  {
   "cell_type": "markdown",
   "metadata": {},
   "source": [
    "### Задача 2\n",
    "\n",
    "В этой задаче вам необходимо воспользоваться API сайта artsy.net\n",
    "\n",
    "API проекта Artsy предоставляет информацию о некоторых деятелях искусства, их работах, выставках.\n",
    "\n",
    "В рамках данной задачи вам понадобятся сведения о деятелях искусства (назовем их, условно, художники).\n",
    "\n",
    "Вам даны идентификаторы художников в базе Artsy.\n",
    "Для каждого идентификатора получите информацию о имени художника и годе рождения.\n",
    "Выведите имена художников в порядке неубывания года рождения. В случае если у художников одинаковый год рождения, выведите их имена в лексикографическом порядке."
   ]
  },
  {
   "cell_type": "code",
   "execution_count": 15,
   "metadata": {},
   "outputs": [
    {
     "name": "stdout",
     "output_type": "stream",
     "text": [
      "Abbati Vincenzo\n",
      "Abbé Pierre Pacton\n",
      "Abbe James\n",
      "Ackermann Max\n",
      "Aalto Alvar\n",
      "Abakanowicz Magdalena\n",
      "Aarnio Eero\n",
      "Abbott Angela\n",
      "Ackling Roger\n",
      "Acetelli Mark\n",
      "Abidin Adel\n",
      "Aasan Øystein\n",
      "Ackerman Fiona\n",
      "Aaron Flint Jamison\n",
      "Acosta Pavel\n"
     ]
    }
   ],
   "source": [
    "import requests\n",
    "import json\n",
    "\n",
    "client_id = 'db311cfe37ec4bc74a61'\n",
    "client_secret = 'ba1d22427d386b0b79ce4403c063b2ec'\n",
    "\n",
    "r = requests.post(\"https://api.artsy.net/api/tokens/xapp_token\",\n",
    "                  data={\n",
    "                      \"client_id\": client_id,\n",
    "                      \"client_secret\": client_secret\n",
    "                  })\n",
    "j = json.loads(r.text)\n",
    "token = j[\"token\"]\n",
    "\n",
    "artists = []\n",
    "\n",
    "with open('dataset_24476_4.txt') as file:\n",
    "    for artist_id in file:\n",
    "        artist_id = artist_id.strip()\n",
    "        url = 'https://api.artsy.net/api/artists/{}'.format(artist_id)\n",
    "        params = {'xapp_token': token}\n",
    "        resp = requests.get(url, params=params).text\n",
    "        data = json.loads(resp)\n",
    "        artists.append({'name': data['sortable_name'], 'birthday': data['birthday']})\n",
    "\n",
    "for artist in sorted(artists, key=lambda x: (x['birthday'], x['name'])):\n",
    "    print(artist['name'])"
   ]
  },
  {
   "cell_type": "markdown",
   "metadata": {},
   "source": [
    "## XML, библиотека ElementTree, библиотека lxml"
   ]
  },
  {
   "cell_type": "code",
   "execution_count": 18,
   "metadata": {},
   "outputs": [
    {
     "name": "stdout",
     "output_type": "stream",
     "text": [
      "<Element 'studentsList' at 0x000000000A010368>\n",
      "studentsList {}\n"
     ]
    }
   ],
   "source": [
    "from xml.etree import ElementTree\n",
    "\n",
    "tree = ElementTree.parse(\"module3\\example.xml\")\n",
    "root = tree.getroot()\n",
    "\n",
    "print(root)\n",
    "print(root.tag, root.attrib)"
   ]
  },
  {
   "cell_type": "code",
   "execution_count": 19,
   "metadata": {},
   "outputs": [
    {
     "name": "stdout",
     "output_type": "stream",
     "text": [
      "student {'id': '1'}\n",
      "student {'id': '2'}\n"
     ]
    }
   ],
   "source": [
    "for child in root:\n",
    "    print(child.tag, child.attrib)"
   ]
  },
  {
   "cell_type": "code",
   "execution_count": 21,
   "metadata": {},
   "outputs": [
    {
     "name": "stdout",
     "output_type": "stream",
     "text": [
      "Greg\n"
     ]
    }
   ],
   "source": [
    "print(root[0][0].text)"
   ]
  },
  {
   "cell_type": "code",
   "execution_count": 23,
   "metadata": {},
   "outputs": [
    {
     "name": "stdout",
     "output_type": "stream",
     "text": [
      "240.0\n",
      "240.2\n"
     ]
    }
   ],
   "source": [
    "for element in root.iter('scores'):\n",
    "    score_sum = 0\n",
    "    for child in element:\n",
    "        score_sum += float(child.text)\n",
    "    print(score_sum)"
   ]
  },
  {
   "cell_type": "code",
   "execution_count": 31,
   "metadata": {},
   "outputs": [],
   "source": [
    "tree = ElementTree.parse(\"module3\\example.xml\")\n",
    "root = tree.getroot()\n",
    "\n",
    "tree.write('module3\\example_copy.xml')"
   ]
  },
  {
   "cell_type": "code",
   "execution_count": 32,
   "metadata": {},
   "outputs": [
    {
     "name": "stdout",
     "output_type": "stream",
     "text": [
      "<Element 'module1' at 0x000000000A10FE58>\n",
      "70\n"
     ]
    }
   ],
   "source": [
    "greg = root[0]\n",
    "module1 = next(greg.iter(\"module1\"))\n",
    "print(module1)\n",
    "print(module1.text)"
   ]
  },
  {
   "cell_type": "code",
   "execution_count": 33,
   "metadata": {},
   "outputs": [],
   "source": [
    "module1.text = str(float(module1.text) + 30)\n",
    "tree.write('module3\\example_copy.xml')"
   ]
  },
  {
   "cell_type": "code",
   "execution_count": 34,
   "metadata": {},
   "outputs": [
    {
     "name": "stdout",
     "output_type": "stream",
     "text": [
      "<Element 'module1' at 0x000000000A10FBD8>\n",
      "100.0\n"
     ]
    }
   ],
   "source": [
    "tree = ElementTree.parse(\"module3\\example_copy.xml\")\n",
    "root = tree.getroot()\n",
    "\n",
    "greg = root[0]\n",
    "module1 = next(greg.iter(\"module1\"))\n",
    "print(module1)\n",
    "print(module1.text)"
   ]
  },
  {
   "cell_type": "code",
   "execution_count": 35,
   "metadata": {},
   "outputs": [],
   "source": [
    "certificate = greg[2]\n",
    "certificate.set(\"type\", \"with distinction\")\n",
    "\n",
    "tree.write('module3\\example_copy.xml')"
   ]
  },
  {
   "cell_type": "code",
   "execution_count": 37,
   "metadata": {},
   "outputs": [],
   "source": [
    "description = ElementTree.Element(\"description\")\n",
    "description.text = \"Showed excellent skills during the course\"\n",
    "greg.append(description)\n",
    "\n",
    "tree.write('module3\\example_copy.xml')"
   ]
  },
  {
   "cell_type": "code",
   "execution_count": 39,
   "metadata": {},
   "outputs": [],
   "source": [
    "description = greg.find(\"description\")\n",
    "greg.remove(description)\n",
    "\n",
    "tree.write('module3\\example_copy.xml')"
   ]
  },
  {
   "cell_type": "code",
   "execution_count": null,
   "metadata": {},
   "outputs": [],
   "source": [
    "from xml.etree import ElementTree\n",
    "\n",
    "root = ElementTree.Element(\"student\")\n",
    "\n",
    "first_name = ElementTree.SubElement(root, \"firstName\")\n",
    "first_name.text = \"Greg\"\n",
    "\n",
    "second_name = ElementTree.SubElement(root, \"secondName\")\n",
    "second_name.text = \"Dean\"\n",
    "\n",
    "scores = ElementTree.SubElement(root, \"scores\")\n",
    "\n",
    "module1 = ElementTree.SubElement(scores, \"module1\")\n",
    "module1.text = \"100\"\n",
    "\n",
    "module2 = ElementTree.SubElement(scores, \"module2\")\n",
    "module2.text = \"80\"\n",
    "\n",
    "module3 = ElementTree.SubElement(scores, \"module3\")\n",
    "module3.text = \"90\"\n",
    "\n",
    "tree = ElementTree.ElementTree(root)\n",
    "tree.write(\"module3\\student.xml\")"
   ]
  },
  {
   "cell_type": "code",
   "execution_count": 41,
   "metadata": {
    "scrolled": true
   },
   "outputs": [
    {
     "name": "stdout",
     "output_type": "stream",
     "text": [
      "200\n",
      "text/html\n",
      "<Element a at 0x85a4e48> {'href': 'genindex.html', 'title': 'General Index', 'accesskey': 'I'}\n",
      "<Element a at 0x85a4d88> {'href': 'py-modindex.html', 'title': 'Python Module Index'}\n",
      "<Element a at 0x85a4788> {'href': 'https://www.python.org/'}\n",
      "<Element a at 0x85a4e48> {'href': '#'}\n",
      "<Element a at 0x85a4d88> {'class': 'biglink', 'href': 'whatsnew/3.7.html'}\n",
      "<Element a at 0x85a4788> {'href': 'whatsnew/index.html'}\n",
      "<Element a at 0x85a4988> {'class': 'biglink', 'href': 'tutorial/index.html'}\n",
      "<Element a at 0x85a4d88> {'class': 'biglink', 'href': 'library/index.html'}\n",
      "<Element a at 0x85a4e48> {'class': 'biglink', 'href': 'reference/index.html'}\n",
      "<Element a at 0x85a4788> {'class': 'biglink', 'href': 'using/index.html'}\n",
      "<Element a at 0x85a4988> {'class': 'biglink', 'href': 'howto/index.html'}\n",
      "<Element a at 0x85a4d88> {'class': 'biglink', 'href': 'installing/index.html'}\n",
      "<Element a at 0x85a4e48> {'class': 'biglink', 'href': 'distributing/index.html'}\n",
      "<Element a at 0x85a4788> {'class': 'biglink', 'href': 'extending/index.html'}\n",
      "<Element a at 0x85a4988> {'class': 'biglink', 'href': 'c-api/index.html'}\n",
      "<Element a at 0x85a4a48> {'class': 'biglink', 'href': 'faq/index.html'}\n",
      "<Element a at 0x85a4d88> {'class': 'biglink', 'href': 'py-modindex.html'}\n",
      "<Element a at 0x85a4988> {'class': 'biglink', 'href': 'genindex.html'}\n",
      "<Element a at 0x85a4e48> {'class': 'biglink', 'href': 'glossary.html'}\n",
      "<Element a at 0x85a4d88> {'class': 'biglink', 'href': 'search.html'}\n",
      "<Element a at 0x85a4988> {'class': 'biglink', 'href': 'contents.html'}\n",
      "<Element a at 0x85a4e48> {'class': 'biglink', 'href': 'bugs.html'}\n",
      "<Element a at 0x85a4d88> {'class': 'biglink', 'href': 'about.html'}\n",
      "<Element a at 0x85a4988> {'class': 'biglink', 'href': 'license.html'}\n",
      "<Element a at 0x85a4e48> {'class': 'biglink', 'href': 'copyright.html'}\n",
      "<Element a at 0x85a4d88> {'href': 'download.html'}\n",
      "<Element a at 0x85a4988> {'href': 'https://docs.python.org/3.9/'}\n",
      "<Element a at 0x85a4e48> {'href': 'https://docs.python.org/3.8/'}\n",
      "<Element a at 0x85a4d88> {'href': 'https://docs.python.org/3.7/'}\n",
      "<Element a at 0x85a4988> {'href': 'https://docs.python.org/3.6/'}\n",
      "<Element a at 0x85a4e48> {'href': 'https://docs.python.org/3.5/'}\n",
      "<Element a at 0x85a4d88> {'href': 'https://docs.python.org/2.7/'}\n",
      "<Element a at 0x85a4988> {'href': 'https://www.python.org/doc/versions/'}\n",
      "<Element a at 0x85a4e48> {'href': 'https://www.python.org/dev/peps/'}\n",
      "<Element a at 0x85a4d88> {'href': 'https://wiki.python.org/moin/BeginnersGuide'}\n",
      "<Element a at 0x85a4988> {'href': 'https://wiki.python.org/moin/PythonBooks'}\n",
      "<Element a at 0x85a4e48> {'href': 'https://www.python.org/doc/av/'}\n",
      "<Element a at 0x85a4d88> {'href': 'genindex.html', 'title': 'General Index'}\n",
      "<Element a at 0x85a4988> {'href': 'py-modindex.html', 'title': 'Python Module Index'}\n",
      "<Element a at 0x85a4788> {'href': 'https://www.python.org/'}\n",
      "<Element a at 0x85a4d88> {'href': '#'}\n",
      "<Element a at 0x85a4988> {'href': 'copyright.html'}\n",
      "<Element a at 0x85a4788> {'href': 'https://www.python.org/psf/donations/'}\n",
      "<Element a at 0x85a4d88> {'href': 'bugs.html'}\n",
      "<Element a at 0x85a4988> {'href': 'http://sphinx.pocoo.org/'}\n"
     ]
    }
   ],
   "source": [
    "from lxml import etree\n",
    "import requests\n",
    "\n",
    "res = requests.get(\"https://docs.python.org/3/\")\n",
    "print(res.status_code)\n",
    "print(res.headers[\"Content-Type\"])\n",
    "\n",
    "parser = etree.HTMLParser()\n",
    "root = etree.fromstring(res.text, parser)\n",
    "\n",
    "# print(root)\n",
    "for element in root.iter(\"a\"):\n",
    "    print(element, element.attrib)"
   ]
  },
  {
   "cell_type": "markdown",
   "metadata": {},
   "source": [
    "### Задача 1\n",
    "\n",
    "Вам дано описание пирамиды из кубиков в формате XML.\n",
    "Кубики могут быть трех цветов: красный (red), зеленый (green) и синий (blue﻿).\n",
    "Для каждого кубика известны его цвет, и известны кубики, расположенные прямо под ним."
   ]
  },
  {
   "cell_type": "code",
   "execution_count": null,
   "metadata": {},
   "outputs": [],
   "source": [
    "<cube color=\"blue\">\n",
    "  <cube color=\"red\">\n",
    "    <cube color=\"green\">\n",
    "    </cube>\n",
    "  </cube>\n",
    "  <cube color=\"red\">\n",
    "  </cube>\n",
    "</cube>"
   ]
  },
  {
   "cell_type": "markdown",
   "metadata": {},
   "source": [
    "Введем понятие ценности для кубиков. Самый верхний кубик, соответствующий корню XML документа имеет ценность 1. Кубики, расположенные прямо под ним, имеют ценность 2. Кубики, расположенные прямо под нижележащими кубиками, имеют ценность 3. И т. д.\n",
    "\n",
    "Ценность цвета равна сумме ценностей всех кубиков этого цвета.\n",
    "\n",
    "Выведите через пробел три числа: ценности красного, зеленого и синего цветов."
   ]
  },
  {
   "cell_type": "code",
   "execution_count": 42,
   "metadata": {},
   "outputs": [
    {
     "name": "stdout",
     "output_type": "stream",
     "text": [
      "<cube color=\"blue\"><cube color=\"red\"><cube color=\"green\"></cube></cube><cube color=\"red\"></cube></cube>\n",
      "4 3 1\n"
     ]
    }
   ],
   "source": [
    "from xml.etree.ElementTree import XMLParser\n",
    "\n",
    "xml = input()\n",
    "\n",
    "class ColorWeights:                    # The target object of the parser\n",
    "    depth = 0\n",
    "    weights = {'red': 0, 'green': 0, 'blue': 0}\n",
    "\n",
    "    def start(self, tag, attrib): # Called for each opening tag.\n",
    "        self.depth += 1\n",
    "        self.add_weight(attrib)\n",
    "\n",
    "    def add_weight(self, attrib):\n",
    "        self.weights[attrib['color']] += self.depth\n",
    "\n",
    "    def end(self, tag):           # Called for each closing tag.\n",
    "        self.depth -= 1\n",
    "\n",
    "    def data(self, data):\n",
    "        pass                      # We do not need to do anything with data.\n",
    "\n",
    "    def close(self):              # Called when all data has been parsed.\n",
    "        weights_list = [self.weights['red'], self.weights['green'], self.weights['blue']]\n",
    "        return ' '.join(list(map(str, weights_list)))\n",
    "\n",
    "target = ColorWeights()\n",
    "parser = XMLParser(target=target)\n",
    "parser.feed(xml)\n",
    "print(parser.close())"
   ]
  },
  {
   "cell_type": "code",
   "execution_count": null,
   "metadata": {},
   "outputs": [],
   "source": []
  },
  {
   "cell_type": "code",
   "execution_count": null,
   "metadata": {},
   "outputs": [],
   "source": []
  }
 ],
 "metadata": {
  "kernelspec": {
   "display_name": "Python 3",
   "language": "python",
   "name": "python3"
  },
  "language_info": {
   "codemirror_mode": {
    "name": "ipython",
    "version": 3
   },
   "file_extension": ".py",
   "mimetype": "text/x-python",
   "name": "python",
   "nbconvert_exporter": "python",
   "pygments_lexer": "ipython3",
   "version": "3.6.4"
  }
 },
 "nbformat": 4,
 "nbformat_minor": 2
}
