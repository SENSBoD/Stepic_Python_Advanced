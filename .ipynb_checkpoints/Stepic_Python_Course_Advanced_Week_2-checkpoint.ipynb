{
 "cells": [
  {
   "cell_type": "markdown",
   "metadata": {},
   "source": [
    "## Ошибки и исключения"
   ]
  },
  {
   "cell_type": "code",
   "execution_count": 1,
   "metadata": {},
   "outputs": [
    {
     "name": "stdout",
     "output_type": "stream",
     "text": [
      "Type error\n"
     ]
    }
   ],
   "source": [
    "try:\n",
    "    x = [1, 2, 'hello', 7]\n",
    "    x.sort()\n",
    "    print(x)\n",
    "except TypeError:\n",
    "    print('Type error')"
   ]
  },
  {
   "cell_type": "code",
   "execution_count": 5,
   "metadata": {},
   "outputs": [
    {
     "name": "stdout",
     "output_type": "stream",
     "text": [
      "<class 'ZeroDivisionError'>\n",
      "division by zero\n",
      "('division by zero',)\n",
      "None\n",
      "<class 'TypeError'>\n",
      "unsupported operand type(s) for /: 'int' and 'list'\n",
      "(\"unsupported operand type(s) for /: 'int' and 'list'\",)\n",
      "None\n"
     ]
    }
   ],
   "source": [
    "def f(x, y):\n",
    "    try:\n",
    "        return x / y\n",
    "#     except TypeError:\n",
    "#         print('Type error')\n",
    "#     except ZeroDivisionError:\n",
    "#         print('Zero division')\n",
    "#     except (TypeError, ZeroDivisionError):\n",
    "#         print('Error')\n",
    "    except (TypeError, ZeroDivisionError) as e:\n",
    "        print(type(e))\n",
    "        print(e)\n",
    "        print(e.args)\n",
    "#     except:\n",
    "#         print('Error')\n",
    "\n",
    "print(f(5, 0))\n",
    "print(f(5, []))"
   ]
  },
  {
   "cell_type": "code",
   "execution_count": 8,
   "metadata": {},
   "outputs": [
    {
     "name": "stdout",
     "output_type": "stream",
     "text": [
      "Divizion by zero\n",
      "[<class 'ZeroDivisionError'>, <class 'ArithmeticError'>, <class 'Exception'>, <class 'BaseException'>, <class 'object'>]\n"
     ]
    }
   ],
   "source": [
    "try:\n",
    "    15 / 0 # e\n",
    "except ZeroDivisionError: # isinstance(e, ZeroDivisionError) == True\n",
    "    print('Divizion by zero')\n",
    "# except ArithmeticError:  # isinstance(e, ArithmeticError) == True\n",
    "#     print('Arithmetic Error')\n",
    "\n",
    "print(ZeroDivisionError.mro())"
   ]
  },
  {
   "cell_type": "code",
   "execution_count": 10,
   "metadata": {},
   "outputs": [
    {
     "name": "stdout",
     "output_type": "stream",
     "text": [
      "result is 2.0\n",
      "finally\n",
      "division by zero\n",
      "finally\n"
     ]
    }
   ],
   "source": [
    "def divide(x, y):\n",
    "    try:\n",
    "        result = x / y\n",
    "    except ZeroDivisionError:\n",
    "        print('division by zero')\n",
    "    else:\n",
    "        print('result is', result)\n",
    "    finally:\n",
    "        print('finally')\n",
    "\n",
    "divide(2, 1)\n",
    "divide(2, 0)\n",
    "# divide(2, []) # finally + ERROR"
   ]
  },
  {
   "cell_type": "markdown",
   "metadata": {},
   "source": [
    "### Задача 1\n",
    "\n",
    "Вашей программе будет доступна функция foo, которая может бросать исключения.\n",
    "\n",
    "Вам необходимо написать код, который запускает эту функцию, затем ловит исключения ArithmeticError, AssertionError, ZeroDivisionError и выводит имя пойманного исключения."
   ]
  },
  {
   "cell_type": "code",
   "execution_count": null,
   "metadata": {},
   "outputs": [],
   "source": [
    "try:\n",
    "    foo()\n",
    "except ZeroDivisionError:\n",
    "    print('ZeroDivisionError')\n",
    "except ArithmeticError:\n",
    "    print('ArithmeticError')\n",
    "except AssertionError:\n",
    "    print('AssertionError')"
   ]
  },
  {
   "cell_type": "markdown",
   "metadata": {},
   "source": [
    "### Задача 2\n",
    "\n",
    "Вам дано описание наследования классов исключений в следующем формате. \n",
    "<имя исключения 1> : <имя исключения 2> <имя исключения 3> ... <имя исключения k>\n",
    "Это означает, что исключение 1 наследуется от исключения 2, исключения 3, и т. д.\n",
    "\n",
    "Антон написал код, который выглядит следующим образом."
   ]
  },
  {
   "cell_type": "code",
   "execution_count": null,
   "metadata": {},
   "outputs": [],
   "source": [
    "try:\n",
    "    foo()\n",
    "except <имя 1>:\n",
    "    print(\"<имя 1>\")\n",
    "except <имя 2>:\n",
    "    print(\"<имя 2>\")"
   ]
  },
  {
   "cell_type": "markdown",
   "metadata": {},
   "source": [
    "Костя посмотрел на этот код и указал Антону на то, что некоторые исключения можно не ловить, так как ранее в коде будет пойман их предок. Но Антон не помнит какие исключения наследуются от каких. Помогите ему выйти из неловкого положения и напишите программу, которая будет определять обработку каких исключений можно удалить из кода."
   ]
  },
  {
   "cell_type": "code",
   "execution_count": 12,
   "metadata": {},
   "outputs": [],
   "source": [
    "exceptions = {}\n",
    "throwed_exceptions = []\n",
    "\n",
    "def found_path(exceptions, start, end, path=[]):\n",
    "    path = path + [start]\n",
    "    if start == end:\n",
    "        return path\n",
    "    if start not in exceptions:\n",
    "        return []\n",
    "    for node in exceptions[start]:\n",
    "        if node not in path:\n",
    "            newpath = found_path(exceptions, node, end, path)\n",
    "            if newpath: return newpath\n",
    "    return []\n",
    "\n",
    "n = int(input())\n",
    "for _ in range(n):\n",
    "    inpt = input().split()\n",
    "    child = inpt[0]\n",
    "    parents = inpt[2:]\n",
    "    exceptions[child] = parents\n",
    "\n",
    "m = int(input())\n",
    "for _ in range(m):\n",
    "    throwing = input()\n",
    "    for throwed_exception in throwed_exceptions:\n",
    "        if len(found_path(exceptions, throwing, throwed_exception)) > 1:\n",
    "            print(throwing)\n",
    "            break\n",
    "    throwed_exceptions.append(throwing)"
   ]
  },
  {
   "cell_type": "code",
   "execution_count": 13,
   "metadata": {},
   "outputs": [],
   "source": [
    "################################################################################################################################"
   ]
  },
  {
   "cell_type": "code",
   "execution_count": 15,
   "metadata": {},
   "outputs": [
    {
     "name": "stdout",
     "output_type": "stream",
     "text": [
      "Hello, Anton\n"
     ]
    }
   ],
   "source": [
    "def greet(name):\n",
    "    if name[0].isupper():\n",
    "        return 'Hello, ' + name\n",
    "    else:\n",
    "        raise ValueError(name + ' is inappropriate name')\n",
    "\n",
    "print(greet('Anton'))\n",
    "# print(greet('anton')) # ValueError"
   ]
  },
  {
   "cell_type": "code",
   "execution_count": 16,
   "metadata": {},
   "outputs": [
    {
     "name": "stdout",
     "output_type": "stream",
     "text": [
      "Please enter youe name: anton\n",
      "Please try again\n",
      "Please enter youe name: Anton\n",
      "Hello, Anton\n"
     ]
    }
   ],
   "source": [
    "while True:\n",
    "    try:\n",
    "        name = input('Please enter youe name: ')\n",
    "        greeting = greet(name)\n",
    "        print(greeting)\n",
    "    except ValueError:\n",
    "        print('Please try again')\n",
    "    else:\n",
    "        break"
   ]
  },
  {
   "cell_type": "code",
   "execution_count": 20,
   "metadata": {},
   "outputs": [
    {
     "name": "stdout",
     "output_type": "stream",
     "text": [
      "Hello, Anton\n"
     ]
    }
   ],
   "source": [
    "class BadName(Exception):\n",
    "    pass\n",
    "\n",
    "def greet(name):\n",
    "    if name[0].isupper():\n",
    "        return 'Hello, ' + name\n",
    "    else:\n",
    "        raise BadName(name + ' is inappropriate name')\n",
    "\n",
    "print(greet('Anton'))\n",
    "# print(greet('anton')) # Exception BadName: anton is inappropriate name"
   ]
  },
  {
   "cell_type": "markdown",
   "metadata": {},
   "source": [
    "### Задача 3\n",
    "\n",
    "Реализуйте класс PositiveList, отнаследовав его от класса list, для хранения положительных целых чисел.\n",
    "\n",
    "Также реализуйте новое исключение NonPositiveError.\n",
    "\n",
    "В классе PositiveList переопределите метод append(self, x) таким образом, чтобы при попытке добавить неположительное целое число бросалось исключение NonPositiveError и число не добавлялось, а при попытке добавить положительное целое число, число добавлялось бы как в стандартный list.\n",
    "\n",
    "В данной задаче гарантируется, что в качестве аргумента x метода append всегда будет передаваться целое число."
   ]
  },
  {
   "cell_type": "code",
   "execution_count": null,
   "metadata": {},
   "outputs": [],
   "source": [
    "class NonPositiveError(Exception):\n",
    "    pass\n",
    "\n",
    "class PositiveList(list):\n",
    "    def append(self, x):\n",
    "        if x > 0:\n",
    "            super(PositiveList, self).append(x)\n",
    "        else:\n",
    "            raise NonPositiveError"
   ]
  },
  {
   "cell_type": "markdown",
   "metadata": {},
   "source": [
    "## Работа с кодом: модули и импорт"
   ]
  },
  {
   "cell_type": "code",
   "execution_count": 16,
   "metadata": {},
   "outputs": [
    {
     "name": "stdout",
     "output_type": "stream",
     "text": [
      "Import is execution\n"
     ]
    }
   ],
   "source": [
    "import exceptions_module"
   ]
  },
  {
   "cell_type": "code",
   "execution_count": 17,
   "metadata": {},
   "outputs": [
    {
     "name": "stdout",
     "output_type": "stream",
     "text": [
      "Hello, Student\n"
     ]
    }
   ],
   "source": [
    "print(exceptions_module.greet('Student'))"
   ]
  },
  {
   "cell_type": "code",
   "execution_count": 22,
   "metadata": {},
   "outputs": [],
   "source": [
    "import fib"
   ]
  },
  {
   "cell_type": "code",
   "execution_count": 21,
   "metadata": {},
   "outputs": [
    {
     "name": "stdout",
     "output_type": "stream",
     "text": [
      "8\n"
     ]
    }
   ],
   "source": [
    "print(fib.fib(5))"
   ]
  },
  {
   "cell_type": "code",
   "execution_count": 23,
   "metadata": {},
   "outputs": [],
   "source": [
    "import sys"
   ]
  },
  {
   "cell_type": "code",
   "execution_count": 27,
   "metadata": {},
   "outputs": [
    {
     "name": "stdout",
     "output_type": "stream",
     "text": [
      "<class 'dict'>\n",
      "{'builtins': <module 'builtins' (built-in)>, 'sys': <module 'sys' (built-in)>, '_frozen_importlib': <module 'importlib._bootstrap' (frozen)>, '_imp': <module '_imp' (built-in)>, '_warnings': <module '_warnings' (built-in)>, '_thread': <module '_thread' (built-in)>, '_weakref': <module '_weakref' (built-in)>, '_frozen_importlib_external': <module 'importlib._bootstrap_external' (frozen)>, '_io': <module 'io' (built-in)>, 'marshal': <module 'marshal' (built-in)>, 'nt': <module 'nt' (built-in)>, 'winreg': <module 'winreg' (built-in)>, 'zipimport': <module 'zipimport' (built-in)>, 'encodings': <module 'encodings' from 'C:\\\\ProgramData\\\\Anaconda3\\\\lib\\\\encodings\\\\__init__.py'>, 'codecs': <module 'codecs' from 'C:\\\\ProgramData\\\\Anaconda3\\\\lib\\\\codecs.py'>, '_codecs': <module '_codecs' (built-in)>, 'encodings.aliases': <module 'encodings.aliases' from 'C:\\\\ProgramData\\\\Anaconda3\\\\lib\\\\encodings\\\\aliases.py'>, 'encodings.utf_8': <module 'encodings.utf_8' from 'C:\\\\ProgramData\\\\Anaconda3\\\\lib\\\\encodings\\\\utf_8.py'>, '_signal': <module '_signal' (built-in)>, '__main__': <module '__main__'>, 'encodings.latin_1': <module 'encodings.latin_1' from 'C:\\\\ProgramData\\\\Anaconda3\\\\lib\\\\encodings\\\\latin_1.py'>, 'io': <module 'io' from 'C:\\\\ProgramData\\\\Anaconda3\\\\lib\\\\io.py'>, 'abc': <module 'abc' from 'C:\\\\ProgramData\\\\Anaconda3\\\\lib\\\\abc.py'>, '_weakrefset': <module '_weakrefset' from 'C:\\\\ProgramData\\\\Anaconda3\\\\lib\\\\_weakrefset.py'>, '_bootlocale': <module '_bootlocale' from 'C:\\\\ProgramData\\\\Anaconda3\\\\lib\\\\_bootlocale.py'>, '_locale': <module '_locale' (built-in)>, 'encodings.cp1251': <module 'encodings.cp1251' from 'C:\\\\ProgramData\\\\Anaconda3\\\\lib\\\\encodings\\\\cp1251.py'>, 'site': <module 'site' from 'C:\\\\ProgramData\\\\Anaconda3\\\\lib\\\\site.py'>, 'os': <module 'os' from 'C:\\\\ProgramData\\\\Anaconda3\\\\lib\\\\os.py'>, 'errno': <module 'errno' (built-in)>, 'stat': <module 'stat' from 'C:\\\\ProgramData\\\\Anaconda3\\\\lib\\\\stat.py'>, '_stat': <module '_stat' (built-in)>, 'ntpath': <module 'ntpath' from 'C:\\\\ProgramData\\\\Anaconda3\\\\lib\\\\ntpath.py'>, 'genericpath': <module 'genericpath' from 'C:\\\\ProgramData\\\\Anaconda3\\\\lib\\\\genericpath.py'>, 'os.path': <module 'ntpath' from 'C:\\\\ProgramData\\\\Anaconda3\\\\lib\\\\ntpath.py'>, '_collections_abc': <module '_collections_abc' from 'C:\\\\ProgramData\\\\Anaconda3\\\\lib\\\\_collections_abc.py'>, '_sitebuiltins': <module '_sitebuiltins' from 'C:\\\\ProgramData\\\\Anaconda3\\\\lib\\\\_sitebuiltins.py'>, 'sysconfig': <module 'sysconfig' from 'C:\\\\ProgramData\\\\Anaconda3\\\\lib\\\\sysconfig.py'>, 'types': <module 'types' from 'C:\\\\ProgramData\\\\Anaconda3\\\\lib\\\\types.py'>, 'functools': <module 'functools' from 'C:\\\\ProgramData\\\\Anaconda3\\\\lib\\\\functools.py'>, '_functools': <module '_functools' (built-in)>, 'collections': <module 'collections' from 'C:\\\\ProgramData\\\\Anaconda3\\\\lib\\\\collections\\\\__init__.py'>, 'operator': <module 'operator' from 'C:\\\\ProgramData\\\\Anaconda3\\\\lib\\\\operator.py'>, '_operator': <module '_operator' (built-in)>, 'keyword': <module 'keyword' from 'C:\\\\ProgramData\\\\Anaconda3\\\\lib\\\\keyword.py'>, 'heapq': <module 'heapq' from 'C:\\\\ProgramData\\\\Anaconda3\\\\lib\\\\heapq.py'>, '_heapq': <module '_heapq' (built-in)>, 'itertools': <module 'itertools' (built-in)>, 'reprlib': <module 'reprlib' from 'C:\\\\ProgramData\\\\Anaconda3\\\\lib\\\\reprlib.py'>, '_collections': <module '_collections' (built-in)>, 'weakref': <module 'weakref' from 'C:\\\\ProgramData\\\\Anaconda3\\\\lib\\\\weakref.py'>, 'collections.abc': <module 'collections.abc' from 'C:\\\\ProgramData\\\\Anaconda3\\\\lib\\\\collections\\\\abc.py'>, 'importlib': <module 'importlib' from 'C:\\\\ProgramData\\\\Anaconda3\\\\lib\\\\importlib\\\\__init__.py'>, 'importlib._bootstrap': <module 'importlib._bootstrap' (frozen)>, 'importlib._bootstrap_external': <module 'importlib._bootstrap_external' (frozen)>, 'warnings': <module 'warnings' from 'C:\\\\ProgramData\\\\Anaconda3\\\\lib\\\\warnings.py'>, 'importlib.util': <module 'importlib.util' from 'C:\\\\ProgramData\\\\Anaconda3\\\\lib\\\\importlib\\\\util.py'>, 'importlib.abc': <module 'importlib.abc' from 'C:\\\\ProgramData\\\\Anaconda3\\\\lib\\\\importlib\\\\abc.py'>, 'importlib.machinery': <module 'importlib.machinery' from 'C:\\\\ProgramData\\\\Anaconda3\\\\lib\\\\importlib\\\\machinery.py'>, 'contextlib': <module 'contextlib' from 'C:\\\\ProgramData\\\\Anaconda3\\\\lib\\\\contextlib.py'>, 'mpl_toolkits': <module 'mpl_toolkits' (namespace)>, 'google': <module 'google' (namespace)>, 'sphinxcontrib': <module 'sphinxcontrib' from 'C:\\\\ProgramData\\\\Anaconda3\\\\lib\\\\site-packages\\\\sphinxcontrib\\\\__init__.py'>, 'runpy': <module 'runpy' from 'C:\\\\ProgramData\\\\Anaconda3\\\\lib\\\\runpy.py'>, 'pkgutil': <module 'pkgutil' from 'C:\\\\ProgramData\\\\Anaconda3\\\\lib\\\\pkgutil.py'>, 'ipykernel': <module 'ipykernel' from 'C:\\\\ProgramData\\\\Anaconda3\\\\lib\\\\site-packages\\\\ipykernel\\\\__init__.py'>, 'ipykernel._version': <module 'ipykernel._version' from 'C:\\\\ProgramData\\\\Anaconda3\\\\lib\\\\site-packages\\\\ipykernel\\\\_version.py'>, 'ipykernel.connect': <module 'ipykernel.connect' from 'C:\\\\ProgramData\\\\Anaconda3\\\\lib\\\\site-packages\\\\ipykernel\\\\connect.py'>, '__future__': <module '__future__' from 'C:\\\\ProgramData\\\\Anaconda3\\\\lib\\\\__future__.py'>, 'json': <module 'json' from 'C:\\\\ProgramData\\\\Anaconda3\\\\lib\\\\json\\\\__init__.py'>, 'json.decoder': <module 'json.decoder' from 'C:\\\\ProgramData\\\\Anaconda3\\\\lib\\\\json\\\\decoder.py'>, 're': <module 're' from 'C:\\\\ProgramData\\\\Anaconda3\\\\lib\\\\re.py'>, 'enum': <module 'enum' from 'C:\\\\ProgramData\\\\Anaconda3\\\\lib\\\\enum.py'>, 'sre_compile': <module 'sre_compile' from 'C:\\\\ProgramData\\\\Anaconda3\\\\lib\\\\sre_compile.py'>, '_sre': <module '_sre' (built-in)>, 'sre_parse': <module 'sre_parse' from 'C:\\\\ProgramData\\\\Anaconda3\\\\lib\\\\sre_parse.py'>, 'sre_constants': <module 'sre_constants' from 'C:\\\\ProgramData\\\\Anaconda3\\\\lib\\\\sre_constants.py'>, 'copyreg': <module 'copyreg' from 'C:\\\\ProgramData\\\\Anaconda3\\\\lib\\\\copyreg.py'>, 'json.scanner': <module 'json.scanner' from 'C:\\\\ProgramData\\\\Anaconda3\\\\lib\\\\json\\\\scanner.py'>, '_json': <module '_json' (built-in)>, 'json.encoder': <module 'json.encoder' from 'C:\\\\ProgramData\\\\Anaconda3\\\\lib\\\\json\\\\encoder.py'>, 'subprocess': <module 'subprocess' from 'C:\\\\ProgramData\\\\Anaconda3\\\\lib\\\\subprocess.py'>, 'time': <module 'time' (built-in)>, 'signal': <module 'signal' from 'C:\\\\ProgramData\\\\Anaconda3\\\\lib\\\\signal.py'>, 'threading': <module 'threading' from 'C:\\\\ProgramData\\\\Anaconda3\\\\lib\\\\threading.py'>, 'traceback': <module 'traceback' from 'C:\\\\ProgramData\\\\Anaconda3\\\\lib\\\\traceback.py'>, 'linecache': <module 'linecache' from 'C:\\\\ProgramData\\\\Anaconda3\\\\lib\\\\linecache.py'>, 'tokenize': <module 'tokenize' from 'C:\\\\ProgramData\\\\Anaconda3\\\\lib\\\\tokenize.py'>, 'token': <module 'token' from 'C:\\\\ProgramData\\\\Anaconda3\\\\lib\\\\token.py'>, 'msvcrt': <module 'msvcrt' (built-in)>, '_winapi': <module '_winapi' (built-in)>, 'IPython': <module 'IPython' from 'C:\\\\ProgramData\\\\Anaconda3\\\\lib\\\\site-packages\\\\IPython\\\\__init__.py'>, 'IPython.core': <module 'IPython.core' from 'C:\\\\ProgramData\\\\Anaconda3\\\\lib\\\\site-packages\\\\IPython\\\\core\\\\__init__.py'>, 'IPython.core.getipython': <module 'IPython.core.getipython' from 'C:\\\\ProgramData\\\\Anaconda3\\\\lib\\\\site-packages\\\\IPython\\\\core\\\\getipython.py'>, 'IPython.core.release': <module 'IPython.core.release' from 'C:\\\\ProgramData\\\\Anaconda3\\\\lib\\\\site-packages\\\\IPython\\\\core\\\\release.py'>, 'IPython.core.application': <module 'IPython.core.application' from 'C:\\\\ProgramData\\\\Anaconda3\\\\lib\\\\site-packages\\\\IPython\\\\core\\\\application.py'>, 'atexit': <module 'atexit' (built-in)>, 'copy': <module 'copy' from 'C:\\\\ProgramData\\\\Anaconda3\\\\lib\\\\copy.py'>, 'glob': <module 'glob' from 'C:\\\\ProgramData\\\\Anaconda3\\\\lib\\\\glob.py'>, 'fnmatch': <module 'fnmatch' from 'C:\\\\ProgramData\\\\Anaconda3\\\\lib\\\\fnmatch.py'>, 'posixpath': <module 'posixpath' from 'C:\\\\ProgramData\\\\Anaconda3\\\\lib\\\\posixpath.py'>, 'logging': <module 'logging' from 'C:\\\\ProgramData\\\\Anaconda3\\\\lib\\\\logging\\\\__init__.py'>, 'string': <module 'string' from 'C:\\\\ProgramData\\\\Anaconda3\\\\lib\\\\string.py'>, '_string': <module '_string' (built-in)>, 'shutil': <module 'shutil' from 'C:\\\\ProgramData\\\\Anaconda3\\\\lib\\\\shutil.py'>, 'zlib': <module 'zlib' (built-in)>, 'bz2': <module 'bz2' from 'C:\\\\ProgramData\\\\Anaconda3\\\\lib\\\\bz2.py'>, '_compression': <module '_compression' from 'C:\\\\ProgramData\\\\Anaconda3\\\\lib\\\\_compression.py'>, '_bz2': <module '_bz2' from 'C:\\\\ProgramData\\\\Anaconda3\\\\DLLs\\\\_bz2.pyd'>, 'lzma': <module 'lzma' from 'C:\\\\ProgramData\\\\Anaconda3\\\\lib\\\\lzma.py'>, '_lzma': <module '_lzma' from 'C:\\\\ProgramData\\\\Anaconda3\\\\DLLs\\\\_lzma.pyd'>, 'traitlets': <module 'traitlets' from 'C:\\\\ProgramData\\\\Anaconda3\\\\lib\\\\site-packages\\\\traitlets\\\\__init__.py'>, 'traitlets.traitlets': <module 'traitlets.traitlets' from 'C:\\\\ProgramData\\\\Anaconda3\\\\lib\\\\site-packages\\\\traitlets\\\\traitlets.py'>, 'inspect': <module 'inspect' from 'C:\\\\ProgramData\\\\Anaconda3\\\\lib\\\\inspect.py'>, 'ast': <module 'ast' from 'C:\\\\ProgramData\\\\Anaconda3\\\\lib\\\\ast.py'>, '_ast': <module '_ast' (built-in)>, 'dis': <module 'dis' from 'C:\\\\ProgramData\\\\Anaconda3\\\\lib\\\\dis.py'>, 'opcode': <module 'opcode' from 'C:\\\\ProgramData\\\\Anaconda3\\\\lib\\\\opcode.py'>, '_opcode': <module '_opcode' (built-in)>, 'six': <module 'six' from 'C:\\\\ProgramData\\\\Anaconda3\\\\lib\\\\site-packages\\\\six.py'>, 'struct': <module 'struct' from 'C:\\\\ProgramData\\\\Anaconda3\\\\lib\\\\struct.py'>, '_struct': <module '_struct' (built-in)>, 'traitlets.utils': <module 'traitlets.utils' from 'C:\\\\ProgramData\\\\Anaconda3\\\\lib\\\\site-packages\\\\traitlets\\\\utils\\\\__init__.py'>, 'traitlets.utils.getargspec': <module 'traitlets.utils.getargspec' from 'C:\\\\ProgramData\\\\Anaconda3\\\\lib\\\\site-packages\\\\traitlets\\\\utils\\\\getargspec.py'>, 'traitlets.utils.importstring': <module 'traitlets.utils.importstring' from 'C:\\\\ProgramData\\\\Anaconda3\\\\lib\\\\site-packages\\\\traitlets\\\\utils\\\\importstring.py'>, 'ipython_genutils': <module 'ipython_genutils' from 'C:\\\\ProgramData\\\\Anaconda3\\\\lib\\\\site-packages\\\\ipython_genutils\\\\__init__.py'>, 'ipython_genutils._version': <module 'ipython_genutils._version' from 'C:\\\\ProgramData\\\\Anaconda3\\\\lib\\\\site-packages\\\\ipython_genutils\\\\_version.py'>, 'ipython_genutils.py3compat': <module 'ipython_genutils.py3compat' from 'C:\\\\ProgramData\\\\Anaconda3\\\\lib\\\\site-packages\\\\ipython_genutils\\\\py3compat.py'>, 'ipython_genutils.encoding': <module 'ipython_genutils.encoding' from 'C:\\\\ProgramData\\\\Anaconda3\\\\lib\\\\site-packages\\\\ipython_genutils\\\\encoding.py'>, 'locale': <module 'locale' from 'C:\\\\ProgramData\\\\Anaconda3\\\\lib\\\\locale.py'>, 'platform': <module 'platform' from 'C:\\\\ProgramData\\\\Anaconda3\\\\lib\\\\platform.py'>, 'traitlets.utils.sentinel': <module 'traitlets.utils.sentinel' from 'C:\\\\ProgramData\\\\Anaconda3\\\\lib\\\\site-packages\\\\traitlets\\\\utils\\\\sentinel.py'>, 'traitlets.utils.bunch': <module 'traitlets.utils.bunch' from 'C:\\\\ProgramData\\\\Anaconda3\\\\lib\\\\site-packages\\\\traitlets\\\\utils\\\\bunch.py'>, 'traitlets._version': <module 'traitlets._version' from 'C:\\\\ProgramData\\\\Anaconda3\\\\lib\\\\site-packages\\\\traitlets\\\\_version.py'>, 'traitlets.config': <module 'traitlets.config' from 'C:\\\\ProgramData\\\\Anaconda3\\\\lib\\\\site-packages\\\\traitlets\\\\config\\\\__init__.py'>, 'traitlets.config.application': <module 'traitlets.config.application' from 'C:\\\\ProgramData\\\\Anaconda3\\\\lib\\\\site-packages\\\\traitlets\\\\config\\\\application.py'>, 'decorator': <module 'decorator' from 'C:\\\\ProgramData\\\\Anaconda3\\\\lib\\\\site-packages\\\\decorator.py'>, 'traitlets.config.configurable': <module 'traitlets.config.configurable' from 'C:\\\\ProgramData\\\\Anaconda3\\\\lib\\\\site-packages\\\\traitlets\\\\config\\\\configurable.py'>, 'traitlets.config.loader': <module 'traitlets.config.loader' from 'C:\\\\ProgramData\\\\Anaconda3\\\\lib\\\\site-packages\\\\traitlets\\\\config\\\\loader.py'>, 'argparse': <module 'argparse' from 'C:\\\\ProgramData\\\\Anaconda3\\\\lib\\\\argparse.py'>, 'textwrap': <module 'textwrap' from 'C:\\\\ProgramData\\\\Anaconda3\\\\lib\\\\textwrap.py'>, 'gettext': <module 'gettext' from 'C:\\\\ProgramData\\\\Anaconda3\\\\lib\\\\gettext.py'>, 'ipython_genutils.path': <module 'ipython_genutils.path' from 'C:\\\\ProgramData\\\\Anaconda3\\\\lib\\\\site-packages\\\\ipython_genutils\\\\path.py'>, 'random': <module 'random' from 'C:\\\\ProgramData\\\\Anaconda3\\\\lib\\\\random.py'>, 'math': <module 'math' (built-in)>, 'hashlib': <module 'hashlib' from 'C:\\\\ProgramData\\\\Anaconda3\\\\lib\\\\hashlib.py'>, '_hashlib': <module '_hashlib' from 'C:\\\\ProgramData\\\\Anaconda3\\\\DLLs\\\\_hashlib.pyd'>, '_blake2': <module '_blake2' (built-in)>, '_sha3': <module '_sha3' (built-in)>, 'bisect': <module 'bisect' from 'C:\\\\ProgramData\\\\Anaconda3\\\\lib\\\\bisect.py'>, '_bisect': <module '_bisect' (built-in)>, '_random': <module '_random' (built-in)>, 'ipython_genutils.text': <module 'ipython_genutils.text' from 'C:\\\\ProgramData\\\\Anaconda3\\\\lib\\\\site-packages\\\\ipython_genutils\\\\text.py'>, 'ipython_genutils.importstring': <module 'ipython_genutils.importstring' from 'C:\\\\ProgramData\\\\Anaconda3\\\\lib\\\\site-packages\\\\ipython_genutils\\\\importstring.py'>, 'IPython.core.crashhandler': <module 'IPython.core.crashhandler' from 'C:\\\\ProgramData\\\\Anaconda3\\\\lib\\\\site-packages\\\\IPython\\\\core\\\\crashhandler.py'>, 'pprint': <module 'pprint' from 'C:\\\\ProgramData\\\\Anaconda3\\\\lib\\\\pprint.py'>, 'IPython.core.ultratb': <module 'IPython.core.ultratb' from 'C:\\\\ProgramData\\\\Anaconda3\\\\lib\\\\site-packages\\\\IPython\\\\core\\\\ultratb.py'>, 'pydoc': <module 'pydoc' from 'C:\\\\ProgramData\\\\Anaconda3\\\\lib\\\\pydoc.py'>, 'urllib': <module 'urllib' from 'C:\\\\ProgramData\\\\Anaconda3\\\\lib\\\\urllib\\\\__init__.py'>, 'urllib.parse': <module 'urllib.parse' from 'C:\\\\ProgramData\\\\Anaconda3\\\\lib\\\\urllib\\\\parse.py'>, 'IPython.core.debugger': <module 'IPython.core.debugger' from 'C:\\\\ProgramData\\\\Anaconda3\\\\lib\\\\site-packages\\\\IPython\\\\core\\\\debugger.py'>, 'bdb': <module 'bdb' from 'C:\\\\ProgramData\\\\Anaconda3\\\\lib\\\\bdb.py'>, 'IPython.utils': <module 'IPython.utils' from 'C:\\\\ProgramData\\\\Anaconda3\\\\lib\\\\site-packages\\\\IPython\\\\utils\\\\__init__.py'>, 'IPython.utils.PyColorize': <module 'IPython.utils.PyColorize' from 'C:\\\\ProgramData\\\\Anaconda3\\\\lib\\\\site-packages\\\\IPython\\\\utils\\\\PyColorize.py'>, 'IPython.utils.coloransi': <module 'IPython.utils.coloransi' from 'C:\\\\ProgramData\\\\Anaconda3\\\\lib\\\\site-packages\\\\IPython\\\\utils\\\\coloransi.py'>, 'IPython.utils.ipstruct': <module 'IPython.utils.ipstruct' from 'C:\\\\ProgramData\\\\Anaconda3\\\\lib\\\\site-packages\\\\IPython\\\\utils\\\\ipstruct.py'>, 'IPython.utils.colorable': <module 'IPython.utils.colorable' from 'C:\\\\ProgramData\\\\Anaconda3\\\\lib\\\\site-packages\\\\IPython\\\\utils\\\\colorable.py'>, 'pygments': <module 'pygments' from 'C:\\\\ProgramData\\\\Anaconda3\\\\lib\\\\site-packages\\\\pygments\\\\__init__.py'>, 'pygments.util': <module 'pygments.util' from 'C:\\\\ProgramData\\\\Anaconda3\\\\lib\\\\site-packages\\\\pygments\\\\util.py'>, 'IPython.utils.py3compat': <module 'IPython.utils.py3compat' from 'C:\\\\ProgramData\\\\Anaconda3\\\\lib\\\\site-packages\\\\IPython\\\\utils\\\\py3compat.py'>, 'IPython.utils.encoding': <module 'IPython.utils.encoding' from 'C:\\\\ProgramData\\\\Anaconda3\\\\lib\\\\site-packages\\\\IPython\\\\utils\\\\encoding.py'>, 'IPython.core.excolors': <module 'IPython.core.excolors' from 'C:\\\\ProgramData\\\\Anaconda3\\\\lib\\\\site-packages\\\\IPython\\\\core\\\\excolors.py'>, 'IPython.testing': <module 'IPython.testing' from 'C:\\\\ProgramData\\\\Anaconda3\\\\lib\\\\site-packages\\\\IPython\\\\testing\\\\__init__.py'>, 'IPython.testing.skipdoctest': <module 'IPython.testing.skipdoctest' from 'C:\\\\ProgramData\\\\Anaconda3\\\\lib\\\\site-packages\\\\IPython\\\\testing\\\\skipdoctest.py'>, 'pdb': <module 'pdb' from 'C:\\\\ProgramData\\\\Anaconda3\\\\lib\\\\pdb.py'>, 'cmd': <module 'cmd' from 'C:\\\\ProgramData\\\\Anaconda3\\\\lib\\\\cmd.py'>, 'code': <module 'code' from 'C:\\\\ProgramData\\\\Anaconda3\\\\lib\\\\code.py'>, 'codeop': <module 'codeop' from 'C:\\\\ProgramData\\\\Anaconda3\\\\lib\\\\codeop.py'>, 'IPython.core.display_trap': <module 'IPython.core.display_trap' from 'C:\\\\ProgramData\\\\Anaconda3\\\\lib\\\\site-packages\\\\IPython\\\\core\\\\display_trap.py'>, 'IPython.utils.openpy': <module 'IPython.utils.openpy' from 'C:\\\\ProgramData\\\\Anaconda3\\\\lib\\\\site-packages\\\\IPython\\\\utils\\\\openpy.py'>, 'IPython.utils.path': <module 'IPython.utils.path' from 'C:\\\\ProgramData\\\\Anaconda3\\\\lib\\\\site-packages\\\\IPython\\\\utils\\\\path.py'>, 'IPython.utils.process': <module 'IPython.utils.process' from 'C:\\\\ProgramData\\\\Anaconda3\\\\lib\\\\site-packages\\\\IPython\\\\utils\\\\process.py'>, 'IPython.utils._process_win32': <module 'IPython.utils._process_win32' from 'C:\\\\ProgramData\\\\Anaconda3\\\\lib\\\\site-packages\\\\IPython\\\\utils\\\\_process_win32.py'>, 'ctypes': <module 'ctypes' from 'C:\\\\ProgramData\\\\Anaconda3\\\\lib\\\\ctypes\\\\__init__.py'>, '_ctypes': <module '_ctypes' from 'C:\\\\ProgramData\\\\Anaconda3\\\\DLLs\\\\_ctypes.pyd'>, 'ctypes._endian': <module 'ctypes._endian' from 'C:\\\\ProgramData\\\\Anaconda3\\\\lib\\\\ctypes\\\\_endian.py'>, 'ctypes.wintypes': <module 'ctypes.wintypes' from 'C:\\\\ProgramData\\\\Anaconda3\\\\lib\\\\ctypes\\\\wintypes.py'>, 'IPython.utils._process_common': <module 'IPython.utils._process_common' from 'C:\\\\ProgramData\\\\Anaconda3\\\\lib\\\\site-packages\\\\IPython\\\\utils\\\\_process_common.py'>, 'shlex': <module 'shlex' from 'C:\\\\ProgramData\\\\Anaconda3\\\\lib\\\\shlex.py'>, 'IPython.utils.decorators': <module 'IPython.utils.decorators' from 'C:\\\\ProgramData\\\\Anaconda3\\\\lib\\\\site-packages\\\\IPython\\\\utils\\\\decorators.py'>, 'IPython.utils.data': <module 'IPython.utils.data' from 'C:\\\\ProgramData\\\\Anaconda3\\\\lib\\\\site-packages\\\\IPython\\\\utils\\\\data.py'>, 'IPython.utils.terminal': <module 'IPython.utils.terminal' from 'C:\\\\ProgramData\\\\Anaconda3\\\\lib\\\\site-packages\\\\IPython\\\\utils\\\\terminal.py'>, 'IPython.utils.sysinfo': <module 'IPython.utils.sysinfo' from 'C:\\\\ProgramData\\\\Anaconda3\\\\lib\\\\site-packages\\\\IPython\\\\utils\\\\sysinfo.py'>, 'IPython.utils._sysinfo': <module 'IPython.utils._sysinfo' from 'C:\\\\ProgramData\\\\Anaconda3\\\\lib\\\\site-packages\\\\IPython\\\\utils\\\\_sysinfo.py'>, 'IPython.core.profiledir': <module 'IPython.core.profiledir' from 'C:\\\\ProgramData\\\\Anaconda3\\\\lib\\\\site-packages\\\\IPython\\\\core\\\\profiledir.py'>, 'IPython.paths': <module 'IPython.paths' from 'C:\\\\ProgramData\\\\Anaconda3\\\\lib\\\\site-packages\\\\IPython\\\\paths.py'>, 'tempfile': <module 'tempfile' from 'C:\\\\ProgramData\\\\Anaconda3\\\\lib\\\\tempfile.py'>, 'IPython.utils.importstring': <module 'IPython.utils.importstring' from 'C:\\\\ProgramData\\\\Anaconda3\\\\lib\\\\site-packages\\\\IPython\\\\utils\\\\importstring.py'>, 'IPython.terminal': <module 'IPython.terminal' from 'C:\\\\ProgramData\\\\Anaconda3\\\\lib\\\\site-packages\\\\IPython\\\\terminal\\\\__init__.py'>, 'IPython.terminal.embed': <module 'IPython.terminal.embed' from 'C:\\\\ProgramData\\\\Anaconda3\\\\lib\\\\site-packages\\\\IPython\\\\terminal\\\\embed.py'>, 'IPython.core.compilerop': <module 'IPython.core.compilerop' from 'C:\\\\ProgramData\\\\Anaconda3\\\\lib\\\\site-packages\\\\IPython\\\\core\\\\compilerop.py'>, 'IPython.core.magic_arguments': <module 'IPython.core.magic_arguments' from 'C:\\\\ProgramData\\\\Anaconda3\\\\lib\\\\site-packages\\\\IPython\\\\core\\\\magic_arguments.py'>, 'IPython.core.error': <module 'IPython.core.error' from 'C:\\\\ProgramData\\\\Anaconda3\\\\lib\\\\site-packages\\\\IPython\\\\core\\\\error.py'>, 'IPython.utils.text': <module 'IPython.utils.text' from 'C:\\\\ProgramData\\\\Anaconda3\\\\lib\\\\site-packages\\\\IPython\\\\utils\\\\text.py'>, 'pathlib': <module 'pathlib' from 'C:\\\\ProgramData\\\\Anaconda3\\\\lib\\\\pathlib.py'>, 'IPython.core.magic': <module 'IPython.core.magic' from 'C:\\\\ProgramData\\\\Anaconda3\\\\lib\\\\site-packages\\\\IPython\\\\core\\\\magic.py'>, 'getopt': <module 'getopt' from 'C:\\\\ProgramData\\\\Anaconda3\\\\lib\\\\getopt.py'>, 'IPython.core.oinspect': <module 'IPython.core.oinspect' from 'C:\\\\ProgramData\\\\Anaconda3\\\\lib\\\\site-packages\\\\IPython\\\\core\\\\oinspect.py'>, 'IPython.core.page': <module 'IPython.core.page' from 'C:\\\\ProgramData\\\\Anaconda3\\\\lib\\\\site-packages\\\\IPython\\\\core\\\\page.py'>, 'IPython.core.display': <module 'IPython.core.display' from 'C:\\\\ProgramData\\\\Anaconda3\\\\lib\\\\site-packages\\\\IPython\\\\core\\\\display.py'>, 'binascii': <module 'binascii' (built-in)>, 'mimetypes': <module 'mimetypes' from 'C:\\\\ProgramData\\\\Anaconda3\\\\lib\\\\mimetypes.py'>, 'IPython.lib': <module 'IPython.lib' from 'C:\\\\ProgramData\\\\Anaconda3\\\\lib\\\\site-packages\\\\IPython\\\\lib\\\\__init__.py'>, 'IPython.lib.security': <module 'IPython.lib.security' from 'C:\\\\ProgramData\\\\Anaconda3\\\\lib\\\\site-packages\\\\IPython\\\\lib\\\\security.py'>, 'getpass': <module 'getpass' from 'C:\\\\ProgramData\\\\Anaconda3\\\\lib\\\\getpass.py'>, 'IPython.lib.pretty': <module 'IPython.lib.pretty' from 'C:\\\\ProgramData\\\\Anaconda3\\\\lib\\\\site-packages\\\\IPython\\\\lib\\\\pretty.py'>, 'datetime': <module 'datetime' from 'C:\\\\ProgramData\\\\Anaconda3\\\\lib\\\\datetime.py'>, '_datetime': <module '_datetime' (built-in)>, 'IPython.utils.dir2': <module 'IPython.utils.dir2' from 'C:\\\\ProgramData\\\\Anaconda3\\\\lib\\\\site-packages\\\\IPython\\\\utils\\\\dir2.py'>, 'IPython.utils.wildcard': <module 'IPython.utils.wildcard' from 'C:\\\\ProgramData\\\\Anaconda3\\\\lib\\\\site-packages\\\\IPython\\\\utils\\\\wildcard.py'>, 'pygments.lexers': <module 'pygments.lexers' from 'C:\\\\ProgramData\\\\Anaconda3\\\\lib\\\\site-packages\\\\pygments\\\\lexers\\\\__init__.py'>, 'pygments.lexers._mapping': <module 'pygments.lexers._mapping' from 'C:\\\\ProgramData\\\\Anaconda3\\\\lib\\\\site-packages\\\\pygments\\\\lexers\\\\_mapping.py'>, 'pygments.modeline': <module 'pygments.modeline' from 'C:\\\\ProgramData\\\\Anaconda3\\\\lib\\\\site-packages\\\\pygments\\\\modeline.py'>, 'pygments.plugin': <module 'pygments.plugin' from 'C:\\\\ProgramData\\\\Anaconda3\\\\lib\\\\site-packages\\\\pygments\\\\plugin.py'>, 'pygments.lexers.python': <module 'pygments.lexers.python' from 'C:\\\\ProgramData\\\\Anaconda3\\\\lib\\\\site-packages\\\\pygments\\\\lexers\\\\python.py'>, 'pygments.lexer': <module 'pygments.lexer' from 'C:\\\\ProgramData\\\\Anaconda3\\\\lib\\\\site-packages\\\\pygments\\\\lexer.py'>, 'pygments.filter': <module 'pygments.filter' from 'C:\\\\ProgramData\\\\Anaconda3\\\\lib\\\\site-packages\\\\pygments\\\\filter.py'>, 'pygments.filters': <module 'pygments.filters' from 'C:\\\\ProgramData\\\\Anaconda3\\\\lib\\\\site-packages\\\\pygments\\\\filters\\\\__init__.py'>, 'pygments.token': <module 'pygments.token' from 'C:\\\\ProgramData\\\\Anaconda3\\\\lib\\\\site-packages\\\\pygments\\\\token.py'>, 'pygments.regexopt': <module 'pygments.regexopt' from 'C:\\\\ProgramData\\\\Anaconda3\\\\lib\\\\site-packages\\\\pygments\\\\regexopt.py'>, 'pygments.unistring': <module 'pygments.unistring' from 'C:\\\\ProgramData\\\\Anaconda3\\\\lib\\\\site-packages\\\\pygments\\\\unistring.py'>, 'pygments.formatters': <module 'pygments.formatters' from 'C:\\\\ProgramData\\\\Anaconda3\\\\lib\\\\site-packages\\\\pygments\\\\formatters\\\\__init__.py'>, 'pygments.formatters._mapping': <module 'pygments.formatters._mapping' from 'C:\\\\ProgramData\\\\Anaconda3\\\\lib\\\\site-packages\\\\pygments\\\\formatters\\\\_mapping.py'>, 'pygments.formatters.html': <module 'pygments.formatters.html' from 'C:\\\\ProgramData\\\\Anaconda3\\\\lib\\\\site-packages\\\\pygments\\\\formatters\\\\html.py'>, 'pygments.formatter': <module 'pygments.formatter' from 'C:\\\\ProgramData\\\\Anaconda3\\\\lib\\\\site-packages\\\\pygments\\\\formatter.py'>, 'pygments.styles': <module 'pygments.styles' from 'C:\\\\ProgramData\\\\Anaconda3\\\\lib\\\\site-packages\\\\pygments\\\\styles\\\\__init__.py'>, 'IPython.core.inputsplitter': <module 'IPython.core.inputsplitter' from 'C:\\\\ProgramData\\\\Anaconda3\\\\lib\\\\site-packages\\\\IPython\\\\core\\\\inputsplitter.py'>, 'IPython.core.inputtransformer': <module 'IPython.core.inputtransformer' from 'C:\\\\ProgramData\\\\Anaconda3\\\\lib\\\\site-packages\\\\IPython\\\\core\\\\inputtransformer.py'>, 'IPython.core.splitinput': <module 'IPython.core.splitinput' from 'C:\\\\ProgramData\\\\Anaconda3\\\\lib\\\\site-packages\\\\IPython\\\\core\\\\splitinput.py'>, 'IPython.utils.tokenize2': <module 'IPython.utils.tokenize2' from 'C:\\\\ProgramData\\\\Anaconda3\\\\lib\\\\site-packages\\\\IPython\\\\utils\\\\tokenize2.py'>, 'IPython.core.interactiveshell': <module 'IPython.core.interactiveshell' from 'C:\\\\ProgramData\\\\Anaconda3\\\\lib\\\\site-packages\\\\IPython\\\\core\\\\interactiveshell.py'>, 'pickleshare': <module 'pickleshare' from 'C:\\\\ProgramData\\\\Anaconda3\\\\lib\\\\site-packages\\\\pickleshare.py'>, 'pickle': <module 'pickle' from 'C:\\\\ProgramData\\\\Anaconda3\\\\lib\\\\pickle.py'>, '_compat_pickle': <module '_compat_pickle' from 'C:\\\\ProgramData\\\\Anaconda3\\\\lib\\\\_compat_pickle.py'>, '_pickle': <module '_pickle' (built-in)>, 'IPython.core.prefilter': <module 'IPython.core.prefilter' from 'C:\\\\ProgramData\\\\Anaconda3\\\\lib\\\\site-packages\\\\IPython\\\\core\\\\prefilter.py'>, 'IPython.core.autocall': <module 'IPython.core.autocall' from 'C:\\\\ProgramData\\\\Anaconda3\\\\lib\\\\site-packages\\\\IPython\\\\core\\\\autocall.py'>, 'IPython.core.macro': <module 'IPython.core.macro' from 'C:\\\\ProgramData\\\\Anaconda3\\\\lib\\\\site-packages\\\\IPython\\\\core\\\\macro.py'>, 'IPython.core.alias': <module 'IPython.core.alias' from 'C:\\\\ProgramData\\\\Anaconda3\\\\lib\\\\site-packages\\\\IPython\\\\core\\\\alias.py'>, 'IPython.core.builtin_trap': <module 'IPython.core.builtin_trap' from 'C:\\\\ProgramData\\\\Anaconda3\\\\lib\\\\site-packages\\\\IPython\\\\core\\\\builtin_trap.py'>, 'IPython.core.events': <module 'IPython.core.events' from 'C:\\\\ProgramData\\\\Anaconda3\\\\lib\\\\site-packages\\\\IPython\\\\core\\\\events.py'>, 'IPython.core.displayhook': <module 'IPython.core.displayhook' from 'C:\\\\ProgramData\\\\Anaconda3\\\\lib\\\\site-packages\\\\IPython\\\\core\\\\displayhook.py'>, 'IPython.core.displaypub': <module 'IPython.core.displaypub' from 'C:\\\\ProgramData\\\\Anaconda3\\\\lib\\\\site-packages\\\\IPython\\\\core\\\\displaypub.py'>, 'IPython.core.extensions': <module 'IPython.core.extensions' from 'C:\\\\ProgramData\\\\Anaconda3\\\\lib\\\\site-packages\\\\IPython\\\\core\\\\extensions.py'>, 'IPython.core.formatters': <module 'IPython.core.formatters' from 'C:\\\\ProgramData\\\\Anaconda3\\\\lib\\\\site-packages\\\\IPython\\\\core\\\\formatters.py'>, 'IPython.utils.sentinel': <module 'IPython.utils.sentinel' from 'C:\\\\ProgramData\\\\Anaconda3\\\\lib\\\\site-packages\\\\IPython\\\\utils\\\\sentinel.py'>, 'IPython.core.history': <module 'IPython.core.history' from 'C:\\\\ProgramData\\\\Anaconda3\\\\lib\\\\site-packages\\\\IPython\\\\core\\\\history.py'>, 'sqlite3': <module 'sqlite3' from 'C:\\\\ProgramData\\\\Anaconda3\\\\lib\\\\sqlite3\\\\__init__.py'>, 'sqlite3.dbapi2': <module 'sqlite3.dbapi2' from 'C:\\\\ProgramData\\\\Anaconda3\\\\lib\\\\sqlite3\\\\dbapi2.py'>, '_sqlite3': <module '_sqlite3' from 'C:\\\\ProgramData\\\\Anaconda3\\\\DLLs\\\\_sqlite3.pyd'>, 'IPython.core.logger': <module 'IPython.core.logger' from 'C:\\\\ProgramData\\\\Anaconda3\\\\lib\\\\site-packages\\\\IPython\\\\core\\\\logger.py'>, 'IPython.core.payload': <module 'IPython.core.payload' from 'C:\\\\ProgramData\\\\Anaconda3\\\\lib\\\\site-packages\\\\IPython\\\\core\\\\payload.py'>, 'IPython.core.usage': <module 'IPython.core.usage' from 'C:\\\\ProgramData\\\\Anaconda3\\\\lib\\\\site-packages\\\\IPython\\\\core\\\\usage.py'>, 'IPython.display': <module 'IPython.display' from 'C:\\\\ProgramData\\\\Anaconda3\\\\lib\\\\site-packages\\\\IPython\\\\display.py'>, 'IPython.lib.display': <module 'IPython.lib.display' from 'C:\\\\ProgramData\\\\Anaconda3\\\\lib\\\\site-packages\\\\IPython\\\\lib\\\\display.py'>, 'IPython.utils.io': <module 'IPython.utils.io' from 'C:\\\\ProgramData\\\\Anaconda3\\\\lib\\\\site-packages\\\\IPython\\\\utils\\\\io.py'>, 'IPython.utils.capture': <module 'IPython.utils.capture' from 'C:\\\\ProgramData\\\\Anaconda3\\\\lib\\\\site-packages\\\\IPython\\\\utils\\\\capture.py'>, 'IPython.utils.strdispatch': <module 'IPython.utils.strdispatch' from 'C:\\\\ProgramData\\\\Anaconda3\\\\lib\\\\site-packages\\\\IPython\\\\utils\\\\strdispatch.py'>, 'IPython.core.hooks': <module 'IPython.core.hooks' from 'C:\\\\ProgramData\\\\Anaconda3\\\\lib\\\\site-packages\\\\IPython\\\\core\\\\hooks.py'>, 'IPython.utils.syspathcontext': <module 'IPython.utils.syspathcontext' from 'C:\\\\ProgramData\\\\Anaconda3\\\\lib\\\\site-packages\\\\IPython\\\\utils\\\\syspathcontext.py'>, 'IPython.utils.tempdir': <module 'IPython.utils.tempdir' from 'C:\\\\ProgramData\\\\Anaconda3\\\\lib\\\\site-packages\\\\IPython\\\\utils\\\\tempdir.py'>, 'typing': <module 'typing' from 'C:\\\\ProgramData\\\\Anaconda3\\\\lib\\\\typing.py'>, 'typing.io': <class 'typing.io'>, 'typing.re': <class 'typing.re'>, 'IPython.utils.contexts': <module 'IPython.utils.contexts' from 'C:\\\\ProgramData\\\\Anaconda3\\\\lib\\\\site-packages\\\\IPython\\\\utils\\\\contexts.py'>, 'IPython.terminal.interactiveshell': <module 'IPython.terminal.interactiveshell' from 'C:\\\\ProgramData\\\\Anaconda3\\\\lib\\\\site-packages\\\\IPython\\\\terminal\\\\interactiveshell.py'>, 'prompt_toolkit': <module 'prompt_toolkit' from 'C:\\\\ProgramData\\\\Anaconda3\\\\lib\\\\site-packages\\\\prompt_toolkit\\\\__init__.py'>, 'prompt_toolkit.interface': <module 'prompt_toolkit.interface' from 'C:\\\\ProgramData\\\\Anaconda3\\\\lib\\\\site-packages\\\\prompt_toolkit\\\\interface.py'>, 'prompt_toolkit.application': <module 'prompt_toolkit.application' from 'C:\\\\ProgramData\\\\Anaconda3\\\\lib\\\\site-packages\\\\prompt_toolkit\\\\application.py'>, 'prompt_toolkit.buffer': <module 'prompt_toolkit.buffer' from 'C:\\\\ProgramData\\\\Anaconda3\\\\lib\\\\site-packages\\\\prompt_toolkit\\\\buffer.py'>, 'prompt_toolkit.auto_suggest': <module 'prompt_toolkit.auto_suggest' from 'C:\\\\ProgramData\\\\Anaconda3\\\\lib\\\\site-packages\\\\prompt_toolkit\\\\auto_suggest.py'>, 'prompt_toolkit.filters': <module 'prompt_toolkit.filters' from 'C:\\\\ProgramData\\\\Anaconda3\\\\lib\\\\site-packages\\\\prompt_toolkit\\\\filters\\\\__init__.py'>, 'prompt_toolkit.filters.base': <module 'prompt_toolkit.filters.base' from 'C:\\\\ProgramData\\\\Anaconda3\\\\lib\\\\site-packages\\\\prompt_toolkit\\\\filters\\\\base.py'>, 'prompt_toolkit.utils': <module 'prompt_toolkit.utils' from 'C:\\\\ProgramData\\\\Anaconda3\\\\lib\\\\site-packages\\\\prompt_toolkit\\\\utils.py'>, 'wcwidth': <module 'wcwidth' from 'C:\\\\ProgramData\\\\Anaconda3\\\\lib\\\\site-packages\\\\wcwidth\\\\__init__.py'>, 'wcwidth.wcwidth': <module 'wcwidth.wcwidth' from 'C:\\\\ProgramData\\\\Anaconda3\\\\lib\\\\site-packages\\\\wcwidth\\\\wcwidth.py'>, 'wcwidth.table_wide': <module 'wcwidth.table_wide' from 'C:\\\\ProgramData\\\\Anaconda3\\\\lib\\\\site-packages\\\\wcwidth\\\\table_wide.py'>, 'wcwidth.table_zero': <module 'wcwidth.table_zero' from 'C:\\\\ProgramData\\\\Anaconda3\\\\lib\\\\site-packages\\\\wcwidth\\\\table_zero.py'>, 'six.moves': <module 'six.moves' (<six._SixMetaPathImporter object at 0x0000000002D8FB00>)>, 'prompt_toolkit.filters.cli': <module 'prompt_toolkit.filters.cli' from 'C:\\\\ProgramData\\\\Anaconda3\\\\lib\\\\site-packages\\\\prompt_toolkit\\\\filters\\\\cli.py'>, 'prompt_toolkit.enums': <module 'prompt_toolkit.enums' from 'C:\\\\ProgramData\\\\Anaconda3\\\\lib\\\\site-packages\\\\prompt_toolkit\\\\enums.py'>, 'prompt_toolkit.key_binding': <module 'prompt_toolkit.key_binding' from 'C:\\\\ProgramData\\\\Anaconda3\\\\lib\\\\site-packages\\\\prompt_toolkit\\\\key_binding\\\\__init__.py'>, 'prompt_toolkit.key_binding.vi_state': <module 'prompt_toolkit.key_binding.vi_state' from 'C:\\\\ProgramData\\\\Anaconda3\\\\lib\\\\site-packages\\\\prompt_toolkit\\\\key_binding\\\\vi_state.py'>, 'prompt_toolkit.cache': <module 'prompt_toolkit.cache' from 'C:\\\\ProgramData\\\\Anaconda3\\\\lib\\\\site-packages\\\\prompt_toolkit\\\\cache.py'>, 'prompt_toolkit.filters.types': <module 'prompt_toolkit.filters.types' from 'C:\\\\ProgramData\\\\Anaconda3\\\\lib\\\\site-packages\\\\prompt_toolkit\\\\filters\\\\types.py'>, 'prompt_toolkit.filters.utils': <module 'prompt_toolkit.filters.utils' from 'C:\\\\ProgramData\\\\Anaconda3\\\\lib\\\\site-packages\\\\prompt_toolkit\\\\filters\\\\utils.py'>, 'prompt_toolkit.clipboard': <module 'prompt_toolkit.clipboard' from 'C:\\\\ProgramData\\\\Anaconda3\\\\lib\\\\site-packages\\\\prompt_toolkit\\\\clipboard\\\\__init__.py'>, 'prompt_toolkit.clipboard.base': <module 'prompt_toolkit.clipboard.base' from 'C:\\\\ProgramData\\\\Anaconda3\\\\lib\\\\site-packages\\\\prompt_toolkit\\\\clipboard\\\\base.py'>, 'prompt_toolkit.selection': <module 'prompt_toolkit.selection' from 'C:\\\\ProgramData\\\\Anaconda3\\\\lib\\\\site-packages\\\\prompt_toolkit\\\\selection.py'>, 'prompt_toolkit.clipboard.in_memory': <module 'prompt_toolkit.clipboard.in_memory' from 'C:\\\\ProgramData\\\\Anaconda3\\\\lib\\\\site-packages\\\\prompt_toolkit\\\\clipboard\\\\in_memory.py'>, 'prompt_toolkit.completion': <module 'prompt_toolkit.completion' from 'C:\\\\ProgramData\\\\Anaconda3\\\\lib\\\\site-packages\\\\prompt_toolkit\\\\completion.py'>, 'prompt_toolkit.document': <module 'prompt_toolkit.document' from 'C:\\\\ProgramData\\\\Anaconda3\\\\lib\\\\site-packages\\\\prompt_toolkit\\\\document.py'>, 'prompt_toolkit.history': <module 'prompt_toolkit.history' from 'C:\\\\ProgramData\\\\Anaconda3\\\\lib\\\\site-packages\\\\prompt_toolkit\\\\history.py'>, 'prompt_toolkit.search_state': <module 'prompt_toolkit.search_state' from 'C:\\\\ProgramData\\\\Anaconda3\\\\lib\\\\site-packages\\\\prompt_toolkit\\\\search_state.py'>, 'prompt_toolkit.validation': <module 'prompt_toolkit.validation' from 'C:\\\\ProgramData\\\\Anaconda3\\\\lib\\\\site-packages\\\\prompt_toolkit\\\\validation.py'>, 'prompt_toolkit.buffer_mapping': <module 'prompt_toolkit.buffer_mapping' from 'C:\\\\ProgramData\\\\Anaconda3\\\\lib\\\\site-packages\\\\prompt_toolkit\\\\buffer_mapping.py'>, 'prompt_toolkit.key_binding.bindings': <module 'prompt_toolkit.key_binding.bindings' from 'C:\\\\ProgramData\\\\Anaconda3\\\\lib\\\\site-packages\\\\prompt_toolkit\\\\key_binding\\\\bindings\\\\__init__.py'>, 'prompt_toolkit.key_binding.bindings.basic': <module 'prompt_toolkit.key_binding.bindings.basic' from 'C:\\\\ProgramData\\\\Anaconda3\\\\lib\\\\site-packages\\\\prompt_toolkit\\\\key_binding\\\\bindings\\\\basic.py'>, 'prompt_toolkit.keys': <module 'prompt_toolkit.keys' from 'C:\\\\ProgramData\\\\Anaconda3\\\\lib\\\\site-packages\\\\prompt_toolkit\\\\keys.py'>, 'prompt_toolkit.layout': <module 'prompt_toolkit.layout' from 'C:\\\\ProgramData\\\\Anaconda3\\\\lib\\\\site-packages\\\\prompt_toolkit\\\\layout\\\\__init__.py'>, 'prompt_toolkit.layout.containers': <module 'prompt_toolkit.layout.containers' from 'C:\\\\ProgramData\\\\Anaconda3\\\\lib\\\\site-packages\\\\prompt_toolkit\\\\layout\\\\containers.py'>, 'prompt_toolkit.layout.controls': <module 'prompt_toolkit.layout.controls' from 'C:\\\\ProgramData\\\\Anaconda3\\\\lib\\\\site-packages\\\\prompt_toolkit\\\\layout\\\\controls.py'>, 'prompt_toolkit.mouse_events': <module 'prompt_toolkit.mouse_events' from 'C:\\\\ProgramData\\\\Anaconda3\\\\lib\\\\site-packages\\\\prompt_toolkit\\\\mouse_events.py'>, 'prompt_toolkit.token': <module 'prompt_toolkit.token' from 'C:\\\\ProgramData\\\\Anaconda3\\\\lib\\\\site-packages\\\\prompt_toolkit\\\\token.py'>, 'prompt_toolkit.layout.lexers': <module 'prompt_toolkit.layout.lexers' from 'C:\\\\ProgramData\\\\Anaconda3\\\\lib\\\\site-packages\\\\prompt_toolkit\\\\layout\\\\lexers.py'>, 'prompt_toolkit.layout.utils': <module 'prompt_toolkit.layout.utils' from 'C:\\\\ProgramData\\\\Anaconda3\\\\lib\\\\site-packages\\\\prompt_toolkit\\\\layout\\\\utils.py'>, 'prompt_toolkit.layout.processors': <module 'prompt_toolkit.layout.processors' from 'C:\\\\ProgramData\\\\Anaconda3\\\\lib\\\\site-packages\\\\prompt_toolkit\\\\layout\\\\processors.py'>, 'prompt_toolkit.reactive': <module 'prompt_toolkit.reactive' from 'C:\\\\ProgramData\\\\Anaconda3\\\\lib\\\\site-packages\\\\prompt_toolkit\\\\reactive.py'>, 'prompt_toolkit.layout.screen': <module 'prompt_toolkit.layout.screen' from 'C:\\\\ProgramData\\\\Anaconda3\\\\lib\\\\site-packages\\\\prompt_toolkit\\\\layout\\\\screen.py'>, 'prompt_toolkit.layout.dimension': <module 'prompt_toolkit.layout.dimension' from 'C:\\\\ProgramData\\\\Anaconda3\\\\lib\\\\site-packages\\\\prompt_toolkit\\\\layout\\\\dimension.py'>, 'prompt_toolkit.layout.margins': <module 'prompt_toolkit.layout.margins' from 'C:\\\\ProgramData\\\\Anaconda3\\\\lib\\\\site-packages\\\\prompt_toolkit\\\\layout\\\\margins.py'>, 'prompt_toolkit.renderer': <module 'prompt_toolkit.renderer' from 'C:\\\\ProgramData\\\\Anaconda3\\\\lib\\\\site-packages\\\\prompt_toolkit\\\\renderer.py'>, 'prompt_toolkit.layout.mouse_handlers': <module 'prompt_toolkit.layout.mouse_handlers' from 'C:\\\\ProgramData\\\\Anaconda3\\\\lib\\\\site-packages\\\\prompt_toolkit\\\\layout\\\\mouse_handlers.py'>, 'prompt_toolkit.output': <module 'prompt_toolkit.output' from 'C:\\\\ProgramData\\\\Anaconda3\\\\lib\\\\site-packages\\\\prompt_toolkit\\\\output.py'>, 'prompt_toolkit.styles': <module 'prompt_toolkit.styles' from 'C:\\\\ProgramData\\\\Anaconda3\\\\lib\\\\site-packages\\\\prompt_toolkit\\\\styles\\\\__init__.py'>, 'prompt_toolkit.styles.base': <module 'prompt_toolkit.styles.base' from 'C:\\\\ProgramData\\\\Anaconda3\\\\lib\\\\site-packages\\\\prompt_toolkit\\\\styles\\\\base.py'>, 'prompt_toolkit.styles.defaults': <module 'prompt_toolkit.styles.defaults' from 'C:\\\\ProgramData\\\\Anaconda3\\\\lib\\\\site-packages\\\\prompt_toolkit\\\\styles\\\\defaults.py'>, 'prompt_toolkit.styles.from_dict': <module 'prompt_toolkit.styles.from_dict' from 'C:\\\\ProgramData\\\\Anaconda3\\\\lib\\\\site-packages\\\\prompt_toolkit\\\\styles\\\\from_dict.py'>, 'prompt_toolkit.styles.utils': <module 'prompt_toolkit.styles.utils' from 'C:\\\\ProgramData\\\\Anaconda3\\\\lib\\\\site-packages\\\\prompt_toolkit\\\\styles\\\\utils.py'>, 'prompt_toolkit.styles.from_pygments': <module 'prompt_toolkit.styles.from_pygments' from 'C:\\\\ProgramData\\\\Anaconda3\\\\lib\\\\site-packages\\\\prompt_toolkit\\\\styles\\\\from_pygments.py'>, 'pygments.style': <module 'pygments.style' from 'C:\\\\ProgramData\\\\Anaconda3\\\\lib\\\\site-packages\\\\pygments\\\\style.py'>, 'pygments.styles.default': <module 'pygments.styles.default' from 'C:\\\\ProgramData\\\\Anaconda3\\\\lib\\\\site-packages\\\\pygments\\\\styles\\\\default.py'>, 'prompt_toolkit.key_binding.bindings.named_commands': <module 'prompt_toolkit.key_binding.bindings.named_commands' from 'C:\\\\ProgramData\\\\Anaconda3\\\\lib\\\\site-packages\\\\prompt_toolkit\\\\key_binding\\\\bindings\\\\named_commands.py'>, 'prompt_toolkit.key_binding.bindings.completion': <module 'prompt_toolkit.key_binding.bindings.completion' from 'C:\\\\ProgramData\\\\Anaconda3\\\\lib\\\\site-packages\\\\prompt_toolkit\\\\key_binding\\\\bindings\\\\completion.py'>, 'prompt_toolkit.key_binding.registry': <module 'prompt_toolkit.key_binding.registry' from 'C:\\\\ProgramData\\\\Anaconda3\\\\lib\\\\site-packages\\\\prompt_toolkit\\\\key_binding\\\\registry.py'>, 'prompt_toolkit.key_binding.input_processor': <module 'prompt_toolkit.key_binding.input_processor' from 'C:\\\\ProgramData\\\\Anaconda3\\\\lib\\\\site-packages\\\\prompt_toolkit\\\\key_binding\\\\input_processor.py'>, 'prompt_toolkit.key_binding.bindings.emacs': <module 'prompt_toolkit.key_binding.bindings.emacs' from 'C:\\\\ProgramData\\\\Anaconda3\\\\lib\\\\site-packages\\\\prompt_toolkit\\\\key_binding\\\\bindings\\\\emacs.py'>, 'prompt_toolkit.key_binding.bindings.scroll': <module 'prompt_toolkit.key_binding.bindings.scroll' from 'C:\\\\ProgramData\\\\Anaconda3\\\\lib\\\\site-packages\\\\prompt_toolkit\\\\key_binding\\\\bindings\\\\scroll.py'>, 'prompt_toolkit.key_binding.bindings.vi': <module 'prompt_toolkit.key_binding.bindings.vi' from 'C:\\\\ProgramData\\\\Anaconda3\\\\lib\\\\site-packages\\\\prompt_toolkit\\\\key_binding\\\\bindings\\\\vi.py'>, 'prompt_toolkit.key_binding.digraphs': <module 'prompt_toolkit.key_binding.digraphs' from 'C:\\\\ProgramData\\\\Anaconda3\\\\lib\\\\site-packages\\\\prompt_toolkit\\\\key_binding\\\\digraphs.py'>, 'prompt_toolkit.key_binding.defaults': <module 'prompt_toolkit.key_binding.defaults' from 'C:\\\\ProgramData\\\\Anaconda3\\\\lib\\\\site-packages\\\\prompt_toolkit\\\\key_binding\\\\defaults.py'>, 'prompt_toolkit.eventloop': <module 'prompt_toolkit.eventloop' from 'C:\\\\ProgramData\\\\Anaconda3\\\\lib\\\\site-packages\\\\prompt_toolkit\\\\eventloop\\\\__init__.py'>, 'prompt_toolkit.eventloop.base': <module 'prompt_toolkit.eventloop.base' from 'C:\\\\ProgramData\\\\Anaconda3\\\\lib\\\\site-packages\\\\prompt_toolkit\\\\eventloop\\\\base.py'>, 'prompt_toolkit.eventloop.callbacks': <module 'prompt_toolkit.eventloop.callbacks' from 'C:\\\\ProgramData\\\\Anaconda3\\\\lib\\\\site-packages\\\\prompt_toolkit\\\\eventloop\\\\callbacks.py'>, 'prompt_toolkit.input': <module 'prompt_toolkit.input' from 'C:\\\\ProgramData\\\\Anaconda3\\\\lib\\\\site-packages\\\\prompt_toolkit\\\\input.py'>, 'prompt_toolkit.terminal': <module 'prompt_toolkit.terminal' from 'C:\\\\ProgramData\\\\Anaconda3\\\\lib\\\\site-packages\\\\prompt_toolkit\\\\terminal\\\\__init__.py'>, 'prompt_toolkit.terminal.win32_input': <module 'prompt_toolkit.terminal.win32_input' from 'C:\\\\ProgramData\\\\Anaconda3\\\\lib\\\\site-packages\\\\prompt_toolkit\\\\terminal\\\\win32_input.py'>, 'prompt_toolkit.win32_types': <module 'prompt_toolkit.win32_types' from 'C:\\\\ProgramData\\\\Anaconda3\\\\lib\\\\site-packages\\\\prompt_toolkit\\\\win32_types.py'>, 'prompt_toolkit.shortcuts': <module 'prompt_toolkit.shortcuts' from 'C:\\\\ProgramData\\\\Anaconda3\\\\lib\\\\site-packages\\\\prompt_toolkit\\\\shortcuts.py'>, 'prompt_toolkit.layout.menus': <module 'prompt_toolkit.layout.menus' from 'C:\\\\ProgramData\\\\Anaconda3\\\\lib\\\\site-packages\\\\prompt_toolkit\\\\layout\\\\menus.py'>, 'prompt_toolkit.layout.prompt': <module 'prompt_toolkit.layout.prompt' from 'C:\\\\ProgramData\\\\Anaconda3\\\\lib\\\\site-packages\\\\prompt_toolkit\\\\layout\\\\prompt.py'>, 'prompt_toolkit.layout.toolbars': <module 'prompt_toolkit.layout.toolbars' from 'C:\\\\ProgramData\\\\Anaconda3\\\\lib\\\\site-packages\\\\prompt_toolkit\\\\layout\\\\toolbars.py'>, 'prompt_toolkit.terminal.win32_output': <module 'prompt_toolkit.terminal.win32_output' from 'C:\\\\ProgramData\\\\Anaconda3\\\\lib\\\\site-packages\\\\prompt_toolkit\\\\terminal\\\\win32_output.py'>, 'prompt_toolkit.terminal.conemu_output': <module 'prompt_toolkit.terminal.conemu_output' from 'C:\\\\ProgramData\\\\Anaconda3\\\\lib\\\\site-packages\\\\prompt_toolkit\\\\terminal\\\\conemu_output.py'>, 'prompt_toolkit.terminal.vt100_output': <module 'prompt_toolkit.terminal.vt100_output' from 'C:\\\\ProgramData\\\\Anaconda3\\\\lib\\\\site-packages\\\\prompt_toolkit\\\\terminal\\\\vt100_output.py'>, 'array': <module 'array' (built-in)>, 'prompt_toolkit.key_binding.manager': <module 'prompt_toolkit.key_binding.manager' from 'C:\\\\ProgramData\\\\Anaconda3\\\\lib\\\\site-packages\\\\prompt_toolkit\\\\key_binding\\\\manager.py'>, 'IPython.terminal.debugger': <module 'IPython.terminal.debugger' from 'C:\\\\ProgramData\\\\Anaconda3\\\\lib\\\\site-packages\\\\IPython\\\\terminal\\\\debugger.py'>, 'IPython.core.completer': <module 'IPython.core.completer' from 'C:\\\\ProgramData\\\\Anaconda3\\\\lib\\\\site-packages\\\\IPython\\\\core\\\\completer.py'>, 'unicodedata': <module 'unicodedata' from 'C:\\\\ProgramData\\\\Anaconda3\\\\DLLs\\\\unicodedata.pyd'>, 'IPython.core.latex_symbols': <module 'IPython.core.latex_symbols' from 'C:\\\\ProgramData\\\\Anaconda3\\\\lib\\\\site-packages\\\\IPython\\\\core\\\\latex_symbols.py'>, 'IPython.utils.generics': <module 'IPython.utils.generics' from 'C:\\\\ProgramData\\\\Anaconda3\\\\lib\\\\site-packages\\\\IPython\\\\utils\\\\generics.py'>, 'simplegeneric': <module 'simplegeneric' from 'C:\\\\ProgramData\\\\Anaconda3\\\\lib\\\\site-packages\\\\simplegeneric.py'>, 'jedi': <module 'jedi' from 'C:\\\\ProgramData\\\\Anaconda3\\\\lib\\\\site-packages\\\\jedi\\\\__init__.py'>, 'jedi.api': <module 'jedi.api' from 'C:\\\\ProgramData\\\\Anaconda3\\\\lib\\\\site-packages\\\\jedi\\\\api\\\\__init__.py'>, 'parso': <module 'parso' from 'C:\\\\ProgramData\\\\Anaconda3\\\\lib\\\\site-packages\\\\parso\\\\__init__.py'>, 'parso.parser': <module 'parso.parser' from 'C:\\\\ProgramData\\\\Anaconda3\\\\lib\\\\site-packages\\\\parso\\\\parser.py'>, 'parso.tree': <module 'parso.tree' from 'C:\\\\ProgramData\\\\Anaconda3\\\\lib\\\\site-packages\\\\parso\\\\tree.py'>, 'parso._compatibility': <module 'parso._compatibility' from 'C:\\\\ProgramData\\\\Anaconda3\\\\lib\\\\site-packages\\\\parso\\\\_compatibility.py'>, 'parso.pgen2': <module 'parso.pgen2' from 'C:\\\\ProgramData\\\\Anaconda3\\\\lib\\\\site-packages\\\\parso\\\\pgen2\\\\__init__.py'>, 'parso.pgen2.parse': <module 'parso.pgen2.parse' from 'C:\\\\ProgramData\\\\Anaconda3\\\\lib\\\\site-packages\\\\parso\\\\pgen2\\\\parse.py'>, 'parso.python': <module 'parso.python' from 'C:\\\\ProgramData\\\\Anaconda3\\\\lib\\\\site-packages\\\\parso\\\\python\\\\__init__.py'>, 'parso.python.tokenize': <module 'parso.python.tokenize' from 'C:\\\\ProgramData\\\\Anaconda3\\\\lib\\\\site-packages\\\\parso\\\\python\\\\tokenize.py'>, 'parso.python.token': <module 'parso.python.token' from 'C:\\\\ProgramData\\\\Anaconda3\\\\lib\\\\site-packages\\\\parso\\\\python\\\\token.py'>, 'parso.utils': <module 'parso.utils' from 'C:\\\\ProgramData\\\\Anaconda3\\\\lib\\\\site-packages\\\\parso\\\\utils.py'>, 'parso.grammar': <module 'parso.grammar' from 'C:\\\\ProgramData\\\\Anaconda3\\\\lib\\\\site-packages\\\\parso\\\\grammar.py'>, 'parso.pgen2.pgen': <module 'parso.pgen2.pgen' from 'C:\\\\ProgramData\\\\Anaconda3\\\\lib\\\\site-packages\\\\parso\\\\pgen2\\\\pgen.py'>, 'parso.pgen2.grammar': <module 'parso.pgen2.grammar' from 'C:\\\\ProgramData\\\\Anaconda3\\\\lib\\\\site-packages\\\\parso\\\\pgen2\\\\grammar.py'>, 'parso.python.diff': <module 'parso.python.diff' from 'C:\\\\ProgramData\\\\Anaconda3\\\\lib\\\\site-packages\\\\parso\\\\python\\\\diff.py'>, 'difflib': <module 'difflib' from 'C:\\\\ProgramData\\\\Anaconda3\\\\lib\\\\difflib.py'>, 'parso.python.parser': <module 'parso.python.parser' from 'C:\\\\ProgramData\\\\Anaconda3\\\\lib\\\\site-packages\\\\parso\\\\python\\\\parser.py'>, 'parso.python.tree': <module 'parso.python.tree' from 'C:\\\\ProgramData\\\\Anaconda3\\\\lib\\\\site-packages\\\\parso\\\\python\\\\tree.py'>, 'parso.python.prefix': <module 'parso.python.prefix' from 'C:\\\\ProgramData\\\\Anaconda3\\\\lib\\\\site-packages\\\\parso\\\\python\\\\prefix.py'>, 'parso.cache': <module 'parso.cache' from 'C:\\\\ProgramData\\\\Anaconda3\\\\lib\\\\site-packages\\\\parso\\\\cache.py'>, 'gc': <module 'gc' (built-in)>, 'socket': <module 'socket' from 'C:\\\\ProgramData\\\\Anaconda3\\\\lib\\\\socket.py'>, '_socket': <module '_socket' from 'C:\\\\ProgramData\\\\Anaconda3\\\\DLLs\\\\_socket.pyd'>, 'selectors': <module 'selectors' from 'C:\\\\ProgramData\\\\Anaconda3\\\\lib\\\\selectors.py'>, 'select': <module 'select' from 'C:\\\\ProgramData\\\\Anaconda3\\\\DLLs\\\\select.pyd'>, 'parso.python.errors': <module 'parso.python.errors' from 'C:\\\\ProgramData\\\\Anaconda3\\\\lib\\\\site-packages\\\\parso\\\\python\\\\errors.py'>, 'parso.normalizer': <module 'parso.normalizer' from 'C:\\\\ProgramData\\\\Anaconda3\\\\lib\\\\site-packages\\\\parso\\\\normalizer.py'>, 'parso.python.pep8': <module 'parso.python.pep8' from 'C:\\\\ProgramData\\\\Anaconda3\\\\lib\\\\site-packages\\\\parso\\\\python\\\\pep8.py'>, 'parso.python.fstring': <module 'parso.python.fstring' from 'C:\\\\ProgramData\\\\Anaconda3\\\\lib\\\\site-packages\\\\parso\\\\python\\\\fstring.py'>, 'jedi.parser_utils': <module 'jedi.parser_utils' from 'C:\\\\ProgramData\\\\Anaconda3\\\\lib\\\\site-packages\\\\jedi\\\\parser_utils.py'>, 'jedi._compatibility': <module 'jedi._compatibility' from 'C:\\\\ProgramData\\\\Anaconda3\\\\lib\\\\site-packages\\\\jedi\\\\_compatibility.py'>, 'imp': <module 'imp' from 'C:\\\\ProgramData\\\\Anaconda3\\\\lib\\\\imp.py'>, 'jedi.debug': <module 'jedi.debug' from 'C:\\\\ProgramData\\\\Anaconda3\\\\lib\\\\site-packages\\\\jedi\\\\debug.py'>, 'jedi.settings': <module 'jedi.settings' from 'C:\\\\ProgramData\\\\Anaconda3\\\\lib\\\\site-packages\\\\jedi\\\\settings.py'>, 'jedi.cache': <module 'jedi.cache' from 'C:\\\\ProgramData\\\\Anaconda3\\\\lib\\\\site-packages\\\\jedi\\\\cache.py'>, 'jedi.api.classes': <module 'jedi.api.classes' from 'C:\\\\ProgramData\\\\Anaconda3\\\\lib\\\\site-packages\\\\jedi\\\\api\\\\classes.py'>, 'jedi.evaluate': <module 'jedi.evaluate' from 'C:\\\\ProgramData\\\\Anaconda3\\\\lib\\\\site-packages\\\\jedi\\\\evaluate\\\\__init__.py'>, 'jedi.evaluate.utils': <module 'jedi.evaluate.utils' from 'C:\\\\ProgramData\\\\Anaconda3\\\\lib\\\\site-packages\\\\jedi\\\\evaluate\\\\utils.py'>, 'jedi.evaluate.imports': <module 'jedi.evaluate.imports' from 'C:\\\\ProgramData\\\\Anaconda3\\\\lib\\\\site-packages\\\\jedi\\\\evaluate\\\\imports.py'>, 'jedi.evaluate.sys_path': <module 'jedi.evaluate.sys_path' from 'C:\\\\ProgramData\\\\Anaconda3\\\\lib\\\\site-packages\\\\jedi\\\\evaluate\\\\sys_path.py'>, 'jedi.evaluate.site': <module 'jedi.evaluate.site' from 'C:\\\\ProgramData\\\\Anaconda3\\\\lib\\\\site-packages\\\\jedi\\\\evaluate\\\\site.py'>, 'jedi.evaluate.cache': <module 'jedi.evaluate.cache' from 'C:\\\\ProgramData\\\\Anaconda3\\\\lib\\\\site-packages\\\\jedi\\\\evaluate\\\\cache.py'>, 'jedi.evaluate.base_context': <module 'jedi.evaluate.base_context' from 'C:\\\\ProgramData\\\\Anaconda3\\\\lib\\\\site-packages\\\\jedi\\\\evaluate\\\\base_context.py'>, 'jedi.common': <module 'jedi.common' from 'C:\\\\ProgramData\\\\Anaconda3\\\\lib\\\\site-packages\\\\jedi\\\\common\\\\__init__.py'>, 'jedi.common.context': <module 'jedi.common.context' from 'C:\\\\ProgramData\\\\Anaconda3\\\\lib\\\\site-packages\\\\jedi\\\\common\\\\context.py'>, 'jedi.evaluate.helpers': <module 'jedi.evaluate.helpers' from 'C:\\\\ProgramData\\\\Anaconda3\\\\lib\\\\site-packages\\\\jedi\\\\evaluate\\\\helpers.py'>, 'jedi.evaluate.compiled': <module 'jedi.evaluate.compiled' from 'C:\\\\ProgramData\\\\Anaconda3\\\\lib\\\\site-packages\\\\jedi\\\\evaluate\\\\compiled\\\\__init__.py'>, 'jedi.evaluate.filters': <module 'jedi.evaluate.filters' from 'C:\\\\ProgramData\\\\Anaconda3\\\\lib\\\\site-packages\\\\jedi\\\\evaluate\\\\filters.py'>, 'jedi.evaluate.flow_analysis': <module 'jedi.evaluate.flow_analysis' from 'C:\\\\ProgramData\\\\Anaconda3\\\\lib\\\\site-packages\\\\jedi\\\\evaluate\\\\flow_analysis.py'>, 'jedi.evaluate.lazy_context': <module 'jedi.evaluate.lazy_context' from 'C:\\\\ProgramData\\\\Anaconda3\\\\lib\\\\site-packages\\\\jedi\\\\evaluate\\\\lazy_context.py'>, 'jedi.evaluate.compiled.getattr_static': <module 'jedi.evaluate.compiled.getattr_static' from 'C:\\\\ProgramData\\\\Anaconda3\\\\lib\\\\site-packages\\\\jedi\\\\evaluate\\\\compiled\\\\getattr_static.py'>, 'jedi.evaluate.compiled.fake': <module 'jedi.evaluate.compiled.fake' from 'C:\\\\ProgramData\\\\Anaconda3\\\\lib\\\\site-packages\\\\jedi\\\\evaluate\\\\compiled\\\\fake.py'>, 'jedi.evaluate.analysis': <module 'jedi.evaluate.analysis' from 'C:\\\\ProgramData\\\\Anaconda3\\\\lib\\\\site-packages\\\\jedi\\\\evaluate\\\\analysis.py'>, 'jedi.evaluate.recursion': <module 'jedi.evaluate.recursion' from 'C:\\\\ProgramData\\\\Anaconda3\\\\lib\\\\site-packages\\\\jedi\\\\evaluate\\\\recursion.py'>, 'jedi.evaluate.context': <module 'jedi.evaluate.context' from 'C:\\\\ProgramData\\\\Anaconda3\\\\lib\\\\site-packages\\\\jedi\\\\evaluate\\\\context\\\\__init__.py'>, 'jedi.evaluate.context.module': <module 'jedi.evaluate.context.module' from 'C:\\\\ProgramData\\\\Anaconda3\\\\lib\\\\site-packages\\\\jedi\\\\evaluate\\\\context\\\\module.py'>, 'jedi.evaluate.context.klass': <module 'jedi.evaluate.context.klass' from 'C:\\\\ProgramData\\\\Anaconda3\\\\lib\\\\site-packages\\\\jedi\\\\evaluate\\\\context\\\\klass.py'>, 'jedi.evaluate.context.function': <module 'jedi.evaluate.context.function' from 'C:\\\\ProgramData\\\\Anaconda3\\\\lib\\\\site-packages\\\\jedi\\\\evaluate\\\\context\\\\function.py'>, 'jedi.evaluate.docstrings': <module 'jedi.evaluate.docstrings' from 'C:\\\\ProgramData\\\\Anaconda3\\\\lib\\\\site-packages\\\\jedi\\\\evaluate\\\\docstrings.py'>, 'numpydoc': <module 'numpydoc' from 'C:\\\\ProgramData\\\\Anaconda3\\\\lib\\\\site-packages\\\\numpydoc\\\\__init__.py'>, 'numpydoc.numpydoc': <module 'numpydoc.numpydoc' from 'C:\\\\ProgramData\\\\Anaconda3\\\\lib\\\\site-packages\\\\numpydoc\\\\numpydoc.py'>, 'sphinx': <module 'sphinx' from 'C:\\\\ProgramData\\\\Anaconda3\\\\lib\\\\site-packages\\\\sphinx\\\\__init__.py'>, 'sphinx.deprecation': <module 'sphinx.deprecation' from 'C:\\\\ProgramData\\\\Anaconda3\\\\lib\\\\site-packages\\\\sphinx\\\\deprecation.py'>, 'numpydoc.docscrape_sphinx': <module 'numpydoc.docscrape_sphinx' from 'C:\\\\ProgramData\\\\Anaconda3\\\\lib\\\\site-packages\\\\numpydoc\\\\docscrape_sphinx.py'>, 'jinja2': <module 'jinja2' from 'C:\\\\ProgramData\\\\Anaconda3\\\\lib\\\\site-packages\\\\jinja2\\\\__init__.py'>, 'jinja2.environment': <module 'jinja2.environment' from 'C:\\\\ProgramData\\\\Anaconda3\\\\lib\\\\site-packages\\\\jinja2\\\\environment.py'>, 'jinja2.nodes': <module 'jinja2.nodes' from 'C:\\\\ProgramData\\\\Anaconda3\\\\lib\\\\site-packages\\\\jinja2\\\\nodes.py'>, 'jinja2.utils': <module 'jinja2.utils' from 'C:\\\\ProgramData\\\\Anaconda3\\\\lib\\\\site-packages\\\\jinja2\\\\utils.py'>, 'jinja2._compat': <module 'jinja2._compat' from 'C:\\\\ProgramData\\\\Anaconda3\\\\lib\\\\site-packages\\\\jinja2\\\\_compat.py'>, 'markupsafe': <module 'markupsafe' from 'C:\\\\ProgramData\\\\Anaconda3\\\\lib\\\\site-packages\\\\markupsafe\\\\__init__.py'>, 'markupsafe._compat': <module 'markupsafe._compat' from 'C:\\\\ProgramData\\\\Anaconda3\\\\lib\\\\site-packages\\\\markupsafe\\\\_compat.py'>, 'markupsafe._speedups': <module 'markupsafe._speedups' from 'C:\\\\ProgramData\\\\Anaconda3\\\\lib\\\\site-packages\\\\markupsafe\\\\_speedups.cp36-win_amd64.pyd'>, 'jinja2.defaults': <module 'jinja2.defaults' from 'C:\\\\ProgramData\\\\Anaconda3\\\\lib\\\\site-packages\\\\jinja2\\\\defaults.py'>, 'jinja2.filters': <module 'jinja2.filters' from 'C:\\\\ProgramData\\\\Anaconda3\\\\lib\\\\site-packages\\\\jinja2\\\\filters.py'>, 'jinja2.runtime': <module 'jinja2.runtime' from 'C:\\\\ProgramData\\\\Anaconda3\\\\lib\\\\site-packages\\\\jinja2\\\\runtime.py'>, 'jinja2.exceptions': <module 'jinja2.exceptions' from 'C:\\\\ProgramData\\\\Anaconda3\\\\lib\\\\site-packages\\\\jinja2\\\\exceptions.py'>, 'jinja2.tests': <module 'jinja2.tests' from 'C:\\\\ProgramData\\\\Anaconda3\\\\lib\\\\site-packages\\\\jinja2\\\\tests.py'>, 'decimal': <module 'decimal' from 'C:\\\\ProgramData\\\\Anaconda3\\\\lib\\\\decimal.py'>, 'numbers': <module 'numbers' from 'C:\\\\ProgramData\\\\Anaconda3\\\\lib\\\\numbers.py'>, '_decimal': <module '_decimal' from 'C:\\\\ProgramData\\\\Anaconda3\\\\DLLs\\\\_decimal.pyd'>, 'jinja2.lexer': <module 'jinja2.lexer' from 'C:\\\\ProgramData\\\\Anaconda3\\\\lib\\\\site-packages\\\\jinja2\\\\lexer.py'>, 'jinja2.parser': <module 'jinja2.parser' from 'C:\\\\ProgramData\\\\Anaconda3\\\\lib\\\\site-packages\\\\jinja2\\\\parser.py'>, 'jinja2.compiler': <module 'jinja2.compiler' from 'C:\\\\ProgramData\\\\Anaconda3\\\\lib\\\\site-packages\\\\jinja2\\\\compiler.py'>, 'jinja2.visitor': <module 'jinja2.visitor' from 'C:\\\\ProgramData\\\\Anaconda3\\\\lib\\\\site-packages\\\\jinja2\\\\visitor.py'>, 'jinja2.optimizer': <module 'jinja2.optimizer' from 'C:\\\\ProgramData\\\\Anaconda3\\\\lib\\\\site-packages\\\\jinja2\\\\optimizer.py'>, 'jinja2.idtracking': <module 'jinja2.idtracking' from 'C:\\\\ProgramData\\\\Anaconda3\\\\lib\\\\site-packages\\\\jinja2\\\\idtracking.py'>, 'jinja2.loaders': <module 'jinja2.loaders' from 'C:\\\\ProgramData\\\\Anaconda3\\\\lib\\\\site-packages\\\\jinja2\\\\loaders.py'>, 'jinja2.bccache': <module 'jinja2.bccache' from 'C:\\\\ProgramData\\\\Anaconda3\\\\lib\\\\site-packages\\\\jinja2\\\\bccache.py'>, 'jinja2.asyncsupport': <module 'jinja2.asyncsupport' from 'C:\\\\ProgramData\\\\Anaconda3\\\\lib\\\\site-packages\\\\jinja2\\\\asyncsupport.py'>, 'asyncio': <module 'asyncio' from 'C:\\\\ProgramData\\\\Anaconda3\\\\lib\\\\asyncio\\\\__init__.py'>, '_overlapped': <module '_overlapped' from 'C:\\\\ProgramData\\\\Anaconda3\\\\DLLs\\\\_overlapped.pyd'>, 'asyncio.base_events': <module 'asyncio.base_events' from 'C:\\\\ProgramData\\\\Anaconda3\\\\lib\\\\asyncio\\\\base_events.py'>, 'concurrent': <module 'concurrent' from 'C:\\\\ProgramData\\\\Anaconda3\\\\lib\\\\concurrent\\\\__init__.py'>, 'concurrent.futures': <module 'concurrent.futures' from 'C:\\\\ProgramData\\\\Anaconda3\\\\lib\\\\concurrent\\\\futures\\\\__init__.py'>, 'concurrent.futures._base': <module 'concurrent.futures._base' from 'C:\\\\ProgramData\\\\Anaconda3\\\\lib\\\\concurrent\\\\futures\\\\_base.py'>, 'concurrent.futures.process': <module 'concurrent.futures.process' from 'C:\\\\ProgramData\\\\Anaconda3\\\\lib\\\\concurrent\\\\futures\\\\process.py'>, 'queue': <module 'queue' from 'C:\\\\ProgramData\\\\Anaconda3\\\\lib\\\\queue.py'>, 'multiprocessing': <module 'multiprocessing' from 'C:\\\\ProgramData\\\\Anaconda3\\\\lib\\\\multiprocessing\\\\__init__.py'>, 'multiprocessing.context': <module 'multiprocessing.context' from 'C:\\\\ProgramData\\\\Anaconda3\\\\lib\\\\multiprocessing\\\\context.py'>, 'multiprocessing.process': <module 'multiprocessing.process' from 'C:\\\\ProgramData\\\\Anaconda3\\\\lib\\\\multiprocessing\\\\process.py'>, 'multiprocessing.reduction': <module 'multiprocessing.reduction' from 'C:\\\\ProgramData\\\\Anaconda3\\\\lib\\\\multiprocessing\\\\reduction.py'>, '__mp_main__': <module 'ipykernel_launcher' from 'C:\\\\ProgramData\\\\Anaconda3\\\\lib\\\\site-packages\\\\ipykernel_launcher.py'>, 'multiprocessing.connection': <module 'multiprocessing.connection' from 'C:\\\\ProgramData\\\\Anaconda3\\\\lib\\\\multiprocessing\\\\connection.py'>, '_multiprocessing': <module '_multiprocessing' from 'C:\\\\ProgramData\\\\Anaconda3\\\\DLLs\\\\_multiprocessing.pyd'>, 'multiprocessing.util': <module 'multiprocessing.util' from 'C:\\\\ProgramData\\\\Anaconda3\\\\lib\\\\multiprocessing\\\\util.py'>, 'concurrent.futures.thread': <module 'concurrent.futures.thread' from 'C:\\\\ProgramData\\\\Anaconda3\\\\lib\\\\concurrent\\\\futures\\\\thread.py'>, 'asyncio.compat': <module 'asyncio.compat' from 'C:\\\\ProgramData\\\\Anaconda3\\\\lib\\\\asyncio\\\\compat.py'>, 'asyncio.coroutines': <module 'asyncio.coroutines' from 'C:\\\\ProgramData\\\\Anaconda3\\\\lib\\\\asyncio\\\\coroutines.py'>, 'asyncio.constants': <module 'asyncio.constants' from 'C:\\\\ProgramData\\\\Anaconda3\\\\lib\\\\asyncio\\\\constants.py'>, 'asyncio.events': <module 'asyncio.events' from 'C:\\\\ProgramData\\\\Anaconda3\\\\lib\\\\asyncio\\\\events.py'>, 'asyncio.base_futures': <module 'asyncio.base_futures' from 'C:\\\\ProgramData\\\\Anaconda3\\\\lib\\\\asyncio\\\\base_futures.py'>, 'asyncio.log': <module 'asyncio.log' from 'C:\\\\ProgramData\\\\Anaconda3\\\\lib\\\\asyncio\\\\log.py'>, 'asyncio.futures': <module 'asyncio.futures' from 'C:\\\\ProgramData\\\\Anaconda3\\\\lib\\\\asyncio\\\\futures.py'>, 'asyncio.base_tasks': <module 'asyncio.base_tasks' from 'C:\\\\ProgramData\\\\Anaconda3\\\\lib\\\\asyncio\\\\base_tasks.py'>, '_asyncio': <module '_asyncio' from 'C:\\\\ProgramData\\\\Anaconda3\\\\DLLs\\\\_asyncio.pyd'>, 'asyncio.tasks': <module 'asyncio.tasks' from 'C:\\\\ProgramData\\\\Anaconda3\\\\lib\\\\asyncio\\\\tasks.py'>, 'asyncio.locks': <module 'asyncio.locks' from 'C:\\\\ProgramData\\\\Anaconda3\\\\lib\\\\asyncio\\\\locks.py'>, 'asyncio.protocols': <module 'asyncio.protocols' from 'C:\\\\ProgramData\\\\Anaconda3\\\\lib\\\\asyncio\\\\protocols.py'>, 'asyncio.queues': <module 'asyncio.queues' from 'C:\\\\ProgramData\\\\Anaconda3\\\\lib\\\\asyncio\\\\queues.py'>, 'asyncio.streams': <module 'asyncio.streams' from 'C:\\\\ProgramData\\\\Anaconda3\\\\lib\\\\asyncio\\\\streams.py'>, 'asyncio.subprocess': <module 'asyncio.subprocess' from 'C:\\\\ProgramData\\\\Anaconda3\\\\lib\\\\asyncio\\\\subprocess.py'>, 'asyncio.transports': <module 'asyncio.transports' from 'C:\\\\ProgramData\\\\Anaconda3\\\\lib\\\\asyncio\\\\transports.py'>, 'asyncio.windows_events': <module 'asyncio.windows_events' from 'C:\\\\ProgramData\\\\Anaconda3\\\\lib\\\\asyncio\\\\windows_events.py'>, 'asyncio.base_subprocess': <module 'asyncio.base_subprocess' from 'C:\\\\ProgramData\\\\Anaconda3\\\\lib\\\\asyncio\\\\base_subprocess.py'>, 'asyncio.proactor_events': <module 'asyncio.proactor_events' from 'C:\\\\ProgramData\\\\Anaconda3\\\\lib\\\\asyncio\\\\proactor_events.py'>, 'asyncio.sslproto': <module 'asyncio.sslproto' from 'C:\\\\ProgramData\\\\Anaconda3\\\\lib\\\\asyncio\\\\sslproto.py'>, 'ssl': <module 'ssl' from 'C:\\\\ProgramData\\\\Anaconda3\\\\lib\\\\ssl.py'>, 'ipaddress': <module 'ipaddress' from 'C:\\\\ProgramData\\\\Anaconda3\\\\lib\\\\ipaddress.py'>, '_ssl': <module '_ssl' from 'C:\\\\ProgramData\\\\Anaconda3\\\\DLLs\\\\_ssl.pyd'>, 'base64': <module 'base64' from 'C:\\\\ProgramData\\\\Anaconda3\\\\lib\\\\base64.py'>, 'asyncio.selector_events': <module 'asyncio.selector_events' from 'C:\\\\ProgramData\\\\Anaconda3\\\\lib\\\\asyncio\\\\selector_events.py'>, 'asyncio.windows_utils': <module 'asyncio.windows_utils' from 'C:\\\\ProgramData\\\\Anaconda3\\\\lib\\\\asyncio\\\\windows_utils.py'>, 'jinja2.asyncfilters': <module 'jinja2.asyncfilters' from 'C:\\\\ProgramData\\\\Anaconda3\\\\lib\\\\site-packages\\\\jinja2\\\\asyncfilters.py'>, 'jinja2.sandbox': <module 'jinja2.sandbox' from 'C:\\\\ProgramData\\\\Anaconda3\\\\lib\\\\site-packages\\\\jinja2\\\\sandbox.py'>, 'sphinx.jinja2glue': <module 'sphinx.jinja2glue' from 'C:\\\\ProgramData\\\\Anaconda3\\\\lib\\\\site-packages\\\\sphinx\\\\jinja2glue.py'>, 'sphinx.application': <module 'sphinx.application' from 'C:\\\\ProgramData\\\\Anaconda3\\\\lib\\\\site-packages\\\\sphinx\\\\application.py'>, 'docutils': <module 'docutils' from 'C:\\\\ProgramData\\\\Anaconda3\\\\lib\\\\site-packages\\\\docutils\\\\__init__.py'>, 'docutils.nodes': <module 'docutils.nodes' from 'C:\\\\ProgramData\\\\Anaconda3\\\\lib\\\\site-packages\\\\docutils\\\\nodes.py'>, 'docutils.parsers': <module 'docutils.parsers' from 'C:\\\\ProgramData\\\\Anaconda3\\\\lib\\\\site-packages\\\\docutils\\\\parsers\\\\__init__.py'>, 'docutils.parsers.rst': <module 'docutils.parsers.rst' from 'C:\\\\ProgramData\\\\Anaconda3\\\\lib\\\\site-packages\\\\docutils\\\\parsers\\\\rst\\\\__init__.py'>, 'docutils.statemachine': <module 'docutils.statemachine' from 'C:\\\\ProgramData\\\\Anaconda3\\\\lib\\\\site-packages\\\\docutils\\\\statemachine.py'>, 'docutils.utils': <module 'docutils.utils' from 'C:\\\\ProgramData\\\\Anaconda3\\\\lib\\\\site-packages\\\\docutils\\\\utils\\\\__init__.py'>, 'docutils.io': <module 'docutils.io' from 'C:\\\\ProgramData\\\\Anaconda3\\\\lib\\\\site-packages\\\\docutils\\\\io.py'>, 'docutils._compat': <module 'docutils._compat' from 'C:\\\\ProgramData\\\\Anaconda3\\\\lib\\\\site-packages\\\\docutils\\\\_compat.py'>, 'docutils.utils.error_reporting': <module 'docutils.utils.error_reporting' from 'C:\\\\ProgramData\\\\Anaconda3\\\\lib\\\\site-packages\\\\docutils\\\\utils\\\\error_reporting.py'>, 'docutils.parsers.rst.states': <module 'docutils.parsers.rst.states' from 'C:\\\\ProgramData\\\\Anaconda3\\\\lib\\\\site-packages\\\\docutils\\\\parsers\\\\rst\\\\states.py'>, 'docutils.parsers.rst.directives': <module 'docutils.parsers.rst.directives' from 'C:\\\\ProgramData\\\\Anaconda3\\\\lib\\\\site-packages\\\\docutils\\\\parsers\\\\rst\\\\directives\\\\__init__.py'>, 'docutils.parsers.rst.languages': <module 'docutils.parsers.rst.languages' from 'C:\\\\ProgramData\\\\Anaconda3\\\\lib\\\\site-packages\\\\docutils\\\\parsers\\\\rst\\\\languages\\\\__init__.py'>, 'docutils.parsers.rst.languages.en': <module 'docutils.parsers.rst.languages.en' from 'C:\\\\ProgramData\\\\Anaconda3\\\\lib\\\\site-packages\\\\docutils\\\\parsers\\\\rst\\\\languages\\\\en.py'>, 'docutils.parsers.rst.tableparser': <module 'docutils.parsers.rst.tableparser' from 'C:\\\\ProgramData\\\\Anaconda3\\\\lib\\\\site-packages\\\\docutils\\\\parsers\\\\rst\\\\tableparser.py'>, 'docutils.parsers.rst.roles': <module 'docutils.parsers.rst.roles' from 'C:\\\\ProgramData\\\\Anaconda3\\\\lib\\\\site-packages\\\\docutils\\\\parsers\\\\rst\\\\roles.py'>, 'docutils.utils.code_analyzer': <module 'docutils.utils.code_analyzer' from 'C:\\\\ProgramData\\\\Anaconda3\\\\lib\\\\site-packages\\\\docutils\\\\utils\\\\code_analyzer.py'>, 'docutils.utils.punctuation_chars': <module 'docutils.utils.punctuation_chars' from 'C:\\\\ProgramData\\\\Anaconda3\\\\lib\\\\site-packages\\\\docutils\\\\utils\\\\punctuation_chars.py'>, 'docutils.utils.roman': <module 'docutils.utils.roman' from 'C:\\\\ProgramData\\\\Anaconda3\\\\lib\\\\site-packages\\\\docutils\\\\utils\\\\roman.py'>, 'docutils.utils.urischemes': <module 'docutils.utils.urischemes' from 'C:\\\\ProgramData\\\\Anaconda3\\\\lib\\\\site-packages\\\\docutils\\\\utils\\\\urischemes.py'>, 'docutils.frontend': <module 'docutils.frontend' from 'C:\\\\ProgramData\\\\Anaconda3\\\\lib\\\\site-packages\\\\docutils\\\\frontend.py'>, 'configparser': <module 'configparser' from 'C:\\\\ProgramData\\\\Anaconda3\\\\lib\\\\configparser.py'>, 'optparse': <module 'optparse' from 'C:\\\\ProgramData\\\\Anaconda3\\\\lib\\\\optparse.py'>, 'docutils.transforms': <module 'docutils.transforms' from 'C:\\\\ProgramData\\\\Anaconda3\\\\lib\\\\site-packages\\\\docutils\\\\transforms\\\\__init__.py'>, 'docutils.languages': <module 'docutils.languages' from 'C:\\\\ProgramData\\\\Anaconda3\\\\lib\\\\site-packages\\\\docutils\\\\languages\\\\__init__.py'>, 'docutils.transforms.universal': <module 'docutils.transforms.universal' from 'C:\\\\ProgramData\\\\Anaconda3\\\\lib\\\\site-packages\\\\docutils\\\\transforms\\\\universal.py'>, 'docutils.utils.smartquotes': <module 'docutils.utils.smartquotes' from 'C:\\\\ProgramData\\\\Anaconda3\\\\lib\\\\site-packages\\\\docutils\\\\utils\\\\smartquotes.py'>, 'sphinx.locale': <module 'sphinx.locale' from 'C:\\\\ProgramData\\\\Anaconda3\\\\lib\\\\site-packages\\\\sphinx\\\\locale\\\\__init__.py'>, 'sphinx.config': <module 'sphinx.config' from 'C:\\\\ProgramData\\\\Anaconda3\\\\lib\\\\site-packages\\\\sphinx\\\\config.py'>, 'sphinx.errors': <module 'sphinx.errors' from 'C:\\\\ProgramData\\\\Anaconda3\\\\lib\\\\site-packages\\\\sphinx\\\\errors.py'>, 'sphinx.util': <module 'sphinx.util' from 'C:\\\\ProgramData\\\\Anaconda3\\\\lib\\\\site-packages\\\\sphinx\\\\util\\\\__init__.py'>, 'six.moves.urllib': <module 'six.moves.urllib' (<six._SixMetaPathImporter object at 0x0000000002D8FB00>)>, 'six.moves.urllib.parse': <module 'six.moves.urllib.parse' (<six._SixMetaPathImporter object at 0x0000000002D8FB00>)>, 'sphinx.util.logging': <module 'sphinx.util.logging' from 'C:\\\\ProgramData\\\\Anaconda3\\\\lib\\\\site-packages\\\\sphinx\\\\util\\\\logging.py'>, 'logging.handlers': <module 'logging.handlers' from 'C:\\\\ProgramData\\\\Anaconda3\\\\lib\\\\logging\\\\handlers.py'>, 'sphinx.util.console': <module 'sphinx.util.console' from 'C:\\\\ProgramData\\\\Anaconda3\\\\lib\\\\site-packages\\\\sphinx\\\\util\\\\console.py'>, 'colorama': <module 'colorama' from 'C:\\\\ProgramData\\\\Anaconda3\\\\lib\\\\site-packages\\\\colorama\\\\__init__.py'>, 'colorama.initialise': <module 'colorama.initialise' from 'C:\\\\ProgramData\\\\Anaconda3\\\\lib\\\\site-packages\\\\colorama\\\\initialise.py'>, 'colorama.ansitowin32': <module 'colorama.ansitowin32' from 'C:\\\\ProgramData\\\\Anaconda3\\\\lib\\\\site-packages\\\\colorama\\\\ansitowin32.py'>, 'colorama.ansi': <module 'colorama.ansi' from 'C:\\\\ProgramData\\\\Anaconda3\\\\lib\\\\site-packages\\\\colorama\\\\ansi.py'>, 'colorama.winterm': <module 'colorama.winterm' from 'C:\\\\ProgramData\\\\Anaconda3\\\\lib\\\\site-packages\\\\colorama\\\\winterm.py'>, 'colorama.win32': <module 'colorama.win32' from 'C:\\\\ProgramData\\\\Anaconda3\\\\lib\\\\site-packages\\\\colorama\\\\win32.py'>, 'sphinx.util.fileutil': <module 'sphinx.util.fileutil' from 'C:\\\\ProgramData\\\\Anaconda3\\\\lib\\\\site-packages\\\\sphinx\\\\util\\\\fileutil.py'>, 'sphinx.util.osutil': <module 'sphinx.util.osutil' from 'C:\\\\ProgramData\\\\Anaconda3\\\\lib\\\\site-packages\\\\sphinx\\\\util\\\\osutil.py'>, 'filecmp': <module 'filecmp' from 'C:\\\\ProgramData\\\\Anaconda3\\\\lib\\\\filecmp.py'>, 'sphinx.util.smartypants': <module 'sphinx.util.smartypants' from 'C:\\\\ProgramData\\\\Anaconda3\\\\lib\\\\site-packages\\\\sphinx\\\\util\\\\smartypants.py'>, 'sphinx.util.docutils': <module 'sphinx.util.docutils' from 'C:\\\\ProgramData\\\\Anaconda3\\\\lib\\\\site-packages\\\\sphinx\\\\util\\\\docutils.py'>, 'distutils': <module 'distutils' from 'C:\\\\ProgramData\\\\Anaconda3\\\\lib\\\\distutils\\\\__init__.py'>, 'distutils.version': <module 'distutils.version' from 'C:\\\\ProgramData\\\\Anaconda3\\\\lib\\\\distutils\\\\version.py'>, 'sphinx.util.nodes': <module 'sphinx.util.nodes' from 'C:\\\\ProgramData\\\\Anaconda3\\\\lib\\\\site-packages\\\\sphinx\\\\util\\\\nodes.py'>, 'sphinx.addnodes': <module 'sphinx.addnodes' from 'C:\\\\ProgramData\\\\Anaconda3\\\\lib\\\\site-packages\\\\sphinx\\\\addnodes.py'>, 'sphinx.util.matching': <module 'sphinx.util.matching' from 'C:\\\\ProgramData\\\\Anaconda3\\\\lib\\\\site-packages\\\\sphinx\\\\util\\\\matching.py'>, 'sphinx.util.i18n': <module 'sphinx.util.i18n' from 'C:\\\\ProgramData\\\\Anaconda3\\\\lib\\\\site-packages\\\\sphinx\\\\util\\\\i18n.py'>, 'babel': <module 'babel' from 'C:\\\\ProgramData\\\\Anaconda3\\\\lib\\\\site-packages\\\\babel\\\\__init__.py'>, 'babel.core': <module 'babel.core' from 'C:\\\\ProgramData\\\\Anaconda3\\\\lib\\\\site-packages\\\\babel\\\\core.py'>, 'babel.localedata': <module 'babel.localedata' from 'C:\\\\ProgramData\\\\Anaconda3\\\\lib\\\\site-packages\\\\babel\\\\localedata.py'>, 'babel._compat': <module 'babel._compat' from 'C:\\\\ProgramData\\\\Anaconda3\\\\lib\\\\site-packages\\\\babel\\\\_compat.py'>, 'babel.plural': <module 'babel.plural' from 'C:\\\\ProgramData\\\\Anaconda3\\\\lib\\\\site-packages\\\\babel\\\\plural.py'>, 'babel.dates': <module 'babel.dates' from 'C:\\\\ProgramData\\\\Anaconda3\\\\lib\\\\site-packages\\\\babel\\\\dates.py'>, 'pytz': <module 'pytz' from 'C:\\\\ProgramData\\\\Anaconda3\\\\lib\\\\site-packages\\\\pytz\\\\__init__.py'>, 'pytz.exceptions': <module 'pytz.exceptions' from 'C:\\\\ProgramData\\\\Anaconda3\\\\lib\\\\site-packages\\\\pytz\\\\exceptions.py'>, 'pytz.lazy': <module 'pytz.lazy' from 'C:\\\\ProgramData\\\\Anaconda3\\\\lib\\\\site-packages\\\\pytz\\\\lazy.py'>, 'pytz.tzinfo': <module 'pytz.tzinfo' from 'C:\\\\ProgramData\\\\Anaconda3\\\\lib\\\\site-packages\\\\pytz\\\\tzinfo.py'>, 'pytz.tzfile': <module 'pytz.tzfile' from 'C:\\\\ProgramData\\\\Anaconda3\\\\lib\\\\site-packages\\\\pytz\\\\tzfile.py'>, 'babel.util': <module 'babel.util' from 'C:\\\\ProgramData\\\\Anaconda3\\\\lib\\\\site-packages\\\\babel\\\\util.py'>, 'babel.localtime': <module 'babel.localtime' from 'C:\\\\ProgramData\\\\Anaconda3\\\\lib\\\\site-packages\\\\babel\\\\localtime\\\\__init__.py'>, 'babel.localtime._win32': <module 'babel.localtime._win32' from 'C:\\\\ProgramData\\\\Anaconda3\\\\lib\\\\site-packages\\\\babel\\\\localtime\\\\_win32.py'>, 'babel.messages': <module 'babel.messages' from 'C:\\\\ProgramData\\\\Anaconda3\\\\lib\\\\site-packages\\\\babel\\\\messages\\\\__init__.py'>, 'babel.messages.catalog': <module 'babel.messages.catalog' from 'C:\\\\ProgramData\\\\Anaconda3\\\\lib\\\\site-packages\\\\babel\\\\messages\\\\catalog.py'>, 'cgi': <module 'cgi' from 'C:\\\\ProgramData\\\\Anaconda3\\\\lib\\\\cgi.py'>, 'email': <module 'email' from 'C:\\\\ProgramData\\\\Anaconda3\\\\lib\\\\email\\\\__init__.py'>, 'email.parser': <module 'email.parser' from 'C:\\\\ProgramData\\\\Anaconda3\\\\lib\\\\email\\\\parser.py'>, 'email.feedparser': <module 'email.feedparser' from 'C:\\\\ProgramData\\\\Anaconda3\\\\lib\\\\email\\\\feedparser.py'>, 'email.errors': <module 'email.errors' from 'C:\\\\ProgramData\\\\Anaconda3\\\\lib\\\\email\\\\errors.py'>, 'email._policybase': <module 'email._policybase' from 'C:\\\\ProgramData\\\\Anaconda3\\\\lib\\\\email\\\\_policybase.py'>, 'email.header': <module 'email.header' from 'C:\\\\ProgramData\\\\Anaconda3\\\\lib\\\\email\\\\header.py'>, 'email.quoprimime': <module 'email.quoprimime' from 'C:\\\\ProgramData\\\\Anaconda3\\\\lib\\\\email\\\\quoprimime.py'>, 'email.base64mime': <module 'email.base64mime' from 'C:\\\\ProgramData\\\\Anaconda3\\\\lib\\\\email\\\\base64mime.py'>, 'email.charset': <module 'email.charset' from 'C:\\\\ProgramData\\\\Anaconda3\\\\lib\\\\email\\\\charset.py'>, 'email.encoders': <module 'email.encoders' from 'C:\\\\ProgramData\\\\Anaconda3\\\\lib\\\\email\\\\encoders.py'>, 'quopri': <module 'quopri' from 'C:\\\\ProgramData\\\\Anaconda3\\\\lib\\\\quopri.py'>, 'email.utils': <module 'email.utils' from 'C:\\\\ProgramData\\\\Anaconda3\\\\lib\\\\email\\\\utils.py'>, 'email._parseaddr': <module 'email._parseaddr' from 'C:\\\\ProgramData\\\\Anaconda3\\\\lib\\\\email\\\\_parseaddr.py'>, 'calendar': <module 'calendar' from 'C:\\\\ProgramData\\\\Anaconda3\\\\lib\\\\calendar.py'>, 'email.message': <module 'email.message' from 'C:\\\\ProgramData\\\\Anaconda3\\\\lib\\\\email\\\\message.py'>, 'uu': <module 'uu' from 'C:\\\\ProgramData\\\\Anaconda3\\\\lib\\\\uu.py'>, 'email._encoded_words': <module 'email._encoded_words' from 'C:\\\\ProgramData\\\\Anaconda3\\\\lib\\\\email\\\\_encoded_words.py'>, 'email.iterators': <module 'email.iterators' from 'C:\\\\ProgramData\\\\Anaconda3\\\\lib\\\\email\\\\iterators.py'>, 'html': <module 'html' from 'C:\\\\ProgramData\\\\Anaconda3\\\\lib\\\\html\\\\__init__.py'>, 'html.entities': <module 'html.entities' from 'C:\\\\ProgramData\\\\Anaconda3\\\\lib\\\\html\\\\entities.py'>, 'babel.messages.plurals': <module 'babel.messages.plurals' from 'C:\\\\ProgramData\\\\Anaconda3\\\\lib\\\\site-packages\\\\babel\\\\messages\\\\plurals.py'>, 'babel.messages.pofile': <module 'babel.messages.pofile' from 'C:\\\\ProgramData\\\\Anaconda3\\\\lib\\\\site-packages\\\\babel\\\\messages\\\\pofile.py'>, 'babel.messages.mofile': <module 'babel.messages.mofile' from 'C:\\\\ProgramData\\\\Anaconda3\\\\lib\\\\site-packages\\\\babel\\\\messages\\\\mofile.py'>, 'sphinx.util.pycompat': <module 'sphinx.util.pycompat' from 'C:\\\\ProgramData\\\\Anaconda3\\\\lib\\\\site-packages\\\\sphinx\\\\util\\\\pycompat.py'>, 'sphinx.environment': <module 'sphinx.environment' from 'C:\\\\ProgramData\\\\Anaconda3\\\\lib\\\\site-packages\\\\sphinx\\\\environment\\\\__init__.py'>, 'docutils.core': <module 'docutils.core' from 'C:\\\\ProgramData\\\\Anaconda3\\\\lib\\\\site-packages\\\\docutils\\\\core.py'>, 'docutils.readers': <module 'docutils.readers' from 'C:\\\\ProgramData\\\\Anaconda3\\\\lib\\\\site-packages\\\\docutils\\\\readers\\\\__init__.py'>, 'docutils.writers': <module 'docutils.writers' from 'C:\\\\ProgramData\\\\Anaconda3\\\\lib\\\\site-packages\\\\docutils\\\\writers\\\\__init__.py'>, 'docutils.readers.doctree': <module 'docutils.readers.doctree' from 'C:\\\\ProgramData\\\\Anaconda3\\\\lib\\\\site-packages\\\\docutils\\\\readers\\\\doctree.py'>, 'sphinx.io': <module 'sphinx.io' from 'C:\\\\ProgramData\\\\Anaconda3\\\\lib\\\\site-packages\\\\sphinx\\\\io.py'>, 'docutils.readers.standalone': <module 'docutils.readers.standalone' from 'C:\\\\ProgramData\\\\Anaconda3\\\\lib\\\\site-packages\\\\docutils\\\\readers\\\\standalone.py'>, 'docutils.transforms.frontmatter': <module 'docutils.transforms.frontmatter' from 'C:\\\\ProgramData\\\\Anaconda3\\\\lib\\\\site-packages\\\\docutils\\\\transforms\\\\frontmatter.py'>, 'docutils.transforms.references': <module 'docutils.transforms.references' from 'C:\\\\ProgramData\\\\Anaconda3\\\\lib\\\\site-packages\\\\docutils\\\\transforms\\\\references.py'>, 'docutils.transforms.misc': <module 'docutils.transforms.misc' from 'C:\\\\ProgramData\\\\Anaconda3\\\\lib\\\\site-packages\\\\docutils\\\\transforms\\\\misc.py'>, 'sphinx.transforms': <module 'sphinx.transforms' from 'C:\\\\ProgramData\\\\Anaconda3\\\\lib\\\\site-packages\\\\sphinx\\\\transforms\\\\__init__.py'>, 'docutils.transforms.parts': <module 'docutils.transforms.parts' from 'C:\\\\ProgramData\\\\Anaconda3\\\\lib\\\\site-packages\\\\docutils\\\\transforms\\\\parts.py'>, 'sphinx.transforms.compact_bullet_list': <module 'sphinx.transforms.compact_bullet_list' from 'C:\\\\ProgramData\\\\Anaconda3\\\\lib\\\\site-packages\\\\sphinx\\\\transforms\\\\compact_bullet_list.py'>, 'sphinx.transforms.i18n': <module 'sphinx.transforms.i18n' from 'C:\\\\ProgramData\\\\Anaconda3\\\\lib\\\\site-packages\\\\sphinx\\\\transforms\\\\i18n.py'>, 'sphinx.domains': <module 'sphinx.domains' from 'C:\\\\ProgramData\\\\Anaconda3\\\\lib\\\\site-packages\\\\sphinx\\\\domains\\\\__init__.py'>, 'sphinx.domains.std': <module 'sphinx.domains.std' from 'C:\\\\ProgramData\\\\Anaconda3\\\\lib\\\\site-packages\\\\sphinx\\\\domains\\\\std.py'>, 'sphinx.roles': <module 'sphinx.roles' from 'C:\\\\ProgramData\\\\Anaconda3\\\\lib\\\\site-packages\\\\sphinx\\\\roles.py'>, 'sphinx.directives': <module 'sphinx.directives' from 'C:\\\\ProgramData\\\\Anaconda3\\\\lib\\\\site-packages\\\\sphinx\\\\directives\\\\__init__.py'>, 'sphinx.util.docfields': <module 'sphinx.util.docfields' from 'C:\\\\ProgramData\\\\Anaconda3\\\\lib\\\\site-packages\\\\sphinx\\\\util\\\\docfields.py'>, 'sphinx.directives.code': <module 'sphinx.directives.code' from 'C:\\\\ProgramData\\\\Anaconda3\\\\lib\\\\site-packages\\\\sphinx\\\\directives\\\\code.py'>, 'sphinx.directives.other': <module 'sphinx.directives.other' from 'C:\\\\ProgramData\\\\Anaconda3\\\\lib\\\\site-packages\\\\sphinx\\\\directives\\\\other.py'>, 'docutils.parsers.rst.directives.admonitions': <module 'docutils.parsers.rst.directives.admonitions' from 'C:\\\\ProgramData\\\\Anaconda3\\\\lib\\\\site-packages\\\\docutils\\\\parsers\\\\rst\\\\directives\\\\admonitions.py'>, 'docutils.parsers.rst.directives.misc': <module 'docutils.parsers.rst.directives.misc' from 'C:\\\\ProgramData\\\\Anaconda3\\\\lib\\\\site-packages\\\\docutils\\\\parsers\\\\rst\\\\directives\\\\misc.py'>, 'docutils.parsers.rst.directives.body': <module 'docutils.parsers.rst.directives.body' from 'C:\\\\ProgramData\\\\Anaconda3\\\\lib\\\\site-packages\\\\docutils\\\\parsers\\\\rst\\\\directives\\\\body.py'>, 'sphinx.directives.patches': <module 'sphinx.directives.patches' from 'C:\\\\ProgramData\\\\Anaconda3\\\\lib\\\\site-packages\\\\sphinx\\\\directives\\\\patches.py'>, 'docutils.parsers.rst.directives.images': <module 'docutils.parsers.rst.directives.images' from 'C:\\\\ProgramData\\\\Anaconda3\\\\lib\\\\site-packages\\\\docutils\\\\parsers\\\\rst\\\\directives\\\\images.py'>, 'urllib.request': <module 'urllib.request' from 'C:\\\\ProgramData\\\\Anaconda3\\\\lib\\\\urllib\\\\request.py'>, 'http': <module 'http' from 'C:\\\\ProgramData\\\\Anaconda3\\\\lib\\\\http\\\\__init__.py'>, 'http.client': <module 'http.client' from 'C:\\\\ProgramData\\\\Anaconda3\\\\lib\\\\http\\\\client.py'>, 'urllib.error': <module 'urllib.error' from 'C:\\\\ProgramData\\\\Anaconda3\\\\lib\\\\urllib\\\\error.py'>, 'urllib.response': <module 'urllib.response' from 'C:\\\\ProgramData\\\\Anaconda3\\\\lib\\\\urllib\\\\response.py'>, 'nturl2path': <module 'nturl2path' from 'C:\\\\ProgramData\\\\Anaconda3\\\\lib\\\\nturl2path.py'>, 'PIL': <module 'PIL' from 'C:\\\\ProgramData\\\\Anaconda3\\\\lib\\\\site-packages\\\\PIL\\\\__init__.py'>, 'PIL.version': <module 'PIL.version' from 'C:\\\\ProgramData\\\\Anaconda3\\\\lib\\\\site-packages\\\\PIL\\\\version.py'>, 'PIL.Image': <module 'PIL.Image' from 'C:\\\\ProgramData\\\\Anaconda3\\\\lib\\\\site-packages\\\\PIL\\\\Image.py'>, 'PIL._imaging': <module 'PIL._imaging' from 'C:\\\\ProgramData\\\\Anaconda3\\\\lib\\\\site-packages\\\\PIL\\\\_imaging.cp36-win_amd64.pyd'>, 'PIL.ImageMode': <module 'PIL.ImageMode' from 'C:\\\\ProgramData\\\\Anaconda3\\\\lib\\\\site-packages\\\\PIL\\\\ImageMode.py'>, 'PIL._binary': <module 'PIL._binary' from 'C:\\\\ProgramData\\\\Anaconda3\\\\lib\\\\site-packages\\\\PIL\\\\_binary.py'>, 'PIL._util': <module 'PIL._util' from 'C:\\\\ProgramData\\\\Anaconda3\\\\lib\\\\site-packages\\\\PIL\\\\_util.py'>, 'cffi': <module 'cffi' from 'C:\\\\ProgramData\\\\Anaconda3\\\\lib\\\\site-packages\\\\cffi\\\\__init__.py'>, 'cffi.api': <module 'cffi.api' from 'C:\\\\ProgramData\\\\Anaconda3\\\\lib\\\\site-packages\\\\cffi\\\\api.py'>, 'cffi.lock': <module 'cffi.lock' from 'C:\\\\ProgramData\\\\Anaconda3\\\\lib\\\\site-packages\\\\cffi\\\\lock.py'>, 'cffi.error': <module 'cffi.error' from 'C:\\\\ProgramData\\\\Anaconda3\\\\lib\\\\site-packages\\\\cffi\\\\error.py'>, 'cffi.model': <module 'cffi.model' from 'C:\\\\ProgramData\\\\Anaconda3\\\\lib\\\\site-packages\\\\cffi\\\\model.py'>, 'docutils.parsers.rst.directives.html': <module 'docutils.parsers.rst.directives.html' from 'C:\\\\ProgramData\\\\Anaconda3\\\\lib\\\\site-packages\\\\docutils\\\\parsers\\\\rst\\\\directives\\\\html.py'>, 'docutils.transforms.components': <module 'docutils.transforms.components' from 'C:\\\\ProgramData\\\\Anaconda3\\\\lib\\\\site-packages\\\\docutils\\\\transforms\\\\components.py'>, 'docutils.parsers.rst.directives.tables': <module 'docutils.parsers.rst.directives.tables' from 'C:\\\\ProgramData\\\\Anaconda3\\\\lib\\\\site-packages\\\\docutils\\\\parsers\\\\rst\\\\directives\\\\tables.py'>, 'csv': <module 'csv' from 'C:\\\\ProgramData\\\\Anaconda3\\\\lib\\\\csv.py'>, '_csv': <module '_csv' (built-in)>, 'sphinx.util.parallel': <module 'sphinx.util.parallel' from 'C:\\\\ProgramData\\\\Anaconda3\\\\lib\\\\site-packages\\\\sphinx\\\\util\\\\parallel.py'>, 'sphinx.util.websupport': <module 'sphinx.util.websupport' from 'C:\\\\ProgramData\\\\Anaconda3\\\\lib\\\\site-packages\\\\sphinx\\\\util\\\\websupport.py'>, 'sphinxcontrib.websupport': <module 'sphinxcontrib.websupport' from 'C:\\\\ProgramData\\\\Anaconda3\\\\lib\\\\site-packages\\\\sphinxcontrib\\\\websupport\\\\__init__.py'>, 'pkg_resources': <module 'pkg_resources' from 'C:\\\\ProgramData\\\\Anaconda3\\\\lib\\\\site-packages\\\\pkg_resources\\\\__init__.py'>, 'zipfile': <module 'zipfile' from 'C:\\\\ProgramData\\\\Anaconda3\\\\lib\\\\zipfile.py'>, 'plistlib': <module 'plistlib' from 'C:\\\\ProgramData\\\\Anaconda3\\\\lib\\\\plistlib.py'>, 'xml': <module 'xml' from 'C:\\\\ProgramData\\\\Anaconda3\\\\lib\\\\xml\\\\__init__.py'>, 'xml.parsers': <module 'xml.parsers' from 'C:\\\\ProgramData\\\\Anaconda3\\\\lib\\\\xml\\\\parsers\\\\__init__.py'>, 'xml.parsers.expat': <module 'xml.parsers.expat' from 'C:\\\\ProgramData\\\\Anaconda3\\\\lib\\\\xml\\\\parsers\\\\expat.py'>, 'pyexpat.errors': <module 'pyexpat.errors'>, 'pyexpat.model': <module 'pyexpat.model'>, 'pyexpat': <module 'pyexpat' from 'C:\\\\ProgramData\\\\Anaconda3\\\\DLLs\\\\pyexpat.pyd'>, 'xml.parsers.expat.model': <module 'pyexpat.model'>, 'xml.parsers.expat.errors': <module 'pyexpat.errors'>, 'pkg_resources.extern': <module 'pkg_resources.extern' from 'C:\\\\ProgramData\\\\Anaconda3\\\\lib\\\\site-packages\\\\pkg_resources\\\\extern\\\\__init__.py'>, 'pkg_resources._vendor': <module 'pkg_resources._vendor' from 'C:\\\\ProgramData\\\\Anaconda3\\\\lib\\\\site-packages\\\\pkg_resources\\\\_vendor\\\\__init__.py'>, 'pkg_resources.extern.six': <module 'pkg_resources._vendor.six' from 'C:\\\\ProgramData\\\\Anaconda3\\\\lib\\\\site-packages\\\\pkg_resources\\\\_vendor\\\\six.py'>, 'pkg_resources._vendor.six': <module 'pkg_resources._vendor.six' from 'C:\\\\ProgramData\\\\Anaconda3\\\\lib\\\\site-packages\\\\pkg_resources\\\\_vendor\\\\six.py'>, 'pkg_resources.extern.six.moves': <module 'pkg_resources._vendor.six.moves' (<pkg_resources._vendor.six._SixMetaPathImporter object at 0x0000000004F2A278>)>, 'pkg_resources._vendor.six.moves': <module 'pkg_resources._vendor.six.moves' (<pkg_resources._vendor.six._SixMetaPathImporter object at 0x0000000004F2A278>)>, 'pkg_resources.py31compat': <module 'pkg_resources.py31compat' from 'C:\\\\ProgramData\\\\Anaconda3\\\\lib\\\\site-packages\\\\pkg_resources\\\\py31compat.py'>, 'win32com': <module 'win32com' from 'C:\\\\ProgramData\\\\Anaconda3\\\\lib\\\\site-packages\\\\win32com\\\\__init__.py'>, 'win32api': <module 'win32api' from 'C:\\\\ProgramData\\\\Anaconda3\\\\lib\\\\site-packages\\\\win32\\\\win32api.pyd'>, 'pythoncom': <module 'pythoncom' (C:\\ProgramData\\Anaconda3\\Library\\bin\\pythoncom36.dll)>, 'pywintypes': <module 'pywintypes' (C:\\ProgramData\\Anaconda3\\lib\\site-packages\\win32\\pywintypes36.dll)>, '_win32sysloader': <module '_win32sysloader' from 'C:\\\\ProgramData\\\\Anaconda3\\\\lib\\\\site-packages\\\\win32\\\\_win32sysloader.pyd'>, 'win32com.gen_py': <module 'win32com.gen_py'>, 'win32com.shell': <module 'win32com.shell' from 'C:\\\\ProgramData\\\\Anaconda3\\\\lib\\\\site-packages\\\\win32comext\\\\shell\\\\__init__.py'>, 'pkg_resources.extern.appdirs': <module 'pkg_resources._vendor.appdirs' from 'C:\\\\ProgramData\\\\Anaconda3\\\\lib\\\\site-packages\\\\pkg_resources\\\\_vendor\\\\appdirs.py'>, 'pkg_resources._vendor.packaging.__about__': <module 'pkg_resources._vendor.packaging.__about__' from 'C:\\\\ProgramData\\\\Anaconda3\\\\lib\\\\site-packages\\\\pkg_resources\\\\_vendor\\\\packaging\\\\__about__.py'>, 'pkg_resources.extern.packaging': <module 'pkg_resources._vendor.packaging' from 'C:\\\\ProgramData\\\\Anaconda3\\\\lib\\\\site-packages\\\\pkg_resources\\\\_vendor\\\\packaging\\\\__init__.py'>, 'pkg_resources.extern.packaging.version': <module 'pkg_resources.extern.packaging.version' from 'C:\\\\ProgramData\\\\Anaconda3\\\\lib\\\\site-packages\\\\pkg_resources\\\\_vendor\\\\packaging\\\\version.py'>, 'pkg_resources.extern.packaging._structures': <module 'pkg_resources.extern.packaging._structures' from 'C:\\\\ProgramData\\\\Anaconda3\\\\lib\\\\site-packages\\\\pkg_resources\\\\_vendor\\\\packaging\\\\_structures.py'>, 'pkg_resources.extern.packaging.specifiers': <module 'pkg_resources.extern.packaging.specifiers' from 'C:\\\\ProgramData\\\\Anaconda3\\\\lib\\\\site-packages\\\\pkg_resources\\\\_vendor\\\\packaging\\\\specifiers.py'>, 'pkg_resources.extern.packaging._compat': <module 'pkg_resources.extern.packaging._compat' from 'C:\\\\ProgramData\\\\Anaconda3\\\\lib\\\\site-packages\\\\pkg_resources\\\\_vendor\\\\packaging\\\\_compat.py'>, 'pkg_resources.extern.packaging.requirements': <module 'pkg_resources.extern.packaging.requirements' from 'C:\\\\ProgramData\\\\Anaconda3\\\\lib\\\\site-packages\\\\pkg_resources\\\\_vendor\\\\packaging\\\\requirements.py'>, 'pkg_resources.extern.pyparsing': <module 'pkg_resources._vendor.pyparsing' from 'C:\\\\ProgramData\\\\Anaconda3\\\\lib\\\\site-packages\\\\pkg_resources\\\\_vendor\\\\pyparsing.py'>, 'pkg_resources.extern.six.moves.urllib': <module 'pkg_resources._vendor.six.moves.urllib' (<pkg_resources._vendor.six._SixMetaPathImporter object at 0x0000000004F2A278>)>, 'pkg_resources.extern.packaging.markers': <module 'pkg_resources.extern.packaging.markers' from 'C:\\\\ProgramData\\\\Anaconda3\\\\lib\\\\site-packages\\\\pkg_resources\\\\_vendor\\\\packaging\\\\markers.py'>, 'sphinxcontrib.websupport.core': <module 'sphinxcontrib.websupport.core' from 'C:\\\\ProgramData\\\\Anaconda3\\\\lib\\\\site-packages\\\\sphinxcontrib\\\\websupport\\\\core.py'>, 'sphinx.util.jsonimpl': <module 'sphinx.util.jsonimpl' from 'C:\\\\ProgramData\\\\Anaconda3\\\\lib\\\\site-packages\\\\sphinx\\\\util\\\\jsonimpl.py'>, 'sphinxcontrib.websupport.errors': <module 'sphinxcontrib.websupport.errors' from 'C:\\\\ProgramData\\\\Anaconda3\\\\lib\\\\site-packages\\\\sphinxcontrib\\\\websupport\\\\errors.py'>, 'sphinxcontrib.websupport.search': <module 'sphinxcontrib.websupport.search' from 'C:\\\\ProgramData\\\\Anaconda3\\\\lib\\\\site-packages\\\\sphinxcontrib\\\\websupport\\\\search\\\\__init__.py'>, 'sphinxcontrib.websupport.storage': <module 'sphinxcontrib.websupport.storage' from 'C:\\\\ProgramData\\\\Anaconda3\\\\lib\\\\site-packages\\\\sphinxcontrib\\\\websupport\\\\storage\\\\__init__.py'>, 'sphinxcontrib.websupport.version': <module 'sphinxcontrib.websupport.version' from 'C:\\\\ProgramData\\\\Anaconda3\\\\lib\\\\site-packages\\\\sphinxcontrib\\\\websupport\\\\version.py'>, 'sphinxcontrib.websupport.utils': <module 'sphinxcontrib.websupport.utils' from 'C:\\\\ProgramData\\\\Anaconda3\\\\lib\\\\site-packages\\\\sphinxcontrib\\\\websupport\\\\utils.py'>, 'sphinx.versioning': <module 'sphinx.versioning' from 'C:\\\\ProgramData\\\\Anaconda3\\\\lib\\\\site-packages\\\\sphinx\\\\versioning.py'>, 'uuid': <module 'uuid' from 'C:\\\\ProgramData\\\\Anaconda3\\\\lib\\\\uuid.py'>, 'ctypes.util': <module 'ctypes.util' from 'C:\\\\ProgramData\\\\Anaconda3\\\\lib\\\\ctypes\\\\util.py'>, 'sphinx.environment.adapters': <module 'sphinx.environment.adapters' from 'C:\\\\ProgramData\\\\Anaconda3\\\\lib\\\\site-packages\\\\sphinx\\\\environment\\\\adapters\\\\__init__.py'>, 'sphinx.environment.adapters.indexentries': <module 'sphinx.environment.adapters.indexentries' from 'C:\\\\ProgramData\\\\Anaconda3\\\\lib\\\\site-packages\\\\sphinx\\\\environment\\\\adapters\\\\indexentries.py'>, 'sphinx.environment.adapters.toctree': <module 'sphinx.environment.adapters.toctree' from 'C:\\\\ProgramData\\\\Anaconda3\\\\lib\\\\site-packages\\\\sphinx\\\\environment\\\\adapters\\\\toctree.py'>, 'sphinx.events': <module 'sphinx.events' from 'C:\\\\ProgramData\\\\Anaconda3\\\\lib\\\\site-packages\\\\sphinx\\\\events.py'>, 'sphinx.extension': <module 'sphinx.extension' from 'C:\\\\ProgramData\\\\Anaconda3\\\\lib\\\\site-packages\\\\sphinx\\\\extension.py'>, 'sphinx.registry': <module 'sphinx.registry' from 'C:\\\\ProgramData\\\\Anaconda3\\\\lib\\\\site-packages\\\\sphinx\\\\registry.py'>, 'sphinx.util.tags': <module 'sphinx.util.tags' from 'C:\\\\ProgramData\\\\Anaconda3\\\\lib\\\\site-packages\\\\sphinx\\\\util\\\\tags.py'>, 'numpydoc.docscrape': <module 'numpydoc.docscrape' from 'C:\\\\ProgramData\\\\Anaconda3\\\\lib\\\\site-packages\\\\numpydoc\\\\docscrape.py'>, 'sphinx.domains.c': <module 'sphinx.domains.c' from 'C:\\\\ProgramData\\\\Anaconda3\\\\lib\\\\site-packages\\\\sphinx\\\\domains\\\\c.py'>, 'sphinx.domains.python': <module 'sphinx.domains.python' from 'C:\\\\ProgramData\\\\Anaconda3\\\\lib\\\\site-packages\\\\sphinx\\\\domains\\\\python.py'>, 'jedi.evaluate.pep0484': <module 'jedi.evaluate.pep0484' from 'C:\\\\ProgramData\\\\Anaconda3\\\\lib\\\\site-packages\\\\jedi\\\\evaluate\\\\pep0484.py'>, 'jedi.evaluate.arguments': <module 'jedi.evaluate.arguments' from 'C:\\\\ProgramData\\\\Anaconda3\\\\lib\\\\site-packages\\\\jedi\\\\evaluate\\\\arguments.py'>, 'jedi.evaluate.context.iterable': <module 'jedi.evaluate.context.iterable' from 'C:\\\\ProgramData\\\\Anaconda3\\\\lib\\\\site-packages\\\\jedi\\\\evaluate\\\\context\\\\iterable.py'>, 'jedi.evaluate.param': <module 'jedi.evaluate.param' from 'C:\\\\ProgramData\\\\Anaconda3\\\\lib\\\\site-packages\\\\jedi\\\\evaluate\\\\param.py'>, 'jedi.evaluate.parser_cache': <module 'jedi.evaluate.parser_cache' from 'C:\\\\ProgramData\\\\Anaconda3\\\\lib\\\\site-packages\\\\jedi\\\\evaluate\\\\parser_cache.py'>, 'jedi.evaluate.context.instance': <module 'jedi.evaluate.context.instance' from 'C:\\\\ProgramData\\\\Anaconda3\\\\lib\\\\site-packages\\\\jedi\\\\evaluate\\\\context\\\\instance.py'>, 'jedi.evaluate.syntax_tree': <module 'jedi.evaluate.syntax_tree' from 'C:\\\\ProgramData\\\\Anaconda3\\\\lib\\\\site-packages\\\\jedi\\\\evaluate\\\\syntax_tree.py'>, 'jedi.evaluate.finder': <module 'jedi.evaluate.finder' from 'C:\\\\ProgramData\\\\Anaconda3\\\\lib\\\\site-packages\\\\jedi\\\\evaluate\\\\finder.py'>, 'jedi.api.keywords': <module 'jedi.api.keywords' from 'C:\\\\ProgramData\\\\Anaconda3\\\\lib\\\\site-packages\\\\jedi\\\\api\\\\keywords.py'>, 'pydoc_data': <module 'pydoc_data' from 'C:\\\\ProgramData\\\\Anaconda3\\\\lib\\\\pydoc_data\\\\__init__.py'>, 'pydoc_data.topics': <module 'pydoc_data.topics' from 'C:\\\\ProgramData\\\\Anaconda3\\\\lib\\\\pydoc_data\\\\topics.py'>, 'jedi.api.interpreter': <module 'jedi.api.interpreter' from 'C:\\\\ProgramData\\\\Anaconda3\\\\lib\\\\site-packages\\\\jedi\\\\api\\\\interpreter.py'>, 'jedi.evaluate.compiled.mixed': <module 'jedi.evaluate.compiled.mixed' from 'C:\\\\ProgramData\\\\Anaconda3\\\\lib\\\\site-packages\\\\jedi\\\\evaluate\\\\compiled\\\\mixed.py'>, 'jedi.api.helpers': <module 'jedi.api.helpers' from 'C:\\\\ProgramData\\\\Anaconda3\\\\lib\\\\site-packages\\\\jedi\\\\api\\\\helpers.py'>, 'jedi.api.completion': <module 'jedi.api.completion' from 'C:\\\\ProgramData\\\\Anaconda3\\\\lib\\\\site-packages\\\\jedi\\\\api\\\\completion.py'>, 'jedi.evaluate.usages': <module 'jedi.evaluate.usages' from 'C:\\\\ProgramData\\\\Anaconda3\\\\lib\\\\site-packages\\\\jedi\\\\evaluate\\\\usages.py'>, 'jedi.evaluate.project': <module 'jedi.evaluate.project' from 'C:\\\\ProgramData\\\\Anaconda3\\\\lib\\\\site-packages\\\\jedi\\\\evaluate\\\\project.py'>, 'IPython.terminal.ptutils': <module 'IPython.terminal.ptutils' from 'C:\\\\ProgramData\\\\Anaconda3\\\\lib\\\\site-packages\\\\IPython\\\\terminal\\\\ptutils.py'>, 'IPython.terminal.shortcuts': <module 'IPython.terminal.shortcuts' from 'C:\\\\ProgramData\\\\Anaconda3\\\\lib\\\\site-packages\\\\IPython\\\\terminal\\\\shortcuts.py'>, 'IPython.lib.clipboard': <module 'IPython.lib.clipboard' from 'C:\\\\ProgramData\\\\Anaconda3\\\\lib\\\\site-packages\\\\IPython\\\\lib\\\\clipboard.py'>, 'IPython.terminal.magics': <module 'IPython.terminal.magics' from 'C:\\\\ProgramData\\\\Anaconda3\\\\lib\\\\site-packages\\\\IPython\\\\terminal\\\\magics.py'>, 'IPython.terminal.pt_inputhooks': <module 'IPython.terminal.pt_inputhooks' from 'C:\\\\ProgramData\\\\Anaconda3\\\\lib\\\\site-packages\\\\IPython\\\\terminal\\\\pt_inputhooks\\\\__init__.py'>, 'IPython.terminal.prompts': <module 'IPython.terminal.prompts' from 'C:\\\\ProgramData\\\\Anaconda3\\\\lib\\\\site-packages\\\\IPython\\\\terminal\\\\prompts.py'>, 'IPython.terminal.ipapp': <module 'IPython.terminal.ipapp' from 'C:\\\\ProgramData\\\\Anaconda3\\\\lib\\\\site-packages\\\\IPython\\\\terminal\\\\ipapp.py'>, 'IPython.core.magics': <module 'IPython.core.magics' from 'C:\\\\ProgramData\\\\Anaconda3\\\\lib\\\\site-packages\\\\IPython\\\\core\\\\magics\\\\__init__.py'>, 'IPython.core.magics.auto': <module 'IPython.core.magics.auto' from 'C:\\\\ProgramData\\\\Anaconda3\\\\lib\\\\site-packages\\\\IPython\\\\core\\\\magics\\\\auto.py'>, 'IPython.core.magics.basic': <module 'IPython.core.magics.basic' from 'C:\\\\ProgramData\\\\Anaconda3\\\\lib\\\\site-packages\\\\IPython\\\\core\\\\magics\\\\basic.py'>, 'IPython.core.magics.code': <module 'IPython.core.magics.code' from 'C:\\\\ProgramData\\\\Anaconda3\\\\lib\\\\site-packages\\\\IPython\\\\core\\\\magics\\\\code.py'>, 'IPython.core.magics.config': <module 'IPython.core.magics.config' from 'C:\\\\ProgramData\\\\Anaconda3\\\\lib\\\\site-packages\\\\IPython\\\\core\\\\magics\\\\config.py'>, 'IPython.core.magics.display': <module 'IPython.core.magics.display' from 'C:\\\\ProgramData\\\\Anaconda3\\\\lib\\\\site-packages\\\\IPython\\\\core\\\\magics\\\\display.py'>, 'IPython.core.magics.execution': <module 'IPython.core.magics.execution' from 'C:\\\\ProgramData\\\\Anaconda3\\\\lib\\\\site-packages\\\\IPython\\\\core\\\\magics\\\\execution.py'>, 'timeit': <module 'timeit' from 'C:\\\\ProgramData\\\\Anaconda3\\\\lib\\\\timeit.py'>, 'cProfile': <module 'cProfile' from 'C:\\\\ProgramData\\\\Anaconda3\\\\lib\\\\cProfile.py'>, '_lsprof': <module '_lsprof' (built-in)>, 'profile': <module 'profile' from 'C:\\\\ProgramData\\\\Anaconda3\\\\lib\\\\profile.py'>, 'pstats': <module 'pstats' from 'C:\\\\ProgramData\\\\Anaconda3\\\\lib\\\\pstats.py'>, 'IPython.utils.module_paths': <module 'IPython.utils.module_paths' from 'C:\\\\ProgramData\\\\Anaconda3\\\\lib\\\\site-packages\\\\IPython\\\\utils\\\\module_paths.py'>, 'IPython.utils.timing': <module 'IPython.utils.timing' from 'C:\\\\ProgramData\\\\Anaconda3\\\\lib\\\\site-packages\\\\IPython\\\\utils\\\\timing.py'>, 'IPython.core.magics.extension': <module 'IPython.core.magics.extension' from 'C:\\\\ProgramData\\\\Anaconda3\\\\lib\\\\site-packages\\\\IPython\\\\core\\\\magics\\\\extension.py'>, 'IPython.core.magics.history': <module 'IPython.core.magics.history' from 'C:\\\\ProgramData\\\\Anaconda3\\\\lib\\\\site-packages\\\\IPython\\\\core\\\\magics\\\\history.py'>, 'IPython.core.magics.logging': <module 'IPython.core.magics.logging' from 'C:\\\\ProgramData\\\\Anaconda3\\\\lib\\\\site-packages\\\\IPython\\\\core\\\\magics\\\\logging.py'>, 'IPython.core.magics.namespace': <module 'IPython.core.magics.namespace' from 'C:\\\\ProgramData\\\\Anaconda3\\\\lib\\\\site-packages\\\\IPython\\\\core\\\\magics\\\\namespace.py'>, 'IPython.core.magics.osm': <module 'IPython.core.magics.osm' from 'C:\\\\ProgramData\\\\Anaconda3\\\\lib\\\\site-packages\\\\IPython\\\\core\\\\magics\\\\osm.py'>, 'IPython.core.magics.pylab': <module 'IPython.core.magics.pylab' from 'C:\\\\ProgramData\\\\Anaconda3\\\\lib\\\\site-packages\\\\IPython\\\\core\\\\magics\\\\pylab.py'>, 'IPython.core.pylabtools': <module 'IPython.core.pylabtools' from 'C:\\\\ProgramData\\\\Anaconda3\\\\lib\\\\site-packages\\\\IPython\\\\core\\\\pylabtools.py'>, 'IPython.core.magics.script': <module 'IPython.core.magics.script' from 'C:\\\\ProgramData\\\\Anaconda3\\\\lib\\\\site-packages\\\\IPython\\\\core\\\\magics\\\\script.py'>, 'IPython.lib.backgroundjobs': <module 'IPython.lib.backgroundjobs' from 'C:\\\\ProgramData\\\\Anaconda3\\\\lib\\\\site-packages\\\\IPython\\\\lib\\\\backgroundjobs.py'>, 'IPython.core.shellapp': <module 'IPython.core.shellapp' from 'C:\\\\ProgramData\\\\Anaconda3\\\\lib\\\\site-packages\\\\IPython\\\\core\\\\shellapp.py'>, 'IPython.extensions': <module 'IPython.extensions' from 'C:\\\\ProgramData\\\\Anaconda3\\\\lib\\\\site-packages\\\\IPython\\\\extensions\\\\__init__.py'>, 'IPython.extensions.storemagic': <module 'IPython.extensions.storemagic' from 'C:\\\\ProgramData\\\\Anaconda3\\\\lib\\\\site-packages\\\\IPython\\\\extensions\\\\storemagic.py'>, 'IPython.utils.frame': <module 'IPython.utils.frame' from 'C:\\\\ProgramData\\\\Anaconda3\\\\lib\\\\site-packages\\\\IPython\\\\utils\\\\frame.py'>, 'jupyter_client': <module 'jupyter_client' from 'C:\\\\ProgramData\\\\Anaconda3\\\\lib\\\\site-packages\\\\jupyter_client\\\\__init__.py'>, 'jupyter_client._version': <module 'jupyter_client._version' from 'C:\\\\ProgramData\\\\Anaconda3\\\\lib\\\\site-packages\\\\jupyter_client\\\\_version.py'>, 'jupyter_client.connect': <module 'jupyter_client.connect' from 'C:\\\\ProgramData\\\\Anaconda3\\\\lib\\\\site-packages\\\\jupyter_client\\\\connect.py'>, 'zmq': <module 'zmq' from 'C:\\\\ProgramData\\\\Anaconda3\\\\lib\\\\site-packages\\\\zmq\\\\__init__.py'>, 'zmq.libzmq': <module 'zmq.libzmq' from 'C:\\\\ProgramData\\\\Anaconda3\\\\lib\\\\site-packages\\\\zmq\\\\libzmq.cp36-win_amd64.pyd'>, 'zmq.backend': <module 'zmq.backend' from 'C:\\\\ProgramData\\\\Anaconda3\\\\lib\\\\site-packages\\\\zmq\\\\backend\\\\__init__.py'>, 'zmq.backend.select': <module 'zmq.backend.select' from 'C:\\\\ProgramData\\\\Anaconda3\\\\lib\\\\site-packages\\\\zmq\\\\backend\\\\select.py'>, 'zmq.backend.cython': <module 'zmq.backend.cython' from 'C:\\\\ProgramData\\\\Anaconda3\\\\lib\\\\site-packages\\\\zmq\\\\backend\\\\cython\\\\__init__.py'>, 'cython_runtime': <module 'cython_runtime'>, 'zmq.backend.cython.constants': <module 'zmq.backend.cython.constants' from 'C:\\\\ProgramData\\\\Anaconda3\\\\lib\\\\site-packages\\\\zmq\\\\backend\\\\cython\\\\constants.cp36-win_amd64.pyd'>, '_cython_0_27_2': <module '_cython_0_27_2'>, 'zmq.backend.cython.error': <module 'zmq.backend.cython.error' from 'C:\\\\ProgramData\\\\Anaconda3\\\\lib\\\\site-packages\\\\zmq\\\\backend\\\\cython\\\\error.cp36-win_amd64.pyd'>, 'zmq.utils': <module 'zmq.utils' from 'C:\\\\ProgramData\\\\Anaconda3\\\\lib\\\\site-packages\\\\zmq\\\\utils\\\\__init__.py'>, 'zmq.utils.strtypes': <module 'zmq.utils.strtypes' from 'C:\\\\ProgramData\\\\Anaconda3\\\\lib\\\\site-packages\\\\zmq\\\\utils\\\\strtypes.py'>, 'zmq.backend.cython.message': <module 'zmq.backend.cython.message' from 'C:\\\\ProgramData\\\\Anaconda3\\\\lib\\\\site-packages\\\\zmq\\\\backend\\\\cython\\\\message.cp36-win_amd64.pyd'>, 'zmq.error': <module 'zmq.error' from 'C:\\\\ProgramData\\\\Anaconda3\\\\lib\\\\site-packages\\\\zmq\\\\error.py'>, 'zmq.backend.cython.context': <module 'zmq.backend.cython.context' from 'C:\\\\ProgramData\\\\Anaconda3\\\\lib\\\\site-packages\\\\zmq\\\\backend\\\\cython\\\\context.cp36-win_amd64.pyd'>, 'zmq.backend.cython.socket': <module 'zmq.backend.cython.socket' from 'C:\\\\ProgramData\\\\Anaconda3\\\\lib\\\\site-packages\\\\zmq\\\\backend\\\\cython\\\\socket.cp36-win_amd64.pyd'>, 'zmq.backend.cython.utils': <module 'zmq.backend.cython.utils' from 'C:\\\\ProgramData\\\\Anaconda3\\\\lib\\\\site-packages\\\\zmq\\\\backend\\\\cython\\\\utils.cp36-win_amd64.pyd'>, 'zmq.backend.cython._poll': <module 'zmq.backend.cython._poll' from 'C:\\\\ProgramData\\\\Anaconda3\\\\lib\\\\site-packages\\\\zmq\\\\backend\\\\cython\\\\_poll.cp36-win_amd64.pyd'>, 'zmq.backend.cython._version': <module 'zmq.backend.cython._version' from 'C:\\\\ProgramData\\\\Anaconda3\\\\lib\\\\site-packages\\\\zmq\\\\backend\\\\cython\\\\_version.cp36-win_amd64.pyd'>, 'zmq.backend.cython._device': <module 'zmq.backend.cython._device' from 'C:\\\\ProgramData\\\\Anaconda3\\\\lib\\\\site-packages\\\\zmq\\\\backend\\\\cython\\\\_device.cp36-win_amd64.pyd'>, 'zmq.sugar': <module 'zmq.sugar' from 'C:\\\\ProgramData\\\\Anaconda3\\\\lib\\\\site-packages\\\\zmq\\\\sugar\\\\__init__.py'>, 'zmq.sugar.constants': <module 'zmq.sugar.constants' from 'C:\\\\ProgramData\\\\Anaconda3\\\\lib\\\\site-packages\\\\zmq\\\\sugar\\\\constants.py'>, 'zmq.utils.constant_names': <module 'zmq.utils.constant_names' from 'C:\\\\ProgramData\\\\Anaconda3\\\\lib\\\\site-packages\\\\zmq\\\\utils\\\\constant_names.py'>, 'zmq.sugar.context': <module 'zmq.sugar.context' from 'C:\\\\ProgramData\\\\Anaconda3\\\\lib\\\\site-packages\\\\zmq\\\\sugar\\\\context.py'>, 'zmq.sugar.attrsettr': <module 'zmq.sugar.attrsettr' from 'C:\\\\ProgramData\\\\Anaconda3\\\\lib\\\\site-packages\\\\zmq\\\\sugar\\\\attrsettr.py'>, 'zmq.sugar.socket': <module 'zmq.sugar.socket' from 'C:\\\\ProgramData\\\\Anaconda3\\\\lib\\\\site-packages\\\\zmq\\\\sugar\\\\socket.py'>, 'zmq.sugar.poll': <module 'zmq.sugar.poll' from 'C:\\\\ProgramData\\\\Anaconda3\\\\lib\\\\site-packages\\\\zmq\\\\sugar\\\\poll.py'>, 'zmq.sugar.frame': <module 'zmq.sugar.frame' from 'C:\\\\ProgramData\\\\Anaconda3\\\\lib\\\\site-packages\\\\zmq\\\\sugar\\\\frame.py'>, 'zmq.sugar.tracker': <module 'zmq.sugar.tracker' from 'C:\\\\ProgramData\\\\Anaconda3\\\\lib\\\\site-packages\\\\zmq\\\\sugar\\\\tracker.py'>, 'zmq.sugar.version': <module 'zmq.sugar.version' from 'C:\\\\ProgramData\\\\Anaconda3\\\\lib\\\\site-packages\\\\zmq\\\\sugar\\\\version.py'>, 'zmq.sugar.stopwatch': <module 'zmq.sugar.stopwatch' from 'C:\\\\ProgramData\\\\Anaconda3\\\\lib\\\\site-packages\\\\zmq\\\\sugar\\\\stopwatch.py'>, 'jupyter_client.localinterfaces': <module 'jupyter_client.localinterfaces' from 'C:\\\\ProgramData\\\\Anaconda3\\\\lib\\\\site-packages\\\\jupyter_client\\\\localinterfaces.py'>, 'jupyter_core': <module 'jupyter_core' from 'C:\\\\ProgramData\\\\Anaconda3\\\\lib\\\\site-packages\\\\jupyter_core\\\\__init__.py'>, 'jupyter_core.version': <module 'jupyter_core.version' from 'C:\\\\ProgramData\\\\Anaconda3\\\\lib\\\\site-packages\\\\jupyter_core\\\\version.py'>, 'jupyter_core.paths': <module 'jupyter_core.paths' from 'C:\\\\ProgramData\\\\Anaconda3\\\\lib\\\\site-packages\\\\jupyter_core\\\\paths.py'>, 'jupyter_client.launcher': <module 'jupyter_client.launcher' from 'C:\\\\ProgramData\\\\Anaconda3\\\\lib\\\\site-packages\\\\jupyter_client\\\\launcher.py'>, 'traitlets.log': <module 'traitlets.log' from 'C:\\\\ProgramData\\\\Anaconda3\\\\lib\\\\site-packages\\\\traitlets\\\\log.py'>, 'jupyter_client.client': <module 'jupyter_client.client' from 'C:\\\\ProgramData\\\\Anaconda3\\\\lib\\\\site-packages\\\\jupyter_client\\\\client.py'>, 'jupyter_client.channels': <module 'jupyter_client.channels' from 'C:\\\\ProgramData\\\\Anaconda3\\\\lib\\\\site-packages\\\\jupyter_client\\\\channels.py'>, 'jupyter_client.channelsabc': <module 'jupyter_client.channelsabc' from 'C:\\\\ProgramData\\\\Anaconda3\\\\lib\\\\site-packages\\\\jupyter_client\\\\channelsabc.py'>, 'jupyter_client.clientabc': <module 'jupyter_client.clientabc' from 'C:\\\\ProgramData\\\\Anaconda3\\\\lib\\\\site-packages\\\\jupyter_client\\\\clientabc.py'>, 'jupyter_client.manager': <module 'jupyter_client.manager' from 'C:\\\\ProgramData\\\\Anaconda3\\\\lib\\\\site-packages\\\\jupyter_client\\\\manager.py'>, 'jupyter_client.kernelspec': <module 'jupyter_client.kernelspec' from 'C:\\\\ProgramData\\\\Anaconda3\\\\lib\\\\site-packages\\\\jupyter_client\\\\kernelspec.py'>, 'jupyter_client.managerabc': <module 'jupyter_client.managerabc' from 'C:\\\\ProgramData\\\\Anaconda3\\\\lib\\\\site-packages\\\\jupyter_client\\\\managerabc.py'>, 'jupyter_client.blocking': <module 'jupyter_client.blocking' from 'C:\\\\ProgramData\\\\Anaconda3\\\\lib\\\\site-packages\\\\jupyter_client\\\\blocking\\\\__init__.py'>, 'jupyter_client.blocking.client': <module 'jupyter_client.blocking.client' from 'C:\\\\ProgramData\\\\Anaconda3\\\\lib\\\\site-packages\\\\jupyter_client\\\\blocking\\\\client.py'>, 'jupyter_client.blocking.channels': <module 'jupyter_client.blocking.channels' from 'C:\\\\ProgramData\\\\Anaconda3\\\\lib\\\\site-packages\\\\jupyter_client\\\\blocking\\\\channels.py'>, 'jupyter_client.multikernelmanager': <module 'jupyter_client.multikernelmanager' from 'C:\\\\ProgramData\\\\Anaconda3\\\\lib\\\\site-packages\\\\jupyter_client\\\\multikernelmanager.py'>, 'ipykernel.kernelapp': <module 'ipykernel.kernelapp' from 'C:\\\\ProgramData\\\\Anaconda3\\\\lib\\\\site-packages\\\\ipykernel\\\\kernelapp.py'>, 'tornado': <module 'tornado' from 'C:\\\\ProgramData\\\\Anaconda3\\\\lib\\\\site-packages\\\\tornado\\\\__init__.py'>, 'tornado.ioloop': <module 'tornado.ioloop' from 'C:\\\\ProgramData\\\\Anaconda3\\\\lib\\\\site-packages\\\\tornado\\\\ioloop.py'>, 'tornado.concurrent': <module 'tornado.concurrent' from 'C:\\\\ProgramData\\\\Anaconda3\\\\lib\\\\site-packages\\\\tornado\\\\concurrent.py'>, 'tornado.log': <module 'tornado.log' from 'C:\\\\ProgramData\\\\Anaconda3\\\\lib\\\\site-packages\\\\tornado\\\\log.py'>, 'tornado.escape': <module 'tornado.escape' from 'C:\\\\ProgramData\\\\Anaconda3\\\\lib\\\\site-packages\\\\tornado\\\\escape.py'>, 'tornado.util': <module 'tornado.util' from 'C:\\\\ProgramData\\\\Anaconda3\\\\lib\\\\site-packages\\\\tornado\\\\util.py'>, 'tornado.speedups': <module 'tornado.speedups' from 'C:\\\\ProgramData\\\\Anaconda3\\\\lib\\\\site-packages\\\\tornado\\\\speedups.cp36-win_amd64.pyd'>, 'tornado.stack_context': <module 'tornado.stack_context' from 'C:\\\\ProgramData\\\\Anaconda3\\\\lib\\\\site-packages\\\\tornado\\\\stack_context.py'>, 'tornado.platform': <module 'tornado.platform' from 'C:\\\\ProgramData\\\\Anaconda3\\\\lib\\\\site-packages\\\\tornado\\\\platform\\\\__init__.py'>, 'tornado.platform.auto': <module 'tornado.platform.auto' from 'C:\\\\ProgramData\\\\Anaconda3\\\\lib\\\\site-packages\\\\tornado\\\\platform\\\\auto.py'>, 'tornado.platform.common': <module 'tornado.platform.common' from 'C:\\\\ProgramData\\\\Anaconda3\\\\lib\\\\site-packages\\\\tornado\\\\platform\\\\common.py'>, 'tornado.platform.interface': <module 'tornado.platform.interface' from 'C:\\\\ProgramData\\\\Anaconda3\\\\lib\\\\site-packages\\\\tornado\\\\platform\\\\interface.py'>, 'tornado.platform.windows': <module 'tornado.platform.windows' from 'C:\\\\ProgramData\\\\Anaconda3\\\\lib\\\\site-packages\\\\tornado\\\\platform\\\\windows.py'>, 'zmq.eventloop': <module 'zmq.eventloop' from 'C:\\\\ProgramData\\\\Anaconda3\\\\lib\\\\site-packages\\\\zmq\\\\eventloop\\\\__init__.py'>, 'zmq.eventloop.ioloop': <module 'zmq.eventloop.ioloop' from 'C:\\\\ProgramData\\\\Anaconda3\\\\lib\\\\site-packages\\\\zmq\\\\eventloop\\\\ioloop.py'>, 'zmq.eventloop.zmqstream': <module 'zmq.eventloop.zmqstream' from 'C:\\\\ProgramData\\\\Anaconda3\\\\lib\\\\site-packages\\\\zmq\\\\eventloop\\\\zmqstream.py'>, 'zmq.utils.jsonapi': <module 'zmq.utils.jsonapi' from 'C:\\\\ProgramData\\\\Anaconda3\\\\lib\\\\site-packages\\\\zmq\\\\utils\\\\jsonapi.py'>, 'ipykernel.iostream': <module 'ipykernel.iostream' from 'C:\\\\ProgramData\\\\Anaconda3\\\\lib\\\\site-packages\\\\ipykernel\\\\iostream.py'>, 'jupyter_client.session': <module 'jupyter_client.session' from 'C:\\\\ProgramData\\\\Anaconda3\\\\lib\\\\site-packages\\\\jupyter_client\\\\session.py'>, 'hmac': <module 'hmac' from 'C:\\\\ProgramData\\\\Anaconda3\\\\lib\\\\hmac.py'>, 'jupyter_client.jsonutil': <module 'jupyter_client.jsonutil' from 'C:\\\\ProgramData\\\\Anaconda3\\\\lib\\\\site-packages\\\\jupyter_client\\\\jsonutil.py'>, 'dateutil': <module 'dateutil' from 'C:\\\\ProgramData\\\\Anaconda3\\\\lib\\\\site-packages\\\\dateutil\\\\__init__.py'>, 'dateutil._version': <module 'dateutil._version' from 'C:\\\\ProgramData\\\\Anaconda3\\\\lib\\\\site-packages\\\\dateutil\\\\_version.py'>, 'dateutil.parser': <module 'dateutil.parser' from 'C:\\\\ProgramData\\\\Anaconda3\\\\lib\\\\site-packages\\\\dateutil\\\\parser.py'>, 'dateutil.relativedelta': <module 'dateutil.relativedelta' from 'C:\\\\ProgramData\\\\Anaconda3\\\\lib\\\\site-packages\\\\dateutil\\\\relativedelta.py'>, 'dateutil._common': <module 'dateutil._common' from 'C:\\\\ProgramData\\\\Anaconda3\\\\lib\\\\site-packages\\\\dateutil\\\\_common.py'>, 'dateutil.tz': <module 'dateutil.tz' from 'C:\\\\ProgramData\\\\Anaconda3\\\\lib\\\\site-packages\\\\dateutil\\\\tz\\\\__init__.py'>, 'dateutil.tz.tz': <module 'dateutil.tz.tz' from 'C:\\\\ProgramData\\\\Anaconda3\\\\lib\\\\site-packages\\\\dateutil\\\\tz\\\\tz.py'>, 'dateutil.tz._common': <module 'dateutil.tz._common' from 'C:\\\\ProgramData\\\\Anaconda3\\\\lib\\\\site-packages\\\\dateutil\\\\tz\\\\_common.py'>, 'dateutil.tz.win': <module 'dateutil.tz.win' from 'C:\\\\ProgramData\\\\Anaconda3\\\\lib\\\\site-packages\\\\dateutil\\\\tz\\\\win.py'>, '_strptime': <module '_strptime' from 'C:\\\\ProgramData\\\\Anaconda3\\\\lib\\\\_strptime.py'>, 'jupyter_client.adapter': <module 'jupyter_client.adapter' from 'C:\\\\ProgramData\\\\Anaconda3\\\\lib\\\\site-packages\\\\jupyter_client\\\\adapter.py'>, 'ipykernel.heartbeat': <module 'ipykernel.heartbeat' from 'C:\\\\ProgramData\\\\Anaconda3\\\\lib\\\\site-packages\\\\ipykernel\\\\heartbeat.py'>, 'ipykernel.ipkernel': <module 'ipykernel.ipkernel' from 'C:\\\\ProgramData\\\\Anaconda3\\\\lib\\\\site-packages\\\\ipykernel\\\\ipkernel.py'>, 'IPython.utils.tokenutil': <module 'IPython.utils.tokenutil' from 'C:\\\\ProgramData\\\\Anaconda3\\\\lib\\\\site-packages\\\\IPython\\\\utils\\\\tokenutil.py'>, 'ipykernel.comm': <module 'ipykernel.comm' from 'C:\\\\ProgramData\\\\Anaconda3\\\\lib\\\\site-packages\\\\ipykernel\\\\comm\\\\__init__.py'>, 'ipykernel.comm.manager': <module 'ipykernel.comm.manager' from 'C:\\\\ProgramData\\\\Anaconda3\\\\lib\\\\site-packages\\\\ipykernel\\\\comm\\\\manager.py'>, 'ipykernel.comm.comm': <module 'ipykernel.comm.comm' from 'C:\\\\ProgramData\\\\Anaconda3\\\\lib\\\\site-packages\\\\ipykernel\\\\comm\\\\comm.py'>, 'ipykernel.kernelbase': <module 'ipykernel.kernelbase' from 'C:\\\\ProgramData\\\\Anaconda3\\\\lib\\\\site-packages\\\\ipykernel\\\\kernelbase.py'>, 'ipykernel.jsonutil': <module 'ipykernel.jsonutil' from 'C:\\\\ProgramData\\\\Anaconda3\\\\lib\\\\site-packages\\\\ipykernel\\\\jsonutil.py'>, 'ipykernel.zmqshell': <module 'ipykernel.zmqshell' from 'C:\\\\ProgramData\\\\Anaconda3\\\\lib\\\\site-packages\\\\ipykernel\\\\zmqshell.py'>, 'IPython.core.payloadpage': <module 'IPython.core.payloadpage' from 'C:\\\\ProgramData\\\\Anaconda3\\\\lib\\\\site-packages\\\\IPython\\\\core\\\\payloadpage.py'>, 'ipykernel.displayhook': <module 'ipykernel.displayhook' from 'C:\\\\ProgramData\\\\Anaconda3\\\\lib\\\\site-packages\\\\ipykernel\\\\displayhook.py'>, 'ipykernel.parentpoller': <module 'ipykernel.parentpoller' from 'C:\\\\ProgramData\\\\Anaconda3\\\\lib\\\\site-packages\\\\ipykernel\\\\parentpoller.py'>, 'faulthandler': <module 'faulthandler' (built-in)>, 'ipykernel.datapub': <module 'ipykernel.datapub' from 'C:\\\\ProgramData\\\\Anaconda3\\\\lib\\\\site-packages\\\\ipykernel\\\\datapub.py'>, 'ipykernel.serialize': <module 'ipykernel.serialize' from 'C:\\\\ProgramData\\\\Anaconda3\\\\lib\\\\site-packages\\\\ipykernel\\\\serialize.py'>, 'ipykernel.pickleutil': <module 'ipykernel.pickleutil' from 'C:\\\\ProgramData\\\\Anaconda3\\\\lib\\\\site-packages\\\\ipykernel\\\\pickleutil.py'>, 'ipykernel.codeutil': <module 'ipykernel.codeutil' from 'C:\\\\ProgramData\\\\Anaconda3\\\\lib\\\\site-packages\\\\ipykernel\\\\codeutil.py'>, 'IPython.core.completerlib': <module 'IPython.core.completerlib' from 'C:\\\\ProgramData\\\\Anaconda3\\\\lib\\\\site-packages\\\\IPython\\\\core\\\\completerlib.py'>, 'storemagic': <module 'storemagic' from 'C:\\\\ProgramData\\\\Anaconda3\\\\lib\\\\site-packages\\\\IPython\\\\extensions\\\\storemagic.py'>, 'ipywidgets': <module 'ipywidgets' from 'C:\\\\ProgramData\\\\Anaconda3\\\\lib\\\\site-packages\\\\ipywidgets\\\\__init__.py'>, 'ipywidgets._version': <module 'ipywidgets._version' from 'C:\\\\ProgramData\\\\Anaconda3\\\\lib\\\\site-packages\\\\ipywidgets\\\\_version.py'>, 'ipywidgets.widgets': <module 'ipywidgets.widgets' from 'C:\\\\ProgramData\\\\Anaconda3\\\\lib\\\\site-packages\\\\ipywidgets\\\\widgets\\\\__init__.py'>, 'ipywidgets.widgets.widget': <module 'ipywidgets.widgets.widget' from 'C:\\\\ProgramData\\\\Anaconda3\\\\lib\\\\site-packages\\\\ipywidgets\\\\widgets\\\\widget.py'>, 'ipywidgets.widgets.domwidget': <module 'ipywidgets.widgets.domwidget' from 'C:\\\\ProgramData\\\\Anaconda3\\\\lib\\\\site-packages\\\\ipywidgets\\\\widgets\\\\domwidget.py'>, 'ipywidgets.widgets.trait_types': <module 'ipywidgets.widgets.trait_types' from 'C:\\\\ProgramData\\\\Anaconda3\\\\lib\\\\site-packages\\\\ipywidgets\\\\widgets\\\\trait_types.py'>, 'ipywidgets.widgets.widget_layout': <module 'ipywidgets.widgets.widget_layout' from 'C:\\\\ProgramData\\\\Anaconda3\\\\lib\\\\site-packages\\\\ipywidgets\\\\widgets\\\\widget_layout.py'>, 'ipywidgets.widgets.widget_style': <module 'ipywidgets.widgets.widget_style' from 'C:\\\\ProgramData\\\\Anaconda3\\\\lib\\\\site-packages\\\\ipywidgets\\\\widgets\\\\widget_style.py'>, 'ipywidgets.widgets.valuewidget': <module 'ipywidgets.widgets.valuewidget' from 'C:\\\\ProgramData\\\\Anaconda3\\\\lib\\\\site-packages\\\\ipywidgets\\\\widgets\\\\valuewidget.py'>, 'ipywidgets.widgets.widget_core': <module 'ipywidgets.widgets.widget_core' from 'C:\\\\ProgramData\\\\Anaconda3\\\\lib\\\\site-packages\\\\ipywidgets\\\\widgets\\\\widget_core.py'>, 'ipywidgets.widgets.widget_bool': <module 'ipywidgets.widgets.widget_bool' from 'C:\\\\ProgramData\\\\Anaconda3\\\\lib\\\\site-packages\\\\ipywidgets\\\\widgets\\\\widget_bool.py'>, 'ipywidgets.widgets.widget_description': <module 'ipywidgets.widgets.widget_description' from 'C:\\\\ProgramData\\\\Anaconda3\\\\lib\\\\site-packages\\\\ipywidgets\\\\widgets\\\\widget_description.py'>, 'ipywidgets.widgets.widget_button': <module 'ipywidgets.widgets.widget_button' from 'C:\\\\ProgramData\\\\Anaconda3\\\\lib\\\\site-packages\\\\ipywidgets\\\\widgets\\\\widget_button.py'>, 'ipywidgets.widgets.widget_box': <module 'ipywidgets.widgets.widget_box' from 'C:\\\\ProgramData\\\\Anaconda3\\\\lib\\\\site-packages\\\\ipywidgets\\\\widgets\\\\widget_box.py'>, 'ipywidgets.widgets.docutils': <module 'ipywidgets.widgets.docutils' from 'C:\\\\ProgramData\\\\Anaconda3\\\\lib\\\\site-packages\\\\ipywidgets\\\\widgets\\\\docutils.py'>, 'ipywidgets.widgets.widget_float': <module 'ipywidgets.widgets.widget_float' from 'C:\\\\ProgramData\\\\Anaconda3\\\\lib\\\\site-packages\\\\ipywidgets\\\\widgets\\\\widget_float.py'>, 'ipywidgets.widgets.widget_int': <module 'ipywidgets.widgets.widget_int' from 'C:\\\\ProgramData\\\\Anaconda3\\\\lib\\\\site-packages\\\\ipywidgets\\\\widgets\\\\widget_int.py'>, 'ipywidgets.widgets.widget_image': <module 'ipywidgets.widgets.widget_image' from 'C:\\\\ProgramData\\\\Anaconda3\\\\lib\\\\site-packages\\\\ipywidgets\\\\widgets\\\\widget_image.py'>, 'ipywidgets.widgets.widget_color': <module 'ipywidgets.widgets.widget_color' from 'C:\\\\ProgramData\\\\Anaconda3\\\\lib\\\\site-packages\\\\ipywidgets\\\\widgets\\\\widget_color.py'>, 'ipywidgets.widgets.widget_date': <module 'ipywidgets.widgets.widget_date' from 'C:\\\\ProgramData\\\\Anaconda3\\\\lib\\\\site-packages\\\\ipywidgets\\\\widgets\\\\widget_date.py'>, 'ipywidgets.widgets.widget_output': <module 'ipywidgets.widgets.widget_output' from 'C:\\\\ProgramData\\\\Anaconda3\\\\lib\\\\site-packages\\\\ipywidgets\\\\widgets\\\\widget_output.py'>, 'ipywidgets.widgets.widget_selection': <module 'ipywidgets.widgets.widget_selection' from 'C:\\\\ProgramData\\\\Anaconda3\\\\lib\\\\site-packages\\\\ipywidgets\\\\widgets\\\\widget_selection.py'>, 'ipywidgets.widgets.widget_selectioncontainer': <module 'ipywidgets.widgets.widget_selectioncontainer' from 'C:\\\\ProgramData\\\\Anaconda3\\\\lib\\\\site-packages\\\\ipywidgets\\\\widgets\\\\widget_selectioncontainer.py'>, 'ipywidgets.widgets.widget_string': <module 'ipywidgets.widgets.widget_string' from 'C:\\\\ProgramData\\\\Anaconda3\\\\lib\\\\site-packages\\\\ipywidgets\\\\widgets\\\\widget_string.py'>, 'ipywidgets.widgets.widget_controller': <module 'ipywidgets.widgets.widget_controller' from 'C:\\\\ProgramData\\\\Anaconda3\\\\lib\\\\site-packages\\\\ipywidgets\\\\widgets\\\\widget_controller.py'>, 'ipywidgets.widgets.interaction': <module 'ipywidgets.widgets.interaction' from 'C:\\\\ProgramData\\\\Anaconda3\\\\lib\\\\site-packages\\\\ipywidgets\\\\widgets\\\\interaction.py'>, 'ipywidgets.widgets.widget_link': <module 'ipywidgets.widgets.widget_link' from 'C:\\\\ProgramData\\\\Anaconda3\\\\lib\\\\site-packages\\\\ipywidgets\\\\widgets\\\\widget_link.py'>, 'jedi.evaluate.context.namespace': <module 'jedi.evaluate.context.namespace' from 'C:\\\\ProgramData\\\\Anaconda3\\\\lib\\\\site-packages\\\\jedi\\\\evaluate\\\\context\\\\namespace.py'>, 'exceptions': <module 'exceptions' from 'C:\\\\Users\\\\Администратор\\\\Documents\\\\GitHub\\\\Stepic_Python_Advanced\\\\exceptions.py'>, 'jedi.evaluate.stdlib': <module 'jedi.evaluate.stdlib' from 'C:\\\\ProgramData\\\\Anaconda3\\\\lib\\\\site-packages\\\\jedi\\\\evaluate\\\\stdlib.py'>, 'exceptions_module': <module 'exceptions_module' from 'C:\\\\Users\\\\Администратор\\\\Documents\\\\GitHub\\\\Stepic_Python_Advanced\\\\exceptions_module.py'>, 'fib': <module 'fib' from 'C:\\\\Users\\\\Администратор\\\\Documents\\\\GitHub\\\\Stepic_Python_Advanced\\\\fib.py'>}\n"
     ]
    }
   ],
   "source": [
    "print(type(sys.modules))\n",
    "print(sys.modules)"
   ]
  },
  {
   "cell_type": "code",
   "execution_count": 28,
   "metadata": {},
   "outputs": [
    {
     "name": "stdout",
     "output_type": "stream",
     "text": [
      "\n",
      "C:\\ProgramData\\Anaconda3\\python36.zip\n",
      "C:\\ProgramData\\Anaconda3\\DLLs\n",
      "C:\\ProgramData\\Anaconda3\\lib\n",
      "C:\\ProgramData\\Anaconda3\n",
      "C:\\ProgramData\\Anaconda3\\lib\\site-packages\n",
      "C:\\ProgramData\\Anaconda3\\lib\\site-packages\\win32\n",
      "C:\\ProgramData\\Anaconda3\\lib\\site-packages\\win32\\lib\n",
      "C:\\ProgramData\\Anaconda3\\lib\\site-packages\\Pythonwin\n",
      "C:\\ProgramData\\Anaconda3\\lib\\site-packages\\IPython\\extensions\n",
      "C:\\Users\\Администратор\\.ipython\n"
     ]
    }
   ],
   "source": [
    "for path in sys.path:\n",
    "    print(path)"
   ]
  },
  {
   "cell_type": "markdown",
   "metadata": {},
   "source": [
    "### Задача 1\n",
    "\n",
    "Рассмотрим три файла с исходным кодом на Python.\n",
    "\n",
    "main.py\n",
    "\n",
    "import module1\n",
    "\n",
    "import module2\n",
    "\n",
    "print(3)\n",
    "\n",
    "module1.py\n",
    "\n",
    "import module2\n",
    "\n",
    "print(1)\n",
    "\n",
    "module2.py\n",
    "\n",
    "print(2)\n",
    "\n",
    "Мы исполняем файл main.py﻿. Какие числа и в каком порядке будут выведены?"
   ]
  },
  {
   "cell_type": "code",
   "execution_count": 29,
   "metadata": {},
   "outputs": [
    {
     "data": {
      "text/plain": [
       "(2, 1, 3)"
      ]
     },
     "execution_count": 29,
     "metadata": {},
     "output_type": "execute_result"
    }
   ],
   "source": [
    "2, 1, 3"
   ]
  },
  {
   "cell_type": "markdown",
   "metadata": {},
   "source": [
    "### Задача 2\n",
    "\n",
    "В первой строке дано три числа, соответствующие некоторой дате date -- год, месяц и день.\n",
    "Во второй строке дано одно число days -- число дней.\n",
    "\n",
    "Вычислите и выведите год, месяц и день даты, которая наступит, когда с момента исходной даты date пройдет число дней, равное days.\n",
    "\n",
    "Примечание:\n",
    "\n",
    "Для решения этой задачи используйте стандартный модуль datetime.\n",
    "Вам будут полезны класс datetime.date для хранения даты и класс datetime.timedelta﻿ для прибавления дней к дате."
   ]
  },
  {
   "cell_type": "code",
   "execution_count": 30,
   "metadata": {},
   "outputs": [
    {
     "name": "stdout",
     "output_type": "stream",
     "text": [
      "2015 12 25\n",
      "20\n",
      "2016 1 14\n"
     ]
    }
   ],
   "source": [
    "from datetime import date, timedelta\n",
    "\n",
    "inp1 = list(map(int, input().split()))\n",
    "inp2 = int(input())\n",
    "\n",
    "date = date(*inp1)\n",
    "days = timedelta(days=inp2)\n",
    "result = date + days\n",
    "\n",
    "print(result.year, result.month, result.day)"
   ]
  },
  {
   "cell_type": "code",
   "execution_count": 31,
   "metadata": {},
   "outputs": [
    {
     "name": "stdout",
     "output_type": "stream",
     "text": [
      "2015 12 25\n",
      "20\n",
      "2016 1 14\n"
     ]
    }
   ],
   "source": [
    "import datetime\n",
    "\n",
    "y, m, d = map(int, input().split())\n",
    "days = int(input())\n",
    "\n",
    "current = datetime.date(year=y, month=m, day=d)\n",
    "current += datetime.timedelta(days=days)\n",
    "\n",
    "print(\"{} {} {}\".format(current.year, current.month, current.day))"
   ]
  },
  {
   "cell_type": "code",
   "execution_count": null,
   "metadata": {},
   "outputs": [],
   "source": [
    "################################################################################################################################"
   ]
  },
  {
   "cell_type": "code",
   "execution_count": 32,
   "metadata": {},
   "outputs": [
    {
     "name": "stdout",
     "output_type": "stream",
     "text": [
      "<class 'exceptions_module.BadName'>\n",
      "<function greet at 0x00000000057EE400>\n"
     ]
    }
   ],
   "source": [
    "from exceptions_module import BadName, greet\n",
    "\n",
    "print(BadName)\n",
    "print(greet)"
   ]
  },
  {
   "cell_type": "code",
   "execution_count": 34,
   "metadata": {},
   "outputs": [
    {
     "name": "stdout",
     "output_type": "stream",
     "text": [
      "<class 'exceptions_module.BadName'>\n",
      "Greetings\n",
      "Hello, Student\n"
     ]
    }
   ],
   "source": [
    "# import exceptions_module as exc\n",
    "from exceptions_module import BadName as bad, greet as exc_greet\n",
    "\n",
    "print(bad)\n",
    "def greet():\n",
    "    print('Greetings')\n",
    "    \n",
    "greet()\n",
    "print(exc_greet('Student'))"
   ]
  },
  {
   "cell_type": "code",
   "execution_count": 35,
   "metadata": {},
   "outputs": [
    {
     "name": "stdout",
     "output_type": "stream",
     "text": [
      "<class 'exceptions_module.BadName'>\n",
      "Hello, Student\n"
     ]
    }
   ],
   "source": [
    "from exceptions_module import *\n",
    "\n",
    "print(BadName)\n",
    "print(greet('Student'))\n",
    "\n",
    "# print(GREETING) # ERROR, not in __all__\n",
    "# print(_GREETING) # ERROR start with '_', can't access with 'import *'\n",
    "# print(_private_method) # ERROR start with '_', can't access with 'import *'"
   ]
  },
  {
   "cell_type": "markdown",
   "metadata": {},
   "source": [
    "### Задача 3\n",
    "\n",
    "Алиса владеет интересной информацией, которую хочет заполучить Боб.\n",
    "Алиса умна, поэтому она хранит свою информацию в зашифрованном файле.\n",
    "У Алисы плохая память, поэтому она хранит все свои пароли в открытом виде в текстовом файле.\n",
    "\n",
    "Бобу удалось завладеть зашифрованным файлом с интересной информацией и файлом с паролями, но он не смог понять какой из паролей ему нужен. Помогите ему решить эту проблему.\n",
    "\n",
    "Алиса зашифровала свою информацию с помощью библиотеки simple-crypt.\n",
    "Она представила информацию в виде строки, и затем записала в бинарный файл результат работы метода simplecrypt.encrypt.\n",
    "\n",
    "Вам необходимо установить библиотеку simple-crypt, и с помощью метода simplecrypt.decrypt узнать, какой из паролей служит ключом для расшифровки файла с интересной информацией.\n",
    "\n",
    "Ответом для данной задачи служит расшифрованная интересная информация Алисы."
   ]
  },
  {
   "cell_type": "code",
   "execution_count": 1,
   "metadata": {},
   "outputs": [
    {
     "name": "stdout",
     "output_type": "stream",
     "text": [
      "b'9XB8nsIqRfYeswC' is wrong\n",
      "b'4sEhUGLEZti9BiN' is wrong\n",
      "b'bDjmT0NcIW8nzhb' is wrong\n",
      "b'ZN6QQoMOO1ZQLUY' is wrong\n",
      "Alice loves Bob\n",
      "b'RVrF2qdMpoq6Lib' is correct\n",
      "b'tnnX7HH3vJ9Hiji' is wrong\n",
      "b'C24TJYYkqekv40l' is wrong\n",
      "b'B2ropluPaMAitzE' is wrong\n",
      "b'DRezNUVnr2zC0CP' is wrong\n",
      "b'XCNmpTvvZb1n3mX' is wrong\n"
     ]
    }
   ],
   "source": [
    "import simplecrypt\n",
    "import urllib.request as urllib\n",
    "\n",
    "passwords = urllib.urlopen('https://stepik.org/media/attachments/lesson/24466/passwords.txt')\n",
    "\n",
    "with open('encrypted.bin', 'rb') as inp:\n",
    "    encrypted = inp.read()\n",
    "\n",
    "for password in passwords:\n",
    "    password = password[:-1]\n",
    "    try:\n",
    "        print(simplecrypt.decrypt(password, encrypted).decode('utf8'))\n",
    "    except simplecrypt.DecryptionException:\n",
    "        print(password, 'is wrong')\n",
    "    else:\n",
    "        print(password, 'is correct')"
   ]
  },
  {
   "cell_type": "markdown",
   "metadata": {},
   "source": [
    "## Итераторы и генераторы"
   ]
  },
  {
   "cell_type": "code",
   "execution_count": 4,
   "metadata": {},
   "outputs": [],
   "source": [
    "lst = [1, 2, 3, 4, 5, 6]\n",
    "book = {\n",
    "    'title': 'The Langoliers',\n",
    "    'author': 'Stephen King',\n",
    "    'year_published': 1990\n",
    "}\n",
    "string = \"Hello, World!\""
   ]
  },
  {
   "cell_type": "code",
   "execution_count": 5,
   "metadata": {},
   "outputs": [
    {
     "name": "stdout",
     "output_type": "stream",
     "text": [
      "1\n",
      "2\n",
      "3\n",
      "4\n",
      "5\n",
      "6\n"
     ]
    }
   ],
   "source": [
    "for i in lst:\n",
    "    print(i)"
   ]
  },
  {
   "cell_type": "code",
   "execution_count": 9,
   "metadata": {},
   "outputs": [
    {
     "name": "stdout",
     "output_type": "stream",
     "text": [
      "title\n",
      "author\n",
      "year_published\n"
     ]
    }
   ],
   "source": [
    "for i in book:\n",
    "    print(i)"
   ]
  },
  {
   "cell_type": "code",
   "execution_count": 14,
   "metadata": {},
   "outputs": [
    {
     "name": "stdout",
     "output_type": "stream",
     "text": [
      "title = The Langoliers\n",
      "author = Stephen King\n",
      "year_published = 1990\n"
     ]
    }
   ],
   "source": [
    "for key, value in book.items():\n",
    "    print('{} = {}'.format(key, value))"
   ]
  },
  {
   "cell_type": "code",
   "execution_count": 11,
   "metadata": {},
   "outputs": [
    {
     "name": "stdout",
     "output_type": "stream",
     "text": [
      "H\n",
      "e\n",
      "l\n",
      "l\n",
      "o\n",
      ",\n",
      " \n",
      "W\n",
      "o\n",
      "r\n",
      "l\n",
      "d\n",
      "!\n"
     ]
    }
   ],
   "source": [
    "for i in string:\n",
    "    print(i)"
   ]
  },
  {
   "cell_type": "code",
   "execution_count": 21,
   "metadata": {},
   "outputs": [
    {
     "name": "stdout",
     "output_type": "stream",
     "text": [
      "1\n",
      "2\n",
      "3\n",
      "4\n",
      "5\n",
      "6\n"
     ]
    }
   ],
   "source": [
    "iterator = iter(lst)\n",
    "print(next(iterator))\n",
    "print(next(iterator))\n",
    "print(next(iterator))\n",
    "print(next(iterator))\n",
    "print(next(iterator))\n",
    "print(next(iterator))\n",
    "# print(next(iterator)) # ERROR StopIteration"
   ]
  },
  {
   "cell_type": "code",
   "execution_count": 16,
   "metadata": {},
   "outputs": [
    {
     "name": "stdout",
     "output_type": "stream",
     "text": [
      "1\n",
      "2\n",
      "3\n",
      "4\n",
      "5\n",
      "6\n"
     ]
    }
   ],
   "source": [
    "iterator = iter(lst)\n",
    "while True:\n",
    "    try:\n",
    "        i = next(iterator)\n",
    "        print(i)\n",
    "    except StopIteration:\n",
    "        break"
   ]
  },
  {
   "cell_type": "code",
   "execution_count": 22,
   "metadata": {},
   "outputs": [
    {
     "name": "stdout",
     "output_type": "stream",
     "text": [
      "0\n"
     ]
    }
   ],
   "source": [
    "class RandomIterator():\n",
    "    def __next__(self):\n",
    "        return 0\n",
    "\n",
    "x = RandomIterator()\n",
    "print(next(x)) # next(x) ~ x.__next__() x - iterator"
   ]
  },
  {
   "cell_type": "code",
   "execution_count": 38,
   "metadata": {},
   "outputs": [
    {
     "name": "stdout",
     "output_type": "stream",
     "text": [
      "0.30698251962467205\n",
      "0.4378671844190184\n",
      "0.09919142187443486\n"
     ]
    }
   ],
   "source": [
    "from random import random\n",
    "\n",
    "class RandomIterator():\n",
    "    def __iter__(self):\n",
    "        return self\n",
    "    \n",
    "    def __init__(self, k):\n",
    "        self.k = k\n",
    "        self.i = 0\n",
    "    \n",
    "    def __next__(self):\n",
    "        if self.i < self.k:\n",
    "            self.i += 1\n",
    "            return random()\n",
    "        else:\n",
    "            raise StopIteration\n",
    "\n",
    "x = RandomIterator(3)\n",
    "print(next(x))\n",
    "print(next(x))\n",
    "print(next(x))\n",
    "# print(next(x)) # ERROR StopIteration"
   ]
  },
  {
   "cell_type": "code",
   "execution_count": 40,
   "metadata": {},
   "outputs": [
    {
     "name": "stdout",
     "output_type": "stream",
     "text": [
      "0.6083074967342302\n",
      "0.2838164504656223\n",
      "0.9516480159599947\n",
      "0.5900949471718009\n",
      "0.06074407267730497\n"
     ]
    }
   ],
   "source": [
    "for x in RandomIterator(5):\n",
    "    print(x)"
   ]
  },
  {
   "cell_type": "code",
   "execution_count": 43,
   "metadata": {},
   "outputs": [
    {
     "name": "stdout",
     "output_type": "stream",
     "text": [
      "(1, 2)\n",
      "(3, 4)\n"
     ]
    }
   ],
   "source": [
    "class DoubleElementListIterator:\n",
    "    def __init__(self, lst):\n",
    "        self.lst = lst\n",
    "        self.i = 0\n",
    "\n",
    "    def __next__(self):\n",
    "        if self.i < len(self.lst):\n",
    "            self.i += 2\n",
    "            return self.lst[self.i - 2], self.lst[self.i - 1]\n",
    "        else:\n",
    "            raise StopIteration\n",
    "\n",
    "\n",
    "class MyList(list):\n",
    "    def __iter__(self):\n",
    "        return DoubleElementListIterator(self)\n",
    "\n",
    "# for pair in MyList([1, 2, 3, 4, 5]): # ERROR \n",
    "#     print(pair)\n",
    "\n",
    "for pair in MyList([1, 2, 3, 4]):\n",
    "    print(pair)"
   ]
  },
  {
   "cell_type": "markdown",
   "metadata": {},
   "source": [
    "### generator"
   ]
  },
  {
   "cell_type": "code",
   "execution_count": 55,
   "metadata": {},
   "outputs": [
    {
     "name": "stdout",
     "output_type": "stream",
     "text": [
      "0.8844456587339493\n",
      "0.05155921766753835\n",
      "0.208066925612728\n"
     ]
    }
   ],
   "source": [
    "# class RandomIterator:\n",
    "#     def __iter__(self):\n",
    "#         return self\n",
    "\n",
    "#     def __init__(self, k):\n",
    "#         self.k = k\n",
    "#         self.i = 0\n",
    "\n",
    "#     def __next__(self):\n",
    "#         if self.i < self.k:\n",
    "#             self.i += 1\n",
    "#             return random()\n",
    "#         else:\n",
    "#             raise StopIteration\n",
    "\n",
    "\n",
    "def random_generator(k):\n",
    "    for i in range(k):\n",
    "        yield random()\n",
    "        \n",
    "gen = random_generator(3)\n",
    "for i in gen:\n",
    "    print(i)"
   ]
  },
  {
   "cell_type": "code",
   "execution_count": 48,
   "metadata": {},
   "outputs": [
    {
     "name": "stdout",
     "output_type": "stream",
     "text": [
      "Checkpoint 1\n",
      "1\n",
      "Checkpoint 2\n",
      "2\n"
     ]
    }
   ],
   "source": [
    "def simple_gen():\n",
    "    print(\"Checkpoint 1\")\n",
    "    yield 1\n",
    "    print(\"Checkpoint 2\")\n",
    "    yield 2\n",
    "    print(\"Checkpoint 3\")\n",
    "\n",
    "gen = simple_gen()\n",
    "x = next(gen)\n",
    "print(x)\n",
    "y = next(gen)\n",
    "print(y)\n",
    "# z = next(gen) # ERROR"
   ]
  },
  {
   "cell_type": "markdown",
   "metadata": {},
   "source": [
    "### Задача 1\n",
    "\n",
    "Одним из самых часто используемых классов в Python является класс filter. Он принимает в конструкторе два аргумента a и f – последовательность и функцию, и позволяет проитерироваться только по таким элементам x из последовательности a, что f(x) равно True. Будем говорить, что в этом случае функция f допускает элемент x, а элемент x является допущенным.\n",
    "\n",
    "В данной задаче мы просим вас реализовать класс multifilter, который будет выполнять ту же функцию, что и стандартный класс filter, но будет использовать не одну функцию, а несколько.\n",
    "\n",
    "Решение о допуске элемента будет приниматься на основании того, сколько функций допускают этот элемент, и сколько не допускают. Обозначим эти количества за pos и neg.\n",
    "\n",
    "Введем понятие решающей функции – это функция, которая принимает два аргумента – количества pos и neg, и возвращает True, если элемент допущен, и False иначе.\n",
    "\n",
    "Рассмотрим процесс допуска подробнее на следующем примере."
   ]
  },
  {
   "cell_type": "code",
   "execution_count": 58,
   "metadata": {},
   "outputs": [],
   "source": [
    "a = [1, 2, 3]\n",
    "f2(x) = x % 2 == 0 # возвращает True, если x делится на 2\n",
    "f3(x) = x % 3 == 0\n",
    "judge_any(pos, neg) = pos >= 1 # возвращает True, если хотя бы одна функция допускает элемент"
   ]
  },
  {
   "cell_type": "markdown",
   "metadata": {},
   "source": [
    "В этом примере мы хотим отфильтровать последовательность a и оставить только те элементы, которые делятся на два или на три.\n",
    "\n",
    "Функция f2 допускает только элементы, делящиеся на два, а функция f3 допускает только элементы, делящиеся на три. Решающая функция допускает элемент в случае, если он был допущен хотя бы одной из функций f2 или f3, то есть элементы, которые делятся на два или на три.\n",
    "\n",
    "Возьмем первый элемент x = 1."
   ]
  },
  {
   "cell_type": "markdown",
   "metadata": {},
   "source": [
    "f2(x) равно False, т. е. функция f2 не допускает элемент x.\n",
    "\n",
    "f3(x) также равно False, т. е. функция f3 также не допускает элемент x.\n",
    "\n",
    "В этом случае pos = 0, так как ни одна функция не допускает x, и соответственно neg = 2.\n",
    "\n",
    "judge_any(0, 2) равно False, значит мы не допускаем элемент x = 1.\n",
    "\n",
    "Возьмем второй элемент x = 2.\n",
    "\n",
    "f2(x) равно True\n",
    "\n",
    "f3(x) равно False\n",
    "\n",
    "pos = 1, neg = 1\n",
    "\n",
    "judge_any(1, 1) равно True, значит мы допускаем элемент x = 2.\n",
    "\n",
    "Аналогично для третьего элемента x = 3.\n",
    "\n",
    "Таким образом, получили последовательность допущенных элементов [2, 3]."
   ]
  },
  {
   "cell_type": "code",
   "execution_count": 59,
   "metadata": {},
   "outputs": [],
   "source": [
    "def mul2(x):\n",
    "    return x % 2 == 0\n",
    "\n",
    "def mul3(x):\n",
    "    return x % 3 == 0\n",
    "\n",
    "def mul5(x):\n",
    "    return x % 5 == 0\n",
    "\n",
    "a = [i for i in range(31)] # [0, 1, 2, ... , 30]\n",
    "\n",
    "class multifilter:\n",
    "\n",
    "    def judge_half(pos, neg):\n",
    "        # допускает элемент, если его допускает хотя бы половина функций (pos >= neg)\n",
    "        return pos >= neg\n",
    "\n",
    "    def judge_any(pos, neg):\n",
    "        # допускает элемент, если его допускает хотя бы одна функция (pos >= 1)\n",
    "        return pos >= 1\n",
    "\n",
    "    def judge_all(pos, neg):\n",
    "        # допускает элемент, если его допускают все функции (neg == 0)\n",
    "        return neg == 0\n",
    "\n",
    "    def __init__(self, iterable, *funcs, judge=judge_any):\n",
    "        # iterable - исходная последовательность\n",
    "        # funcs - допускающие функции\n",
    "        # judge - решающая функция\n",
    "        self.iterable = iterable\n",
    "        self.funcs = funcs\n",
    "        self.judge = judge\n",
    "\n",
    "    def __iter__(self):\n",
    "        # возвращает итератор по результирующей последовательности\n",
    "        for element in self.iterable:\n",
    "            pos = 0\n",
    "            neg = 0\n",
    "            for func in self.funcs:\n",
    "                if func(element):\n",
    "                    pos += 1\n",
    "                else:\n",
    "                    neg += 1\n",
    "            if self.judge(pos, neg):\n",
    "                yield element"
   ]
  },
  {
   "cell_type": "markdown",
   "metadata": {},
   "source": [
    "### Задача 2\n",
    "\n",
    "Целое положительное число называется простым, если оно имеет ровно два различных делителя, то есть делится только на единицу и на само себя.\n",
    "Например, число 2 является простым, так как делится только на 1 и 2. Также простыми являются, например, числа 3, 5, 31, и еще бесконечно много чисел.\n",
    "Число 4, например, не является простым, так как имеет три делителя – 1, 2, 4. Также простым не является число 1, так как оно имеет ровно один делитель – 1.\n",
    "\n",
    "Реализуйте функцию-генератор primes, которая будет генерировать простые числа в порядке возрастания, начиная с числа 2."
   ]
  },
  {
   "cell_type": "code",
   "execution_count": 61,
   "metadata": {},
   "outputs": [],
   "source": [
    "def is_prime(num):\n",
    "    if num == 2: return True\n",
    "    if num % 2 == 0: return False\n",
    "    for _ in range(3, num // 2, 2):\n",
    "        if num % _ == 0:\n",
    "            return False\n",
    "    return True\n",
    "\n",
    "def primes():\n",
    "    num = 2\n",
    "    while True:\n",
    "        if is_prime(num):\n",
    "            yield num\n",
    "        num += 1"
   ]
  },
  {
   "cell_type": "markdown",
   "metadata": {},
   "source": [
    "### List Comprehensions"
   ]
  },
  {
   "cell_type": "code",
   "execution_count": 63,
   "metadata": {},
   "outputs": [
    {
     "data": {
      "text/plain": [
       "[-4, -2, 0, 2, 4]"
      ]
     },
     "execution_count": 63,
     "metadata": {},
     "output_type": "execute_result"
    }
   ],
   "source": [
    "x = [-2, -1, 0 , 1, 2]\n",
    "y = []\n",
    "\n",
    "for i in x:\n",
    "    y.append(i * 2)\n",
    "    \n",
    "y"
   ]
  },
  {
   "cell_type": "code",
   "execution_count": 66,
   "metadata": {},
   "outputs": [
    {
     "data": {
      "text/plain": [
       "[4, 1, 0, 1, 4]"
      ]
     },
     "execution_count": 66,
     "metadata": {},
     "output_type": "execute_result"
    }
   ],
   "source": [
    "y = [i * i for i in x]\n",
    "y"
   ]
  },
  {
   "cell_type": "code",
   "execution_count": 67,
   "metadata": {},
   "outputs": [
    {
     "data": {
      "text/plain": [
       "[1, 4]"
      ]
     },
     "execution_count": 67,
     "metadata": {},
     "output_type": "execute_result"
    }
   ],
   "source": [
    "y = [i * i for i in x if i > 0]\n",
    "y"
   ]
  },
  {
   "cell_type": "code",
   "execution_count": 77,
   "metadata": {},
   "outputs": [
    {
     "name": "stdout",
     "output_type": "stream",
     "text": [
      "[(0, 0), (0, 1), (0, 2), (1, 1), (1, 2), (2, 2)]\n",
      "[(0, 0), (0, 1), (0, 2), (1, 1), (1, 2), (2, 2)]\n"
     ]
    }
   ],
   "source": [
    "z = [(x, y) for x in range(3) for y in range(3) if y >= x]\n",
    "print(z)\n",
    "\n",
    "w = []\n",
    "for x in range(3):\n",
    "    for y in range(3):\n",
    "        if y >= x:\n",
    "            w.append((x, y))\n",
    "print(w)"
   ]
  },
  {
   "cell_type": "code",
   "execution_count": 78,
   "metadata": {},
   "outputs": [
    {
     "name": "stdout",
     "output_type": "stream",
     "text": [
      "(0, 0)\n",
      "(0, 1)\n",
      "(0, 2)\n"
     ]
    }
   ],
   "source": [
    "z = ((x, y) for x in range(3) for y in range(3) if y >= x) # generator\n",
    "print(next(z))\n",
    "print(next(z))\n",
    "print(next(z))"
   ]
  },
  {
   "cell_type": "markdown",
   "metadata": {},
   "source": [
    "## Работа с файловой системой и файлами"
   ]
  },
  {
   "cell_type": "code",
   "execution_count": 80,
   "metadata": {},
   "outputs": [],
   "source": [
    "# r (read) - открыть для чтения (по умолчанию)\n",
    "# w (write) - открыть для записи, содержимое файла стирается\n",
    "# a (append) - открыть для записи, запись ведется в конец"
   ]
  },
  {
   "cell_type": "code",
   "execution_count": 82,
   "metadata": {},
   "outputs": [
    {
     "name": "stdout",
     "output_type": "stream",
     "text": [
      "'First line'\n",
      "'Second line'\n",
      "'Third line'\n"
     ]
    }
   ],
   "source": [
    "f = open(\"module2/tests/test.txt\")\n",
    "for line in f:\n",
    "    line = line.rstrip() # Убирает справа все ведущие пробельные символы, в том числе символ переноса строки\n",
    "    print(repr(line))\n",
    "\n",
    "f.close()"
   ]
  },
  {
   "cell_type": "code",
   "execution_count": 86,
   "metadata": {},
   "outputs": [
    {
     "name": "stdout",
     "output_type": "stream",
     "text": [
      "['First line', 'Second line', 'Third line']\n"
     ]
    }
   ],
   "source": [
    "f = open(\"module2/tests/test.txt\")\n",
    "x = f.read()\n",
    "x = x.splitlines()\n",
    "print(repr(x))\n",
    "\n",
    "f.close()"
   ]
  },
  {
   "cell_type": "code",
   "execution_count": 88,
   "metadata": {},
   "outputs": [],
   "source": [
    "f = open(\"module2/tests/test1.txt\", \"w\")\n",
    "f.write('Hello\\n')\n",
    "f.write('world')\n",
    "\n",
    "f.close()"
   ]
  },
  {
   "cell_type": "code",
   "execution_count": 89,
   "metadata": {},
   "outputs": [],
   "source": [
    "f = open(\"module2/tests/test1.txt\", \"w\")\n",
    "lines = [\"Line 1\", \"Line 2\", \"Line 3\"]\n",
    "contents = \"\\n\".join(lines)\n",
    "f.write(contents)\n",
    "\n",
    "f.close()"
   ]
  },
  {
   "cell_type": "code",
   "execution_count": 90,
   "metadata": {},
   "outputs": [],
   "source": [
    "f = open(\"module2/tests/test_append.txt\", \"a\")\n",
    "f.write(\"Hello\\n\")\n",
    "\n",
    "f.close()"
   ]
  },
  {
   "cell_type": "code",
   "execution_count": 91,
   "metadata": {},
   "outputs": [],
   "source": [
    "with open(\"module2/tests/test.txt\") as f, open(\"module2/tests/test_copy.txt\", \"w\") as w:\n",
    "    for line in f:\n",
    "        w.write(line)"
   ]
  },
  {
   "cell_type": "markdown",
   "metadata": {},
   "source": [
    "### Задача 1\n",
    "\n",
    "Вам дается текстовый файл, содержащий некоторое количество непустых строк.\n",
    "\n",
    "На основе него сгенерируйте новый текстовый файл, содержащий те же строки в обратном порядке."
   ]
  },
  {
   "cell_type": "code",
   "execution_count": 92,
   "metadata": {},
   "outputs": [],
   "source": [
    "with open('dataset_24465_4.txt') as f1:\n",
    "    f1_lines = f1.read().splitlines()\n",
    "\n",
    "with open('result.txt', 'w') as f2:\n",
    "    for line in f1_lines[::-1]:\n",
    "        f2.write('%s\\n' % line)"
   ]
  },
  {
   "cell_type": "code",
   "execution_count": null,
   "metadata": {},
   "outputs": [],
   "source": [
    "lines = open(\"input.txt\").readlines()\n",
    "with open(\"output.txt\", \"w\") as out:\n",
    "    out.writelines(reversed(lines))"
   ]
  },
  {
   "cell_type": "code",
   "execution_count": 93,
   "metadata": {},
   "outputs": [],
   "source": [
    "################################################################################################################################"
   ]
  },
  {
   "cell_type": "code",
   "execution_count": 95,
   "metadata": {},
   "outputs": [],
   "source": [
    "import os\n",
    "import os.path"
   ]
  },
  {
   "cell_type": "code",
   "execution_count": 96,
   "metadata": {},
   "outputs": [
    {
     "name": "stdout",
     "output_type": "stream",
     "text": [
      "['.git', '.ipynb_checkpoints', 'check.py', 'dataset_24465_4.txt', 'encrypted.bin', 'exceptions_module.py', 'fib.py', 'import_module.py', 'module2', 'passwords.txt', 'README.md', 'result.txt', 'Stepic_Python_Course_Advanced_Week_1.ipynb', 'Stepic_Python_Course_Advanced_Week_2.ipynb', '__pycache__']\n"
     ]
    }
   ],
   "source": [
    "print(os.listdir())"
   ]
  },
  {
   "cell_type": "code",
   "execution_count": 97,
   "metadata": {},
   "outputs": [
    {
     "name": "stdout",
     "output_type": "stream",
     "text": [
      "C:\\Users\\Администратор\\Documents\\GitHub\\Stepic_Python_Advanced\n"
     ]
    }
   ],
   "source": [
    "print(os.getcwd())"
   ]
  },
  {
   "cell_type": "code",
   "execution_count": 102,
   "metadata": {},
   "outputs": [
    {
     "name": "stdout",
     "output_type": "stream",
     "text": [
      "True\n",
      "True\n",
      "False\n"
     ]
    }
   ],
   "source": [
    "print(os.path.exists('check.py'))\n",
    "print(os.path.exists('dataset_24465_4.txt'))\n",
    "print(os.path.exists('dataset_24465_4'))"
   ]
  },
  {
   "cell_type": "code",
   "execution_count": 105,
   "metadata": {},
   "outputs": [
    {
     "name": "stdout",
     "output_type": "stream",
     "text": [
      "True\n",
      "False\n",
      "True\n"
     ]
    }
   ],
   "source": [
    "print(os.path.isfile('check.py'))\n",
    "print(os.path.isfile('check'))\n",
    "print(os.path.isfile('dataset_24465_4.txt'))"
   ]
  },
  {
   "cell_type": "code",
   "execution_count": 110,
   "metadata": {},
   "outputs": [
    {
     "name": "stdout",
     "output_type": "stream",
     "text": [
      "False\n",
      "True\n"
     ]
    }
   ],
   "source": [
    "print(os.path.isdir('check.py'))\n",
    "print(os.path.isdir('module2'))"
   ]
  },
  {
   "cell_type": "code",
   "execution_count": 111,
   "metadata": {},
   "outputs": [
    {
     "name": "stdout",
     "output_type": "stream",
     "text": [
      "C:\\Users\\Администратор\\Documents\\GitHub\\Stepic_Python_Advanced\\check.py\n"
     ]
    }
   ],
   "source": [
    "print(os.path.abspath('check.py'))"
   ]
  },
  {
   "cell_type": "code",
   "execution_count": 123,
   "metadata": {},
   "outputs": [
    {
     "name": "stdout",
     "output_type": "stream",
     "text": [
      "C:\\Users\\Администратор\\Documents\\GitHub\\Stepic_Python_Advanced\\module2\n",
      "C:\\Users\\Администратор\\Documents\\GitHub\\Stepic_Python_Advanced\n"
     ]
    }
   ],
   "source": [
    "print(os.getcwd())\n",
    "os.chdir('..//') # Изменить папку\n",
    "print(os.getcwd())"
   ]
  },
  {
   "cell_type": "code",
   "execution_count": 124,
   "metadata": {},
   "outputs": [
    {
     "name": "stdout",
     "output_type": "stream",
     "text": [
      ". ['.git', '.ipynb_checkpoints', 'module2', '__pycache__'] ['check.py', 'dataset_24465_4.txt', 'encrypted.bin', 'exceptions_module.py', 'fib.py', 'import_module.py', 'passwords.txt', 'README.md', 'result.txt', 'Stepic_Python_Course_Advanced_Week_1.ipynb', 'Stepic_Python_Course_Advanced_Week_2.ipynb']\n",
      ".\\.git ['hooks', 'info', 'logs', 'objects', 'refs'] ['config', 'description', 'HEAD', 'index', 'packed-refs']\n",
      ".\\.git\\hooks [] ['applypatch-msg.sample', 'commit-msg.sample', 'post-update.sample', 'pre-applypatch.sample', 'pre-commit.sample', 'pre-push.sample', 'pre-rebase.sample', 'pre-receive.sample', 'prepare-commit-msg.sample', 'update.sample']\n",
      ".\\.git\\info [] ['exclude']\n",
      ".\\.git\\logs ['refs'] ['HEAD']\n",
      ".\\.git\\logs\\refs ['heads', 'remotes'] []\n",
      ".\\.git\\logs\\refs\\heads [] ['master']\n",
      ".\\.git\\logs\\refs\\remotes ['origin'] []\n",
      ".\\.git\\logs\\refs\\remotes\\origin [] ['HEAD']\n",
      ".\\.git\\objects ['65', '79', '86', 'info', 'pack'] []\n",
      ".\\.git\\objects\\65 [] ['805ad67d51abcfb7c3e89ee370c554bbc2530d']\n",
      ".\\.git\\objects\\79 [] ['0aaf0688f557c4f489ee64ef2eeb6d4b089fef']\n",
      ".\\.git\\objects\\86 [] ['93d0fce9fb6ccf8278b9967c8cc196edfcb9c9']\n",
      ".\\.git\\objects\\info [] []\n",
      ".\\.git\\objects\\pack [] []\n",
      ".\\.git\\refs ['heads', 'remotes', 'tags'] []\n",
      ".\\.git\\refs\\heads [] ['master']\n",
      ".\\.git\\refs\\remotes ['origin'] []\n",
      ".\\.git\\refs\\remotes\\origin [] ['HEAD']\n",
      ".\\.git\\refs\\tags [] []\n",
      ".\\.ipynb_checkpoints [] ['Stepic_Python_Course_Advanced_Week_1-checkpoint.ipynb', 'Stepic_Python_Course_Advanced_Week_2-checkpoint.ipynb']\n",
      ".\\module2 ['tests'] ['comprehension.py', 'exceptions.py', 'files.py', 'files_append.py', 'files_write.py', 'generators.py', 'iterating.py', 'iteration.py', 'lst.py', 'operators.py', 'os_practice.py', 'partial.py', 'range.py', 'simple.py', 'with.py']\n",
      ".\\module2\\tests [] ['test.txt', 'test1.txt', 'test2.txt', 'test_append.txt', 'test_copy.txt']\n",
      ".\\__pycache__ [] ['check.cpython-36.pyc', 'exceptions_module.cpython-36.pyc', 'fib.cpython-36.pyc']\n"
     ]
    }
   ],
   "source": [
    "for current_dir, dirs, files in os.walk('.'):\n",
    "    print(current_dir, dirs, files)"
   ]
  },
  {
   "cell_type": "code",
   "execution_count": 126,
   "metadata": {},
   "outputs": [],
   "source": [
    "import shutil"
   ]
  },
  {
   "cell_type": "code",
   "execution_count": 127,
   "metadata": {},
   "outputs": [
    {
     "data": {
      "text/plain": [
       "'module2/tests/test2.txt'"
      ]
     },
     "execution_count": 127,
     "metadata": {},
     "output_type": "execute_result"
    }
   ],
   "source": [
    "shutil.copy('module2/tests/test1.txt', 'module2/tests/test2.txt') # Создает копию файла test1.txt"
   ]
  },
  {
   "cell_type": "code",
   "execution_count": 128,
   "metadata": {},
   "outputs": [
    {
     "data": {
      "text/plain": [
       "'module2/tests/tests'"
      ]
     },
     "execution_count": 128,
     "metadata": {},
     "output_type": "execute_result"
    }
   ],
   "source": [
    "shutil.copytree('module2/tests', 'module2/tests/tests') # Создает копию папки tests в папку test"
   ]
  },
  {
   "cell_type": "markdown",
   "metadata": {},
   "source": [
    "### Задача 2\n",
    "\n",
    "Вам дана в архиве (ссылка) файловая структура, состоящая из директорий и файлов.\n",
    "\n",
    "Вам необходимо распаковать этот архив, и затем найти в данной в файловой структуре все директории, в которых есть хотя бы один файл с расширением \".py\".\n",
    "\n",
    "Ответом на данную задачу будет являться файл со списком таких директорий, отсортированных в лексикографическом порядке."
   ]
  },
  {
   "cell_type": "code",
   "execution_count": 132,
   "metadata": {},
   "outputs": [],
   "source": [
    "import os\n",
    "import os.path\n",
    "with open('rez.txt', 'w') as rezFile:\n",
    "    for currentDir, dirs, files in os.walk('main'):\n",
    "        for tmpFile in files:\n",
    "            if tmpFile.endswith('.py'):\n",
    "                rezFile.write(currentDir)\n",
    "                rezFile.write('\\n')\n",
    "                break"
   ]
  },
  {
   "cell_type": "code",
   "execution_count": null,
   "metadata": {},
   "outputs": [],
   "source": [
    "import os\n",
    "\n",
    "for cur_dir, subdirs, files in os.walk(\"main\"):\n",
    "    for file in files:\n",
    "        if file.endswith(\".py\"):\n",
    "            print(cur_dir)\n",
    "            break"
   ]
  },
  {
   "cell_type": "markdown",
   "metadata": {},
   "source": [
    "## Работа с функциями: functool и лямбда функции"
   ]
  },
  {
   "cell_type": "code",
   "execution_count": 3,
   "metadata": {},
   "outputs": [
    {
     "name": "stdout",
     "output_type": "stream",
     "text": [
      "1 5\n",
      "6\n"
     ]
    }
   ],
   "source": [
    "n, k = map(int, input().split())\n",
    "print(n + k)"
   ]
  },
  {
   "cell_type": "code",
   "execution_count": 5,
   "metadata": {},
   "outputs": [
    {
     "name": "stdout",
     "output_type": "stream",
     "text": [
      "1 5\n",
      "['1', '5']\n",
      "6\n"
     ]
    }
   ],
   "source": [
    "x = input().split()\n",
    "print(x)\n",
    "\n",
    "map_obj = (int(i) for i in x)\n",
    "print(sum(map_obj))"
   ]
  },
  {
   "cell_type": "code",
   "execution_count": 6,
   "metadata": {},
   "outputs": [
    {
     "name": "stdout",
     "output_type": "stream",
     "text": [
      "1 2 3 4 5\n",
      "2\n",
      "4\n"
     ]
    }
   ],
   "source": [
    "x = input().split()\n",
    "xs = (int(i) for i in x)\n",
    "\n",
    "def even(x):\n",
    "    return x % 2 == 0\n",
    "\n",
    "evens = filter(even, xs)\n",
    "for i in evens:\n",
    "    print(i)"
   ]
  },
  {
   "cell_type": "code",
   "execution_count": 7,
   "metadata": {},
   "outputs": [
    {
     "name": "stdout",
     "output_type": "stream",
     "text": [
      "1 2 3 4 5\n",
      "[2, 4]\n"
     ]
    }
   ],
   "source": [
    "x = input().split()\n",
    "xs = (int(i) for i in x)\n",
    "\n",
    "def even(x):\n",
    "    return x % 2 == 0\n",
    "\n",
    "evens = list(filter(even, xs))\n",
    "print(evens)"
   ]
  },
  {
   "cell_type": "code",
   "execution_count": 8,
   "metadata": {},
   "outputs": [
    {
     "name": "stdout",
     "output_type": "stream",
     "text": [
      "1 2 3 4 5\n",
      "[2, 4]\n"
     ]
    }
   ],
   "source": [
    "x = input().split()\n",
    "xs = (int(i) for i in x)\n",
    "\n",
    "even = lambda x: x % 2 == 0\n",
    "\n",
    "evens = list(filter(even, xs))\n",
    "print(evens)"
   ]
  },
  {
   "cell_type": "code",
   "execution_count": 9,
   "metadata": {},
   "outputs": [
    {
     "name": "stdout",
     "output_type": "stream",
     "text": [
      "1 2 3 4 5\n",
      "[2, 4]\n"
     ]
    }
   ],
   "source": [
    "x = input().split()\n",
    "xs = (int(i) for i in x)\n",
    "\n",
    "evens = list(filter(lambda x: x % 2 == 0, xs))\n",
    "print(evens)"
   ]
  },
  {
   "cell_type": "code",
   "execution_count": 11,
   "metadata": {},
   "outputs": [
    {
     "name": "stdout",
     "output_type": "stream",
     "text": [
      "[16, 13, 11]\n",
      "[('John', 'Backus'), ('Haskell', 'Curry'), ('Guido', 'van', 'Rossum')]\n"
     ]
    }
   ],
   "source": [
    "x = [('Guido', 'van', 'Rossum'),\n",
    "     ('Haskell', 'Curry'),\n",
    "     ('John', 'Backus')]\n",
    "\n",
    "def length(name):\n",
    "    return len(' '.join(name))\n",
    "    \n",
    "name_lengths = [length(name) for name in x]\n",
    "print(name_lengths)\n",
    "\n",
    "x.sort(key=length)\n",
    "print(x)"
   ]
  },
  {
   "cell_type": "code",
   "execution_count": 12,
   "metadata": {},
   "outputs": [
    {
     "name": "stdout",
     "output_type": "stream",
     "text": [
      "[('John', 'Backus'), ('Haskell', 'Curry'), ('Guido', 'van', 'Rossum')]\n"
     ]
    }
   ],
   "source": [
    "x = [('Guido', 'van', 'Rossum'),\n",
    "     ('Haskell', 'Curry'),\n",
    "     ('John', 'Backus')]\n",
    "\n",
    "x.sort(key=lambda x: len(' '.join(x)))\n",
    "print(x)"
   ]
  },
  {
   "cell_type": "code",
   "execution_count": 13,
   "metadata": {},
   "outputs": [
    {
     "name": "stdout",
     "output_type": "stream",
     "text": [
      "9\n",
      "20\n",
      "False\n"
     ]
    }
   ],
   "source": [
    "import operator as op\n",
    "\n",
    "print(op.add(4, 5))\n",
    "print(op.mul(4, 5))\n",
    "print(op.contains([1, 2, 3], 4))  # 4 in [1, 2, 3]"
   ]
  },
  {
   "cell_type": "code",
   "execution_count": 14,
   "metadata": {},
   "outputs": [
    {
     "name": "stdout",
     "output_type": "stream",
     "text": [
      "2\n"
     ]
    }
   ],
   "source": [
    "x = [1, 2, 3]\n",
    "f = op.itemgetter(1)  # f(x) == x[1]\n",
    "print(f(x))"
   ]
  },
  {
   "cell_type": "code",
   "execution_count": 15,
   "metadata": {},
   "outputs": [
    {
     "name": "stdout",
     "output_type": "stream",
     "text": [
      "3\n"
     ]
    }
   ],
   "source": [
    "x = {\"123\": 3}\n",
    "f = op.itemgetter(\"123\")  # f(x) == x[\"123\"]\n",
    "print(f(x))"
   ]
  },
  {
   "cell_type": "code",
   "execution_count": 17,
   "metadata": {},
   "outputs": [
    {
     "name": "stdout",
     "output_type": "stream",
     "text": [
      "<built-in method sort of list object at 0x0000000005F67F88>\n"
     ]
    }
   ],
   "source": [
    "f = op.attrgetter(\"sort\")  # f(x) == x.sort\n",
    "print(f([]))"
   ]
  },
  {
   "cell_type": "code",
   "execution_count": 18,
   "metadata": {},
   "outputs": [
    {
     "name": "stdout",
     "output_type": "stream",
     "text": [
      "[('John', 'Backus'), ('Haskell', 'Curry'), ('Guido', 'van', 'Rossum')]\n"
     ]
    }
   ],
   "source": [
    "x = [('Guido', 'van', 'Rossum'),\n",
    "     ('Haskell', 'Curry'),\n",
    "     ('John', 'Backus')]\n",
    "\n",
    "import operator as op\n",
    "x.sort(key=op.itemgetter(-1))\n",
    "print(x)"
   ]
  },
  {
   "cell_type": "code",
   "execution_count": 19,
   "metadata": {},
   "outputs": [],
   "source": [
    "from functools import partial"
   ]
  },
  {
   "cell_type": "code",
   "execution_count": 20,
   "metadata": {},
   "outputs": [
    {
     "name": "stdout",
     "output_type": "stream",
     "text": [
      "13\n"
     ]
    }
   ],
   "source": [
    "x = int(\"1101\", base=2)\n",
    "print(x)"
   ]
  },
  {
   "cell_type": "code",
   "execution_count": 21,
   "metadata": {},
   "outputs": [
    {
     "name": "stdout",
     "output_type": "stream",
     "text": [
      "13\n"
     ]
    }
   ],
   "source": [
    "int_2 = partial(int, base=2)\n",
    "x = int_2(\"1101\")\n",
    "print(x)"
   ]
  },
  {
   "cell_type": "code",
   "execution_count": 25,
   "metadata": {},
   "outputs": [
    {
     "name": "stdout",
     "output_type": "stream",
     "text": [
      "[('Guido', 'van', 'Rossum'), ('Haskell', 'Curry'), ('John', 'Backus')]\n",
      "[('John', 'Backus'), ('Haskell', 'Curry'), ('Guido', 'van', 'Rossum')]\n"
     ]
    }
   ],
   "source": [
    "import operator as op\n",
    "from functools import partial\n",
    "\n",
    "x = [('Guido', 'van', 'Rossum'),\n",
    "     ('Haskell', 'Curry'),\n",
    "     ('John', 'Backus')]\n",
    "\n",
    "sort_by_last_symbol = partial(list.sort, key=op.itemgetter(-1))\n",
    "print(x)\n",
    "sort_by_last_symbol(x)\n",
    "print(x)"
   ]
  },
  {
   "cell_type": "code",
   "execution_count": 26,
   "metadata": {},
   "outputs": [
    {
     "name": "stdout",
     "output_type": "stream",
     "text": [
      "['aba', 'acb', 'abc']\n"
     ]
    }
   ],
   "source": [
    "y = ['abc', 'acb', 'aba']\n",
    "sort_by_last_symbol(y)\n",
    "print(y)"
   ]
  },
  {
   "cell_type": "markdown",
   "metadata": {},
   "source": [
    "### Задача 1\n",
    "\n",
    "Лямбда функции предоставляют нам удобный способ создать функцию «прямо на месте». \n",
    "Но иногда, когда нужно создавать много однотипных лямбда функций, еще удобнее будет создать функцию, которая будет их генерировать.\n",
    "\n",
    "Реализуйте функцию mod_checker(x, mod=0), которая будет генерировать лямбда функцию от одного аргумента y, которая будет возвращать True, если остаток от деления y на x равен mod, и False иначе."
   ]
  },
  {
   "cell_type": "code",
   "execution_count": 27,
   "metadata": {},
   "outputs": [],
   "source": [
    "def mod_checker(x, mod=0):\n",
    "    return lambda y: y % x == mod"
   ]
  },
  {
   "cell_type": "code",
   "execution_count": null,
   "metadata": {},
   "outputs": [],
   "source": [
    "mod_checker = lambda x, mod=0: lambda y: y % x == mod"
   ]
  },
  {
   "cell_type": "markdown",
   "metadata": {},
   "source": [
    "## Стиль программирования: pep8 и документация"
   ]
  },
  {
   "cell_type": "code",
   "execution_count": 31,
   "metadata": {},
   "outputs": [
    {
     "name": "stdout",
     "output_type": "stream",
     "text": [
      "\n",
      "    RandomIterator(k) - new iterator for k random numbers in [0, 1)\n",
      "    \n",
      "    Uses random.random\n",
      "    \n"
     ]
    }
   ],
   "source": [
    "from random import random\n",
    "\n",
    "class RandomIterator():\n",
    "    \"\"\"\n",
    "    RandomIterator(k) - new iterator for k random numbers in [0, 1)\n",
    "    \n",
    "    Uses random.random\n",
    "    \"\"\"\n",
    "    def __iter__(self):\n",
    "        return self\n",
    "    \n",
    "    def __init__(self, k):\n",
    "        self.k = k\n",
    "        self.i = 0\n",
    "    \n",
    "    def __next__(self):\n",
    "        if self.i < self.k:\n",
    "            self.i += 1\n",
    "            return random()\n",
    "        else:\n",
    "            raise StopIteration\n",
    "            \n",
    "print(RandomIterator.__doc__)"
   ]
  },
  {
   "cell_type": "code",
   "execution_count": 32,
   "metadata": {
    "scrolled": true
   },
   "outputs": [
    {
     "name": "stdout",
     "output_type": "stream",
     "text": [
      "This module provides access to some objects used or maintained by the\n",
      "interpreter and to functions that interact strongly with the interpreter.\n",
      "\n",
      "Dynamic objects:\n",
      "\n",
      "argv -- command line arguments; argv[0] is the script pathname if known\n",
      "path -- module search path; path[0] is the script directory, else ''\n",
      "modules -- dictionary of loaded modules\n",
      "\n",
      "displayhook -- called to show results in an interactive session\n",
      "excepthook -- called to handle any uncaught exception other than SystemExit\n",
      "  To customize printing in an interactive session or to install a custom\n",
      "  top-level exception handler, assign other functions to replace these.\n",
      "\n",
      "stdin -- standard input file object; used by input()\n",
      "stdout -- standard output file object; used by print()\n",
      "stderr -- standard error object; used for error messages\n",
      "  By assigning other file objects (or objects that behave like files)\n",
      "  to these, it is possible to redirect all of the interpreter's I/O.\n",
      "\n",
      "last_type -- type of last uncaught exception\n",
      "last_value -- value of last uncaught exception\n",
      "last_traceback -- traceback of last uncaught exception\n",
      "  These three are only available in an interactive session after a\n",
      "  traceback has been printed.\n",
      "\n",
      "Static objects:\n",
      "\n",
      "builtin_module_names -- tuple of module names built into this interpreter\n",
      "copyright -- copyright notice pertaining to this interpreter\n",
      "exec_prefix -- prefix used to find the machine-specific Python library\n",
      "executable -- absolute path of the executable binary of the Python interpreter\n",
      "float_info -- a struct sequence with information about the float implementation.\n",
      "float_repr_style -- string indicating the style of repr() output for floats\n",
      "hash_info -- a struct sequence with information about the hash algorithm.\n",
      "hexversion -- version information encoded as a single integer\n",
      "implementation -- Python implementation information.\n",
      "int_info -- a struct sequence with information about the int implementation.\n",
      "maxsize -- the largest supported length of containers.\n",
      "maxunicode -- the value of the largest Unicode code point\n",
      "platform -- platform identifier\n",
      "prefix -- prefix used to find the Python library\n",
      "thread_info -- a struct sequence with information about the thread implementation.\n",
      "version -- the version of this interpreter as a string\n",
      "version_info -- version information as a named tuple\n",
      "dllhandle -- [Windows only] integer handle of the Python DLL\n",
      "winver -- [Windows only] version number of the Python DLL\n",
      "_enablelegacywindowsfsencoding -- [Windows only] \n",
      "__stdin__ -- the original stdin; don't touch!\n",
      "__stdout__ -- the original stdout; don't touch!\n",
      "__stderr__ -- the original stderr; don't touch!\n",
      "__displayhook__ -- the original displayhook; don't touch!\n",
      "__excepthook__ -- the original excepthook; don't touch!\n",
      "\n",
      "Functions:\n",
      "\n",
      "displayhook() -- print an object to the screen, and save it in builtins._\n",
      "excepthook() -- print an exception and its traceback to sys.stderr\n",
      "exc_info() -- return thread-safe information about the current exception\n",
      "exit() -- exit the interpreter by raising SystemExit\n",
      "getdlopenflags() -- returns flags to be used for dlopen() calls\n",
      "getprofile() -- get the global profiling function\n",
      "getrefcount() -- return the reference count for an object (plus one :-)\n",
      "getrecursionlimit() -- return the max recursion depth for the interpreter\n",
      "getsizeof() -- return the size of an object in bytes\n",
      "gettrace() -- get the global debug tracing function\n",
      "setcheckinterval() -- control how often the interpreter checks for events\n",
      "setdlopenflags() -- set the flags to be used for dlopen() calls\n",
      "setprofile() -- set the global profiling function\n",
      "setrecursionlimit() -- set the max recursion depth for the interpreter\n",
      "settrace() -- set the global debug tracing function\n",
      "\n"
     ]
    }
   ],
   "source": [
    "import sys\n",
    "\n",
    "print(sys.__doc__)"
   ]
  },
  {
   "cell_type": "code",
   "execution_count": 33,
   "metadata": {},
   "outputs": [
    {
     "name": "stdout",
     "output_type": "stream",
     "text": [
      "getrefcount(object) -> integer\n",
      "\n",
      "Return the reference count of object.  The count returned is generally\n",
      "one higher than you might expect, because it includes the (temporary)\n",
      "reference as an argument to getrefcount().\n"
     ]
    }
   ],
   "source": [
    "print(sys.getrefcount.__doc__)"
   ]
  }
 ],
 "metadata": {
  "kernelspec": {
   "display_name": "Python 3",
   "language": "python",
   "name": "python3"
  },
  "language_info": {
   "codemirror_mode": {
    "name": "ipython",
    "version": 3
   },
   "file_extension": ".py",
   "mimetype": "text/x-python",
   "name": "python",
   "nbconvert_exporter": "python",
   "pygments_lexer": "ipython3",
   "version": "3.6.4"
  }
 },
 "nbformat": 4,
 "nbformat_minor": 2
}
